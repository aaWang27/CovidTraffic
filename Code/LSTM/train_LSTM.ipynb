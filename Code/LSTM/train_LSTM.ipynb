{
 "cells": [
  {
   "cell_type": "code",
   "execution_count": null,
   "id": "bda4b499",
   "metadata": {},
   "outputs": [],
   "source": [
    "import argparse\n",
    "import config\n",
    "import os\n",
    "import random\n",
    "import utils\n",
    "\n",
    "import numpy as np\n",
    "import pandas as pd\n",
    "import tensorflow as tf\n",
    "from tensorflow import keras\n",
    "from sklearn.metrics import mean_squared_error, mean_absolute_percentage_error\n",
    "from tensorflow.keras.callbacks import EarlyStopping\n",
    "from sklearn import preprocessing\n",
    "\n",
    "import matplotlib as mpl\n",
    "%matplotlib inline"
   ]
  },
  {
   "cell_type": "code",
   "execution_count": null,
   "id": "2e07f3de",
   "metadata": {},
   "outputs": [],
   "source": [
    "seed_value = 42\n",
    "os.environ['PYTHONHASHSEED'] = str(seed_value)\n",
    "random.seed(seed_value)\n",
    "np.random.seed(seed_value)\n",
    "tf.random.set_seed(seed_value)"
   ]
  },
  {
   "cell_type": "code",
   "execution_count": null,
   "id": "9602785a",
   "metadata": {
    "scrolled": true
   },
   "outputs": [],
   "source": [
    "saltlake_week = pd.read_csv('.../Data/saltlake_week.csv')\n",
    "saltlake_week"
   ]
  },
  {
   "cell_type": "code",
   "execution_count": null,
   "id": "13ba5235",
   "metadata": {},
   "outputs": [],
   "source": [
    "X_total = saltlake_week[['Cases', 'VMT (Veh-Miles)', 'News Sentiment', 'Unemployment Rate', 'PRCP', 'SNWD',\n",
    "                         'Percent_Fully_Vaccinated_5&Older', 'TAVG',\n",
    "                         'Stay at Home', 'Mask', 'School Opening', 'Health Emergency']].values[:156, :]\n",
    "X_total"
   ]
  },
  {
   "cell_type": "code",
   "execution_count": null,
   "id": "8e5f652c",
   "metadata": {},
   "outputs": [],
   "source": [
    "data = X_total[59:, :]\n",
    "scaler, values = utils.scale(data)\n",
    "values = utils.series_to_supervised(values, n_in=config.N_WEEKS, n_out=1, dropnan=True).values"
   ]
  },
  {
   "cell_type": "code",
   "execution_count": null,
   "id": "c7806c51",
   "metadata": {},
   "outputs": [],
   "source": [
    "train = values[:88, :]\n",
    "test = values[88:, :]\n",
    "test.shape"
   ]
  },
  {
   "cell_type": "code",
   "execution_count": null,
   "id": "b6a13365",
   "metadata": {},
   "outputs": [],
   "source": [
    "X_train = train[:, :config.N_OBS]\n",
    "y_train = train[:, -config.N_FEATURES:]\n",
    "\n",
    "X_test = test[:, :config.N_OBS]\n",
    "y_test = test[:, -config.N_FEATURES:]"
   ]
  },
  {
   "cell_type": "code",
   "execution_count": null,
   "id": "e5a14abe",
   "metadata": {},
   "outputs": [],
   "source": [
    "X_train = X_train.reshape((X_train.shape[0], config.N_WEEKS, config.N_FEATURES))\n",
    "X_test = X_test.reshape((X_test.shape[0], config.N_WEEKS, config.N_FEATURES))"
   ]
  },
  {
   "cell_type": "code",
   "execution_count": null,
   "id": "87022bef",
   "metadata": {},
   "outputs": [],
   "source": [
    "es = EarlyStopping(\n",
    "    monitor=\"val_loss\",\n",
    "    patience=config.EARLY_STOPPING_PATIENCE,\n",
    "    restore_best_weights=True)"
   ]
  },
  {
   "cell_type": "code",
   "execution_count": null,
   "id": "01abb5a4",
   "metadata": {},
   "outputs": [],
   "source": [
    "model = keras.Sequential()\n",
    "model.add(keras.layers.LSTM(20, input_shape=config.INPUT_SHAPE, activation='relu'))\n",
    "model.add(keras.layers.Dropout(0.2))\n",
    "model.add(keras.layers.Dense(12))\n",
    "model.compile(loss='mse', optimizer=keras.optimizers.Adam(learning_rate=0.01),\n",
    "              metrics=['mse'])\n",
    "model.build()"
   ]
  },
  {
   "cell_type": "code",
   "execution_count": null,
   "id": "8a147de2",
   "metadata": {},
   "outputs": [],
   "source": [
    "model.summary()"
   ]
  },
  {
   "cell_type": "code",
   "execution_count": null,
   "id": "36cda8a5",
   "metadata": {
    "scrolled": true
   },
   "outputs": [],
   "source": [
    "print(\"[INFO] training the model...\")\n",
    "H = model.fit(\n",
    "    x=X_train, y=y_train,\n",
    "    validation_split=0.2,\n",
    "    batch_size=config.BS,\n",
    "    callbacks=[es],\n",
    "    epochs=config.EPOCHS\n",
    ")"
   ]
  },
  {
   "cell_type": "code",
   "execution_count": null,
   "id": "e2c8953a",
   "metadata": {
    "scrolled": true
   },
   "outputs": [],
   "source": [
    "print(\"[INFO] evaluating network...\")\n",
    "predictions = model.predict(x=X_test)\n",
    "print(\"Loss and MSE: {}\".format(model.evaluate(X_test, y_test)))\n",
    "\n",
    "utils.save_plot(H, \"output/loss_plot.png\")\n",
    "model.save('Model/LSTM')"
   ]
  },
  {
   "cell_type": "code",
   "execution_count": null,
   "id": "67aa71f7",
   "metadata": {},
   "outputs": [],
   "source": [
    "y_test_inv = utils.invert_scale(scaler, y_test)[:, 1]\n",
    "y_test_inv"
   ]
  },
  {
   "cell_type": "code",
   "execution_count": null,
   "id": "b7be60c0",
   "metadata": {},
   "outputs": [],
   "source": [
    "predictions_inv = scaler.inverse_transform(predictions)[:, 1]\n",
    "predictions_inv"
   ]
  },
  {
   "cell_type": "code",
   "execution_count": null,
   "id": "223638d6",
   "metadata": {},
   "outputs": [],
   "source": [
    "X = values[:, :config.N_OBS]\n",
    "y = values[:, -config.N_FEATURES:]\n",
    "\n",
    "m, n = X.shape"
   ]
  },
  {
   "cell_type": "code",
   "execution_count": null,
   "id": "ade63a94",
   "metadata": {},
   "outputs": [],
   "source": [
    "X = X.reshape((X.shape[0], config.N_WEEKS, config.N_FEATURES))\n",
    "total_pred = model.predict(x=X)\n",
    "\n",
    "y_inv = utils.invert_scale(scaler, y[:, -config.N_FEATURES:])[:, 1]\n",
    "total_pred_inv = scaler.inverse_transform(total_pred)[:, 1]\n",
    "\n",
    "mse_test = mean_squared_error(y_test_inv, predictions_inv)\n",
    "rmse_test = mean_squared_error(y_test_inv, predictions_inv, squared=False)\n",
    "mape_test = mean_absolute_percentage_error(y_test_inv, predictions_inv)"
   ]
  },
  {
   "cell_type": "code",
   "execution_count": null,
   "id": "44d0efe0",
   "metadata": {},
   "outputs": [],
   "source": [
    "print(\"Mean Squared Error: {}\".format(mse_test))\n",
    "print(\"Root Mean Squared Error: {}\".format(rmse_test))\n",
    "print(\"Mean Absolute Percentage Error: {}\".format(mape_test))"
   ]
  },
  {
   "cell_type": "code",
   "execution_count": null,
   "id": "caffa378",
   "metadata": {},
   "outputs": [],
   "source": [
    "utils.plot_predicted(y_test_inv, predictions_inv, \"output/vmt_test_predicted.png\")"
   ]
  },
  {
   "cell_type": "code",
   "execution_count": null,
   "id": "d2e4cb69",
   "metadata": {},
   "outputs": [],
   "source": [
    "utils.plot_predicted(y_inv, total_pred_inv, \"output/vmt_total_predicted.png\")"
   ]
  }
 ],
 "metadata": {
  "kernelspec": {
   "display_name": "Python 3",
   "language": "python",
   "name": "python3"
  },
  "language_info": {
   "codemirror_mode": {
    "name": "ipython",
    "version": 3
   },
   "file_extension": ".py",
   "mimetype": "text/x-python",
   "name": "python",
   "nbconvert_exporter": "python",
   "pygments_lexer": "ipython3",
   "version": "3.8.8"
  }
 },
 "nbformat": 4,
 "nbformat_minor": 5
}

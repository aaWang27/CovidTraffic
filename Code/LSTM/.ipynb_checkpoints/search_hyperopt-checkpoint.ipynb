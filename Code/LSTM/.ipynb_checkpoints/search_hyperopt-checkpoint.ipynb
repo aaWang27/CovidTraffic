{
 "cells": [
  {
   "cell_type": "code",
   "execution_count": 15,
   "id": "f4667406",
   "metadata": {},
   "outputs": [],
   "source": [
    "import numpy as np\n",
    "import pandas as pd\n",
    "import matplotlib as mpl\n",
    "import matplotlib.pyplot as plt\n",
    "import utils\n",
    "\n",
    "# For LSTM model\n",
    "from tensorflow import keras\n",
    "from keras.models import Sequential\n",
    "from keras.layers import Dense, LSTM, Dropout\n",
    "from keras.callbacks import EarlyStopping\n",
    "from tqdm.keras import TqdmCallback\n",
    "\n",
    "# For hyperopt (parameter optimization)\n",
    "from hyperopt import Trials, STATUS_OK, tpe, fmin, hp\n",
    "from hyperopt.pyll.base import scope  # quniform returns float, some parameters require int; use this to force int\n",
    "\n",
    "# Evaluation metrics\n",
    "from sklearn.metrics import mean_squared_error, mean_absolute_percentage_error\n",
    "\n",
    "%matplotlib inline"
   ]
  },
  {
   "cell_type": "code",
   "execution_count": 3,
   "id": "dc5a3704",
   "metadata": {},
   "outputs": [],
   "source": [
    "def format_data(data, weeks=1):\n",
    "    X_total = data.values[:209, :]\n",
    "\n",
    "    data = X_total[(53-weeks):, :]\n",
    "    print(data.shape)\n",
    "    scaler, values = utils.scale(data)\n",
    "    values = utils.series_to_supervised(values, n_in=weeks, n_out=1, dropnan=True).values\n",
    "\n",
    "    y_scaler, y = utils.scale(data[:, 1].reshape((len(data), 1)))\n",
    "\n",
    "    train = values[:140, :]\n",
    "    valid = values[140:148]\n",
    "    test = values[148:, :]\n",
    "    print(train.shape, valid.shape, test.shape)\n",
    "\n",
    "    features = 13\n",
    "    obs = weeks*features\n",
    "\n",
    "    y = values[:, -features:]\n",
    "\n",
    "    trainX = train[:, :obs]\n",
    "    trainY = train[:, -features:][:, 1]\n",
    "    validX = valid[:, :obs]\n",
    "    validY = valid[:, -features:][:, 1]\n",
    "    testX = test[:, :obs]\n",
    "    testY = test[:, -features:][:, 1]\n",
    "\n",
    "    trainX = trainX.reshape((trainX.shape[0], weeks, features))\n",
    "    validX = validX.reshape((validX.shape[0], weeks, features))\n",
    "    testX = testX.reshape((testX.shape[0], weeks, features))\n",
    "\n",
    "    return trainX, trainY, validX, validY, testX, testY"
   ]
  },
  {
   "cell_type": "code",
   "execution_count": 1,
   "id": "2d381aed",
   "metadata": {},
   "outputs": [],
   "source": [
    "def format_scale_data(data, weeks=1):\n",
    "    X_total = data.values[:209, :]\n",
    "\n",
    "    data = X_total[(53-weeks):, :]\n",
    "    print(data.shape)\n",
    "    scaler, values = utils.scale(data)\n",
    "    values = utils.series_to_supervised(values, n_in=weeks, n_out=1, dropnan=True).values\n",
    "\n",
    "    y_scaler, y = utils.scale(data[:, 1].reshape((len(data), 1)))\n",
    "\n",
    "    train = values[:140, :]\n",
    "    valid = values[140:148]\n",
    "    test = values[148:, :]\n",
    "    print(train.shape, valid.shape, test.shape)\n",
    "\n",
    "    features = 13\n",
    "    obs = weeks*features\n",
    "\n",
    "    y = values[:, -features:]\n",
    "\n",
    "    trainX = train[:, :obs]\n",
    "    trainY = train[:, -features:][:, 1]\n",
    "    validX = valid[:, :obs]\n",
    "    validY = valid[:, -features:][:, 1]\n",
    "    testX = test[:, :obs]\n",
    "    testY = test[:, -features:][:, 1]\n",
    "\n",
    "    trainX = trainX.reshape((trainX.shape[0], weeks, features))\n",
    "    validX = validX.reshape((validX.shape[0], weeks, features))\n",
    "    testX = testX.reshape((testX.shape[0], weeks, features))\n",
    "\n",
    "    return trainX, trainY, validX, validY, testX, testY, scaler, y_scaler"
   ]
  },
  {
   "cell_type": "code",
   "execution_count": 18,
   "id": "59153b6e",
   "metadata": {},
   "outputs": [],
   "source": [
    "def run():\n",
    "    def f_nn(params):\n",
    "        # Generate data with given window\n",
    "        saltlake_week = pd.read_csv('../saltlake_week.csv')\n",
    "        data = saltlake_week[['Cases', 'VMT (Veh-Miles)', 'News Sentiment', 'Unemployment Rate', 'PRCP', 'SNWD',\n",
    "                              'Percent_Fully_Vaccinated_5&Older', 'TAVG',\n",
    "                              'Stay at Home', 'Mask', 'School Opening', 'Health Emergency', 'Holiday']]\n",
    "        trainX, trainY, validX, validY, testX, testY = format_data(data=data, weeks=params['weeks'])\n",
    "        \n",
    "        # Keras LSTM model\n",
    "        model = Sequential()\n",
    "\n",
    "        if params['layers'] == 1:\n",
    "            model.add(LSTM(units=params['units'], input_shape=(trainX.shape[1], trainX.shape[2]),\n",
    "                           activation=params['activation']))                \n",
    "            model.add(Dropout(rate=params['dropout']))\n",
    "        else:\n",
    "            # First layer specifies input_shape and returns sequences\n",
    "            model.add(\n",
    "                LSTM(units=params['units'], return_sequences=True, input_shape=(trainX.shape[1], trainX.shape[2]),\n",
    "                        activation=params['activation']))\n",
    "            model.add(Dropout(rate=params['dropout']))\n",
    "            # Middle layers return sequences\n",
    "            for i in range(params['layers'] - 2):\n",
    "                model.add(LSTM(units=params['units'], return_sequences=True, activation=params['activation']))\n",
    "                model.add(Dropout(rate=params['dropout']))\n",
    "            # Last layer doesn't return anything\n",
    "            model.add(LSTM(units=params['units'], activation=params['activation']))\n",
    "            model.add(Dropout(rate=params['dropout']))\n",
    "\n",
    "        model.add(Dense(1))\n",
    "        model.compile(optimizer='adam', loss='mean_squared_error', metrics=['mse'])\n",
    "\n",
    "        es = EarlyStopping(monitor='val_loss', mode='min', verbose=1, patience=10, restore_best_weights=True)\n",
    "\n",
    "        result = model.fit(trainX, trainY, verbose=0, validation_data=(validX, validY),\n",
    "                            batch_size=4,\n",
    "                            epochs=200,\n",
    "                            callbacks=[es, TqdmCallback(verbose=1)]\n",
    "                            )\n",
    "\n",
    "        # get the lowest validation loss of the training epochs\n",
    "        validation_loss = np.amin(result.history['val_loss'])\n",
    "        print('Best validation loss of epoch:', validation_loss)\n",
    "\n",
    "\n",
    "        return {'loss': validation_loss, 'status': STATUS_OK, 'model': model, 'params': params}\n",
    "\n",
    "    # hyperparameters to search over with hyperopt\n",
    "    space = {'dropout': hp.uniform('dropout', 0.01, 0.5),\n",
    "             'units': scope.int(hp.quniform('units', 8, 128, 4)),\n",
    "             'layers': scope.int(hp.quniform('layers', 1, 6, 1)),\n",
    "             'weeks': scope.int(hp.quniform('weeks', 1, 10, 1)),\n",
    "             'activation': hp.choice('activation', ['relu', 'sigmoid', 'tanh'])\n",
    "             }\n",
    "\n",
    "    trials = Trials()\n",
    "    best = fmin(f_nn, space, algo=tpe.suggest, max_evals=50, trials=trials)\n",
    "\n",
    "    # get best model\n",
    "    best_model = trials.results[np.argmin([r['loss'] for r in trials.results])]['model']\n",
    "    best_params = trials.results[np.argmin([r['loss'] for r in trials.results])]['params']\n",
    "\n",
    "    print(best_params)\n",
    "    print(best_model.summary())\n",
    "    best_model.save('Model/LSTM')\n",
    "    \n",
    "    saltlake_week = pd.read_csv('../saltlake_week.csv')\n",
    "    data = saltlake_week[['Cases', 'VMT (Veh-Miles)', 'News Sentiment', 'Unemployment Rate', 'PRCP', 'SNWD',\n",
    "                          'Percent_Fully_Vaccinated_5&Older', 'TAVG', \n",
    "                          'Stay at Home', 'Mask', 'School Opening', 'Health Emergency', 'Holiday']]\n",
    "    trainX, trainY, validX, validY, testX, testY, scaler, y_scaler = format_scale_data(data=data, weeks=best_params['weeks'])\n",
    "    \n",
    "    best_model.evaluate(testX, testY)\n",
    "    \n",
    "    yhat_test = best_model.predict(testX)\n",
    "    yhat_test_inv = y_scaler.inverse_transform(yhat_test).reshape((-1, 1))\n",
    "    testY_inv = y_scaler.inverse_transform(testY.reshape((-1, 1)))\n",
    "    \n",
    "    yhat_train = best_model.predict(trainX).reshape((-1, 1))\n",
    "    yhat_train_inv = y_scaler.inverse_transform(yhat_train)\n",
    "    trainY_inv = y_scaler.inverse_transform(trainY.reshape((-1, 1)))\n",
    "    \n",
    "    print(\"Mean Squared Error: {}\".format(mean_squared_error(testY_inv, yhat_test_inv)))\n",
    "    print(\"Root Mean Squared Error: {}\".format(mean_squared_error(testY_inv, yhat_test_inv, squared=False)))\n",
    "    print(\"Mean Absolute Percentage Error: {}\".format(mean_absolute_percentage_error(testY_inv, yhat_test_inv)))\n",
    "    \n",
    "    plt.figure()\n",
    "    plt.plot(yhat_test_inv, label='Predicted')\n",
    "    plt.plot(testY_inv, label='True')\n",
    "    plt.legend()\n",
    "    plt.show()\n",
    "    \n",
    "    plt.figure()\n",
    "    plt.plot(yhat_train_inv, label='Predicted')\n",
    "    plt.plot(trainY_inv, label='True')\n",
    "    plt.legend()\n",
    "    plt.show()"
   ]
  },
  {
   "cell_type": "code",
   "execution_count": null,
   "id": "27a2ec67",
   "metadata": {
    "scrolled": true
   },
   "outputs": [
    {
     "name": "stdout",
     "output_type": "stream",
     "text": [
      "(164, 13)                                             \n",
      "(140, 117)                                            \n",
      "(8, 117)                                              \n",
      "(8, 117)                                              \n",
      "  0%|          | 0/50 [00:00<?, ?trial/s, best loss=?]"
     ]
    },
    {
     "data": {
      "application/vnd.jupyter.widget-view+json": {
       "model_id": "ed98c40eeb754f9ca4b52968bc3179bf",
       "version_major": 2,
       "version_minor": 0
      },
      "text/plain": [
       "0epoch [00:00, ?epoch/s]"
      ]
     },
     "metadata": {},
     "output_type": "display_data"
    },
    {
     "data": {
      "application/vnd.jupyter.widget-view+json": {
       "model_id": "",
       "version_major": 2,
       "version_minor": 0
      },
      "text/plain": [
       "0batch [00:00, ?batch/s]"
      ]
     },
     "metadata": {},
     "output_type": "display_data"
    },
    {
     "name": "stdout",
     "output_type": "stream",
     "text": [
      "Restoring model weights from the end of the best epoch: 5.\n",
      "Epoch 00015: early stopping                           \n",
      "Best validation loss of epoch:                        \n",
      "0.004936600103974342                                  \n",
      "(157, 13)                                                                         \n",
      "(140, 26)                                                                         \n",
      "(8, 26)                                                                           \n",
      "(8, 26)                                                                           \n",
      "  2%|▏         | 1/50 [00:28<23:06, 28.30s/trial, best loss: 0.004936600103974342]"
     ]
    },
    {
     "data": {
      "application/vnd.jupyter.widget-view+json": {
       "model_id": "72a8208778de4f23973de8eea1c238de",
       "version_major": 2,
       "version_minor": 0
      },
      "text/plain": [
       "0epoch [00:00, ?epoch/s]"
      ]
     },
     "metadata": {},
     "output_type": "display_data"
    },
    {
     "data": {
      "application/vnd.jupyter.widget-view+json": {
       "model_id": "",
       "version_major": 2,
       "version_minor": 0
      },
      "text/plain": [
       "0batch [00:00, ?batch/s]"
      ]
     },
     "metadata": {},
     "output_type": "display_data"
    },
    {
     "name": "stdout",
     "output_type": "stream",
     "text": [
      "Restoring model weights from the end of the best epoch: 1.                        \n",
      "Epoch 00011: early stopping                                                       \n",
      "Best validation loss of epoch:                                                    \n",
      "0.023326240479946136                                                              \n",
      "(158, 13)                                                                         \n",
      "(140, 39)                                                                         \n",
      "(8, 39)                                                                           \n",
      "(8, 39)                                                                           \n",
      "  4%|▍         | 2/50 [00:34<12:03, 15.08s/trial, best loss: 0.004936600103974342]"
     ]
    },
    {
     "data": {
      "application/vnd.jupyter.widget-view+json": {
       "model_id": "0e789246087c41829b5956e60e21ba22",
       "version_major": 2,
       "version_minor": 0
      },
      "text/plain": [
       "0epoch [00:00, ?epoch/s]"
      ]
     },
     "metadata": {},
     "output_type": "display_data"
    },
    {
     "data": {
      "application/vnd.jupyter.widget-view+json": {
       "model_id": "",
       "version_major": 2,
       "version_minor": 0
      },
      "text/plain": [
       "0batch [00:00, ?batch/s]"
      ]
     },
     "metadata": {},
     "output_type": "display_data"
    },
    {
     "name": "stdout",
     "output_type": "stream",
     "text": [
      "Restoring model weights from the end of the best epoch: 3.                        \n",
      "Epoch 00013: early stopping                                                       \n",
      "Best validation loss of epoch:                                                    \n",
      "0.005484757944941521                                                              \n",
      "(166, 13)                                                                         \n",
      "(140, 143)                                                                        \n",
      "(8, 143)                                                                          \n",
      "(8, 143)                                                                          \n",
      "  6%|▌         | 3/50 [00:42<09:29, 12.12s/trial, best loss: 0.004936600103974342]"
     ]
    },
    {
     "data": {
      "application/vnd.jupyter.widget-view+json": {
       "model_id": "80a28ac719c74486bc72cdc3467cb5c4",
       "version_major": 2,
       "version_minor": 0
      },
      "text/plain": [
       "0epoch [00:00, ?epoch/s]"
      ]
     },
     "metadata": {},
     "output_type": "display_data"
    },
    {
     "data": {
      "application/vnd.jupyter.widget-view+json": {
       "model_id": "",
       "version_major": 2,
       "version_minor": 0
      },
      "text/plain": [
       "0batch [00:00, ?batch/s]"
      ]
     },
     "metadata": {},
     "output_type": "display_data"
    },
    {
     "name": "stdout",
     "output_type": "stream",
     "text": [
      "Restoring model weights from the end of the best epoch: 2.                        \n",
      "Epoch 00012: early stopping                                                       \n",
      "Best validation loss of epoch:                                                    \n",
      "0.0005819080979563296                                                             \n",
      "(161, 13)                                                                          \n",
      "(140, 78)                                                                          \n",
      "(8, 78)                                                                            \n",
      "(8, 78)                                                                            \n",
      "  8%|▊         | 4/50 [01:01<11:18, 14.74s/trial, best loss: 0.0005819080979563296]"
     ]
    },
    {
     "data": {
      "application/vnd.jupyter.widget-view+json": {
       "model_id": "2ae9970ac9624db484167e4f01de32f4",
       "version_major": 2,
       "version_minor": 0
      },
      "text/plain": [
       "0epoch [00:00, ?epoch/s]"
      ]
     },
     "metadata": {},
     "output_type": "display_data"
    },
    {
     "data": {
      "application/vnd.jupyter.widget-view+json": {
       "model_id": "",
       "version_major": 2,
       "version_minor": 0
      },
      "text/plain": [
       "0batch [00:00, ?batch/s]"
      ]
     },
     "metadata": {},
     "output_type": "display_data"
    },
    {
     "name": "stdout",
     "output_type": "stream",
     "text": [
      "Restoring model weights from the end of the best epoch: 2.                         \n",
      "Epoch 00012: early stopping                                                        \n",
      "Best validation loss of epoch:                                                     \n",
      "0.011005940847098827                                                               \n",
      "(158, 13)                                                                          \n",
      "(140, 39)                                                                          \n",
      "(8, 39)                                                                            \n",
      "(8, 39)                                                                            \n",
      " 10%|█         | 5/50 [01:18<11:41, 15.58s/trial, best loss: 0.0005819080979563296]"
     ]
    },
    {
     "data": {
      "application/vnd.jupyter.widget-view+json": {
       "model_id": "9d5a2f72ae764cc59f35424383afb5ee",
       "version_major": 2,
       "version_minor": 0
      },
      "text/plain": [
       "0epoch [00:00, ?epoch/s]"
      ]
     },
     "metadata": {},
     "output_type": "display_data"
    },
    {
     "data": {
      "application/vnd.jupyter.widget-view+json": {
       "model_id": "",
       "version_major": 2,
       "version_minor": 0
      },
      "text/plain": [
       "0batch [00:00, ?batch/s]"
      ]
     },
     "metadata": {},
     "output_type": "display_data"
    },
    {
     "name": "stdout",
     "output_type": "stream",
     "text": [
      "Restoring model weights from the end of the best epoch: 3.                         \n",
      "Epoch 00013: early stopping                                                        \n",
      "Best validation loss of epoch:                                                     \n",
      "0.0005510802147909999                                                              \n",
      "(161, 13)                                                                          \n",
      "(140, 78)                                                                          \n",
      "(8, 78)                                                                            \n",
      "(8, 78)                                                                            \n",
      " 12%|█▏        | 6/50 [01:38<12:22, 16.88s/trial, best loss: 0.0005510802147909999]"
     ]
    },
    {
     "data": {
      "application/vnd.jupyter.widget-view+json": {
       "model_id": "d9989d53d8e840209b642fd12dd51d13",
       "version_major": 2,
       "version_minor": 0
      },
      "text/plain": [
       "0epoch [00:00, ?epoch/s]"
      ]
     },
     "metadata": {},
     "output_type": "display_data"
    },
    {
     "data": {
      "application/vnd.jupyter.widget-view+json": {
       "model_id": "",
       "version_major": 2,
       "version_minor": 0
      },
      "text/plain": [
       "0batch [00:00, ?batch/s]"
      ]
     },
     "metadata": {},
     "output_type": "display_data"
    },
    {
     "name": "stdout",
     "output_type": "stream",
     "text": [
      "Restoring model weights from the end of the best epoch: 10.                        \n",
      "Epoch 00020: early stopping                                                        \n",
      "Best validation loss of epoch:                                                     \n",
      "0.00034942664206027985                                                             \n",
      "(165, 13)                                                                           \n",
      "(140, 130)                                                                          \n",
      "(8, 130)                                                                            \n",
      "(8, 130)                                                                            \n",
      " 14%|█▍        | 7/50 [01:50<11:09, 15.58s/trial, best loss: 0.00034942664206027985]"
     ]
    },
    {
     "data": {
      "application/vnd.jupyter.widget-view+json": {
       "model_id": "9b2454529da341828e869086ee6fd12e",
       "version_major": 2,
       "version_minor": 0
      },
      "text/plain": [
       "0epoch [00:00, ?epoch/s]"
      ]
     },
     "metadata": {},
     "output_type": "display_data"
    },
    {
     "data": {
      "application/vnd.jupyter.widget-view+json": {
       "model_id": "c4dbc0448b52424c89c6175481936753",
       "version_major": 2,
       "version_minor": 0
      },
      "text/plain": [
       "0batch [00:00, ?batch/s]"
      ]
     },
     "metadata": {},
     "output_type": "display_data"
    }
   ],
   "source": [
    "run()"
   ]
  }
 ],
 "metadata": {
  "kernelspec": {
   "display_name": "Python 3",
   "language": "python",
   "name": "python3"
  },
  "language_info": {
   "codemirror_mode": {
    "name": "ipython",
    "version": 3
   },
   "file_extension": ".py",
   "mimetype": "text/x-python",
   "name": "python",
   "nbconvert_exporter": "python",
   "pygments_lexer": "ipython3",
   "version": "3.8.8"
  }
 },
 "nbformat": 4,
 "nbformat_minor": 5
}

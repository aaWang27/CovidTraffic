{
 "cells": [
  {
   "cell_type": "code",
   "execution_count": 1,
   "id": "bda4b499",
   "metadata": {},
   "outputs": [],
   "source": [
    "import argparse\n",
    "import config\n",
    "import os\n",
    "import random\n",
    "import utils\n",
    "\n",
    "import numpy as np\n",
    "import pandas as pd\n",
    "import tensorflow as tf\n",
    "from tensorflow import keras\n",
    "from sklearn.metrics import mean_squared_error, mean_absolute_percentage_error\n",
    "from tensorflow.keras.callbacks import EarlyStopping\n",
    "from sklearn import preprocessing\n",
    "\n",
    "import matplotlib as mpl\n",
    "%matplotlib inline"
   ]
  },
  {
   "cell_type": "code",
   "execution_count": 2,
   "id": "2e07f3de",
   "metadata": {},
   "outputs": [],
   "source": [
    "seed_value = 42\n",
    "os.environ['PYTHONHASHSEED'] = str(seed_value)\n",
    "random.seed(seed_value)\n",
    "np.random.seed(seed_value)\n",
    "tf.random.set_seed(seed_value)"
   ]
  },
  {
   "cell_type": "code",
   "execution_count": 3,
   "id": "9602785a",
   "metadata": {
    "scrolled": true
   },
   "outputs": [
    {
     "data": {
      "text/html": [
       "<div>\n",
       "<style scoped>\n",
       "    .dataframe tbody tr th:only-of-type {\n",
       "        vertical-align: middle;\n",
       "    }\n",
       "\n",
       "    .dataframe tbody tr th {\n",
       "        vertical-align: top;\n",
       "    }\n",
       "\n",
       "    .dataframe thead th {\n",
       "        text-align: right;\n",
       "    }\n",
       "</style>\n",
       "<table border=\"1\" class=\"dataframe\">\n",
       "  <thead>\n",
       "    <tr style=\"text-align: right;\">\n",
       "      <th></th>\n",
       "      <th>dates</th>\n",
       "      <th>Cases</th>\n",
       "      <th>VMT (Veh-Miles)</th>\n",
       "      <th>News Sentiment</th>\n",
       "      <th>Unemployment Rate</th>\n",
       "      <th>PRCP</th>\n",
       "      <th>SNOW</th>\n",
       "      <th>SNWD</th>\n",
       "      <th>Percent_Fully_Vaccinated_5&amp;Older</th>\n",
       "      <th>Stay at Home</th>\n",
       "      <th>Mask</th>\n",
       "      <th>School Opening</th>\n",
       "      <th>Health Emergency</th>\n",
       "      <th>TAVG</th>\n",
       "      <th>TMAX</th>\n",
       "      <th>TMIN</th>\n",
       "      <th>Holiday</th>\n",
       "      <th>Day</th>\n",
       "    </tr>\n",
       "  </thead>\n",
       "  <tbody>\n",
       "    <tr>\n",
       "      <th>0</th>\n",
       "      <td>201902</td>\n",
       "      <td>0</td>\n",
       "      <td>66181817.1</td>\n",
       "      <td>-0.589684</td>\n",
       "      <td>0.029341</td>\n",
       "      <td>0.07</td>\n",
       "      <td>0.4</td>\n",
       "      <td>6.4</td>\n",
       "      <td>0.000000</td>\n",
       "      <td>0</td>\n",
       "      <td>0</td>\n",
       "      <td>1</td>\n",
       "      <td>0</td>\n",
       "      <td>32.285714</td>\n",
       "      <td>36.571429</td>\n",
       "      <td>28.571429</td>\n",
       "      <td>0</td>\n",
       "      <td>1/7/2019</td>\n",
       "    </tr>\n",
       "    <tr>\n",
       "      <th>1</th>\n",
       "      <td>201903</td>\n",
       "      <td>0</td>\n",
       "      <td>65217107.0</td>\n",
       "      <td>-0.716851</td>\n",
       "      <td>0.029341</td>\n",
       "      <td>0.85</td>\n",
       "      <td>1.0</td>\n",
       "      <td>1.2</td>\n",
       "      <td>0.000000</td>\n",
       "      <td>0</td>\n",
       "      <td>0</td>\n",
       "      <td>1</td>\n",
       "      <td>0</td>\n",
       "      <td>33.428571</td>\n",
       "      <td>39.857143</td>\n",
       "      <td>27.857143</td>\n",
       "      <td>0</td>\n",
       "      <td>1/14/2019</td>\n",
       "    </tr>\n",
       "    <tr>\n",
       "      <th>2</th>\n",
       "      <td>201904</td>\n",
       "      <td>0</td>\n",
       "      <td>63764156.8</td>\n",
       "      <td>-0.795640</td>\n",
       "      <td>0.029341</td>\n",
       "      <td>0.62</td>\n",
       "      <td>4.2</td>\n",
       "      <td>13.3</td>\n",
       "      <td>0.000000</td>\n",
       "      <td>0</td>\n",
       "      <td>0</td>\n",
       "      <td>1</td>\n",
       "      <td>0</td>\n",
       "      <td>31.571429</td>\n",
       "      <td>40.285714</td>\n",
       "      <td>24.571429</td>\n",
       "      <td>1</td>\n",
       "      <td>1/21/2019</td>\n",
       "    </tr>\n",
       "    <tr>\n",
       "      <th>3</th>\n",
       "      <td>201905</td>\n",
       "      <td>0</td>\n",
       "      <td>68255092.9</td>\n",
       "      <td>-0.791056</td>\n",
       "      <td>0.027660</td>\n",
       "      <td>0.07</td>\n",
       "      <td>0.0</td>\n",
       "      <td>0.0</td>\n",
       "      <td>0.000000</td>\n",
       "      <td>0</td>\n",
       "      <td>0</td>\n",
       "      <td>1</td>\n",
       "      <td>0</td>\n",
       "      <td>36.142857</td>\n",
       "      <td>46.285714</td>\n",
       "      <td>29.714286</td>\n",
       "      <td>0</td>\n",
       "      <td>1/28/2019</td>\n",
       "    </tr>\n",
       "    <tr>\n",
       "      <th>4</th>\n",
       "      <td>201906</td>\n",
       "      <td>0</td>\n",
       "      <td>60363403.4</td>\n",
       "      <td>-0.327101</td>\n",
       "      <td>0.027660</td>\n",
       "      <td>0.60</td>\n",
       "      <td>9.8</td>\n",
       "      <td>19.1</td>\n",
       "      <td>0.000000</td>\n",
       "      <td>0</td>\n",
       "      <td>0</td>\n",
       "      <td>1</td>\n",
       "      <td>0</td>\n",
       "      <td>31.285714</td>\n",
       "      <td>37.000000</td>\n",
       "      <td>22.285714</td>\n",
       "      <td>0</td>\n",
       "      <td>2/4/2019</td>\n",
       "    </tr>\n",
       "    <tr>\n",
       "      <th>...</th>\n",
       "      <td>...</td>\n",
       "      <td>...</td>\n",
       "      <td>...</td>\n",
       "      <td>...</td>\n",
       "      <td>...</td>\n",
       "      <td>...</td>\n",
       "      <td>...</td>\n",
       "      <td>...</td>\n",
       "      <td>...</td>\n",
       "      <td>...</td>\n",
       "      <td>...</td>\n",
       "      <td>...</td>\n",
       "      <td>...</td>\n",
       "      <td>...</td>\n",
       "      <td>...</td>\n",
       "      <td>...</td>\n",
       "      <td>...</td>\n",
       "      <td>...</td>\n",
       "    </tr>\n",
       "    <tr>\n",
       "      <th>156</th>\n",
       "      <td>202201</td>\n",
       "      <td>25264</td>\n",
       "      <td>71548116.2</td>\n",
       "      <td>0.131978</td>\n",
       "      <td>NaN</td>\n",
       "      <td>0.39</td>\n",
       "      <td>0.0</td>\n",
       "      <td>5.2</td>\n",
       "      <td>0.712512</td>\n",
       "      <td>0</td>\n",
       "      <td>1</td>\n",
       "      <td>1</td>\n",
       "      <td>0</td>\n",
       "      <td>35.571429</td>\n",
       "      <td>45.285714</td>\n",
       "      <td>28.571429</td>\n",
       "      <td>0</td>\n",
       "      <td>1/3/2022</td>\n",
       "    </tr>\n",
       "    <tr>\n",
       "      <th>157</th>\n",
       "      <td>202202</td>\n",
       "      <td>31952</td>\n",
       "      <td>71794673.2</td>\n",
       "      <td>-0.095343</td>\n",
       "      <td>NaN</td>\n",
       "      <td>0.00</td>\n",
       "      <td>0.0</td>\n",
       "      <td>0.0</td>\n",
       "      <td>0.713689</td>\n",
       "      <td>0</td>\n",
       "      <td>1</td>\n",
       "      <td>1</td>\n",
       "      <td>0</td>\n",
       "      <td>32.142857</td>\n",
       "      <td>42.428571</td>\n",
       "      <td>25.000000</td>\n",
       "      <td>0</td>\n",
       "      <td>1/10/2022</td>\n",
       "    </tr>\n",
       "    <tr>\n",
       "      <th>158</th>\n",
       "      <td>202203</td>\n",
       "      <td>23819</td>\n",
       "      <td>72930069.2</td>\n",
       "      <td>-0.170064</td>\n",
       "      <td>NaN</td>\n",
       "      <td>0.06</td>\n",
       "      <td>0.6</td>\n",
       "      <td>1.0</td>\n",
       "      <td>0.713810</td>\n",
       "      <td>0</td>\n",
       "      <td>1</td>\n",
       "      <td>1</td>\n",
       "      <td>0</td>\n",
       "      <td>30.142857</td>\n",
       "      <td>37.857143</td>\n",
       "      <td>23.857143</td>\n",
       "      <td>1</td>\n",
       "      <td>1/17/2022</td>\n",
       "    </tr>\n",
       "    <tr>\n",
       "      <th>159</th>\n",
       "      <td>202204</td>\n",
       "      <td>11750</td>\n",
       "      <td>76286409.8</td>\n",
       "      <td>-0.520794</td>\n",
       "      <td>NaN</td>\n",
       "      <td>0.02</td>\n",
       "      <td>0.3</td>\n",
       "      <td>0.0</td>\n",
       "      <td>0.713936</td>\n",
       "      <td>0</td>\n",
       "      <td>0</td>\n",
       "      <td>1</td>\n",
       "      <td>0</td>\n",
       "      <td>29.800000</td>\n",
       "      <td>39.000000</td>\n",
       "      <td>22.600000</td>\n",
       "      <td>0</td>\n",
       "      <td>1/24/2022</td>\n",
       "    </tr>\n",
       "    <tr>\n",
       "      <th>160</th>\n",
       "      <td>202205</td>\n",
       "      <td>6220</td>\n",
       "      <td>NaN</td>\n",
       "      <td>-0.579581</td>\n",
       "      <td>NaN</td>\n",
       "      <td>NaN</td>\n",
       "      <td>NaN</td>\n",
       "      <td>NaN</td>\n",
       "      <td>0.714011</td>\n",
       "      <td>0</td>\n",
       "      <td>0</td>\n",
       "      <td>1</td>\n",
       "      <td>0</td>\n",
       "      <td>NaN</td>\n",
       "      <td>NaN</td>\n",
       "      <td>NaN</td>\n",
       "      <td>0</td>\n",
       "      <td>1/31/2022</td>\n",
       "    </tr>\n",
       "  </tbody>\n",
       "</table>\n",
       "<p>161 rows × 18 columns</p>\n",
       "</div>"
      ],
      "text/plain": [
       "      dates  Cases  VMT (Veh-Miles)  News Sentiment  Unemployment Rate  PRCP  \\\n",
       "0    201902      0       66181817.1       -0.589684           0.029341  0.07   \n",
       "1    201903      0       65217107.0       -0.716851           0.029341  0.85   \n",
       "2    201904      0       63764156.8       -0.795640           0.029341  0.62   \n",
       "3    201905      0       68255092.9       -0.791056           0.027660  0.07   \n",
       "4    201906      0       60363403.4       -0.327101           0.027660  0.60   \n",
       "..      ...    ...              ...             ...                ...   ...   \n",
       "156  202201  25264       71548116.2        0.131978                NaN  0.39   \n",
       "157  202202  31952       71794673.2       -0.095343                NaN  0.00   \n",
       "158  202203  23819       72930069.2       -0.170064                NaN  0.06   \n",
       "159  202204  11750       76286409.8       -0.520794                NaN  0.02   \n",
       "160  202205   6220              NaN       -0.579581                NaN   NaN   \n",
       "\n",
       "     SNOW  SNWD  Percent_Fully_Vaccinated_5&Older  Stay at Home  Mask  \\\n",
       "0     0.4   6.4                          0.000000             0     0   \n",
       "1     1.0   1.2                          0.000000             0     0   \n",
       "2     4.2  13.3                          0.000000             0     0   \n",
       "3     0.0   0.0                          0.000000             0     0   \n",
       "4     9.8  19.1                          0.000000             0     0   \n",
       "..    ...   ...                               ...           ...   ...   \n",
       "156   0.0   5.2                          0.712512             0     1   \n",
       "157   0.0   0.0                          0.713689             0     1   \n",
       "158   0.6   1.0                          0.713810             0     1   \n",
       "159   0.3   0.0                          0.713936             0     0   \n",
       "160   NaN   NaN                          0.714011             0     0   \n",
       "\n",
       "     School Opening  Health Emergency       TAVG       TMAX       TMIN  \\\n",
       "0                 1                 0  32.285714  36.571429  28.571429   \n",
       "1                 1                 0  33.428571  39.857143  27.857143   \n",
       "2                 1                 0  31.571429  40.285714  24.571429   \n",
       "3                 1                 0  36.142857  46.285714  29.714286   \n",
       "4                 1                 0  31.285714  37.000000  22.285714   \n",
       "..              ...               ...        ...        ...        ...   \n",
       "156               1                 0  35.571429  45.285714  28.571429   \n",
       "157               1                 0  32.142857  42.428571  25.000000   \n",
       "158               1                 0  30.142857  37.857143  23.857143   \n",
       "159               1                 0  29.800000  39.000000  22.600000   \n",
       "160               1                 0        NaN        NaN        NaN   \n",
       "\n",
       "     Holiday        Day  \n",
       "0          0   1/7/2019  \n",
       "1          0  1/14/2019  \n",
       "2          1  1/21/2019  \n",
       "3          0  1/28/2019  \n",
       "4          0   2/4/2019  \n",
       "..       ...        ...  \n",
       "156        0   1/3/2022  \n",
       "157        0  1/10/2022  \n",
       "158        1  1/17/2022  \n",
       "159        0  1/24/2022  \n",
       "160        0  1/31/2022  \n",
       "\n",
       "[161 rows x 18 columns]"
      ]
     },
     "execution_count": 3,
     "metadata": {},
     "output_type": "execute_result"
    }
   ],
   "source": [
    "saltlake_week = pd.read_csv('../saltlake_week.csv')\n",
    "saltlake_week"
   ]
  },
  {
   "cell_type": "code",
   "execution_count": 4,
   "id": "13ba5235",
   "metadata": {},
   "outputs": [
    {
     "data": {
      "text/plain": [
       "(156, 13)"
      ]
     },
     "execution_count": 4,
     "metadata": {},
     "output_type": "execute_result"
    }
   ],
   "source": [
    "X_total = saltlake_week[['Cases', 'VMT (Veh-Miles)', 'News Sentiment', 'Unemployment Rate', 'PRCP', 'SNWD',\n",
    "                         'Percent_Fully_Vaccinated_5&Older', 'TAVG',\n",
    "                         'Stay at Home', 'Mask', 'School Opening', 'Health Emergency', 'Holiday']].values[:156, :]\n",
    "X_total.shape"
   ]
  },
  {
   "cell_type": "code",
   "execution_count": 23,
   "id": "8e5f652c",
   "metadata": {},
   "outputs": [],
   "source": [
    "data = X_total[54:, :]\n",
    "scaler, values = utils.scale(data)\n",
    "values = utils.series_to_supervised(values, n_in=config.N_WEEKS, n_out=1, dropnan=True).values"
   ]
  },
  {
   "cell_type": "code",
   "execution_count": 24,
   "id": "4696e4c5",
   "metadata": {
    "scrolled": true
   },
   "outputs": [],
   "source": [
    "y_scaler, y = utils.scale(data[:, 1].reshape((len(data), 1)))"
   ]
  },
  {
   "cell_type": "code",
   "execution_count": 25,
   "id": "c7806c51",
   "metadata": {},
   "outputs": [
    {
     "name": "stdout",
     "output_type": "stream",
     "text": [
      "(88, 91)\n",
      "(4, 91)\n",
      "(4, 91)\n"
     ]
    }
   ],
   "source": [
    "train = values[:88, :]\n",
    "val = values[88:92]\n",
    "test = values[92:, :]\n",
    "print(train.shape)\n",
    "print(val.shape)\n",
    "print(test.shape)"
   ]
  },
  {
   "cell_type": "code",
   "execution_count": 26,
   "id": "a25c3a85",
   "metadata": {},
   "outputs": [
    {
     "data": {
      "text/plain": [
       "array([[0.00000000e+00, 1.00000000e+00, 5.83914196e-01, ...,\n",
       "        1.00000000e+00, 0.00000000e+00, 0.00000000e+00],\n",
       "       [8.85739593e-04, 8.57950170e-01, 4.51425104e-01, ...,\n",
       "        1.00000000e+00, 0.00000000e+00, 0.00000000e+00],\n",
       "       [7.77482531e-03, 3.00300475e-01, 3.07936961e-01, ...,\n",
       "        0.00000000e+00, 0.00000000e+00, 0.00000000e+00],\n",
       "       ...,\n",
       "       [2.45645114e-01, 7.43904620e-01, 7.61412976e-01, ...,\n",
       "        1.00000000e+00, 0.00000000e+00, 0.00000000e+00],\n",
       "       [3.18767838e-01, 5.55308847e-01, 7.65007896e-01, ...,\n",
       "        1.00000000e+00, 0.00000000e+00, 1.00000000e+00],\n",
       "       [1.00000000e+00, 2.81671960e-01, 7.68193364e-01, ...,\n",
       "        1.00000000e+00, 0.00000000e+00, 1.00000000e+00]])"
      ]
     },
     "execution_count": 26,
     "metadata": {},
     "output_type": "execute_result"
    }
   ],
   "source": [
    "y = values[:, -config.N_FEATURES:]\n",
    "y"
   ]
  },
  {
   "cell_type": "code",
   "execution_count": 27,
   "id": "b6a13365",
   "metadata": {},
   "outputs": [],
   "source": [
    "X_train = train[:, :config.N_OBS]\n",
    "y_train = train[:, -config.N_FEATURES:][:, 1]\n",
    "X_val = val[:, :config.N_OBS]\n",
    "y_val = val[:, -config.N_FEATURES:][:, 1]\n",
    "X_test = test[:, :config.N_OBS]\n",
    "y_test = test[:, -config.N_FEATURES:][:, 1]"
   ]
  },
  {
   "cell_type": "code",
   "execution_count": 28,
   "id": "e5a14abe",
   "metadata": {},
   "outputs": [],
   "source": [
    "X_train = X_train.reshape((X_train.shape[0], config.N_WEEKS, config.N_FEATURES))\n",
    "X_val = X_val.reshape((X_val.shape[0], config.N_WEEKS, config.N_FEATURES))\n",
    "X_test = X_test.reshape((X_test.shape[0], config.N_WEEKS, config.N_FEATURES))"
   ]
  },
  {
   "cell_type": "code",
   "execution_count": 29,
   "id": "87022bef",
   "metadata": {},
   "outputs": [],
   "source": [
    "es = EarlyStopping(\n",
    "    monitor=\"val_loss\",\n",
    "    patience=config.EARLY_STOPPING_PATIENCE,\n",
    "    restore_best_weights=True)"
   ]
  },
  {
   "cell_type": "code",
   "execution_count": 30,
   "id": "01abb5a4",
   "metadata": {},
   "outputs": [],
   "source": [
    "model = keras.Sequential()\n",
    "model.add(keras.layers.LSTM(40, input_shape=config.INPUT_SHAPE, activation='relu'))\n",
    "model.add(keras.layers.Dropout(0.2))\n",
    "model.add(keras.layers.Dense(1))\n",
    "model.compile(loss='mse', optimizer=keras.optimizers.Adam(learning_rate=0.01),\n",
    "              metrics=['mse'])\n",
    "model.build()"
   ]
  },
  {
   "cell_type": "code",
   "execution_count": 31,
   "id": "8a147de2",
   "metadata": {},
   "outputs": [
    {
     "name": "stdout",
     "output_type": "stream",
     "text": [
      "Model: \"sequential_1\"\n",
      "_________________________________________________________________\n",
      " Layer (type)                Output Shape              Param #   \n",
      "=================================================================\n",
      " lstm_1 (LSTM)               (None, 40)                8640      \n",
      "                                                                 \n",
      " dropout_1 (Dropout)         (None, 40)                0         \n",
      "                                                                 \n",
      " dense_1 (Dense)             (None, 1)                 41        \n",
      "                                                                 \n",
      "=================================================================\n",
      "Total params: 8,681\n",
      "Trainable params: 8,681\n",
      "Non-trainable params: 0\n",
      "_________________________________________________________________\n"
     ]
    }
   ],
   "source": [
    "model.summary()"
   ]
  },
  {
   "cell_type": "code",
   "execution_count": 32,
   "id": "36cda8a5",
   "metadata": {
    "scrolled": true
   },
   "outputs": [
    {
     "name": "stdout",
     "output_type": "stream",
     "text": [
      "[INFO] training the model...\n",
      "Epoch 1/1000\n",
      "22/22 [==============================] - 3s 30ms/step - loss: 0.1058 - mse: 0.1058 - val_loss: 0.0082 - val_mse: 0.0082\n",
      "Epoch 2/1000\n",
      "22/22 [==============================] - 0s 9ms/step - loss: 0.0295 - mse: 0.0295 - val_loss: 0.0077 - val_mse: 0.0077\n",
      "Epoch 3/1000\n",
      "22/22 [==============================] - 0s 8ms/step - loss: 0.0251 - mse: 0.0251 - val_loss: 0.0137 - val_mse: 0.0137\n",
      "Epoch 4/1000\n",
      "22/22 [==============================] - 0s 8ms/step - loss: 0.0182 - mse: 0.0182 - val_loss: 0.0115 - val_mse: 0.0115\n",
      "Epoch 5/1000\n",
      "22/22 [==============================] - 0s 8ms/step - loss: 0.0119 - mse: 0.0119 - val_loss: 0.0143 - val_mse: 0.0143\n",
      "Epoch 6/1000\n",
      "22/22 [==============================] - 0s 10ms/step - loss: 0.0115 - mse: 0.0115 - val_loss: 0.0124 - val_mse: 0.0124\n",
      "Epoch 7/1000\n",
      "22/22 [==============================] - 0s 8ms/step - loss: 0.0146 - mse: 0.0146 - val_loss: 0.0115 - val_mse: 0.0115\n",
      "Epoch 8/1000\n",
      "22/22 [==============================] - 0s 7ms/step - loss: 0.0118 - mse: 0.0118 - val_loss: 0.0150 - val_mse: 0.0150\n",
      "Epoch 9/1000\n",
      "22/22 [==============================] - 0s 7ms/step - loss: 0.0141 - mse: 0.0141 - val_loss: 0.0172 - val_mse: 0.0172\n",
      "Epoch 10/1000\n",
      "22/22 [==============================] - 0s 6ms/step - loss: 0.0148 - mse: 0.0148 - val_loss: 0.0243 - val_mse: 0.0243\n",
      "Epoch 11/1000\n",
      "22/22 [==============================] - 0s 6ms/step - loss: 0.0107 - mse: 0.0107 - val_loss: 0.0159 - val_mse: 0.0159\n",
      "Epoch 12/1000\n",
      "22/22 [==============================] - 0s 6ms/step - loss: 0.0121 - mse: 0.0121 - val_loss: 0.0129 - val_mse: 0.0129\n"
     ]
    }
   ],
   "source": [
    "print(\"[INFO] training the model...\")\n",
    "H = model.fit(\n",
    "    x=X_train, y=y_train,\n",
    "    validation_data=(X_val, y_val),\n",
    "    batch_size=config.BS,\n",
    "    callbacks=[es],\n",
    "    epochs=config.EPOCHS\n",
    ")"
   ]
  },
  {
   "cell_type": "code",
   "execution_count": 33,
   "id": "e2c8953a",
   "metadata": {
    "scrolled": true
   },
   "outputs": [
    {
     "name": "stdout",
     "output_type": "stream",
     "text": [
      "[INFO] evaluating network...\n",
      "1/1 [==============================] - 1s 773ms/step - loss: 0.0418 - mse: 0.0418\n",
      "Loss and MSE: [0.04183363541960716, 0.04183363541960716]\n",
      "INFO:tensorflow:Assets written to: Model/LSTM\\assets\n"
     ]
    },
    {
     "name": "stderr",
     "output_type": "stream",
     "text": [
      "INFO:tensorflow:Assets written to: Model/LSTM\\assets\n",
      "WARNING:absl:<keras.layers.recurrent.LSTMCell object at 0x0000000014E52BE0> has the same name 'LSTMCell' as a built-in Keras object. Consider renaming <class 'keras.layers.recurrent.LSTMCell'> to avoid naming conflicts when loading with `tf.keras.models.load_model`. If renaming is not possible, pass the object in the `custom_objects` parameter of the load function.\n"
     ]
    },
    {
     "data": {
      "image/png": "[encoded data removed]",
      "text/plain": [
       "<Figure size 432x288 with 1 Axes>"
      ]
     },
     "metadata": {},
     "output_type": "display_data"
    }
   ],
   "source": [
    "print(\"[INFO] evaluating network...\")\n",
    "predictions = model.predict(x=X_test)\n",
    "print(\"Loss and MSE: {}\".format(model.evaluate(X_test, y_test)))\n",
    "\n",
    "utils.save_plot(H, \"output/loss_plot.png\")\n",
    "model.save('Model/LSTM')"
   ]
  },
  {
   "cell_type": "code",
   "execution_count": 34,
   "id": "67aa71f7",
   "metadata": {},
   "outputs": [
    {
     "data": {
      "text/plain": [
       "array([[75668913.3],\n",
       "       [77809476.1],\n",
       "       [71502911.8],\n",
       "       [62352608. ]])"
      ]
     },
     "execution_count": 34,
     "metadata": {},
     "output_type": "execute_result"
    }
   ],
   "source": [
    "y_test_inv = utils.invert_scale(y_scaler, y_test.reshape((len(y_test), 1)))\n",
    "y_test_inv"
   ]
  },
  {
   "cell_type": "code",
   "execution_count": 35,
   "id": "b7be60c0",
   "metadata": {},
   "outputs": [
    {
     "data": {
      "text/plain": [
       "array([[77082584.],\n",
       "       [76632540.],\n",
       "       [74396264.],\n",
       "       [75594936.]], dtype=float32)"
      ]
     },
     "execution_count": 35,
     "metadata": {},
     "output_type": "execute_result"
    }
   ],
   "source": [
    "predictions_inv = y_scaler.inverse_transform(predictions)\n",
    "predictions_inv"
   ]
  },
  {
   "cell_type": "code",
   "execution_count": 36,
   "id": "223638d6",
   "metadata": {},
   "outputs": [],
   "source": [
    "X = values[:, :config.N_OBS]\n",
    "y = values[:, -config.N_FEATURES:][:, 1]\n",
    "\n",
    "m, n = X.shape"
   ]
  },
  {
   "cell_type": "code",
   "execution_count": 37,
   "id": "ade63a94",
   "metadata": {},
   "outputs": [],
   "source": [
    "X = X.reshape((X.shape[0], config.N_WEEKS, config.N_FEATURES))\n",
    "total_pred = model.predict(x=X)\n",
    "\n",
    "y_inv = utils.invert_scale(y_scaler, y.reshape((len(y), 1)))\n",
    "total_pred_inv = y_scaler.inverse_transform(total_pred)\n",
    "\n",
    "mse_test = mean_squared_error(y_test_inv, predictions_inv)\n",
    "rmse_test = mean_squared_error(y_test_inv, predictions_inv, squared=False)\n",
    "mape_test = mean_absolute_percentage_error(y_test_inv, predictions_inv)"
   ]
  },
  {
   "cell_type": "code",
   "execution_count": 38,
   "id": "44d0efe0",
   "metadata": {},
   "outputs": [
    {
     "name": "stdout",
     "output_type": "stream",
     "text": [
      "Mean Squared Error: 46778592957219.44\n",
      "Root Mean Squared Error: 6839487.7700906405\n",
      "Mean Absolute Percentage Error: 0.07166276183558047\n"
     ]
    }
   ],
   "source": [
    "print(\"Mean Squared Error: {}\".format(mse_test))\n",
    "print(\"Root Mean Squared Error: {}\".format(rmse_test))\n",
    "print(\"Mean Absolute Percentage Error: {}\".format(mape_test))"
   ]
  },
  {
   "cell_type": "code",
   "execution_count": 39,
   "id": "caffa378",
   "metadata": {},
   "outputs": [
    {
     "data": {
      "image/png": "[encoded data removed]",
      "text/plain": [
       "<Figure size 432x288 with 1 Axes>"
      ]
     },
     "metadata": {},
     "output_type": "display_data"
    },
    {
     "data": {
      "text/plain": [
       "<Figure size 432x288 with 0 Axes>"
      ]
     },
     "metadata": {},
     "output_type": "display_data"
    }
   ],
   "source": [
    "utils.plot_predicted(y_test_inv, predictions_inv, \"output/vmt_test_predicted.png\")"
   ]
  },
  {
   "cell_type": "code",
   "execution_count": 40,
   "id": "d2e4cb69",
   "metadata": {},
   "outputs": [
    {
     "data": {
      "image/png": "[encoded data removed]",
      "text/plain": [
       "<Figure size 432x288 with 1 Axes>"
      ]
     },
     "metadata": {},
     "output_type": "display_data"
    },
    {
     "data": {
      "text/plain": [
       "<Figure size 432x288 with 0 Axes>"
      ]
     },
     "metadata": {},
     "output_type": "display_data"
    }
   ],
   "source": [
    "utils.plot_predicted(y_inv, total_pred_inv, \"output/vmt_total_predicted.png\")"
   ]
  }
 ],
 "metadata": {
  "kernelspec": {
   "display_name": "Python 3",
   "language": "python",
   "name": "python3"
  },
  "language_info": {
   "codemirror_mode": {
    "name": "ipython",
    "version": 3
   },
   "file_extension": ".py",
   "mimetype": "text/x-python",
   "name": "python",
   "nbconvert_exporter": "python",
   "pygments_lexer": "ipython3",
   "version": "3.8.8"
  }
 },
 "nbformat": 4,
 "nbformat_minor": 5
}

{
 "cells": [
  {
   "cell_type": "code",
   "execution_count": 1,
   "id": "f4667406",
   "metadata": {},
   "outputs": [],
   "source": [
    "import numpy as np\n",
    "import pandas as pd\n",
    "import matplotlib as mpl\n",
    "import matplotlib.pyplot as plt\n",
    "import utils\n",
    "\n",
    "# For LSTM model\n",
    "from tensorflow import keras\n",
    "from keras.models import Sequential\n",
    "from keras.layers import Dense, LSTM, Dropout\n",
    "from keras.callbacks import EarlyStopping\n",
    "from tqdm.keras import TqdmCallback\n",
    "\n",
    "# For hyperopt (parameter optimization)\n",
    "from hyperopt import Trials, STATUS_OK, tpe, fmin, hp\n",
    "from hyperopt.pyll.base import scope  # quniform returns float, some parameters require int; use this to force int\n",
    "\n",
    "# Evaluation metrics\n",
    "from sklearn.metrics import mean_squared_error, mean_absolute_percentage_error\n",
    "\n",
    "%matplotlib inline"
   ]
  },
  {
   "cell_type": "code",
   "execution_count": 2,
   "id": "dc5a3704",
   "metadata": {},
   "outputs": [],
   "source": [
    "def format_data(data, weeks=1):\n",
    "    X_total = data.values[:209, :]\n",
    "\n",
    "    data = X_total[(53-weeks):, :]\n",
    "    print(data.shape)\n",
    "    scaler, values = utils.scale(data)\n",
    "    values = utils.series_to_supervised(values, n_in=weeks, n_out=1, dropnan=True).values\n",
    "\n",
    "    y_scaler, y = utils.scale(data[:, 1].reshape((len(data), 1)))\n",
    "\n",
    "    train = values[:140, :]\n",
    "    valid = values[140:148]\n",
    "    test = values[148:, :]\n",
    "    print(train.shape, valid.shape, test.shape)\n",
    "\n",
    "    features = 13\n",
    "    obs = weeks*features\n",
    "\n",
    "    y = values[:, -features:]\n",
    "\n",
    "    trainX = train[:, :obs]\n",
    "    trainY = train[:, -features:][:, 1]\n",
    "    validX = valid[:, :obs]\n",
    "    validY = valid[:, -features:][:, 1]\n",
    "    testX = test[:, :obs]\n",
    "    testY = test[:, -features:][:, 1]\n",
    "\n",
    "    trainX = trainX.reshape((trainX.shape[0], weeks, features))\n",
    "    validX = validX.reshape((validX.shape[0], weeks, features))\n",
    "    testX = testX.reshape((testX.shape[0], weeks, features))\n",
    "\n",
    "    return trainX, trainY, validX, validY, testX, testY"
   ]
  },
  {
   "cell_type": "code",
   "execution_count": 3,
   "id": "e8e13b5c",
   "metadata": {},
   "outputs": [],
   "source": [
    "def format_scale_data(data, weeks=1):\n",
    "    X_total = data.values[:209, :]\n",
    "\n",
    "    data = X_total[(53-weeks):, :]\n",
    "    print(data.shape)\n",
    "    scaler, values = utils.scale(data)\n",
    "    values = utils.series_to_supervised(values, n_in=weeks, n_out=1, dropnan=True).values\n",
    "\n",
    "    y_scaler, y = utils.scale(data[:, 1].reshape((len(data), 1)))\n",
    "\n",
    "    train = values[:140, :]\n",
    "    valid = values[140:148]\n",
    "    test = values[148:, :]\n",
    "    print(train.shape, valid.shape, test.shape)\n",
    "\n",
    "    features = 13\n",
    "    obs = weeks*features\n",
    "\n",
    "    y = values[:, -features:]\n",
    "\n",
    "    trainX = train[:, :obs]\n",
    "    trainY = train[:, -features:][:, 1]\n",
    "    validX = valid[:, :obs]\n",
    "    validY = valid[:, -features:][:, 1]\n",
    "    testX = test[:, :obs]\n",
    "    testY = test[:, -features:][:, 1]\n",
    "\n",
    "    trainX = trainX.reshape((trainX.shape[0], weeks, features))\n",
    "    validX = validX.reshape((validX.shape[0], weeks, features))\n",
    "    testX = testX.reshape((testX.shape[0], weeks, features))\n",
    "\n",
    "    return trainX, trainY, validX, validY, testX, testY, scaler, y_scaler"
   ]
  },
  {
   "cell_type": "code",
   "execution_count": 8,
   "id": "59153b6e",
   "metadata": {},
   "outputs": [],
   "source": [
    "def run():\n",
    "    def f_nn(params):\n",
    "        # Generate data with given window\n",
    "        saltlake_week = pd.read_csv('../saltlake_week.csv')\n",
    "        data = saltlake_week[['Cases', 'VMT (Veh-Miles)', 'News Sentiment', 'Unemployment Rate', 'PRCP', 'SNWD',\n",
    "                              'Percent_Fully_Vaccinated_5&Older', 'TAVG',\n",
    "                              'Stay at Home', 'Mask', 'School Opening', 'Health Emergency', 'Holiday']]\n",
    "        trainX, trainY, validX, validY, testX, testY = format_data(data=data, weeks=params['weeks'])\n",
    "        \n",
    "        # Keras LSTM model\n",
    "        model = Sequential()\n",
    "\n",
    "        if params['layers'] == 1:\n",
    "            model.add(LSTM(units=params['units'], input_shape=(trainX.shape[1], trainX.shape[2]),\n",
    "                           activation=params['activation']))                \n",
    "            model.add(Dropout(rate=params['dropout']))\n",
    "        else:\n",
    "            # First layer specifies input_shape and returns sequences\n",
    "            model.add(\n",
    "                LSTM(units=params['units'], return_sequences=True, input_shape=(trainX.shape[1], trainX.shape[2]),\n",
    "                        activation=params['activation']))\n",
    "            model.add(Dropout(rate=params['dropout']))\n",
    "            # Middle layers return sequences\n",
    "            for i in range(params['layers'] - 2):\n",
    "                model.add(LSTM(units=params['units'], return_sequences=True, activation=params['activation']))\n",
    "                model.add(Dropout(rate=params['dropout']))\n",
    "            # Last layer doesn't return anything\n",
    "            model.add(LSTM(units=params['units'], activation=params['activation']))\n",
    "            model.add(Dropout(rate=params['dropout']))\n",
    "\n",
    "        model.add(Dense(1))\n",
    "        model.compile(optimizer=keras.optimizers.Adam(learning_rate=params['learning_rate']), loss='mean_squared_error', metrics=['mse'])\n",
    "\n",
    "        es = EarlyStopping(monitor='val_loss', mode='min', verbose=1, patience=10, restore_best_weights=True)\n",
    "\n",
    "        result = model.fit(trainX, trainY, verbose=0, validation_data=(validX, validY),\n",
    "                            batch_size=4,\n",
    "                            epochs=200,\n",
    "                            callbacks=[es, TqdmCallback(verbose=1)]\n",
    "                            )\n",
    "\n",
    "        # get the lowest validation loss of the training epochs\n",
    "        validation_loss = np.amin(result.history['val_loss'])\n",
    "        print('Best validation loss of epoch:', validation_loss)\n",
    "\n",
    "\n",
    "        return {'loss': validation_loss, 'status': STATUS_OK, 'model': model, 'params': params}\n",
    "\n",
    "    # hyperparameters to search over with hyperopt\n",
    "    space = {'dropout': hp.uniform('dropout', 0.01, 0.5),\n",
    "             'units': scope.int(hp.quniform('units', 8, 128, 4)),\n",
    "             'layers': scope.int(hp.quniform('layers', 1, 6, 1)),\n",
    "             'weeks': scope.int(hp.quniform('weeks', 1, 10, 1)),\n",
    "             'activation': hp.choice('activation', ['relu', 'sigmoid', 'tanh']),\n",
    "             'learning_rate': hp.uniform('learning_rate', 0.001, 0.1)\n",
    "             }\n",
    "\n",
    "    trials = Trials()\n",
    "    best = fmin(f_nn, space, algo=tpe.suggest, max_evals=100, trials=trials)\n",
    "\n",
    "    # get best model\n",
    "    best_model = trials.results[np.argmin([r['loss'] for r in trials.results])]['model']\n",
    "    best_params = trials.results[np.argmin([r['loss'] for r in trials.results])]['params']\n",
    "\n",
    "    print(best_params)\n",
    "    print(best_model.summary())\n",
    "    best_model.save('Model/LSTM-2')\n",
    "    \n",
    "    saltlake_week = pd.read_csv('../saltlake_week.csv')\n",
    "    data = saltlake_week[['Cases', 'VMT (Veh-Miles)', 'News Sentiment', 'Unemployment Rate', 'PRCP', 'SNWD',\n",
    "                          'Percent_Fully_Vaccinated_5&Older', 'TAVG', \n",
    "                          'Stay at Home', 'Mask', 'School Opening', 'Health Emergency', 'Holiday']]\n",
    "    trainX, trainY, validX, validY, testX, testY, scaler, y_scaler = format_scale_data(data=data, weeks=best_params['weeks'])\n",
    "    \n",
    "    best_model.evaluate(testX, testY)\n",
    "    \n",
    "    yhat_test = best_model.predict(testX)\n",
    "    yhat_test_inv = y_scaler.inverse_transform(yhat_test).reshape((-1, 1))\n",
    "    testY_inv = y_scaler.inverse_transform(testY.reshape((-1, 1)))\n",
    "    \n",
    "    yhat_train = best_model.predict(trainX).reshape((-1, 1))\n",
    "    yhat_train_inv = y_scaler.inverse_transform(yhat_train)\n",
    "    trainY_inv = y_scaler.inverse_transform(trainY.reshape((-1, 1)))\n",
    "    \n",
    "    print(\"Mean Squared Error: {}\".format(mean_squared_error(testY_inv, yhat_test_inv)))\n",
    "    print(\"Root Mean Squared Error: {}\".format(mean_squared_error(testY_inv, yhat_test_inv, squared=False)))\n",
    "    print(\"Mean Absolute Percentage Error: {}\".format(mean_absolute_percentage_error(testY_inv, yhat_test_inv)))\n",
    "    \n",
    "    plt.figure()\n",
    "    plt.plot(yhat_test_inv, label='Predicted')\n",
    "    plt.plot(testY_inv, label='True')\n",
    "    plt.legend()\n",
    "    plt.show()\n",
    "    \n",
    "    plt.figure()\n",
    "    plt.plot(yhat_train_inv, label='Predicted')\n",
    "    plt.plot(trainY_inv, label='True')\n",
    "    plt.legend()\n",
    "    plt.show()"
   ]
  },
  {
   "cell_type": "code",
   "execution_count": null,
   "id": "27a2ec67",
   "metadata": {
    "scrolled": true
   },
   "outputs": [
    {
     "name": "stdout",
     "output_type": "stream",
     "text": [
      "(166, 13)                                              \n",
      "(140, 143)                                             \n",
      "(8, 143)                                               \n",
      "(8, 143)                                               \n",
      "  0%|          | 0/100 [00:00<?, ?trial/s, best loss=?]"
     ]
    },
    {
     "data": {
      "application/vnd.jupyter.widget-view+json": {
       "model_id": "59f8b43794c84e4ebaf840d96375bde3",
       "version_major": 2,
       "version_minor": 0
      },
      "text/plain": [
       "0epoch [00:00, ?epoch/s]"
      ]
     },
     "metadata": {},
     "output_type": "display_data"
    },
    {
     "data": {
      "application/vnd.jupyter.widget-view+json": {
       "model_id": "",
       "version_major": 2,
       "version_minor": 0
      },
      "text/plain": [
       "0batch [00:00, ?batch/s]"
      ]
     },
     "metadata": {},
     "output_type": "display_data"
    },
    {
     "name": "stdout",
     "output_type": "stream",
     "text": [
      "Restoring model weights from the end of the best epoch: 20.\n",
      "Epoch 00030: early stopping                            \n",
      "Best validation loss of epoch:                         \n",
      "0.0016585537232458591                                  \n",
      "(166, 13)                                                                           \n",
      "(140, 143)                                                                          \n",
      "(8, 143)                                                                            \n",
      "(8, 143)                                                                            \n",
      "  1%|          | 1/100 [00:21<34:49, 21.10s/trial, best loss: 0.0016585537232458591]"
     ]
    },
    {
     "data": {
      "application/vnd.jupyter.widget-view+json": {
       "model_id": "302ca1ad1bad40edaf18506380a16961",
       "version_major": 2,
       "version_minor": 0
      },
      "text/plain": [
       "0epoch [00:00, ?epoch/s]"
      ]
     },
     "metadata": {},
     "output_type": "display_data"
    },
    {
     "data": {
      "application/vnd.jupyter.widget-view+json": {
       "model_id": "",
       "version_major": 2,
       "version_minor": 0
      },
      "text/plain": [
       "0batch [00:00, ?batch/s]"
      ]
     },
     "metadata": {},
     "output_type": "display_data"
    },
    {
     "name": "stdout",
     "output_type": "stream",
     "text": [
      "Restoring model weights from the end of the best epoch: 8.                          \n",
      "Epoch 00018: early stopping                                                         \n",
      "Best validation loss of epoch:                                                      \n",
      "0.003734209109097719                                                                \n",
      "(165, 13)                                                                           \n",
      "(140, 130)                                                                          \n",
      "(8, 130)                                                                            \n",
      "(8, 130)                                                                            \n",
      "  2%|▏         | 2/100 [00:37<29:59, 18.36s/trial, best loss: 0.0016585537232458591]"
     ]
    },
    {
     "data": {
      "application/vnd.jupyter.widget-view+json": {
       "model_id": "1e2e029f33fd47b39324dce14ec7ff0a",
       "version_major": 2,
       "version_minor": 0
      },
      "text/plain": [
       "0epoch [00:00, ?epoch/s]"
      ]
     },
     "metadata": {},
     "output_type": "display_data"
    },
    {
     "data": {
      "application/vnd.jupyter.widget-view+json": {
       "model_id": "",
       "version_major": 2,
       "version_minor": 0
      },
      "text/plain": [
       "0batch [00:00, ?batch/s]"
      ]
     },
     "metadata": {},
     "output_type": "display_data"
    },
    {
     "name": "stdout",
     "output_type": "stream",
     "text": [
      "Restoring model weights from the end of the best epoch: 1.                          \n",
      "Epoch 00011: early stopping                                                         \n",
      "Best validation loss of epoch:                                                      \n",
      "0.004675061441957951                                                                \n",
      "(162, 13)                                                                           \n",
      "(140, 91)                                                                           \n",
      "(8, 91)                                                                             \n",
      "(8, 91)                                                                             \n",
      "  3%|▎         | 3/100 [00:47<23:35, 14.59s/trial, best loss: 0.0016585537232458591]"
     ]
    },
    {
     "data": {
      "application/vnd.jupyter.widget-view+json": {
       "model_id": "502429aefe874268b5cb1ef0c6a392fb",
       "version_major": 2,
       "version_minor": 0
      },
      "text/plain": [
       "0epoch [00:00, ?epoch/s]"
      ]
     },
     "metadata": {},
     "output_type": "display_data"
    },
    {
     "data": {
      "application/vnd.jupyter.widget-view+json": {
       "model_id": "",
       "version_major": 2,
       "version_minor": 0
      },
      "text/plain": [
       "0batch [00:00, ?batch/s]"
      ]
     },
     "metadata": {},
     "output_type": "display_data"
    },
    {
     "name": "stdout",
     "output_type": "stream",
     "text": [
      "Restoring model weights from the end of the best epoch: 2.                          \n",
      "Epoch 00012: early stopping                                                         \n",
      "Best validation loss of epoch:                                                      \n",
      "0.011617100797593594                                                                \n",
      "(159, 13)                                                                           \n",
      "(140, 52)                                                                           \n",
      "(8, 52)                                                                             \n",
      "(8, 52)                                                                             \n",
      "  4%|▍         | 4/100 [01:00<22:02, 13.78s/trial, best loss: 0.0016585537232458591]"
     ]
    },
    {
     "data": {
      "application/vnd.jupyter.widget-view+json": {
       "model_id": "ed07839e4adb40b78e8d734eda66e93a",
       "version_major": 2,
       "version_minor": 0
      },
      "text/plain": [
       "0epoch [00:00, ?epoch/s]"
      ]
     },
     "metadata": {},
     "output_type": "display_data"
    },
    {
     "data": {
      "application/vnd.jupyter.widget-view+json": {
       "model_id": "",
       "version_major": 2,
       "version_minor": 0
      },
      "text/plain": [
       "0batch [00:00, ?batch/s]"
      ]
     },
     "metadata": {},
     "output_type": "display_data"
    },
    {
     "name": "stdout",
     "output_type": "stream",
     "text": [
      "Restoring model weights from the end of the best epoch: 8.                          \n",
      "Epoch 00018: early stopping                                                         \n",
      "Best validation loss of epoch:                                                      \n",
      "0.0015382419805973768                                                               \n",
      "(163, 13)                                                                           \n",
      "(140, 104)                                                                          \n",
      "(8, 104)                                                                            \n",
      "(8, 104)                                                                            \n",
      "  5%|▌         | 5/100 [01:11<20:30, 12.95s/trial, best loss: 0.0015382419805973768]"
     ]
    },
    {
     "data": {
      "application/vnd.jupyter.widget-view+json": {
       "model_id": "318794dc2d5741b496457708841c4ffc",
       "version_major": 2,
       "version_minor": 0
      },
      "text/plain": [
       "0epoch [00:00, ?epoch/s]"
      ]
     },
     "metadata": {},
     "output_type": "display_data"
    },
    {
     "data": {
      "application/vnd.jupyter.widget-view+json": {
       "model_id": "",
       "version_major": 2,
       "version_minor": 0
      },
      "text/plain": [
       "0batch [00:00, ?batch/s]"
      ]
     },
     "metadata": {},
     "output_type": "display_data"
    },
    {
     "name": "stdout",
     "output_type": "stream",
     "text": [
      "Restoring model weights from the end of the best epoch: 11.                         \n",
      "Epoch 00021: early stopping                                                         \n",
      "Best validation loss of epoch:                                                      \n",
      "0.03666067123413086                                                                 \n",
      "(164, 13)                                                                           \n",
      "(140, 117)                                                                          \n",
      "(8, 117)                                                                            \n",
      "(8, 117)                                                                            \n",
      "  6%|▌         | 6/100 [01:21<18:31, 11.83s/trial, best loss: 0.0015382419805973768]"
     ]
    },
    {
     "data": {
      "application/vnd.jupyter.widget-view+json": {
       "model_id": "a0e48bd7b3684b08a5e620e7ab1630b2",
       "version_major": 2,
       "version_minor": 0
      },
      "text/plain": [
       "0epoch [00:00, ?epoch/s]"
      ]
     },
     "metadata": {},
     "output_type": "display_data"
    },
    {
     "data": {
      "application/vnd.jupyter.widget-view+json": {
       "model_id": "",
       "version_major": 2,
       "version_minor": 0
      },
      "text/plain": [
       "0batch [00:00, ?batch/s]"
      ]
     },
     "metadata": {},
     "output_type": "display_data"
    },
    {
     "name": "stdout",
     "output_type": "stream",
     "text": [
      "Restoring model weights from the end of the best epoch: 24.                         \n",
      "Epoch 00034: early stopping                                                         \n",
      "Best validation loss of epoch:                                                      \n",
      "0.001488958252593875                                                                \n",
      "(164, 13)                                                                           \n",
      "(140, 117)                                                                         \n",
      "(8, 117)                                                                           \n",
      "(8, 117)                                                                           \n",
      "  7%|▋         | 7/100 [01:51<27:30, 17.75s/trial, best loss: 0.001488958252593875]"
     ]
    },
    {
     "data": {
      "application/vnd.jupyter.widget-view+json": {
       "model_id": "37fd0730515a40ffac7826b008d7dece",
       "version_major": 2,
       "version_minor": 0
      },
      "text/plain": [
       "0epoch [00:00, ?epoch/s]"
      ]
     },
     "metadata": {},
     "output_type": "display_data"
    },
    {
     "data": {
      "application/vnd.jupyter.widget-view+json": {
       "model_id": "",
       "version_major": 2,
       "version_minor": 0
      },
      "text/plain": [
       "0batch [00:00, ?batch/s]"
      ]
     },
     "metadata": {},
     "output_type": "display_data"
    },
    {
     "name": "stdout",
     "output_type": "stream",
     "text": [
      "Restoring model weights from the end of the best epoch: 16.                        \n",
      "Epoch 00026: early stopping                                                        \n",
      "Best validation loss of epoch:                                                     \n",
      "0.03532072901725769                                                                \n",
      "(158, 13)                                                                          \n",
      "(140, 39)                                                                          \n",
      "(8, 39)                                                                            \n",
      "(8, 39)                                                                            \n",
      "  8%|▊         | 8/100 [02:17<31:25, 20.49s/trial, best loss: 0.001488958252593875]"
     ]
    },
    {
     "data": {
      "application/vnd.jupyter.widget-view+json": {
       "model_id": "ab12cf57af474844a4d1b737cec99567",
       "version_major": 2,
       "version_minor": 0
      },
      "text/plain": [
       "0epoch [00:00, ?epoch/s]"
      ]
     },
     "metadata": {},
     "output_type": "display_data"
    },
    {
     "data": {
      "application/vnd.jupyter.widget-view+json": {
       "model_id": "",
       "version_major": 2,
       "version_minor": 0
      },
      "text/plain": [
       "0batch [00:00, ?batch/s]"
      ]
     },
     "metadata": {},
     "output_type": "display_data"
    },
    {
     "name": "stdout",
     "output_type": "stream",
     "text": [
      "Restoring model weights from the end of the best epoch: 17.                        \n",
      "Epoch 00027: early stopping                                                        \n",
      "Best validation loss of epoch:                                                     \n",
      "0.0015304824337363243                                                              \n",
      "(161, 13)                                                                          \n",
      "(140, 78)                                                                          \n",
      "(8, 78)                                                                            \n",
      "(8, 78)                                                                            \n",
      "  9%|▉         | 9/100 [02:33<28:47, 18.98s/trial, best loss: 0.001488958252593875]"
     ]
    },
    {
     "data": {
      "application/vnd.jupyter.widget-view+json": {
       "model_id": "c379fca0433a4cc9a8b893bc536e4623",
       "version_major": 2,
       "version_minor": 0
      },
      "text/plain": [
       "0epoch [00:00, ?epoch/s]"
      ]
     },
     "metadata": {},
     "output_type": "display_data"
    },
    {
     "data": {
      "application/vnd.jupyter.widget-view+json": {
       "model_id": "",
       "version_major": 2,
       "version_minor": 0
      },
      "text/plain": [
       "0batch [00:00, ?batch/s]"
      ]
     },
     "metadata": {},
     "output_type": "display_data"
    },
    {
     "name": "stdout",
     "output_type": "stream",
     "text": [
      "Restoring model weights from the end of the best epoch: 3.                         \n",
      "Epoch 00013: early stopping                                                        \n",
      "Best validation loss of epoch:                                                     \n",
      "0.008743839338421822                                                               \n",
      "(160, 13)                                                                           \n",
      "(140, 65)                                                                           \n",
      "(8, 65)                                                                             \n",
      "(8, 65)                                                                             \n",
      " 10%|█         | 10/100 [02:46<25:51, 17.24s/trial, best loss: 0.001488958252593875]"
     ]
    },
    {
     "data": {
      "application/vnd.jupyter.widget-view+json": {
       "model_id": "1d841c49f4c348a59ad56f184d42fb61",
       "version_major": 2,
       "version_minor": 0
      },
      "text/plain": [
       "0epoch [00:00, ?epoch/s]"
      ]
     },
     "metadata": {},
     "output_type": "display_data"
    },
    {
     "data": {
      "application/vnd.jupyter.widget-view+json": {
       "model_id": "",
       "version_major": 2,
       "version_minor": 0
      },
      "text/plain": [
       "0batch [00:00, ?batch/s]"
      ]
     },
     "metadata": {},
     "output_type": "display_data"
    },
    {
     "name": "stdout",
     "output_type": "stream",
     "text": [
      "Restoring model weights from the end of the best epoch: 15.                         \n",
      "Epoch 00025: early stopping                                                         \n",
      "Best validation loss of epoch:                                                      \n",
      "0.0019833645783364773                                                               \n",
      "(157, 13)                                                                           \n",
      "(140, 26)                                                                           \n",
      "(8, 26)                                                                             \n",
      "(8, 26)                                                                             \n",
      " 11%|█         | 11/100 [03:00<24:02, 16.21s/trial, best loss: 0.001488958252593875]"
     ]
    },
    {
     "data": {
      "application/vnd.jupyter.widget-view+json": {
       "model_id": "fbb510bac6da4eac995be40ad4c987ad",
       "version_major": 2,
       "version_minor": 0
      },
      "text/plain": [
       "0epoch [00:00, ?epoch/s]"
      ]
     },
     "metadata": {},
     "output_type": "display_data"
    },
    {
     "data": {
      "application/vnd.jupyter.widget-view+json": {
       "model_id": "",
       "version_major": 2,
       "version_minor": 0
      },
      "text/plain": [
       "0batch [00:00, ?batch/s]"
      ]
     },
     "metadata": {},
     "output_type": "display_data"
    },
    {
     "name": "stdout",
     "output_type": "stream",
     "text": [
      "Restoring model weights from the end of the best epoch: 21.                         \n",
      "Epoch 00031: early stopping                                                         \n",
      "Best validation loss of epoch:                                                      \n",
      "0.0013708937913179398                                                               \n",
      "(161, 13)                                                                            \n",
      "(140, 78)                                                                            \n",
      "(8, 78)                                                                              \n",
      "(8, 78)                                                                              \n",
      " 12%|█▏        | 12/100 [03:10<21:09, 14.43s/trial, best loss: 0.0013708937913179398]"
     ]
    },
    {
     "data": {
      "application/vnd.jupyter.widget-view+json": {
       "model_id": "1318c4b29763404ea9e3269c3a94ee75",
       "version_major": 2,
       "version_minor": 0
      },
      "text/plain": [
       "0epoch [00:00, ?epoch/s]"
      ]
     },
     "metadata": {},
     "output_type": "display_data"
    },
    {
     "data": {
      "application/vnd.jupyter.widget-view+json": {
       "model_id": "",
       "version_major": 2,
       "version_minor": 0
      },
      "text/plain": [
       "0batch [00:00, ?batch/s]"
      ]
     },
     "metadata": {},
     "output_type": "display_data"
    },
    {
     "name": "stdout",
     "output_type": "stream",
     "text": [
      "Restoring model weights from the end of the best epoch: 8.                           \n",
      "Epoch 00018: early stopping                                                          \n",
      "Best validation loss of epoch:                                                       \n",
      "0.0014646050985902548                                                                \n",
      "(162, 13)                                                                            \n",
      "(140, 91)                                                                            \n",
      "(8, 91)                                                                              \n",
      "(8, 91)                                                                              \n",
      " 13%|█▎        | 13/100 [03:28<22:23, 15.44s/trial, best loss: 0.0013708937913179398]"
     ]
    },
    {
     "data": {
      "application/vnd.jupyter.widget-view+json": {
       "model_id": "9a9989b8e1014386a98af24832027a6e",
       "version_major": 2,
       "version_minor": 0
      },
      "text/plain": [
       "0epoch [00:00, ?epoch/s]"
      ]
     },
     "metadata": {},
     "output_type": "display_data"
    },
    {
     "data": {
      "application/vnd.jupyter.widget-view+json": {
       "model_id": "",
       "version_major": 2,
       "version_minor": 0
      },
      "text/plain": [
       "0batch [00:00, ?batch/s]"
      ]
     },
     "metadata": {},
     "output_type": "display_data"
    },
    {
     "name": "stdout",
     "output_type": "stream",
     "text": [
      "Restoring model weights from the end of the best epoch: 3.                           \n",
      "Epoch 00013: early stopping                                                          \n",
      "Best validation loss of epoch:                                                       \n",
      "0.0008586910553276539                                                                \n",
      "(158, 13)                                                                            \n",
      "(140, 39)                                                                            \n",
      "(8, 39)                                                                              \n",
      "(8, 39)                                                                              \n",
      " 14%|█▍        | 14/100 [03:34<18:00, 12.56s/trial, best loss: 0.0008586910553276539]"
     ]
    },
    {
     "data": {
      "application/vnd.jupyter.widget-view+json": {
       "model_id": "66ccfcc2580f4477957ee35ee679987c",
       "version_major": 2,
       "version_minor": 0
      },
      "text/plain": [
       "0epoch [00:00, ?epoch/s]"
      ]
     },
     "metadata": {},
     "output_type": "display_data"
    },
    {
     "data": {
      "application/vnd.jupyter.widget-view+json": {
       "model_id": "",
       "version_major": 2,
       "version_minor": 0
      },
      "text/plain": [
       "0batch [00:00, ?batch/s]"
      ]
     },
     "metadata": {},
     "output_type": "display_data"
    },
    {
     "name": "stdout",
     "output_type": "stream",
     "text": [
      "Restoring model weights from the end of the best epoch: 9.                           \n",
      "Epoch 00019: early stopping                                                          \n",
      "Best validation loss of epoch:                                                       \n",
      "0.002205687342211604                                                                 \n",
      "(158, 13)                                                                            \n",
      "(140, 39)                                                                            \n",
      "(8, 39)                                                                              \n",
      "(8, 39)                                                                              \n",
      " 15%|█▌        | 15/100 [03:53<19:52, 14.03s/trial, best loss: 0.0008586910553276539]"
     ]
    },
    {
     "data": {
      "application/vnd.jupyter.widget-view+json": {
       "model_id": "3b0603f0f83647c0b8873fd83866884c",
       "version_major": 2,
       "version_minor": 0
      },
      "text/plain": [
       "0epoch [00:00, ?epoch/s]"
      ]
     },
     "metadata": {},
     "output_type": "display_data"
    },
    {
     "data": {
      "application/vnd.jupyter.widget-view+json": {
       "model_id": "",
       "version_major": 2,
       "version_minor": 0
      },
      "text/plain": [
       "0batch [00:00, ?batch/s]"
      ]
     },
     "metadata": {},
     "output_type": "display_data"
    },
    {
     "name": "stdout",
     "output_type": "stream",
     "text": [
      "Restoring model weights from the end of the best epoch: 12.                          \n",
      "Epoch 00022: early stopping                                                          \n",
      "Best validation loss of epoch:                                                       \n",
      "0.019231289625167847                                                                 \n",
      "(160, 13)                                                                            \n",
      "(140, 65)                                                                            \n",
      "(8, 65)                                                                              \n",
      "(8, 65)                                                                              \n",
      " 16%|█▌        | 16/100 [04:19<25:10, 17.98s/trial, best loss: 0.0008586910553276539]"
     ]
    },
    {
     "data": {
      "application/vnd.jupyter.widget-view+json": {
       "model_id": "99354a42b9074915a69e6f361811bd1b",
       "version_major": 2,
       "version_minor": 0
      },
      "text/plain": [
       "0epoch [00:00, ?epoch/s]"
      ]
     },
     "metadata": {},
     "output_type": "display_data"
    },
    {
     "data": {
      "application/vnd.jupyter.widget-view+json": {
       "model_id": "",
       "version_major": 2,
       "version_minor": 0
      },
      "text/plain": [
       "0batch [00:00, ?batch/s]"
      ]
     },
     "metadata": {},
     "output_type": "display_data"
    },
    {
     "name": "stdout",
     "output_type": "stream",
     "text": [
      "Restoring model weights from the end of the best epoch: 7.                           \n",
      "Epoch 00017: early stopping                                                          \n",
      "Best validation loss of epoch:                                                       \n",
      "0.0015882761217653751                                                                \n",
      "(164, 13)                                                                            \n",
      "(140, 117)                                                                           \n",
      "(8, 117)                                                                             \n",
      "(8, 117)                                                                             \n",
      " 17%|█▋        | 17/100 [04:25<20:00, 14.46s/trial, best loss: 0.0008586910553276539]"
     ]
    },
    {
     "data": {
      "application/vnd.jupyter.widget-view+json": {
       "model_id": "a07bea256d3c4289b2d39917efdcb414",
       "version_major": 2,
       "version_minor": 0
      },
      "text/plain": [
       "0epoch [00:00, ?epoch/s]"
      ]
     },
     "metadata": {},
     "output_type": "display_data"
    },
    {
     "data": {
      "application/vnd.jupyter.widget-view+json": {
       "model_id": "",
       "version_major": 2,
       "version_minor": 0
      },
      "text/plain": [
       "0batch [00:00, ?batch/s]"
      ]
     },
     "metadata": {},
     "output_type": "display_data"
    },
    {
     "name": "stdout",
     "output_type": "stream",
     "text": [
      "Restoring model weights from the end of the best epoch: 32.                          \n",
      "Epoch 00042: early stopping                                                          \n",
      "Best validation loss of epoch:                                                       \n",
      "0.044290222227573395                                                                 \n",
      "(161, 13)                                                                            \n",
      "(140, 78)                                                                            \n",
      "(8, 78)                                                                              \n",
      "(8, 78)                                                                              \n",
      " 18%|█▊        | 18/100 [05:30<40:33, 29.68s/trial, best loss: 0.0008586910553276539]"
     ]
    },
    {
     "data": {
      "application/vnd.jupyter.widget-view+json": {
       "model_id": "c1a72f6f7c9b4f42801427bbe49e0450",
       "version_major": 2,
       "version_minor": 0
      },
      "text/plain": [
       "0epoch [00:00, ?epoch/s]"
      ]
     },
     "metadata": {},
     "output_type": "display_data"
    },
    {
     "data": {
      "application/vnd.jupyter.widget-view+json": {
       "model_id": "",
       "version_major": 2,
       "version_minor": 0
      },
      "text/plain": [
       "0batch [00:00, ?batch/s]"
      ]
     },
     "metadata": {},
     "output_type": "display_data"
    },
    {
     "name": "stdout",
     "output_type": "stream",
     "text": [
      "Restoring model weights from the end of the best epoch: 8.                           \n",
      "Epoch 00018: early stopping                                                          \n",
      "Best validation loss of epoch:                                                       \n",
      "0.022610491141676903                                                                 \n",
      "(160, 13)                                                                            \n",
      "(140, 65)                                                                            \n",
      "(8, 65)                                                                              \n",
      "(8, 65)                                                                              \n",
      " 19%|█▉        | 19/100 [05:53<37:26, 27.73s/trial, best loss: 0.0008586910553276539]"
     ]
    },
    {
     "data": {
      "application/vnd.jupyter.widget-view+json": {
       "model_id": "a730916c03bc4b3984cb3ca6077afa6f",
       "version_major": 2,
       "version_minor": 0
      },
      "text/plain": [
       "0epoch [00:00, ?epoch/s]"
      ]
     },
     "metadata": {},
     "output_type": "display_data"
    },
    {
     "data": {
      "application/vnd.jupyter.widget-view+json": {
       "model_id": "",
       "version_major": 2,
       "version_minor": 0
      },
      "text/plain": [
       "0batch [00:00, ?batch/s]"
      ]
     },
     "metadata": {},
     "output_type": "display_data"
    },
    {
     "name": "stdout",
     "output_type": "stream",
     "text": [
      "Restoring model weights from the end of the best epoch: 5.                           \n",
      "Epoch 00015: early stopping                                                          \n",
      "Best validation loss of epoch:                                                       \n",
      "0.014088334515690804                                                                 \n",
      "(162, 13)                                                                            \n",
      "(140, 91)                                                                            \n",
      "(8, 91)                                                                              \n",
      "(8, 91)                                                                              \n",
      " 20%|██        | 20/100 [06:06<30:52, 23.15s/trial, best loss: 0.0008586910553276539]"
     ]
    },
    {
     "data": {
      "application/vnd.jupyter.widget-view+json": {
       "model_id": "23d7b90fb849487b98ea8b5c03ada67c",
       "version_major": 2,
       "version_minor": 0
      },
      "text/plain": [
       "0epoch [00:00, ?epoch/s]"
      ]
     },
     "metadata": {},
     "output_type": "display_data"
    },
    {
     "data": {
      "application/vnd.jupyter.widget-view+json": {
       "model_id": "",
       "version_major": 2,
       "version_minor": 0
      },
      "text/plain": [
       "0batch [00:00, ?batch/s]"
      ]
     },
     "metadata": {},
     "output_type": "display_data"
    },
    {
     "name": "stdout",
     "output_type": "stream",
     "text": [
      "Restoring model weights from the end of the best epoch: 5.                           \n",
      "Epoch 00015: early stopping                                                          \n",
      "Best validation loss of epoch:                                                       \n",
      "0.0016170948510989547                                                                \n",
      "(163, 13)                                                                            \n",
      "(140, 104)                                                                           \n",
      "(8, 104)                                                                             \n",
      "(8, 104)                                                                             \n",
      " 21%|██        | 21/100 [06:13<24:08, 18.34s/trial, best loss: 0.0008586910553276539]"
     ]
    },
    {
     "data": {
      "application/vnd.jupyter.widget-view+json": {
       "model_id": "cf2e79d5106a45a1970b00ed360d84d0",
       "version_major": 2,
       "version_minor": 0
      },
      "text/plain": [
       "0epoch [00:00, ?epoch/s]"
      ]
     },
     "metadata": {},
     "output_type": "display_data"
    },
    {
     "data": {
      "application/vnd.jupyter.widget-view+json": {
       "model_id": "",
       "version_major": 2,
       "version_minor": 0
      },
      "text/plain": [
       "0batch [00:00, ?batch/s]"
      ]
     },
     "metadata": {},
     "output_type": "display_data"
    },
    {
     "name": "stdout",
     "output_type": "stream",
     "text": [
      "Restoring model weights from the end of the best epoch: 11.                          \n",
      "Epoch 00021: early stopping                                                          \n",
      "Best validation loss of epoch:                                                       \n",
      "0.002261543180793524                                                                 \n",
      "(157, 13)                                                                            \n",
      "(140, 26)                                                                            \n",
      "(8, 26)                                                                              \n",
      "(8, 26)                                                                              \n",
      " 22%|██▏       | 22/100 [06:20<19:35, 15.06s/trial, best loss: 0.0008586910553276539]"
     ]
    },
    {
     "data": {
      "application/vnd.jupyter.widget-view+json": {
       "model_id": "611bbc961a914cec9d9d8cf3a4b9ff48",
       "version_major": 2,
       "version_minor": 0
      },
      "text/plain": [
       "0epoch [00:00, ?epoch/s]"
      ]
     },
     "metadata": {},
     "output_type": "display_data"
    },
    {
     "data": {
      "application/vnd.jupyter.widget-view+json": {
       "model_id": "",
       "version_major": 2,
       "version_minor": 0
      },
      "text/plain": [
       "0batch [00:00, ?batch/s]"
      ]
     },
     "metadata": {},
     "output_type": "display_data"
    },
    {
     "name": "stdout",
     "output_type": "stream",
     "text": [
      "Restoring model weights from the end of the best epoch: 4.                           \n",
      "Epoch 00014: early stopping                                                          \n",
      "Best validation loss of epoch:                                                       \n",
      "0.0017281153704971075                                                                \n",
      "(163, 13)                                                                            \n",
      "(140, 104)                                                                           \n",
      "(8, 104)                                                                             \n",
      "(8, 104)                                                                             \n",
      " 23%|██▎       | 23/100 [06:24<15:05, 11.76s/trial, best loss: 0.0008586910553276539]"
     ]
    },
    {
     "data": {
      "application/vnd.jupyter.widget-view+json": {
       "model_id": "3d3277534aeb40d4a9bb60cfb5bb08a5",
       "version_major": 2,
       "version_minor": 0
      },
      "text/plain": [
       "0epoch [00:00, ?epoch/s]"
      ]
     },
     "metadata": {},
     "output_type": "display_data"
    },
    {
     "data": {
      "application/vnd.jupyter.widget-view+json": {
       "model_id": "",
       "version_major": 2,
       "version_minor": 0
      },
      "text/plain": [
       "0batch [00:00, ?batch/s]"
      ]
     },
     "metadata": {},
     "output_type": "display_data"
    },
    {
     "name": "stdout",
     "output_type": "stream",
     "text": [
      "Restoring model weights from the end of the best epoch: 17.                          \n",
      "Epoch 00027: early stopping                                                          \n",
      "Best validation loss of epoch:                                                       \n",
      "0.0039101531729102135                                                                \n",
      "(157, 13)                                                                            \n",
      "(140, 26)                                                                            \n",
      "(8, 26)                                                                              \n",
      "(8, 26)                                                                              \n",
      " 24%|██▍       | 24/100 [06:36<14:47, 11.68s/trial, best loss: 0.0008586910553276539]"
     ]
    },
    {
     "data": {
      "application/vnd.jupyter.widget-view+json": {
       "model_id": "07b42970c88343ffa70e62b5ecbbaa01",
       "version_major": 2,
       "version_minor": 0
      },
      "text/plain": [
       "0epoch [00:00, ?epoch/s]"
      ]
     },
     "metadata": {},
     "output_type": "display_data"
    },
    {
     "data": {
      "application/vnd.jupyter.widget-view+json": {
       "model_id": "",
       "version_major": 2,
       "version_minor": 0
      },
      "text/plain": [
       "0batch [00:00, ?batch/s]"
      ]
     },
     "metadata": {},
     "output_type": "display_data"
    },
    {
     "name": "stdout",
     "output_type": "stream",
     "text": [
      "Restoring model weights from the end of the best epoch: 35.                          \n",
      "Epoch 00045: early stopping                                                          \n",
      "Best validation loss of epoch:                                                       \n",
      "0.0012007530312985182                                                                \n",
      "(159, 13)                                                                            \n",
      "(140, 52)                                                                            \n",
      "(8, 52)                                                                              \n",
      "(8, 52)                                                                              \n",
      " 25%|██▌       | 25/100 [06:52<16:16, 13.02s/trial, best loss: 0.0008586910553276539]"
     ]
    },
    {
     "data": {
      "application/vnd.jupyter.widget-view+json": {
       "model_id": "54e8ec0917494a6b9887be7770a09840",
       "version_major": 2,
       "version_minor": 0
      },
      "text/plain": [
       "0epoch [00:00, ?epoch/s]"
      ]
     },
     "metadata": {},
     "output_type": "display_data"
    },
    {
     "data": {
      "application/vnd.jupyter.widget-view+json": {
       "model_id": "",
       "version_major": 2,
       "version_minor": 0
      },
      "text/plain": [
       "0batch [00:00, ?batch/s]"
      ]
     },
     "metadata": {},
     "output_type": "display_data"
    },
    {
     "name": "stdout",
     "output_type": "stream",
     "text": [
      "Restoring model weights from the end of the best epoch: 1.                           \n",
      "Epoch 00011: early stopping                                                          \n",
      "Best validation loss of epoch:                                                       \n",
      "0.03606249392032623                                                                  \n",
      "(162, 13)                                                                            \n",
      "(140, 91)                                                                            \n",
      "(8, 91)                                                                              \n",
      "(8, 91)                                                                              \n",
      " 26%|██▌       | 26/100 [07:08<17:14, 13.97s/trial, best loss: 0.0008586910553276539]"
     ]
    },
    {
     "data": {
      "application/vnd.jupyter.widget-view+json": {
       "model_id": "6c350e5542eb443082da7550fe699252",
       "version_major": 2,
       "version_minor": 0
      },
      "text/plain": [
       "0epoch [00:00, ?epoch/s]"
      ]
     },
     "metadata": {},
     "output_type": "display_data"
    },
    {
     "data": {
      "application/vnd.jupyter.widget-view+json": {
       "model_id": "",
       "version_major": 2,
       "version_minor": 0
      },
      "text/plain": [
       "0batch [00:00, ?batch/s]"
      ]
     },
     "metadata": {},
     "output_type": "display_data"
    },
    {
     "name": "stdout",
     "output_type": "stream",
     "text": [
      "Restoring model weights from the end of the best epoch: 11.                          \n",
      "Epoch 00021: early stopping                                                          \n",
      "Best validation loss of epoch:                                                       \n",
      "0.010744175873696804                                                                 \n",
      "(159, 13)                                                                            \n",
      "(140, 52)                                                                            \n",
      "(8, 52)                                                                              \n",
      "(8, 52)                                                                              \n",
      " 27%|██▋       | 27/100 [07:24<17:40, 14.52s/trial, best loss: 0.0008586910553276539]"
     ]
    },
    {
     "data": {
      "application/vnd.jupyter.widget-view+json": {
       "model_id": "a7e2ca106d64451194b31a0c19e96064",
       "version_major": 2,
       "version_minor": 0
      },
      "text/plain": [
       "0epoch [00:00, ?epoch/s]"
      ]
     },
     "metadata": {},
     "output_type": "display_data"
    },
    {
     "data": {
      "application/vnd.jupyter.widget-view+json": {
       "model_id": "",
       "version_major": 2,
       "version_minor": 0
      },
      "text/plain": [
       "0batch [00:00, ?batch/s]"
      ]
     },
     "metadata": {},
     "output_type": "display_data"
    },
    {
     "name": "stdout",
     "output_type": "stream",
     "text": [
      "Restoring model weights from the end of the best epoch: 14.                          \n",
      "Epoch 00024: early stopping                                                          \n",
      "Best validation loss of epoch:                                                       \n",
      "0.0015679397620260715                                                                \n",
      "(166, 13)                                                                            \n",
      "(140, 143)                                                                           \n",
      "(8, 143)                                                                             \n",
      "(8, 143)                                                                             \n",
      " 28%|██▊       | 28/100 [07:39<17:40, 14.73s/trial, best loss: 0.0008586910553276539]"
     ]
    },
    {
     "data": {
      "application/vnd.jupyter.widget-view+json": {
       "model_id": "928176a847d242ba8a3dbb64c6d53494",
       "version_major": 2,
       "version_minor": 0
      },
      "text/plain": [
       "0epoch [00:00, ?epoch/s]"
      ]
     },
     "metadata": {},
     "output_type": "display_data"
    },
    {
     "data": {
      "application/vnd.jupyter.widget-view+json": {
       "model_id": "",
       "version_major": 2,
       "version_minor": 0
      },
      "text/plain": [
       "0batch [00:00, ?batch/s]"
      ]
     },
     "metadata": {},
     "output_type": "display_data"
    },
    {
     "name": "stdout",
     "output_type": "stream",
     "text": [
      "Restoring model weights from the end of the best epoch: 3.                           \n",
      "Epoch 00013: early stopping                                                          \n",
      "Best validation loss of epoch:                                                       \n",
      "0.0018669071141630411                                                                \n",
      "(165, 13)                                                                            \n",
      "(140, 130)                                                                           \n",
      "(8, 130)                                                                             \n",
      "(8, 130)                                                                             \n",
      " 29%|██▉       | 29/100 [08:14<24:30, 20.72s/trial, best loss: 0.0008586910553276539]"
     ]
    },
    {
     "data": {
      "application/vnd.jupyter.widget-view+json": {
       "model_id": "a67f970cc7af413880f9ffe61a15dab6",
       "version_major": 2,
       "version_minor": 0
      },
      "text/plain": [
       "0epoch [00:00, ?epoch/s]"
      ]
     },
     "metadata": {},
     "output_type": "display_data"
    },
    {
     "data": {
      "application/vnd.jupyter.widget-view+json": {
       "model_id": "",
       "version_major": 2,
       "version_minor": 0
      },
      "text/plain": [
       "0batch [00:00, ?batch/s]"
      ]
     },
     "metadata": {},
     "output_type": "display_data"
    },
    {
     "name": "stdout",
     "output_type": "stream",
     "text": [
      "Restoring model weights from the end of the best epoch: 3.                           \n",
      "Epoch 00013: early stopping                                                          \n",
      "Best validation loss of epoch:                                                       \n",
      "0.02138642966747284                                                                  \n",
      "(163, 13)                                                                            \n",
      "(140, 104)                                                                           \n",
      "(8, 104)                                                                             \n",
      "(8, 104)                                                                             \n",
      " 30%|███       | 30/100 [08:27<21:31, 18.45s/trial, best loss: 0.0008586910553276539]"
     ]
    },
    {
     "data": {
      "application/vnd.jupyter.widget-view+json": {
       "model_id": "41936745ac7c476c8a3ce256dfe64642",
       "version_major": 2,
       "version_minor": 0
      },
      "text/plain": [
       "0epoch [00:00, ?epoch/s]"
      ]
     },
     "metadata": {},
     "output_type": "display_data"
    },
    {
     "data": {
      "application/vnd.jupyter.widget-view+json": {
       "model_id": "",
       "version_major": 2,
       "version_minor": 0
      },
      "text/plain": [
       "0batch [00:00, ?batch/s]"
      ]
     },
     "metadata": {},
     "output_type": "display_data"
    },
    {
     "name": "stdout",
     "output_type": "stream",
     "text": [
      "Restoring model weights from the end of the best epoch: 3.                           \n",
      "Epoch 00013: early stopping                                                          \n",
      "Best validation loss of epoch:                                                       \n",
      "0.0022707695607095957                                                                \n",
      "(165, 13)                                                                            \n",
      "(140, 130)                                                                           \n",
      "(8, 130)                                                                             \n",
      "(8, 130)                                                                             \n",
      " 31%|███       | 31/100 [08:46<21:28, 18.67s/trial, best loss: 0.0008586910553276539]"
     ]
    },
    {
     "data": {
      "application/vnd.jupyter.widget-view+json": {
       "model_id": "62cd4b330c0c499bad3bff1630ac99d1",
       "version_major": 2,
       "version_minor": 0
      },
      "text/plain": [
       "0epoch [00:00, ?epoch/s]"
      ]
     },
     "metadata": {},
     "output_type": "display_data"
    },
    {
     "data": {
      "application/vnd.jupyter.widget-view+json": {
       "model_id": "",
       "version_major": 2,
       "version_minor": 0
      },
      "text/plain": [
       "0batch [00:00, ?batch/s]"
      ]
     },
     "metadata": {},
     "output_type": "display_data"
    },
    {
     "name": "stdout",
     "output_type": "stream",
     "text": [
      "Restoring model weights from the end of the best epoch: 13.                          \n",
      "Epoch 00023: early stopping                                                          \n",
      "Best validation loss of epoch:                                                       \n",
      "0.0025081366766244173                                                                \n",
      "(162, 13)                                                                            \n",
      "(140, 91)                                                                            \n",
      "(8, 91)                                                                              \n",
      "(8, 91)                                                                              \n",
      " 32%|███▏      | 32/100 [08:52<16:45, 14.79s/trial, best loss: 0.0008586910553276539]"
     ]
    },
    {
     "data": {
      "application/vnd.jupyter.widget-view+json": {
       "model_id": "13bc257d7b7c4f28a0eff1a989795451",
       "version_major": 2,
       "version_minor": 0
      },
      "text/plain": [
       "0epoch [00:00, ?epoch/s]"
      ]
     },
     "metadata": {},
     "output_type": "display_data"
    },
    {
     "data": {
      "application/vnd.jupyter.widget-view+json": {
       "model_id": "",
       "version_major": 2,
       "version_minor": 0
      },
      "text/plain": [
       "0batch [00:00, ?batch/s]"
      ]
     },
     "metadata": {},
     "output_type": "display_data"
    },
    {
     "name": "stdout",
     "output_type": "stream",
     "text": [
      "Restoring model weights from the end of the best epoch: 11.                          \n",
      "Epoch 00021: early stopping                                                          \n",
      "Best validation loss of epoch:                                                       \n",
      "0.0010863939533010125                                                                \n",
      "(162, 13)                                                                            \n",
      "(140, 91)                                                                            \n",
      "(8, 91)                                                                              \n",
      "(8, 91)                                                                              \n",
      " 33%|███▎      | 33/100 [09:18<20:20, 18.22s/trial, best loss: 0.0008586910553276539]"
     ]
    },
    {
     "data": {
      "application/vnd.jupyter.widget-view+json": {
       "model_id": "03499743eecc405c838f29f18d994a7d",
       "version_major": 2,
       "version_minor": 0
      },
      "text/plain": [
       "0epoch [00:00, ?epoch/s]"
      ]
     },
     "metadata": {},
     "output_type": "display_data"
    },
    {
     "data": {
      "application/vnd.jupyter.widget-view+json": {
       "model_id": "",
       "version_major": 2,
       "version_minor": 0
      },
      "text/plain": [
       "0batch [00:00, ?batch/s]"
      ]
     },
     "metadata": {},
     "output_type": "display_data"
    },
    {
     "name": "stdout",
     "output_type": "stream",
     "text": [
      "Restoring model weights from the end of the best epoch: 6.                           \n",
      "Epoch 00016: early stopping                                                          \n",
      "Best validation loss of epoch:                                                       \n",
      "0.0023488798178732395                                                                \n",
      "(161, 13)                                                                            \n",
      "(140, 78)                                                                            \n",
      "(8, 78)                                                                              \n",
      "(8, 78)                                                                              \n",
      " 34%|███▍      | 34/100 [09:25<16:17, 14.81s/trial, best loss: 0.0008586910553276539]"
     ]
    },
    {
     "data": {
      "application/vnd.jupyter.widget-view+json": {
       "model_id": "feece9bc398a42c7a36c835e26db44dd",
       "version_major": 2,
       "version_minor": 0
      },
      "text/plain": [
       "0epoch [00:00, ?epoch/s]"
      ]
     },
     "metadata": {},
     "output_type": "display_data"
    },
    {
     "data": {
      "application/vnd.jupyter.widget-view+json": {
       "model_id": "",
       "version_major": 2,
       "version_minor": 0
      },
      "text/plain": [
       "0batch [00:00, ?batch/s]"
      ]
     },
     "metadata": {},
     "output_type": "display_data"
    },
    {
     "name": "stdout",
     "output_type": "stream",
     "text": [
      "Restoring model weights from the end of the best epoch: 7.                           \n",
      "Epoch 00017: early stopping                                                          \n",
      "Best validation loss of epoch:                                                       \n",
      "0.0017818198539316654                                                                \n",
      "(164, 13)                                                                            \n",
      "(140, 117)                                                                           \n",
      "(8, 117)                                                                             \n",
      "(8, 117)                                                                             \n",
      " 35%|███▌      | 35/100 [09:35<14:21, 13.25s/trial, best loss: 0.0008586910553276539]"
     ]
    },
    {
     "data": {
      "application/vnd.jupyter.widget-view+json": {
       "model_id": "720e55854dcf4fda8e414bcbd2bc9389",
       "version_major": 2,
       "version_minor": 0
      },
      "text/plain": [
       "0epoch [00:00, ?epoch/s]"
      ]
     },
     "metadata": {},
     "output_type": "display_data"
    },
    {
     "data": {
      "application/vnd.jupyter.widget-view+json": {
       "model_id": "",
       "version_major": 2,
       "version_minor": 0
      },
      "text/plain": [
       "0batch [00:00, ?batch/s]"
      ]
     },
     "metadata": {},
     "output_type": "display_data"
    },
    {
     "name": "stdout",
     "output_type": "stream",
     "text": [
      "Restoring model weights from the end of the best epoch: 19.                          \n",
      "Epoch 00029: early stopping                                                          \n",
      "Best validation loss of epoch:                                                       \n",
      "0.001509837806224823                                                                 \n",
      "(162, 13)                                                                            \n",
      "(140, 91)                                                                            \n",
      "(8, 91)                                                                              \n",
      "(8, 91)                                                                              \n",
      " 36%|███▌      | 36/100 [09:56<16:38, 15.60s/trial, best loss: 0.0008586910553276539]"
     ]
    },
    {
     "data": {
      "application/vnd.jupyter.widget-view+json": {
       "model_id": "4bf29a1af1584b4ab5bd9fa75133dd98",
       "version_major": 2,
       "version_minor": 0
      },
      "text/plain": [
       "0epoch [00:00, ?epoch/s]"
      ]
     },
     "metadata": {},
     "output_type": "display_data"
    },
    {
     "data": {
      "application/vnd.jupyter.widget-view+json": {
       "model_id": "",
       "version_major": 2,
       "version_minor": 0
      },
      "text/plain": [
       "0batch [00:00, ?batch/s]"
      ]
     },
     "metadata": {},
     "output_type": "display_data"
    },
    {
     "name": "stdout",
     "output_type": "stream",
     "text": [
      "Restoring model weights from the end of the best epoch: 11.                          \n",
      "Epoch 00021: early stopping                                                          \n",
      "Best validation loss of epoch:                                                       \n",
      "0.0019528937991708517                                                                \n",
      "(163, 13)                                                                            \n",
      "(140, 104)                                                                           \n",
      "(8, 104)                                                                             \n",
      "(8, 104)                                                                             \n",
      " 37%|███▋      | 37/100 [10:06<14:47, 14.08s/trial, best loss: 0.0008586910553276539]"
     ]
    },
    {
     "data": {
      "application/vnd.jupyter.widget-view+json": {
       "model_id": "8113228105254dc0b352dfbf448fdcf6",
       "version_major": 2,
       "version_minor": 0
      },
      "text/plain": [
       "0epoch [00:00, ?epoch/s]"
      ]
     },
     "metadata": {},
     "output_type": "display_data"
    },
    {
     "data": {
      "application/vnd.jupyter.widget-view+json": {
       "model_id": "",
       "version_major": 2,
       "version_minor": 0
      },
      "text/plain": [
       "0batch [00:00, ?batch/s]"
      ]
     },
     "metadata": {},
     "output_type": "display_data"
    },
    {
     "name": "stdout",
     "output_type": "stream",
     "text": [
      "Restoring model weights from the end of the best epoch: 6.                           \n",
      "Epoch 00016: early stopping                                                          \n",
      "Best validation loss of epoch:                                                       \n",
      "0.0032570164185017347                                                                \n",
      "(160, 13)                                                                            \n",
      "(140, 65)                                                                            \n",
      "(8, 65)                                                                              \n",
      "(8, 65)                                                                              \n",
      " 38%|███▊      | 38/100 [10:16<13:05, 12.66s/trial, best loss: 0.0008586910553276539]"
     ]
    },
    {
     "data": {
      "application/vnd.jupyter.widget-view+json": {
       "model_id": "fa8f14a021c04aecb4bae9e60cb2a300",
       "version_major": 2,
       "version_minor": 0
      },
      "text/plain": [
       "0epoch [00:00, ?epoch/s]"
      ]
     },
     "metadata": {},
     "output_type": "display_data"
    },
    {
     "data": {
      "application/vnd.jupyter.widget-view+json": {
       "model_id": "",
       "version_major": 2,
       "version_minor": 0
      },
      "text/plain": [
       "0batch [00:00, ?batch/s]"
      ]
     },
     "metadata": {},
     "output_type": "display_data"
    },
    {
     "name": "stdout",
     "output_type": "stream",
     "text": [
      "Restoring model weights from the end of the best epoch: 3.                           \n",
      "Epoch 00013: early stopping                                                          \n",
      "Best validation loss of epoch:                                                       \n",
      "0.0015730410814285278                                                                \n",
      "(166, 13)                                                                            \n",
      "(140, 143)                                                                           \n",
      "(8, 143)                                                                             \n",
      "(8, 143)                                                                             \n",
      " 39%|███▉      | 39/100 [10:31<13:33, 13.34s/trial, best loss: 0.0008586910553276539]"
     ]
    }
   ],
   "source": [
    "run()"
   ]
  }
 ],
 "metadata": {
  "kernelspec": {
   "display_name": "Python 3",
   "language": "python",
   "name": "python3"
  },
  "language_info": {
   "codemirror_mode": {
    "name": "ipython",
    "version": 3
   },
   "file_extension": ".py",
   "mimetype": "text/x-python",
   "name": "python",
   "nbconvert_exporter": "python",
   "pygments_lexer": "ipython3",
   "version": "3.8.8"
  }
 },
 "nbformat": 4,
 "nbformat_minor": 5
}

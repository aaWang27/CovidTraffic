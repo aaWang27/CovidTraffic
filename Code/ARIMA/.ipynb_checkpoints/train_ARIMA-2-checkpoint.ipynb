{
 "cells": [
  {
   "cell_type": "code",
   "execution_count": 1,
   "id": "d973c835",
   "metadata": {},
   "outputs": [
    {
     "ename": "ModuleNotFoundError",
     "evalue": "No module named 'pmdarima'",
     "output_type": "error",
     "traceback": [
      "\u001b[1;31m---------------------------------------------------------------------------\u001b[0m",
      "\u001b[1;31mModuleNotFoundError\u001b[0m                       Traceback (most recent call last)",
      "\u001b[1;32m~\\AppData\\Local\\Temp/ipykernel_2592/589831661.py\u001b[0m in \u001b[0;36m<module>\u001b[1;34m\u001b[0m\n\u001b[0;32m      9\u001b[0m \u001b[1;32mfrom\u001b[0m \u001b[0msklearn\u001b[0m \u001b[1;32mimport\u001b[0m \u001b[0mpreprocessing\u001b[0m\u001b[1;33m\u001b[0m\u001b[1;33m\u001b[0m\u001b[0m\n\u001b[0;32m     10\u001b[0m \u001b[1;33m\u001b[0m\u001b[0m\n\u001b[1;32m---> 11\u001b[1;33m \u001b[1;32mimport\u001b[0m \u001b[0mpmdarima\u001b[0m \u001b[1;32mas\u001b[0m \u001b[0mpm\u001b[0m\u001b[1;33m\u001b[0m\u001b[1;33m\u001b[0m\u001b[0m\n\u001b[0m\u001b[0;32m     12\u001b[0m \u001b[1;32mfrom\u001b[0m \u001b[0mpmdarima\u001b[0m\u001b[1;33m.\u001b[0m\u001b[0marima\u001b[0m \u001b[1;32mimport\u001b[0m \u001b[0mauto_arima\u001b[0m\u001b[1;33m\u001b[0m\u001b[1;33m\u001b[0m\u001b[0m\n\u001b[0;32m     13\u001b[0m \u001b[1;32mfrom\u001b[0m \u001b[0mpmdarima\u001b[0m\u001b[1;33m.\u001b[0m\u001b[0marima\u001b[0m \u001b[1;32mimport\u001b[0m \u001b[0mCHTest\u001b[0m\u001b[1;33m\u001b[0m\u001b[1;33m\u001b[0m\u001b[0m\n",
      "\u001b[1;31mModuleNotFoundError\u001b[0m: No module named 'pmdarima'"
     ]
    }
   ],
   "source": [
    "import config\n",
    "import os\n",
    "import random\n",
    "import utils\n",
    "\n",
    "import numpy as np\n",
    "import pandas as pd\n",
    "from sklearn.metrics import mean_squared_error, mean_absolute_percentage_error\n",
    "from sklearn import preprocessing\n",
    "\n",
    "import pmdarima as pm\n",
    "from pmdarima.arima import auto_arima\n",
    "from pmdarima.arima import CHTest\n",
    "from pmdarima.arima import ADFTest, KPSSTest\n",
    "from pmdarima.arima.utils import ndiffs, nsdiffs\n",
    "from pmdarima.utils import tsdisplay\n",
    "from pmdarima.preprocessing import BoxCoxEndogTransformer\n",
    "\n",
    "import matplotlib as mpl\n",
    "import matplotlib.pyplot as plt\n",
    "%matplotlib inline"
   ]
  },
  {
   "cell_type": "code",
   "execution_count": null,
   "id": "0779bf79",
   "metadata": {},
   "outputs": [],
   "source": [
    "seed_value = 42\n",
    "os.environ['PYTHONHASHSEED'] = str(seed_value)\n",
    "random.seed(seed_value)\n",
    "np.random.seed(seed_value)"
   ]
  },
  {
   "cell_type": "markdown",
   "id": "86ba46f8",
   "metadata": {},
   "source": [
    "Load Data"
   ]
  },
  {
   "cell_type": "code",
   "execution_count": null,
   "id": "6b863ce7",
   "metadata": {
    "scrolled": true
   },
   "outputs": [],
   "source": [
    "saltlake_week = pd.read_csv('../saltlake_week.csv')\n",
    "saltlake_week"
   ]
  },
  {
   "cell_type": "code",
   "execution_count": null,
   "id": "646d2e98",
   "metadata": {},
   "outputs": [],
   "source": [
    "y = saltlake_week[['Day', 'VMT (Veh-Miles)']].iloc[53:209, :]\n",
    "y.columns = ['Week', 'VMT']\n",
    "y['Week'] = pd.to_datetime(y['Week'])\n",
    "y.head()"
   ]
  },
  {
   "cell_type": "code",
   "execution_count": null,
   "id": "665cd556",
   "metadata": {},
   "outputs": [],
   "source": [
    "y.tail()"
   ]
  },
  {
   "cell_type": "code",
   "execution_count": null,
   "id": "b1f5e7da",
   "metadata": {},
   "outputs": [],
   "source": [
    "y.set_index('Week', inplace=True)\n",
    "y.head()"
   ]
  },
  {
   "cell_type": "code",
   "execution_count": null,
   "id": "e5c2eeb0",
   "metadata": {
    "scrolled": true
   },
   "outputs": [],
   "source": [
    "X = saltlake_week[['Day', 'Cases', 'News Sentiment', 'Unemployment Rate', 'PRCP', 'SNWD',\n",
    "                         'Percent_Fully_Vaccinated_5&Older', 'TAVG',\n",
    "                         'Stay at Home', 'Mask', 'School Opening', 'Health Emergency', 'Holiday']].iloc[53:209, :]\n",
    "X.columns = ['Week', 'Cases', 'News Sentiment', 'Unemployment Rate', 'PRCP', 'SNWD',\n",
    "                         'Percent_Fully_Vaccinated_5&Older', 'TAVG',\n",
    "                         'Stay at Home', 'Mask', 'School Opening', 'Health Emergency', 'Holiday']\n",
    "X.head()"
   ]
  },
  {
   "cell_type": "code",
   "execution_count": null,
   "id": "0c32fb7d",
   "metadata": {
    "scrolled": true
   },
   "outputs": [],
   "source": [
    "X['Week'] = pd.to_datetime(X['Week'])\n",
    "X.dtypes"
   ]
  },
  {
   "cell_type": "code",
   "execution_count": null,
   "id": "128a84d1",
   "metadata": {},
   "outputs": [],
   "source": [
    "X.set_index('Week', inplace=True)\n",
    "X.head()"
   ]
  },
  {
   "cell_type": "markdown",
   "id": "a4744d3e",
   "metadata": {},
   "source": [
    "Test X for Stationarity"
   ]
  },
  {
   "cell_type": "code",
   "execution_count": null,
   "id": "ea9c28e1",
   "metadata": {},
   "outputs": [],
   "source": [
    "def adf_test(series, a=0.05, name=''):\n",
    "    adf_test = ADFTest(alpha = 0.05)\n",
    "    p_value = adf_test.should_diff(series)[0]\n",
    "\n",
    "    if p_value <= a:\n",
    "        print(f\" {name} : P-Value = {p_value} => Stationary. \")\n",
    "    else:\n",
    "        print(f\" {name} : P-Value = {p_value} => Non-stationary.\")\n",
    "\n",
    "for column in X.columns:\n",
    "    adf_test(X[column], name=column)"
   ]
  },
  {
   "cell_type": "markdown",
   "id": "2f45dca3",
   "metadata": {},
   "source": [
    "If data is not stationary, perform differencing until all data is."
   ]
  },
  {
   "cell_type": "code",
   "execution_count": null,
   "id": "858524c3",
   "metadata": {
    "scrolled": true
   },
   "outputs": [],
   "source": [
    "X_diff = X.diff().dropna()\n",
    "for column in X_diff.columns:\n",
    "    adf_test(X_diff[column], name=column)"
   ]
  },
  {
   "cell_type": "code",
   "execution_count": null,
   "id": "568734eb",
   "metadata": {},
   "outputs": [],
   "source": [
    "X_diff2 = X_diff.diff().dropna()\n",
    "for column in X_diff2.columns:\n",
    "    adf_test(X_diff2[column], name=column)"
   ]
  },
  {
   "cell_type": "markdown",
   "id": "f9905b27",
   "metadata": {},
   "source": [
    "Visualize stationary data"
   ]
  },
  {
   "cell_type": "code",
   "execution_count": null,
   "id": "2c8635eb",
   "metadata": {
    "scrolled": true
   },
   "outputs": [],
   "source": [
    "for column in X_diff2.columns:\n",
    "    plt.figure()\n",
    "    plt.plot(X_diff2[column])\n",
    "    plt.title(column)"
   ]
  },
  {
   "cell_type": "code",
   "execution_count": null,
   "id": "e11aa6de",
   "metadata": {},
   "outputs": [],
   "source": [
    "X_diff2.shape"
   ]
  },
  {
   "cell_type": "markdown",
   "id": "0c82348b",
   "metadata": {},
   "source": [
    "Stationarity test on y"
   ]
  },
  {
   "cell_type": "code",
   "execution_count": null,
   "id": "b786b685",
   "metadata": {},
   "outputs": [],
   "source": [
    "adf_test(y, name='VMT')"
   ]
  },
  {
   "cell_type": "markdown",
   "id": "c993a1a9",
   "metadata": {},
   "source": [
    "Find best value of d"
   ]
  },
  {
   "cell_type": "code",
   "execution_count": null,
   "id": "c8b6716d",
   "metadata": {},
   "outputs": [],
   "source": [
    "y_diff = y.diff().dropna()\n",
    "adf_test(y_diff, name='VMT') # d=1"
   ]
  },
  {
   "cell_type": "markdown",
   "id": "953566ad",
   "metadata": {},
   "source": [
    "Best value of D"
   ]
  },
  {
   "cell_type": "code",
   "execution_count": null,
   "id": "010bc6c6",
   "metadata": {
    "scrolled": false
   },
   "outputs": [],
   "source": [
    "nsdiffs(y,\n",
    "            m=52,\n",
    "            max_D=12,\n",
    "            test='ch')"
   ]
  },
  {
   "cell_type": "markdown",
   "id": "315ac2cc",
   "metadata": {},
   "source": [
    "Separate data into training and testing sets (8 weeks for testing)"
   ]
  },
  {
   "cell_type": "code",
   "execution_count": null,
   "id": "64116acd",
   "metadata": {},
   "outputs": [],
   "source": [
    "trainX_diff2 = X_diff2.iloc[:146, :]\n",
    "testX_diff2 = X_diff2.iloc[146:, :]\n",
    "trainY = y.iloc[2:148, :]\n",
    "testY = y.iloc[148:, :]"
   ]
  },
  {
   "cell_type": "code",
   "execution_count": null,
   "id": "b0f91f3c",
   "metadata": {},
   "outputs": [],
   "source": [
    "print(trainX_diff2.shape)\n",
    "print(trainY.shape)"
   ]
  },
  {
   "cell_type": "markdown",
   "id": "eba1bf3f",
   "metadata": {},
   "source": [
    "Visualize training and testing sets"
   ]
  },
  {
   "cell_type": "code",
   "execution_count": null,
   "id": "b35ceb43",
   "metadata": {
    "scrolled": true
   },
   "outputs": [],
   "source": [
    "plt.plot(trainY)\n",
    "plt.plot(testY)"
   ]
  },
  {
   "cell_type": "markdown",
   "id": "49f86e2b",
   "metadata": {},
   "source": [
    "Create and fit ARIMA model\n",
    "8 weeks used for CV (out_of_sample_size parameter)"
   ]
  },
  {
   "cell_type": "code",
   "execution_count": 26,
   "id": "6dc6d1f1",
   "metadata": {
    "scrolled": false
   },
   "outputs": [
    {
     "name": "stdout",
     "output_type": "stream",
     "text": [
      "Performing stepwise search to minimize aic\n",
      " ARIMA(2,1,2)(0,1,0)[52]             : AIC=3132.905, Time=5.86 sec\n",
      " ARIMA(0,1,0)(0,1,0)[52]             : AIC=3457.405, Time=0.74 sec\n",
      " ARIMA(1,1,0)(1,1,0)[52]             : AIC=3122.515, Time=8.73 sec\n",
      " ARIMA(0,1,1)(0,1,1)[52]             : AIC=3116.282, Time=7.01 sec\n",
      " ARIMA(0,1,1)(0,1,0)[52]             : AIC=3128.544, Time=1.00 sec\n",
      " ARIMA(0,1,1)(1,1,1)[52]             : AIC=inf, Time=11.22 sec\n",
      " ARIMA(0,1,1)(0,1,2)[52]             : AIC=inf, Time=26.87 sec\n",
      " ARIMA(0,1,1)(1,1,0)[52]             : AIC=3122.634, Time=10.49 sec\n",
      " ARIMA(0,1,1)(1,1,2)[52]             : AIC=inf, Time=33.92 sec\n",
      " ARIMA(0,1,0)(0,1,1)[52]             : AIC=3117.734, Time=10.98 sec\n",
      " ARIMA(1,1,1)(0,1,1)[52]             : AIC=3117.983, Time=12.64 sec\n",
      " ARIMA(0,1,2)(0,1,1)[52]             : AIC=3116.534, Time=11.51 sec\n",
      " ARIMA(1,1,0)(0,1,1)[52]             : AIC=3115.388, Time=17.12 sec\n",
      " ARIMA(1,1,0)(0,1,0)[52]             : AIC=3128.360, Time=1.56 sec\n",
      " ARIMA(1,1,0)(1,1,1)[52]             : AIC=inf, Time=14.12 sec\n",
      " ARIMA(1,1,0)(0,1,2)[52]             : AIC=inf, Time=33.00 sec\n",
      " ARIMA(1,1,0)(1,1,2)[52]             : AIC=inf, Time=38.07 sec\n",
      " ARIMA(2,1,0)(0,1,1)[52]             : AIC=3117.985, Time=11.28 sec\n",
      " ARIMA(2,1,1)(0,1,1)[52]             : AIC=3119.359, Time=14.81 sec\n",
      " ARIMA(1,1,0)(0,1,1)[52] intercept   : AIC=3118.072, Time=6.25 sec\n",
      "\n",
      "Best model:  ARIMA(1,1,0)(0,1,1)[52]          \n",
      "Total fit time: 277.225 seconds\n"
     ]
    }
   ],
   "source": [
    "arima_model =  auto_arima(trainY, trainX_diff2, d=1,\n",
    "                          max_p=10, max_d=5, max_q=5, \n",
    "                          start_P=0, D=1, start_Q=0, \n",
    "                          max_P=5, max_D=5, max_Q=5, \n",
    "                          m=52, seasonal=True, stationary=True, error_action='warn',trace = True,\n",
    "                          supress_warnings=True,stepwise = True,\n",
    "                          random_state=seed_value,n_fits = 50,\n",
    "                         out_of_sample_size=8)"
   ]
  },
  {
   "cell_type": "code",
   "execution_count": 27,
   "id": "d57fafbc",
   "metadata": {
    "scrolled": true
   },
   "outputs": [
    {
     "data": {
      "text/html": [
       "<table class=\"simpletable\">\n",
       "<caption>SARIMAX Results</caption>\n",
       "<tr>\n",
       "  <th>Dep. Variable:</th>                   <td>y</td>                <th>  No. Observations:  </th>    <td>146</td>   \n",
       "</tr>\n",
       "<tr>\n",
       "  <th>Model:</th>           <td>SARIMAX(1, 1, 0)x(0, 1, [1], 52)</td> <th>  Log Likelihood     </th> <td>-1542.694</td>\n",
       "</tr>\n",
       "<tr>\n",
       "  <th>Date:</th>                    <td>Tue, 22 Feb 2022</td>         <th>  AIC                </th> <td>3115.388</td> \n",
       "</tr>\n",
       "<tr>\n",
       "  <th>Time:</th>                        <td>11:42:14</td>             <th>  BIC                </th> <td>3153.377</td> \n",
       "</tr>\n",
       "<tr>\n",
       "  <th>Sample:</th>                          <td>0</td>                <th>  HQIC               </th> <td>3130.727</td> \n",
       "</tr>\n",
       "<tr>\n",
       "  <th></th>                              <td> - 146</td>              <th>                     </th>     <td> </td>    \n",
       "</tr>\n",
       "<tr>\n",
       "  <th>Covariance Type:</th>                <td>opg</td>               <th>                     </th>     <td> </td>    \n",
       "</tr>\n",
       "</table>\n",
       "<table class=\"simpletable\">\n",
       "<tr>\n",
       "      <td></td>        <th>coef</th>     <th>std err</th>      <th>z</th>      <th>P>|z|</th>  <th>[0.025</th>    <th>0.975]</th>  \n",
       "</tr>\n",
       "<tr>\n",
       "  <th>x1</th>       <td> -871.3717</td> <td>  337.012</td> <td>   -2.586</td> <td> 0.010</td> <td>-1531.903</td> <td> -210.840</td>\n",
       "</tr>\n",
       "<tr>\n",
       "  <th>x2</th>       <td>-1.055e+06</td> <td> 1.47e+06</td> <td>   -0.716</td> <td> 0.474</td> <td>-3.94e+06</td> <td> 1.83e+06</td>\n",
       "</tr>\n",
       "<tr>\n",
       "  <th>x3</th>       <td> 4.227e+06</td> <td> 1.34e+04</td> <td>  316.216</td> <td> 0.000</td> <td>  4.2e+06</td> <td> 4.25e+06</td>\n",
       "</tr>\n",
       "<tr>\n",
       "  <th>x4</th>       <td>-3.405e+05</td> <td> 5.59e+05</td> <td>   -0.609</td> <td> 0.543</td> <td>-1.44e+06</td> <td> 7.56e+05</td>\n",
       "</tr>\n",
       "<tr>\n",
       "  <th>x5</th>       <td>-4.245e+04</td> <td> 3.09e+04</td> <td>   -1.373</td> <td> 0.170</td> <td>-1.03e+05</td> <td> 1.81e+04</td>\n",
       "</tr>\n",
       "<tr>\n",
       "  <th>x6</th>       <td>-3.043e+07</td> <td> 5784.576</td> <td>-5261.030</td> <td> 0.000</td> <td>-3.04e+07</td> <td>-3.04e+07</td>\n",
       "</tr>\n",
       "<tr>\n",
       "  <th>x7</th>       <td>-1325.5332</td> <td> 3.69e+04</td> <td>   -0.036</td> <td> 0.971</td> <td>-7.37e+04</td> <td> 7.11e+04</td>\n",
       "</tr>\n",
       "<tr>\n",
       "  <th>x8</th>       <td> 2.376e+06</td> <td> 9.37e+05</td> <td>    2.536</td> <td> 0.011</td> <td>  5.4e+05</td> <td> 4.21e+06</td>\n",
       "</tr>\n",
       "<tr>\n",
       "  <th>x9</th>       <td>-2.153e+05</td> <td> 4.85e+05</td> <td>   -0.444</td> <td> 0.657</td> <td>-1.17e+06</td> <td> 7.35e+05</td>\n",
       "</tr>\n",
       "<tr>\n",
       "  <th>x10</th>      <td> 4.345e+05</td> <td> 1.45e+06</td> <td>    0.299</td> <td> 0.765</td> <td>-2.41e+06</td> <td> 3.28e+06</td>\n",
       "</tr>\n",
       "<tr>\n",
       "  <th>x11</th>      <td> 8.786e+05</td> <td> 1.86e+06</td> <td>    0.472</td> <td> 0.637</td> <td>-2.77e+06</td> <td> 4.53e+06</td>\n",
       "</tr>\n",
       "<tr>\n",
       "  <th>x12</th>      <td>-6.843e+05</td> <td> 9.01e+05</td> <td>   -0.760</td> <td> 0.447</td> <td>-2.45e+06</td> <td> 1.08e+06</td>\n",
       "</tr>\n",
       "<tr>\n",
       "  <th>ar.L1</th>    <td>    0.1098</td> <td>    0.098</td> <td>    1.117</td> <td> 0.264</td> <td>   -0.083</td> <td>    0.303</td>\n",
       "</tr>\n",
       "<tr>\n",
       "  <th>ma.S.L52</th> <td>   -0.4730</td> <td>    0.107</td> <td>   -4.431</td> <td> 0.000</td> <td>   -0.682</td> <td>   -0.264</td>\n",
       "</tr>\n",
       "<tr>\n",
       "  <th>sigma2</th>   <td> 1.781e+13</td> <td>    0.387</td> <td>  4.6e+13</td> <td> 0.000</td> <td> 1.78e+13</td> <td> 1.78e+13</td>\n",
       "</tr>\n",
       "</table>\n",
       "<table class=\"simpletable\">\n",
       "<tr>\n",
       "  <th>Ljung-Box (L1) (Q):</th>     <td>1.31</td> <th>  Jarque-Bera (JB):  </th> <td>138.23</td>\n",
       "</tr>\n",
       "<tr>\n",
       "  <th>Prob(Q):</th>                <td>0.25</td> <th>  Prob(JB):          </th>  <td>0.00</td> \n",
       "</tr>\n",
       "<tr>\n",
       "  <th>Heteroskedasticity (H):</th> <td>0.20</td> <th>  Skew:              </th>  <td>-1.45</td>\n",
       "</tr>\n",
       "<tr>\n",
       "  <th>Prob(H) (two-sided):</th>    <td>0.00</td> <th>  Kurtosis:          </th>  <td>8.22</td> \n",
       "</tr>\n",
       "</table><br/><br/>Warnings:<br/>[1] Covariance matrix calculated using the outer product of gradients (complex-step).<br/>[2] Covariance matrix is singular or near-singular, with condition number 1.08e+30. Standard errors may be unstable."
      ],
      "text/plain": [
       "<class 'statsmodels.iolib.summary.Summary'>\n",
       "\"\"\"\n",
       "                                      SARIMAX Results                                       \n",
       "============================================================================================\n",
       "Dep. Variable:                                    y   No. Observations:                  146\n",
       "Model:             SARIMAX(1, 1, 0)x(0, 1, [1], 52)   Log Likelihood               -1542.694\n",
       "Date:                              Tue, 22 Feb 2022   AIC                           3115.388\n",
       "Time:                                      11:42:14   BIC                           3153.377\n",
       "Sample:                                           0   HQIC                          3130.727\n",
       "                                              - 146                                         \n",
       "Covariance Type:                                opg                                         \n",
       "==============================================================================\n",
       "                 coef    std err          z      P>|z|      [0.025      0.975]\n",
       "------------------------------------------------------------------------------\n",
       "x1          -871.3717    337.012     -2.586      0.010   -1531.903    -210.840\n",
       "x2         -1.055e+06   1.47e+06     -0.716      0.474   -3.94e+06    1.83e+06\n",
       "x3          4.227e+06   1.34e+04    316.216      0.000     4.2e+06    4.25e+06\n",
       "x4         -3.405e+05   5.59e+05     -0.609      0.543   -1.44e+06    7.56e+05\n",
       "x5         -4.245e+04   3.09e+04     -1.373      0.170   -1.03e+05    1.81e+04\n",
       "x6         -3.043e+07   5784.576  -5261.030      0.000   -3.04e+07   -3.04e+07\n",
       "x7         -1325.5332   3.69e+04     -0.036      0.971   -7.37e+04    7.11e+04\n",
       "x8          2.376e+06   9.37e+05      2.536      0.011     5.4e+05    4.21e+06\n",
       "x9         -2.153e+05   4.85e+05     -0.444      0.657   -1.17e+06    7.35e+05\n",
       "x10         4.345e+05   1.45e+06      0.299      0.765   -2.41e+06    3.28e+06\n",
       "x11         8.786e+05   1.86e+06      0.472      0.637   -2.77e+06    4.53e+06\n",
       "x12        -6.843e+05   9.01e+05     -0.760      0.447   -2.45e+06    1.08e+06\n",
       "ar.L1          0.1098      0.098      1.117      0.264      -0.083       0.303\n",
       "ma.S.L52      -0.4730      0.107     -4.431      0.000      -0.682      -0.264\n",
       "sigma2      1.781e+13      0.387    4.6e+13      0.000    1.78e+13    1.78e+13\n",
       "===================================================================================\n",
       "Ljung-Box (L1) (Q):                   1.31   Jarque-Bera (JB):               138.23\n",
       "Prob(Q):                              0.25   Prob(JB):                         0.00\n",
       "Heteroskedasticity (H):               0.20   Skew:                            -1.45\n",
       "Prob(H) (two-sided):                  0.00   Kurtosis:                         8.22\n",
       "===================================================================================\n",
       "\n",
       "Warnings:\n",
       "[1] Covariance matrix calculated using the outer product of gradients (complex-step).\n",
       "[2] Covariance matrix is singular or near-singular, with condition number 1.08e+30. Standard errors may be unstable.\n",
       "\"\"\""
      ]
     },
     "execution_count": 27,
     "metadata": {},
     "output_type": "execute_result"
    }
   ],
   "source": [
    "arima_model.summary()"
   ]
  },
  {
   "cell_type": "code",
   "execution_count": 28,
   "id": "0e9be4eb",
   "metadata": {},
   "outputs": [
    {
     "data": {
      "text/plain": [
       "{'maxiter': 50,\n",
       " 'method': 'lbfgs',\n",
       " 'order': (1, 1, 0),\n",
       " 'out_of_sample_size': 8,\n",
       " 'scoring': 'mse',\n",
       " 'scoring_args': {},\n",
       " 'seasonal_order': (0, 1, 1, 52),\n",
       " 'start_params': None,\n",
       " 'suppress_warnings': True,\n",
       " 'trend': None,\n",
       " 'with_intercept': False}"
      ]
     },
     "execution_count": 28,
     "metadata": {},
     "output_type": "execute_result"
    }
   ],
   "source": [
    "arima_model.get_params()"
   ]
  },
  {
   "cell_type": "code",
   "execution_count": 29,
   "id": "52dd1d98",
   "metadata": {},
   "outputs": [
    {
     "data": {
      "text/html": [
       "<div>\n",
       "<style scoped>\n",
       "    .dataframe tbody tr th:only-of-type {\n",
       "        vertical-align: middle;\n",
       "    }\n",
       "\n",
       "    .dataframe tbody tr th {\n",
       "        vertical-align: top;\n",
       "    }\n",
       "\n",
       "    .dataframe thead th {\n",
       "        text-align: right;\n",
       "    }\n",
       "</style>\n",
       "<table border=\"1\" class=\"dataframe\">\n",
       "  <thead>\n",
       "    <tr style=\"text-align: right;\">\n",
       "      <th></th>\n",
       "      <th>Predicted_VMT</th>\n",
       "    </tr>\n",
       "    <tr>\n",
       "      <th>Week</th>\n",
       "      <th></th>\n",
       "    </tr>\n",
       "  </thead>\n",
       "  <tbody>\n",
       "    <tr>\n",
       "      <th>2021-11-08</th>\n",
       "      <td>7.435942e+07</td>\n",
       "    </tr>\n",
       "    <tr>\n",
       "      <th>2021-11-15</th>\n",
       "      <td>7.760899e+07</td>\n",
       "    </tr>\n",
       "    <tr>\n",
       "      <th>2021-11-22</th>\n",
       "      <td>6.886214e+07</td>\n",
       "    </tr>\n",
       "    <tr>\n",
       "      <th>2021-11-29</th>\n",
       "      <td>7.776526e+07</td>\n",
       "    </tr>\n",
       "    <tr>\n",
       "      <th>2021-12-06</th>\n",
       "      <td>7.822324e+07</td>\n",
       "    </tr>\n",
       "    <tr>\n",
       "      <th>2021-12-13</th>\n",
       "      <td>8.070329e+07</td>\n",
       "    </tr>\n",
       "    <tr>\n",
       "      <th>2021-12-20</th>\n",
       "      <td>7.237438e+07</td>\n",
       "    </tr>\n",
       "    <tr>\n",
       "      <th>2021-12-27</th>\n",
       "      <td>6.607701e+07</td>\n",
       "    </tr>\n",
       "  </tbody>\n",
       "</table>\n",
       "</div>"
      ],
      "text/plain": [
       "            Predicted_VMT\n",
       "Week                     \n",
       "2021-11-08   7.435942e+07\n",
       "2021-11-15   7.760899e+07\n",
       "2021-11-22   6.886214e+07\n",
       "2021-11-29   7.776526e+07\n",
       "2021-12-06   7.822324e+07\n",
       "2021-12-13   8.070329e+07\n",
       "2021-12-20   7.237438e+07\n",
       "2021-12-27   6.607701e+07"
      ]
     },
     "execution_count": 29,
     "metadata": {},
     "output_type": "execute_result"
    }
   ],
   "source": [
    "prediction = pd.DataFrame(arima_model.predict(n_periods = 8, X=testX_diff2),index=testX_diff2.index)\n",
    "prediction.columns = ['Predicted_VMT']\n",
    "prediction"
   ]
  },
  {
   "cell_type": "code",
   "execution_count": 30,
   "id": "1077f8ed",
   "metadata": {},
   "outputs": [
    {
     "data": {
      "image/png": "[encoded data removed]",
      "text/plain": [
       "<Figure size 576x360 with 1 Axes>"
      ]
     },
     "metadata": {
      "needs_background": "light"
     },
     "output_type": "display_data"
    }
   ],
   "source": [
    "plt.figure(figsize=(8,5))\n",
    "plt.plot(trainY,label=\"Training\")\n",
    "plt.plot(testY,label=\"Test\")\n",
    "plt.plot(prediction,label=\"Predicted\")\n",
    "plt.legend(loc = 'upper left')\n",
    "plt.show()"
   ]
  },
  {
   "cell_type": "code",
   "execution_count": 31,
   "id": "1f9011fd",
   "metadata": {},
   "outputs": [
    {
     "data": {
      "text/html": [
       "<div>\n",
       "<style scoped>\n",
       "    .dataframe tbody tr th:only-of-type {\n",
       "        vertical-align: middle;\n",
       "    }\n",
       "\n",
       "    .dataframe tbody tr th {\n",
       "        vertical-align: top;\n",
       "    }\n",
       "\n",
       "    .dataframe thead th {\n",
       "        text-align: right;\n",
       "    }\n",
       "</style>\n",
       "<table border=\"1\" class=\"dataframe\">\n",
       "  <thead>\n",
       "    <tr style=\"text-align: right;\">\n",
       "      <th></th>\n",
       "      <th>VMT</th>\n",
       "      <th>Predicted_VMT</th>\n",
       "    </tr>\n",
       "    <tr>\n",
       "      <th>Week</th>\n",
       "      <th></th>\n",
       "      <th></th>\n",
       "    </tr>\n",
       "  </thead>\n",
       "  <tbody>\n",
       "    <tr>\n",
       "      <th>2021-11-08</th>\n",
       "      <td>79542545.3</td>\n",
       "      <td>7.435942e+07</td>\n",
       "    </tr>\n",
       "    <tr>\n",
       "      <th>2021-11-15</th>\n",
       "      <td>80116497.7</td>\n",
       "      <td>7.760899e+07</td>\n",
       "    </tr>\n",
       "    <tr>\n",
       "      <th>2021-11-22</th>\n",
       "      <td>72167973.1</td>\n",
       "      <td>6.886214e+07</td>\n",
       "    </tr>\n",
       "    <tr>\n",
       "      <th>2021-11-29</th>\n",
       "      <td>79550158.9</td>\n",
       "      <td>7.776526e+07</td>\n",
       "    </tr>\n",
       "    <tr>\n",
       "      <th>2021-12-06</th>\n",
       "      <td>75668913.3</td>\n",
       "      <td>7.822324e+07</td>\n",
       "    </tr>\n",
       "    <tr>\n",
       "      <th>2021-12-13</th>\n",
       "      <td>77809476.1</td>\n",
       "      <td>8.070329e+07</td>\n",
       "    </tr>\n",
       "    <tr>\n",
       "      <th>2021-12-20</th>\n",
       "      <td>71502911.8</td>\n",
       "      <td>7.237438e+07</td>\n",
       "    </tr>\n",
       "    <tr>\n",
       "      <th>2021-12-27</th>\n",
       "      <td>62352608.0</td>\n",
       "      <td>6.607701e+07</td>\n",
       "    </tr>\n",
       "  </tbody>\n",
       "</table>\n",
       "</div>"
      ],
      "text/plain": [
       "                   VMT  Predicted_VMT\n",
       "Week                                 \n",
       "2021-11-08  79542545.3   7.435942e+07\n",
       "2021-11-15  80116497.7   7.760899e+07\n",
       "2021-11-22  72167973.1   6.886214e+07\n",
       "2021-11-29  79550158.9   7.776526e+07\n",
       "2021-12-06  75668913.3   7.822324e+07\n",
       "2021-12-13  77809476.1   8.070329e+07\n",
       "2021-12-20  71502911.8   7.237438e+07\n",
       "2021-12-27  62352608.0   6.607701e+07"
      ]
     },
     "execution_count": 31,
     "metadata": {},
     "output_type": "execute_result"
    }
   ],
   "source": [
    "from sklearn.metrics import r2_score\n",
    "testY = pd.DataFrame(testY)\n",
    "testY['Predicted_VMT'] = prediction\n",
    "testY"
   ]
  },
  {
   "cell_type": "code",
   "execution_count": 32,
   "id": "d7fec022",
   "metadata": {},
   "outputs": [
    {
     "data": {
      "image/png": "[encoded data removed]",
      "text/plain": [
       "<Figure size 576x360 with 1 Axes>"
      ]
     },
     "metadata": {
      "needs_background": "light"
     },
     "output_type": "display_data"
    }
   ],
   "source": [
    "plt.figure(figsize=(8,5))\n",
    "plt.plot(testY['VMT'],label=\"Test\")\n",
    "plt.plot(prediction,label=\"Predicted\")\n",
    "plt.legend(loc = 'upper left')\n",
    "plt.show()"
   ]
  },
  {
   "cell_type": "code",
   "execution_count": 33,
   "id": "e3275476",
   "metadata": {},
   "outputs": [
    {
     "data": {
      "text/plain": [
       "0.6998470045928792"
      ]
     },
     "execution_count": 33,
     "metadata": {},
     "output_type": "execute_result"
    }
   ],
   "source": [
    "r2_score(testY['VMT'], testY['Predicted_VMT'])"
   ]
  },
  {
   "cell_type": "code",
   "execution_count": 34,
   "id": "f032d064",
   "metadata": {},
   "outputs": [
    {
     "data": {
      "text/plain": [
       "0.03844644387598108"
      ]
     },
     "execution_count": 34,
     "metadata": {},
     "output_type": "execute_result"
    }
   ],
   "source": [
    "mean_absolute_percentage_error(testY['VMT'], testY['Predicted_VMT'])"
   ]
  },
  {
   "cell_type": "code",
   "execution_count": 35,
   "id": "217e4793",
   "metadata": {},
   "outputs": [
    {
     "data": {
      "text/plain": [
       "9599518504863.932"
      ]
     },
     "execution_count": 35,
     "metadata": {},
     "output_type": "execute_result"
    }
   ],
   "source": [
    "mean_squared_error(testY['VMT'], testY['Predicted_VMT'])"
   ]
  },
  {
   "cell_type": "code",
   "execution_count": 36,
   "id": "1c443fc2",
   "metadata": {},
   "outputs": [
    {
     "data": {
      "text/plain": [
       "3098308.9750481523"
      ]
     },
     "execution_count": 36,
     "metadata": {},
     "output_type": "execute_result"
    }
   ],
   "source": [
    "mean_squared_error(testY['VMT'], testY['Predicted_VMT'], squared=False)"
   ]
  },
  {
   "cell_type": "code",
   "execution_count": 37,
   "id": "1facf41b",
   "metadata": {},
   "outputs": [],
   "source": [
    "import joblib\n",
    "import pickle\n",
    "\n",
    "with open('arima2.pkl', 'wb') as pkl:\n",
    "    pickle.dump(auto_arima, pkl)"
   ]
  }
 ],
 "metadata": {
  "kernelspec": {
   "display_name": "Python 3 (ipykernel)",
   "language": "python",
   "name": "python3"
  },
  "language_info": {
   "codemirror_mode": {
    "name": "ipython",
    "version": 3
   },
   "file_extension": ".py",
   "mimetype": "text/x-python",
   "name": "python",
   "nbconvert_exporter": "python",
   "pygments_lexer": "ipython3",
   "version": "3.9.7"
  }
 },
 "nbformat": 4,
 "nbformat_minor": 5
}

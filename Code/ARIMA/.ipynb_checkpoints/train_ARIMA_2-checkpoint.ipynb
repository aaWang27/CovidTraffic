{
 "cells": [
  {
   "cell_type": "code",
   "execution_count": 1,
   "id": "d973c835",
   "metadata": {},
   "outputs": [],
   "source": [
    "import config\n",
    "import os\n",
    "import random\n",
    "import utils\n",
    "\n",
    "import numpy as np\n",
    "import pandas as pd\n",
    "from sklearn.metrics import mean_squared_error, mean_absolute_percentage_error\n",
    "from sklearn import preprocessing\n",
    "\n",
    "import pmdarima as pm\n",
    "from pmdarima.arima import auto_arima\n",
    "from pmdarima.arima import CHTest\n",
    "from pmdarima.arima import ADFTest, KPSSTest\n",
    "from pmdarima.arima.utils import ndiffs, nsdiffs\n",
    "from pmdarima.utils import tsdisplay\n",
    "from pmdarima.preprocessing import BoxCoxEndogTransformer\n",
    "\n",
    "import matplotlib as mpl\n",
    "import matplotlib.pyplot as plt\n",
    "%matplotlib inline"
   ]
  },
  {
   "cell_type": "code",
   "execution_count": 2,
   "id": "0779bf79",
   "metadata": {},
   "outputs": [],
   "source": [
    "seed_value = 42\n",
    "os.environ['PYTHONHASHSEED'] = str(seed_value)\n",
    "random.seed(seed_value)\n",
    "np.random.seed(seed_value)"
   ]
  },
  {
   "cell_type": "markdown",
   "id": "86ba46f8",
   "metadata": {},
   "source": [
    "Load Data"
   ]
  },
  {
   "cell_type": "code",
   "execution_count": 3,
   "id": "6b863ce7",
   "metadata": {
    "scrolled": true
   },
   "outputs": [
    {
     "data": {
      "text/html": [
       "<div>\n",
       "<style scoped>\n",
       "    .dataframe tbody tr th:only-of-type {\n",
       "        vertical-align: middle;\n",
       "    }\n",
       "\n",
       "    .dataframe tbody tr th {\n",
       "        vertical-align: top;\n",
       "    }\n",
       "\n",
       "    .dataframe thead th {\n",
       "        text-align: right;\n",
       "    }\n",
       "</style>\n",
       "<table border=\"1\" class=\"dataframe\">\n",
       "  <thead>\n",
       "    <tr style=\"text-align: right;\">\n",
       "      <th></th>\n",
       "      <th>dates</th>\n",
       "      <th>Cases</th>\n",
       "      <th>VMT (Veh-Miles)</th>\n",
       "      <th>News Sentiment</th>\n",
       "      <th>Unemployment Rate</th>\n",
       "      <th>PRCP</th>\n",
       "      <th>SNOW</th>\n",
       "      <th>SNWD</th>\n",
       "      <th>Percent_Fully_Vaccinated_5&amp;Older</th>\n",
       "      <th>Stay at Home</th>\n",
       "      <th>Mask</th>\n",
       "      <th>School Opening</th>\n",
       "      <th>Health Emergency</th>\n",
       "      <th>TAVG</th>\n",
       "      <th>TMAX</th>\n",
       "      <th>TMIN</th>\n",
       "      <th>Holiday</th>\n",
       "      <th>Day</th>\n",
       "    </tr>\n",
       "  </thead>\n",
       "  <tbody>\n",
       "    <tr>\n",
       "      <th>0</th>\n",
       "      <td>201801</td>\n",
       "      <td>0.0</td>\n",
       "      <td>64342427.0</td>\n",
       "      <td>1.605530</td>\n",
       "      <td>0.031165</td>\n",
       "      <td>0.23</td>\n",
       "      <td>0.3</td>\n",
       "      <td>0.0</td>\n",
       "      <td>0.000000</td>\n",
       "      <td>0.0</td>\n",
       "      <td>0.0</td>\n",
       "      <td>1.0</td>\n",
       "      <td>0.0</td>\n",
       "      <td>31.285714</td>\n",
       "      <td>42.857143</td>\n",
       "      <td>24.571429</td>\n",
       "      <td>1.0</td>\n",
       "      <td>1/1/2018</td>\n",
       "    </tr>\n",
       "    <tr>\n",
       "      <th>1</th>\n",
       "      <td>201802</td>\n",
       "      <td>0.0</td>\n",
       "      <td>68283841.4</td>\n",
       "      <td>1.812110</td>\n",
       "      <td>0.031165</td>\n",
       "      <td>0.08</td>\n",
       "      <td>0.0</td>\n",
       "      <td>0.0</td>\n",
       "      <td>0.000000</td>\n",
       "      <td>0.0</td>\n",
       "      <td>0.0</td>\n",
       "      <td>1.0</td>\n",
       "      <td>0.0</td>\n",
       "      <td>41.142857</td>\n",
       "      <td>50.428571</td>\n",
       "      <td>33.714286</td>\n",
       "      <td>0.0</td>\n",
       "      <td>1/8/2018</td>\n",
       "    </tr>\n",
       "    <tr>\n",
       "      <th>2</th>\n",
       "      <td>201803</td>\n",
       "      <td>0.0</td>\n",
       "      <td>65983134.6</td>\n",
       "      <td>1.437803</td>\n",
       "      <td>0.031165</td>\n",
       "      <td>0.47</td>\n",
       "      <td>8.9</td>\n",
       "      <td>11.8</td>\n",
       "      <td>0.000000</td>\n",
       "      <td>0.0</td>\n",
       "      <td>0.0</td>\n",
       "      <td>1.0</td>\n",
       "      <td>0.0</td>\n",
       "      <td>39.714286</td>\n",
       "      <td>48.714286</td>\n",
       "      <td>29.714286</td>\n",
       "      <td>1.0</td>\n",
       "      <td>1/15/2018</td>\n",
       "    </tr>\n",
       "    <tr>\n",
       "      <th>3</th>\n",
       "      <td>201804</td>\n",
       "      <td>0.0</td>\n",
       "      <td>68658037.2</td>\n",
       "      <td>1.218415</td>\n",
       "      <td>0.031165</td>\n",
       "      <td>0.04</td>\n",
       "      <td>0.4</td>\n",
       "      <td>12.2</td>\n",
       "      <td>0.000000</td>\n",
       "      <td>0.0</td>\n",
       "      <td>0.0</td>\n",
       "      <td>1.0</td>\n",
       "      <td>0.0</td>\n",
       "      <td>36.714286</td>\n",
       "      <td>45.714286</td>\n",
       "      <td>30.285714</td>\n",
       "      <td>0.0</td>\n",
       "      <td>1/22/2018</td>\n",
       "    </tr>\n",
       "    <tr>\n",
       "      <th>4</th>\n",
       "      <td>201805</td>\n",
       "      <td>0.0</td>\n",
       "      <td>69435067.4</td>\n",
       "      <td>1.386520</td>\n",
       "      <td>0.031165</td>\n",
       "      <td>0.00</td>\n",
       "      <td>0.0</td>\n",
       "      <td>0.0</td>\n",
       "      <td>0.000000</td>\n",
       "      <td>0.0</td>\n",
       "      <td>0.0</td>\n",
       "      <td>1.0</td>\n",
       "      <td>0.0</td>\n",
       "      <td>46.428571</td>\n",
       "      <td>56.285714</td>\n",
       "      <td>38.857143</td>\n",
       "      <td>0.0</td>\n",
       "      <td>1/29/2018</td>\n",
       "    </tr>\n",
       "    <tr>\n",
       "      <th>...</th>\n",
       "      <td>...</td>\n",
       "      <td>...</td>\n",
       "      <td>...</td>\n",
       "      <td>...</td>\n",
       "      <td>...</td>\n",
       "      <td>...</td>\n",
       "      <td>...</td>\n",
       "      <td>...</td>\n",
       "      <td>...</td>\n",
       "      <td>...</td>\n",
       "      <td>...</td>\n",
       "      <td>...</td>\n",
       "      <td>...</td>\n",
       "      <td>...</td>\n",
       "      <td>...</td>\n",
       "      <td>...</td>\n",
       "      <td>...</td>\n",
       "      <td>...</td>\n",
       "    </tr>\n",
       "    <tr>\n",
       "      <th>211</th>\n",
       "      <td>202203</td>\n",
       "      <td>23819.0</td>\n",
       "      <td>72930069.2</td>\n",
       "      <td>-0.170064</td>\n",
       "      <td>NaN</td>\n",
       "      <td>0.06</td>\n",
       "      <td>0.6</td>\n",
       "      <td>1.0</td>\n",
       "      <td>0.713810</td>\n",
       "      <td>0.0</td>\n",
       "      <td>1.0</td>\n",
       "      <td>1.0</td>\n",
       "      <td>0.0</td>\n",
       "      <td>30.142857</td>\n",
       "      <td>37.857143</td>\n",
       "      <td>23.857143</td>\n",
       "      <td>1.0</td>\n",
       "      <td>1/17/2022</td>\n",
       "    </tr>\n",
       "    <tr>\n",
       "      <th>212</th>\n",
       "      <td>202204</td>\n",
       "      <td>11750.0</td>\n",
       "      <td>76286409.8</td>\n",
       "      <td>-0.520794</td>\n",
       "      <td>NaN</td>\n",
       "      <td>0.02</td>\n",
       "      <td>0.3</td>\n",
       "      <td>0.0</td>\n",
       "      <td>0.713936</td>\n",
       "      <td>0.0</td>\n",
       "      <td>0.0</td>\n",
       "      <td>1.0</td>\n",
       "      <td>0.0</td>\n",
       "      <td>29.428571</td>\n",
       "      <td>38.857143</td>\n",
       "      <td>21.428571</td>\n",
       "      <td>0.0</td>\n",
       "      <td>1/24/2022</td>\n",
       "    </tr>\n",
       "    <tr>\n",
       "      <th>213</th>\n",
       "      <td>202205</td>\n",
       "      <td>6220.0</td>\n",
       "      <td>76496169.1</td>\n",
       "      <td>-0.579581</td>\n",
       "      <td>NaN</td>\n",
       "      <td>0.07</td>\n",
       "      <td>0.7</td>\n",
       "      <td>1.0</td>\n",
       "      <td>0.714011</td>\n",
       "      <td>0.0</td>\n",
       "      <td>0.0</td>\n",
       "      <td>1.0</td>\n",
       "      <td>0.0</td>\n",
       "      <td>26.714286</td>\n",
       "      <td>35.857143</td>\n",
       "      <td>18.285714</td>\n",
       "      <td>0.0</td>\n",
       "      <td>1/31/2022</td>\n",
       "    </tr>\n",
       "    <tr>\n",
       "      <th>214</th>\n",
       "      <td>202206</td>\n",
       "      <td>NaN</td>\n",
       "      <td>80311937.6</td>\n",
       "      <td>NaN</td>\n",
       "      <td>NaN</td>\n",
       "      <td>0.00</td>\n",
       "      <td>0.0</td>\n",
       "      <td>0.0</td>\n",
       "      <td>NaN</td>\n",
       "      <td>NaN</td>\n",
       "      <td>NaN</td>\n",
       "      <td>NaN</td>\n",
       "      <td>NaN</td>\n",
       "      <td>36.857143</td>\n",
       "      <td>50.285714</td>\n",
       "      <td>26.857143</td>\n",
       "      <td>NaN</td>\n",
       "      <td>2/7/2022</td>\n",
       "    </tr>\n",
       "    <tr>\n",
       "      <th>215</th>\n",
       "      <td>202207</td>\n",
       "      <td>NaN</td>\n",
       "      <td>NaN</td>\n",
       "      <td>NaN</td>\n",
       "      <td>NaN</td>\n",
       "      <td>0.00</td>\n",
       "      <td>0.0</td>\n",
       "      <td>0.0</td>\n",
       "      <td>NaN</td>\n",
       "      <td>NaN</td>\n",
       "      <td>NaN</td>\n",
       "      <td>NaN</td>\n",
       "      <td>NaN</td>\n",
       "      <td>44.000000</td>\n",
       "      <td>56.000000</td>\n",
       "      <td>33.000000</td>\n",
       "      <td>NaN</td>\n",
       "      <td>2/14/2022</td>\n",
       "    </tr>\n",
       "  </tbody>\n",
       "</table>\n",
       "<p>216 rows × 18 columns</p>\n",
       "</div>"
      ],
      "text/plain": [
       "      dates    Cases  VMT (Veh-Miles)  News Sentiment  Unemployment Rate  \\\n",
       "0    201801      0.0       64342427.0        1.605530           0.031165   \n",
       "1    201802      0.0       68283841.4        1.812110           0.031165   \n",
       "2    201803      0.0       65983134.6        1.437803           0.031165   \n",
       "3    201804      0.0       68658037.2        1.218415           0.031165   \n",
       "4    201805      0.0       69435067.4        1.386520           0.031165   \n",
       "..      ...      ...              ...             ...                ...   \n",
       "211  202203  23819.0       72930069.2       -0.170064                NaN   \n",
       "212  202204  11750.0       76286409.8       -0.520794                NaN   \n",
       "213  202205   6220.0       76496169.1       -0.579581                NaN   \n",
       "214  202206      NaN       80311937.6             NaN                NaN   \n",
       "215  202207      NaN              NaN             NaN                NaN   \n",
       "\n",
       "     PRCP  SNOW  SNWD  Percent_Fully_Vaccinated_5&Older  Stay at Home  Mask  \\\n",
       "0    0.23   0.3   0.0                          0.000000           0.0   0.0   \n",
       "1    0.08   0.0   0.0                          0.000000           0.0   0.0   \n",
       "2    0.47   8.9  11.8                          0.000000           0.0   0.0   \n",
       "3    0.04   0.4  12.2                          0.000000           0.0   0.0   \n",
       "4    0.00   0.0   0.0                          0.000000           0.0   0.0   \n",
       "..    ...   ...   ...                               ...           ...   ...   \n",
       "211  0.06   0.6   1.0                          0.713810           0.0   1.0   \n",
       "212  0.02   0.3   0.0                          0.713936           0.0   0.0   \n",
       "213  0.07   0.7   1.0                          0.714011           0.0   0.0   \n",
       "214  0.00   0.0   0.0                               NaN           NaN   NaN   \n",
       "215  0.00   0.0   0.0                               NaN           NaN   NaN   \n",
       "\n",
       "     School Opening  Health Emergency       TAVG       TMAX       TMIN  \\\n",
       "0               1.0               0.0  31.285714  42.857143  24.571429   \n",
       "1               1.0               0.0  41.142857  50.428571  33.714286   \n",
       "2               1.0               0.0  39.714286  48.714286  29.714286   \n",
       "3               1.0               0.0  36.714286  45.714286  30.285714   \n",
       "4               1.0               0.0  46.428571  56.285714  38.857143   \n",
       "..              ...               ...        ...        ...        ...   \n",
       "211             1.0               0.0  30.142857  37.857143  23.857143   \n",
       "212             1.0               0.0  29.428571  38.857143  21.428571   \n",
       "213             1.0               0.0  26.714286  35.857143  18.285714   \n",
       "214             NaN               NaN  36.857143  50.285714  26.857143   \n",
       "215             NaN               NaN  44.000000  56.000000  33.000000   \n",
       "\n",
       "     Holiday        Day  \n",
       "0        1.0   1/1/2018  \n",
       "1        0.0   1/8/2018  \n",
       "2        1.0  1/15/2018  \n",
       "3        0.0  1/22/2018  \n",
       "4        0.0  1/29/2018  \n",
       "..       ...        ...  \n",
       "211      1.0  1/17/2022  \n",
       "212      0.0  1/24/2022  \n",
       "213      0.0  1/31/2022  \n",
       "214      NaN   2/7/2022  \n",
       "215      NaN  2/14/2022  \n",
       "\n",
       "[216 rows x 18 columns]"
      ]
     },
     "execution_count": 3,
     "metadata": {},
     "output_type": "execute_result"
    }
   ],
   "source": [
    "saltlake_week = pd.read_csv('../saltlake_week.csv')\n",
    "saltlake_week"
   ]
  },
  {
   "cell_type": "code",
   "execution_count": 4,
   "id": "646d2e98",
   "metadata": {},
   "outputs": [
    {
     "data": {
      "text/html": [
       "<div>\n",
       "<style scoped>\n",
       "    .dataframe tbody tr th:only-of-type {\n",
       "        vertical-align: middle;\n",
       "    }\n",
       "\n",
       "    .dataframe tbody tr th {\n",
       "        vertical-align: top;\n",
       "    }\n",
       "\n",
       "    .dataframe thead th {\n",
       "        text-align: right;\n",
       "    }\n",
       "</style>\n",
       "<table border=\"1\" class=\"dataframe\">\n",
       "  <thead>\n",
       "    <tr style=\"text-align: right;\">\n",
       "      <th></th>\n",
       "      <th>Week</th>\n",
       "      <th>VMT</th>\n",
       "    </tr>\n",
       "  </thead>\n",
       "  <tbody>\n",
       "    <tr>\n",
       "      <th>53</th>\n",
       "      <td>2019-01-07</td>\n",
       "      <td>66181817.1</td>\n",
       "    </tr>\n",
       "    <tr>\n",
       "      <th>54</th>\n",
       "      <td>2019-01-14</td>\n",
       "      <td>65217107.0</td>\n",
       "    </tr>\n",
       "    <tr>\n",
       "      <th>55</th>\n",
       "      <td>2019-01-21</td>\n",
       "      <td>63764156.8</td>\n",
       "    </tr>\n",
       "    <tr>\n",
       "      <th>56</th>\n",
       "      <td>2019-01-28</td>\n",
       "      <td>68255092.9</td>\n",
       "    </tr>\n",
       "    <tr>\n",
       "      <th>57</th>\n",
       "      <td>2019-02-04</td>\n",
       "      <td>60363403.4</td>\n",
       "    </tr>\n",
       "  </tbody>\n",
       "</table>\n",
       "</div>"
      ],
      "text/plain": [
       "         Week         VMT\n",
       "53 2019-01-07  66181817.1\n",
       "54 2019-01-14  65217107.0\n",
       "55 2019-01-21  63764156.8\n",
       "56 2019-01-28  68255092.9\n",
       "57 2019-02-04  60363403.4"
      ]
     },
     "execution_count": 4,
     "metadata": {},
     "output_type": "execute_result"
    }
   ],
   "source": [
    "y = saltlake_week[['Day', 'VMT (Veh-Miles)']].iloc[53:209, :]\n",
    "y.columns = ['Week', 'VMT']\n",
    "y['Week'] = pd.to_datetime(y['Week'])\n",
    "y.head()"
   ]
  },
  {
   "cell_type": "code",
   "execution_count": 5,
   "id": "665cd556",
   "metadata": {},
   "outputs": [
    {
     "data": {
      "text/html": [
       "<div>\n",
       "<style scoped>\n",
       "    .dataframe tbody tr th:only-of-type {\n",
       "        vertical-align: middle;\n",
       "    }\n",
       "\n",
       "    .dataframe tbody tr th {\n",
       "        vertical-align: top;\n",
       "    }\n",
       "\n",
       "    .dataframe thead th {\n",
       "        text-align: right;\n",
       "    }\n",
       "</style>\n",
       "<table border=\"1\" class=\"dataframe\">\n",
       "  <thead>\n",
       "    <tr style=\"text-align: right;\">\n",
       "      <th></th>\n",
       "      <th>Week</th>\n",
       "      <th>VMT</th>\n",
       "    </tr>\n",
       "  </thead>\n",
       "  <tbody>\n",
       "    <tr>\n",
       "      <th>204</th>\n",
       "      <td>2021-11-29</td>\n",
       "      <td>79550158.9</td>\n",
       "    </tr>\n",
       "    <tr>\n",
       "      <th>205</th>\n",
       "      <td>2021-12-06</td>\n",
       "      <td>75668913.3</td>\n",
       "    </tr>\n",
       "    <tr>\n",
       "      <th>206</th>\n",
       "      <td>2021-12-13</td>\n",
       "      <td>77809476.1</td>\n",
       "    </tr>\n",
       "    <tr>\n",
       "      <th>207</th>\n",
       "      <td>2021-12-20</td>\n",
       "      <td>71502911.8</td>\n",
       "    </tr>\n",
       "    <tr>\n",
       "      <th>208</th>\n",
       "      <td>2021-12-27</td>\n",
       "      <td>62352608.0</td>\n",
       "    </tr>\n",
       "  </tbody>\n",
       "</table>\n",
       "</div>"
      ],
      "text/plain": [
       "          Week         VMT\n",
       "204 2021-11-29  79550158.9\n",
       "205 2021-12-06  75668913.3\n",
       "206 2021-12-13  77809476.1\n",
       "207 2021-12-20  71502911.8\n",
       "208 2021-12-27  62352608.0"
      ]
     },
     "execution_count": 5,
     "metadata": {},
     "output_type": "execute_result"
    }
   ],
   "source": [
    "y.tail()"
   ]
  },
  {
   "cell_type": "code",
   "execution_count": 6,
   "id": "b1f5e7da",
   "metadata": {},
   "outputs": [
    {
     "data": {
      "text/html": [
       "<div>\n",
       "<style scoped>\n",
       "    .dataframe tbody tr th:only-of-type {\n",
       "        vertical-align: middle;\n",
       "    }\n",
       "\n",
       "    .dataframe tbody tr th {\n",
       "        vertical-align: top;\n",
       "    }\n",
       "\n",
       "    .dataframe thead th {\n",
       "        text-align: right;\n",
       "    }\n",
       "</style>\n",
       "<table border=\"1\" class=\"dataframe\">\n",
       "  <thead>\n",
       "    <tr style=\"text-align: right;\">\n",
       "      <th></th>\n",
       "      <th>VMT</th>\n",
       "    </tr>\n",
       "    <tr>\n",
       "      <th>Week</th>\n",
       "      <th></th>\n",
       "    </tr>\n",
       "  </thead>\n",
       "  <tbody>\n",
       "    <tr>\n",
       "      <th>2019-01-07</th>\n",
       "      <td>66181817.1</td>\n",
       "    </tr>\n",
       "    <tr>\n",
       "      <th>2019-01-14</th>\n",
       "      <td>65217107.0</td>\n",
       "    </tr>\n",
       "    <tr>\n",
       "      <th>2019-01-21</th>\n",
       "      <td>63764156.8</td>\n",
       "    </tr>\n",
       "    <tr>\n",
       "      <th>2019-01-28</th>\n",
       "      <td>68255092.9</td>\n",
       "    </tr>\n",
       "    <tr>\n",
       "      <th>2019-02-04</th>\n",
       "      <td>60363403.4</td>\n",
       "    </tr>\n",
       "  </tbody>\n",
       "</table>\n",
       "</div>"
      ],
      "text/plain": [
       "                   VMT\n",
       "Week                  \n",
       "2019-01-07  66181817.1\n",
       "2019-01-14  65217107.0\n",
       "2019-01-21  63764156.8\n",
       "2019-01-28  68255092.9\n",
       "2019-02-04  60363403.4"
      ]
     },
     "execution_count": 6,
     "metadata": {},
     "output_type": "execute_result"
    }
   ],
   "source": [
    "y.set_index('Week', inplace=True)\n",
    "y.head()"
   ]
  },
  {
   "cell_type": "code",
   "execution_count": 19,
   "id": "64f11932",
   "metadata": {},
   "outputs": [],
   "source": [
    "y_scaler, y_scaled = utils.scale(y)"
   ]
  },
  {
   "cell_type": "code",
   "execution_count": 22,
   "id": "97f41d4f",
   "metadata": {
    "scrolled": true
   },
   "outputs": [
    {
     "data": {
      "text/html": [
       "<div>\n",
       "<style scoped>\n",
       "    .dataframe tbody tr th:only-of-type {\n",
       "        vertical-align: middle;\n",
       "    }\n",
       "\n",
       "    .dataframe tbody tr th {\n",
       "        vertical-align: top;\n",
       "    }\n",
       "\n",
       "    .dataframe thead th {\n",
       "        text-align: right;\n",
       "    }\n",
       "</style>\n",
       "<table border=\"1\" class=\"dataframe\">\n",
       "  <thead>\n",
       "    <tr style=\"text-align: right;\">\n",
       "      <th></th>\n",
       "      <th>0</th>\n",
       "    </tr>\n",
       "  </thead>\n",
       "  <tbody>\n",
       "    <tr>\n",
       "      <th>0</th>\n",
       "      <td>0.396183</td>\n",
       "    </tr>\n",
       "    <tr>\n",
       "      <th>1</th>\n",
       "      <td>0.367334</td>\n",
       "    </tr>\n",
       "    <tr>\n",
       "      <th>2</th>\n",
       "      <td>0.323884</td>\n",
       "    </tr>\n",
       "    <tr>\n",
       "      <th>3</th>\n",
       "      <td>0.458184</td>\n",
       "    </tr>\n",
       "    <tr>\n",
       "      <th>4</th>\n",
       "      <td>0.222185</td>\n",
       "    </tr>\n",
       "    <tr>\n",
       "      <th>...</th>\n",
       "      <td>...</td>\n",
       "    </tr>\n",
       "    <tr>\n",
       "      <th>151</th>\n",
       "      <td>0.795959</td>\n",
       "    </tr>\n",
       "    <tr>\n",
       "      <th>152</th>\n",
       "      <td>0.679892</td>\n",
       "    </tr>\n",
       "    <tr>\n",
       "      <th>153</th>\n",
       "      <td>0.743905</td>\n",
       "    </tr>\n",
       "    <tr>\n",
       "      <th>154</th>\n",
       "      <td>0.555309</td>\n",
       "    </tr>\n",
       "    <tr>\n",
       "      <th>155</th>\n",
       "      <td>0.281672</td>\n",
       "    </tr>\n",
       "  </tbody>\n",
       "</table>\n",
       "<p>156 rows × 1 columns</p>\n",
       "</div>"
      ],
      "text/plain": [
       "            0\n",
       "0    0.396183\n",
       "1    0.367334\n",
       "2    0.323884\n",
       "3    0.458184\n",
       "4    0.222185\n",
       "..        ...\n",
       "151  0.795959\n",
       "152  0.679892\n",
       "153  0.743905\n",
       "154  0.555309\n",
       "155  0.281672\n",
       "\n",
       "[156 rows x 1 columns]"
      ]
     },
     "execution_count": 22,
     "metadata": {},
     "output_type": "execute_result"
    }
   ],
   "source": [
    "y_scaled = pd.DataFrame(y_scaled)\n",
    "y_scaled"
   ]
  },
  {
   "cell_type": "code",
   "execution_count": 24,
   "id": "71ba5739",
   "metadata": {},
   "outputs": [
    {
     "data": {
      "text/html": [
       "<div>\n",
       "<style scoped>\n",
       "    .dataframe tbody tr th:only-of-type {\n",
       "        vertical-align: middle;\n",
       "    }\n",
       "\n",
       "    .dataframe tbody tr th {\n",
       "        vertical-align: top;\n",
       "    }\n",
       "\n",
       "    .dataframe thead th {\n",
       "        text-align: right;\n",
       "    }\n",
       "</style>\n",
       "<table border=\"1\" class=\"dataframe\">\n",
       "  <thead>\n",
       "    <tr style=\"text-align: right;\">\n",
       "      <th></th>\n",
       "      <th>VMT</th>\n",
       "    </tr>\n",
       "    <tr>\n",
       "      <th>Week</th>\n",
       "      <th></th>\n",
       "    </tr>\n",
       "  </thead>\n",
       "  <tbody>\n",
       "    <tr>\n",
       "      <th>2019-01-07</th>\n",
       "      <td>0.396183</td>\n",
       "    </tr>\n",
       "    <tr>\n",
       "      <th>2019-01-14</th>\n",
       "      <td>0.367334</td>\n",
       "    </tr>\n",
       "    <tr>\n",
       "      <th>2019-01-21</th>\n",
       "      <td>0.323884</td>\n",
       "    </tr>\n",
       "    <tr>\n",
       "      <th>2019-01-28</th>\n",
       "      <td>0.458184</td>\n",
       "    </tr>\n",
       "    <tr>\n",
       "      <th>2019-02-04</th>\n",
       "      <td>0.222185</td>\n",
       "    </tr>\n",
       "    <tr>\n",
       "      <th>...</th>\n",
       "      <td>...</td>\n",
       "    </tr>\n",
       "    <tr>\n",
       "      <th>2021-11-29</th>\n",
       "      <td>0.795959</td>\n",
       "    </tr>\n",
       "    <tr>\n",
       "      <th>2021-12-06</th>\n",
       "      <td>0.679892</td>\n",
       "    </tr>\n",
       "    <tr>\n",
       "      <th>2021-12-13</th>\n",
       "      <td>0.743905</td>\n",
       "    </tr>\n",
       "    <tr>\n",
       "      <th>2021-12-20</th>\n",
       "      <td>0.555309</td>\n",
       "    </tr>\n",
       "    <tr>\n",
       "      <th>2021-12-27</th>\n",
       "      <td>0.281672</td>\n",
       "    </tr>\n",
       "  </tbody>\n",
       "</table>\n",
       "<p>156 rows × 1 columns</p>\n",
       "</div>"
      ],
      "text/plain": [
       "                 VMT\n",
       "Week                \n",
       "2019-01-07  0.396183\n",
       "2019-01-14  0.367334\n",
       "2019-01-21  0.323884\n",
       "2019-01-28  0.458184\n",
       "2019-02-04  0.222185\n",
       "...              ...\n",
       "2021-11-29  0.795959\n",
       "2021-12-06  0.679892\n",
       "2021-12-13  0.743905\n",
       "2021-12-20  0.555309\n",
       "2021-12-27  0.281672\n",
       "\n",
       "[156 rows x 1 columns]"
      ]
     },
     "execution_count": 24,
     "metadata": {},
     "output_type": "execute_result"
    }
   ],
   "source": [
    "y_scaled.columns = ['VMT']\n",
    "y_scaled.index = y.index\n",
    "y_scaled"
   ]
  },
  {
   "cell_type": "markdown",
   "id": "315ac2cc",
   "metadata": {},
   "source": [
    "Separate data into training and testing sets (8 weeks for testing)"
   ]
  },
  {
   "cell_type": "code",
   "execution_count": 25,
   "id": "64116acd",
   "metadata": {},
   "outputs": [],
   "source": [
    "trainY = y_scaled.iloc[2:148, :]\n",
    "testY = y_scaled.iloc[148:, :]"
   ]
  },
  {
   "cell_type": "code",
   "execution_count": 26,
   "id": "b0f91f3c",
   "metadata": {},
   "outputs": [
    {
     "name": "stdout",
     "output_type": "stream",
     "text": [
      "(146, 12)\n",
      "(146, 1)\n"
     ]
    }
   ],
   "source": [
    "trainY.shape"
   ]
  },
  {
   "cell_type": "markdown",
   "id": "eba1bf3f",
   "metadata": {},
   "source": [
    "Visualize training and testing sets"
   ]
  },
  {
   "cell_type": "code",
   "execution_count": 27,
   "id": "b35ceb43",
   "metadata": {
    "scrolled": true
   },
   "outputs": [
    {
     "data": {
      "text/plain": [
       "[<matplotlib.lines.Line2D at 0x1a165b12850>]"
      ]
     },
     "execution_count": 27,
     "metadata": {},
     "output_type": "execute_result"
    },
    {
     "data": {
      "image/png": "[encoded data removed]",
      "text/plain": [
       "<Figure size 432x288 with 1 Axes>"
      ]
     },
     "metadata": {
      "needs_background": "light"
     },
     "output_type": "display_data"
    }
   ],
   "source": [
    "plt.plot(trainY)\n",
    "plt.plot(testY)"
   ]
  },
  {
   "cell_type": "markdown",
   "id": "49f86e2b",
   "metadata": {},
   "source": [
    "Create and fit ARIMA model\n",
    "8 weeks used for CV (out_of_sample_size parameter)"
   ]
  },
  {
   "cell_type": "code",
   "execution_count": 28,
   "id": "6dc6d1f1",
   "metadata": {
    "scrolled": false
   },
   "outputs": [
    {
     "name": "stdout",
     "output_type": "stream",
     "text": [
      "Performing stepwise search to minimize aic\n",
      " ARIMA(2,1,2)(0,1,0)[52]             : AIC=-96.617, Time=7.92 sec\n",
      " ARIMA(0,1,0)(0,1,0)[52]             : AIC=234.909, Time=4.35 sec\n",
      " ARIMA(1,1,0)(1,1,0)[52]             : AIC=inf, Time=46.90 sec\n",
      " ARIMA(0,1,1)(0,1,1)[52]             : AIC=-100.270, Time=90.93 sec\n",
      " ARIMA(0,1,1)(0,1,0)[52]             : AIC=-102.270, Time=7.92 sec\n",
      " ARIMA(0,1,1)(1,1,0)[52]             : AIC=-79.972, Time=41.29 sec\n",
      " ARIMA(0,1,1)(1,1,1)[52]             : AIC=-98.270, Time=80.94 sec\n",
      " ARIMA(1,1,1)(0,1,0)[52]             : AIC=-100.273, Time=9.61 sec\n",
      " ARIMA(0,1,2)(0,1,0)[52]             : AIC=-100.587, Time=7.82 sec\n",
      " ARIMA(1,1,0)(0,1,0)[52]             : AIC=-100.779, Time=6.45 sec\n",
      " ARIMA(1,1,2)(0,1,0)[52]             : AIC=-98.600, Time=8.66 sec\n",
      " ARIMA(0,1,1)(0,1,0)[52] intercept   : AIC=-100.294, Time=9.53 sec\n",
      "\n",
      "Best model:  ARIMA(0,1,1)(0,1,0)[52]          \n",
      "Total fit time: 322.353 seconds\n"
     ]
    }
   ],
   "source": [
    "arima_model =  auto_arima(trainY, d=1,\n",
    "                          max_p=10, max_d=5, max_q=5, \n",
    "                          start_P=0, D=1, start_Q=0, \n",
    "                          max_P=5, max_D=5, max_Q=5, \n",
    "                          m=52, seasonal=True, error_action='warn',trace = True,\n",
    "                          supress_warnings=True,stepwise = True,\n",
    "                          random_state=seed_value,n_fits = 50,\n",
    "                         out_of_sample_size=8)"
   ]
  },
  {
   "cell_type": "code",
   "execution_count": 29,
   "id": "d57fafbc",
   "metadata": {
    "scrolled": true
   },
   "outputs": [
    {
     "data": {
      "text/html": [
       "<table class=\"simpletable\">\n",
       "<caption>SARIMAX Results</caption>\n",
       "<tr>\n",
       "  <th>Dep. Variable:</th>                  <td>y</td>                <th>  No. Observations:  </th>    <td>146</td>  \n",
       "</tr>\n",
       "<tr>\n",
       "  <th>Model:</th>           <td>SARIMAX(0, 1, 1)x(0, 1, [], 52)</td> <th>  Log Likelihood     </th>  <td>65.135</td> \n",
       "</tr>\n",
       "<tr>\n",
       "  <th>Date:</th>                   <td>Mon, 28 Feb 2022</td>         <th>  AIC                </th> <td>-102.270</td>\n",
       "</tr>\n",
       "<tr>\n",
       "  <th>Time:</th>                       <td>12:21:48</td>             <th>  BIC                </th>  <td>-66.813</td>\n",
       "</tr>\n",
       "<tr>\n",
       "  <th>Sample:</th>                         <td>0</td>                <th>  HQIC               </th>  <td>-87.953</td>\n",
       "</tr>\n",
       "<tr>\n",
       "  <th></th>                             <td> - 146</td>              <th>                     </th>     <td> </td>   \n",
       "</tr>\n",
       "<tr>\n",
       "  <th>Covariance Type:</th>               <td>opg</td>               <th>                     </th>     <td> </td>   \n",
       "</tr>\n",
       "</table>\n",
       "<table class=\"simpletable\">\n",
       "<tr>\n",
       "     <td></td>       <th>coef</th>     <th>std err</th>      <th>z</th>      <th>P>|z|</th>  <th>[0.025</th>    <th>0.975]</th>  \n",
       "</tr>\n",
       "<tr>\n",
       "  <th>x1</th>     <td>-2.119e-05</td> <td> 8.39e-06</td> <td>   -2.525</td> <td> 0.012</td> <td>-3.76e-05</td> <td>-4.74e-06</td>\n",
       "</tr>\n",
       "<tr>\n",
       "  <th>x2</th>     <td>   -0.0316</td> <td>    0.025</td> <td>   -1.268</td> <td> 0.205</td> <td>   -0.080</td> <td>    0.017</td>\n",
       "</tr>\n",
       "<tr>\n",
       "  <th>x3</th>     <td>    0.1264</td> <td>    0.769</td> <td>    0.164</td> <td> 0.869</td> <td>   -1.381</td> <td>    1.634</td>\n",
       "</tr>\n",
       "<tr>\n",
       "  <th>x4</th>     <td>   -0.0102</td> <td>    0.010</td> <td>   -1.042</td> <td> 0.297</td> <td>   -0.029</td> <td>    0.009</td>\n",
       "</tr>\n",
       "<tr>\n",
       "  <th>x5</th>     <td>   -0.0013</td> <td>    0.001</td> <td>   -1.537</td> <td> 0.124</td> <td>   -0.003</td> <td>    0.000</td>\n",
       "</tr>\n",
       "<tr>\n",
       "  <th>x6</th>     <td>   -0.9101</td> <td>    4.041</td> <td>   -0.225</td> <td> 0.822</td> <td>   -8.830</td> <td>    7.010</td>\n",
       "</tr>\n",
       "<tr>\n",
       "  <th>x7</th>     <td>-3.969e-05</td> <td>    0.001</td> <td>   -0.047</td> <td> 0.962</td> <td>   -0.002</td> <td>    0.002</td>\n",
       "</tr>\n",
       "<tr>\n",
       "  <th>x8</th>     <td>    0.0711</td> <td>    0.025</td> <td>    2.829</td> <td> 0.005</td> <td>    0.022</td> <td>    0.120</td>\n",
       "</tr>\n",
       "<tr>\n",
       "  <th>x9</th>     <td>   -0.0064</td> <td>    0.035</td> <td>   -0.184</td> <td> 0.854</td> <td>   -0.075</td> <td>    0.062</td>\n",
       "</tr>\n",
       "<tr>\n",
       "  <th>x10</th>    <td>    0.0130</td> <td>    0.042</td> <td>    0.313</td> <td> 0.754</td> <td>   -0.068</td> <td>    0.094</td>\n",
       "</tr>\n",
       "<tr>\n",
       "  <th>x11</th>    <td>    0.0263</td> <td>    0.044</td> <td>    0.602</td> <td> 0.547</td> <td>   -0.059</td> <td>    0.112</td>\n",
       "</tr>\n",
       "<tr>\n",
       "  <th>x12</th>    <td>   -0.0205</td> <td>    0.022</td> <td>   -0.948</td> <td> 0.343</td> <td>   -0.063</td> <td>    0.022</td>\n",
       "</tr>\n",
       "<tr>\n",
       "  <th>ma.L1</th>  <td>    0.3735</td> <td>    0.205</td> <td>    1.818</td> <td> 0.069</td> <td>   -0.029</td> <td>    0.776</td>\n",
       "</tr>\n",
       "<tr>\n",
       "  <th>sigma2</th> <td>    0.0158</td> <td>    0.003</td> <td>    5.260</td> <td> 0.000</td> <td>    0.010</td> <td>    0.022</td>\n",
       "</tr>\n",
       "</table>\n",
       "<table class=\"simpletable\">\n",
       "<tr>\n",
       "  <th>Ljung-Box (L1) (Q):</th>     <td>0.01</td> <th>  Jarque-Bera (JB):  </th> <td>10.58</td>\n",
       "</tr>\n",
       "<tr>\n",
       "  <th>Prob(Q):</th>                <td>0.91</td> <th>  Prob(JB):          </th> <td>0.01</td> \n",
       "</tr>\n",
       "<tr>\n",
       "  <th>Heteroskedasticity (H):</th> <td>0.49</td> <th>  Skew:              </th> <td>0.27</td> \n",
       "</tr>\n",
       "<tr>\n",
       "  <th>Prob(H) (two-sided):</th>    <td>0.05</td> <th>  Kurtosis:          </th> <td>4.56</td> \n",
       "</tr>\n",
       "</table><br/><br/>Warnings:<br/>[1] Covariance matrix calculated using the outer product of gradients (complex-step)."
      ],
      "text/plain": [
       "<class 'statsmodels.iolib.summary.Summary'>\n",
       "\"\"\"\n",
       "                                      SARIMAX Results                                      \n",
       "===========================================================================================\n",
       "Dep. Variable:                                   y   No. Observations:                  146\n",
       "Model:             SARIMAX(0, 1, 1)x(0, 1, [], 52)   Log Likelihood                  65.135\n",
       "Date:                             Mon, 28 Feb 2022   AIC                           -102.270\n",
       "Time:                                     12:21:48   BIC                            -66.813\n",
       "Sample:                                          0   HQIC                           -87.953\n",
       "                                             - 146                                         \n",
       "Covariance Type:                               opg                                         \n",
       "==============================================================================\n",
       "                 coef    std err          z      P>|z|      [0.025      0.975]\n",
       "------------------------------------------------------------------------------\n",
       "x1         -2.119e-05   8.39e-06     -2.525      0.012   -3.76e-05   -4.74e-06\n",
       "x2            -0.0316      0.025     -1.268      0.205      -0.080       0.017\n",
       "x3             0.1264      0.769      0.164      0.869      -1.381       1.634\n",
       "x4            -0.0102      0.010     -1.042      0.297      -0.029       0.009\n",
       "x5            -0.0013      0.001     -1.537      0.124      -0.003       0.000\n",
       "x6            -0.9101      4.041     -0.225      0.822      -8.830       7.010\n",
       "x7         -3.969e-05      0.001     -0.047      0.962      -0.002       0.002\n",
       "x8             0.0711      0.025      2.829      0.005       0.022       0.120\n",
       "x9            -0.0064      0.035     -0.184      0.854      -0.075       0.062\n",
       "x10            0.0130      0.042      0.313      0.754      -0.068       0.094\n",
       "x11            0.0263      0.044      0.602      0.547      -0.059       0.112\n",
       "x12           -0.0205      0.022     -0.948      0.343      -0.063       0.022\n",
       "ma.L1          0.3735      0.205      1.818      0.069      -0.029       0.776\n",
       "sigma2         0.0158      0.003      5.260      0.000       0.010       0.022\n",
       "===================================================================================\n",
       "Ljung-Box (L1) (Q):                   0.01   Jarque-Bera (JB):                10.58\n",
       "Prob(Q):                              0.91   Prob(JB):                         0.01\n",
       "Heteroskedasticity (H):               0.49   Skew:                             0.27\n",
       "Prob(H) (two-sided):                  0.05   Kurtosis:                         4.56\n",
       "===================================================================================\n",
       "\n",
       "Warnings:\n",
       "[1] Covariance matrix calculated using the outer product of gradients (complex-step).\n",
       "\"\"\""
      ]
     },
     "execution_count": 29,
     "metadata": {},
     "output_type": "execute_result"
    }
   ],
   "source": [
    "arima_model.summary()"
   ]
  },
  {
   "cell_type": "code",
   "execution_count": 30,
   "id": "0e9be4eb",
   "metadata": {},
   "outputs": [
    {
     "data": {
      "text/plain": [
       "{'maxiter': 50,\n",
       " 'method': 'lbfgs',\n",
       " 'order': (0, 1, 1),\n",
       " 'out_of_sample_size': 8,\n",
       " 'scoring': 'mse',\n",
       " 'scoring_args': {},\n",
       " 'seasonal_order': (0, 1, 0, 52),\n",
       " 'start_params': None,\n",
       " 'suppress_warnings': True,\n",
       " 'trend': None,\n",
       " 'with_intercept': False}"
      ]
     },
     "execution_count": 30,
     "metadata": {},
     "output_type": "execute_result"
    }
   ],
   "source": [
    "arima_model.get_params()"
   ]
  },
  {
   "cell_type": "code",
   "execution_count": 34,
   "id": "27c6610b",
   "metadata": {},
   "outputs": [],
   "source": [
    "y_pred = arima_model.predict(n_periods = 8)\n",
    "y_pred_inv = y_scaler.inverse_transform(y_pred.reshape((-1, 1)))"
   ]
  },
  {
   "cell_type": "code",
   "execution_count": 52,
   "id": "52dd1d98",
   "metadata": {},
   "outputs": [
    {
     "data": {
      "text/html": [
       "<div>\n",
       "<style scoped>\n",
       "    .dataframe tbody tr th:only-of-type {\n",
       "        vertical-align: middle;\n",
       "    }\n",
       "\n",
       "    .dataframe tbody tr th {\n",
       "        vertical-align: top;\n",
       "    }\n",
       "\n",
       "    .dataframe thead th {\n",
       "        text-align: right;\n",
       "    }\n",
       "</style>\n",
       "<table border=\"1\" class=\"dataframe\">\n",
       "  <thead>\n",
       "    <tr style=\"text-align: right;\">\n",
       "      <th></th>\n",
       "      <th>VMT</th>\n",
       "    </tr>\n",
       "    <tr>\n",
       "      <th>Week</th>\n",
       "      <th></th>\n",
       "    </tr>\n",
       "  </thead>\n",
       "  <tbody>\n",
       "    <tr>\n",
       "      <th>2021-11-08</th>\n",
       "      <td>7.286470e+07</td>\n",
       "    </tr>\n",
       "    <tr>\n",
       "      <th>2021-11-15</th>\n",
       "      <td>7.707957e+07</td>\n",
       "    </tr>\n",
       "    <tr>\n",
       "      <th>2021-11-22</th>\n",
       "      <td>6.975810e+07</td>\n",
       "    </tr>\n",
       "    <tr>\n",
       "      <th>2021-11-29</th>\n",
       "      <td>7.943788e+07</td>\n",
       "    </tr>\n",
       "    <tr>\n",
       "      <th>2021-12-06</th>\n",
       "      <td>7.708585e+07</td>\n",
       "    </tr>\n",
       "    <tr>\n",
       "      <th>2021-12-13</th>\n",
       "      <td>7.963147e+07</td>\n",
       "    </tr>\n",
       "    <tr>\n",
       "      <th>2021-12-20</th>\n",
       "      <td>7.315534e+07</td>\n",
       "    </tr>\n",
       "    <tr>\n",
       "      <th>2021-12-27</th>\n",
       "      <td>6.718594e+07</td>\n",
       "    </tr>\n",
       "  </tbody>\n",
       "</table>\n",
       "</div>"
      ],
      "text/plain": [
       "                     VMT\n",
       "Week                    \n",
       "2021-11-08  7.286470e+07\n",
       "2021-11-15  7.707957e+07\n",
       "2021-11-22  6.975810e+07\n",
       "2021-11-29  7.943788e+07\n",
       "2021-12-06  7.708585e+07\n",
       "2021-12-13  7.963147e+07\n",
       "2021-12-20  7.315534e+07\n",
       "2021-12-27  6.718594e+07"
      ]
     },
     "execution_count": 52,
     "metadata": {},
     "output_type": "execute_result"
    }
   ],
   "source": [
    "prediction = pd.DataFrame(y_pred_inv,index=testY.index, columns=['VMT'])\n",
    "prediction"
   ]
  },
  {
   "cell_type": "code",
   "execution_count": 43,
   "id": "31e322e6",
   "metadata": {},
   "outputs": [],
   "source": [
    "trainY_inv = pd.DataFrame(y_scaler.inverse_transform(trainY), index=trainY.index, columns=['VMT'])\n",
    "testY_inv = pd.DataFrame(y_scaler.inverse_transform(testY), index=testY.index, columns=['VMT'])"
   ]
  },
  {
   "cell_type": "code",
   "execution_count": 44,
   "id": "1077f8ed",
   "metadata": {},
   "outputs": [
    {
     "data": {
      "image/png": "[encoded data removed]",
      "text/plain": [
       "<Figure size 576x360 with 1 Axes>"
      ]
     },
     "metadata": {
      "needs_background": "light"
     },
     "output_type": "display_data"
    }
   ],
   "source": [
    "plt.figure(figsize=(8,5))\n",
    "plt.plot(trainY_inv,label=\"Training\")\n",
    "plt.plot(testY_inv,label=\"Test\")\n",
    "plt.plot(prediction,label=\"Predicted\")\n",
    "plt.legend(loc = 'upper left')\n",
    "plt.show()"
   ]
  },
  {
   "cell_type": "code",
   "execution_count": 45,
   "id": "1f9011fd",
   "metadata": {},
   "outputs": [
    {
     "data": {
      "text/html": [
       "<div>\n",
       "<style scoped>\n",
       "    .dataframe tbody tr th:only-of-type {\n",
       "        vertical-align: middle;\n",
       "    }\n",
       "\n",
       "    .dataframe tbody tr th {\n",
       "        vertical-align: top;\n",
       "    }\n",
       "\n",
       "    .dataframe thead th {\n",
       "        text-align: right;\n",
       "    }\n",
       "</style>\n",
       "<table border=\"1\" class=\"dataframe\">\n",
       "  <thead>\n",
       "    <tr style=\"text-align: right;\">\n",
       "      <th></th>\n",
       "      <th>VMT</th>\n",
       "      <th>Predicted_VMT</th>\n",
       "    </tr>\n",
       "    <tr>\n",
       "      <th>Week</th>\n",
       "      <th></th>\n",
       "      <th></th>\n",
       "    </tr>\n",
       "  </thead>\n",
       "  <tbody>\n",
       "    <tr>\n",
       "      <th>2021-11-08</th>\n",
       "      <td>79542545.3</td>\n",
       "      <td>7.286470e+07</td>\n",
       "    </tr>\n",
       "    <tr>\n",
       "      <th>2021-11-15</th>\n",
       "      <td>80116497.7</td>\n",
       "      <td>7.707957e+07</td>\n",
       "    </tr>\n",
       "    <tr>\n",
       "      <th>2021-11-22</th>\n",
       "      <td>72167973.1</td>\n",
       "      <td>6.975810e+07</td>\n",
       "    </tr>\n",
       "    <tr>\n",
       "      <th>2021-11-29</th>\n",
       "      <td>79550158.9</td>\n",
       "      <td>7.943788e+07</td>\n",
       "    </tr>\n",
       "    <tr>\n",
       "      <th>2021-12-06</th>\n",
       "      <td>75668913.3</td>\n",
       "      <td>7.708585e+07</td>\n",
       "    </tr>\n",
       "    <tr>\n",
       "      <th>2021-12-13</th>\n",
       "      <td>77809476.1</td>\n",
       "      <td>7.963147e+07</td>\n",
       "    </tr>\n",
       "    <tr>\n",
       "      <th>2021-12-20</th>\n",
       "      <td>71502911.8</td>\n",
       "      <td>7.315534e+07</td>\n",
       "    </tr>\n",
       "    <tr>\n",
       "      <th>2021-12-27</th>\n",
       "      <td>62352608.0</td>\n",
       "      <td>6.718594e+07</td>\n",
       "    </tr>\n",
       "  </tbody>\n",
       "</table>\n",
       "</div>"
      ],
      "text/plain": [
       "                   VMT  Predicted_VMT\n",
       "Week                                 \n",
       "2021-11-08  79542545.3   7.286470e+07\n",
       "2021-11-15  80116497.7   7.707957e+07\n",
       "2021-11-22  72167973.1   6.975810e+07\n",
       "2021-11-29  79550158.9   7.943788e+07\n",
       "2021-12-06  75668913.3   7.708585e+07\n",
       "2021-12-13  77809476.1   7.963147e+07\n",
       "2021-12-20  71502911.8   7.315534e+07\n",
       "2021-12-27  62352608.0   6.718594e+07"
      ]
     },
     "execution_count": 45,
     "metadata": {},
     "output_type": "execute_result"
    }
   ],
   "source": [
    "from sklearn.metrics import r2_score\n",
    "testY_inv = pd.DataFrame(testY_inv)\n",
    "testY_inv['Predicted_VMT'] = prediction\n",
    "testY_inv"
   ]
  },
  {
   "cell_type": "code",
   "execution_count": 46,
   "id": "d7fec022",
   "metadata": {},
   "outputs": [
    {
     "data": {
      "image/png": "[encoded data removed]",
      "text/plain": [
       "<Figure size 576x360 with 1 Axes>"
      ]
     },
     "metadata": {
      "needs_background": "light"
     },
     "output_type": "display_data"
    }
   ],
   "source": [
    "plt.figure(figsize=(8,5))\n",
    "plt.plot(testY_inv['VMT'],label=\"Test\")\n",
    "plt.plot(prediction,label=\"Predicted\")\n",
    "plt.legend(loc = 'upper left')\n",
    "plt.show()"
   ]
  },
  {
   "cell_type": "code",
   "execution_count": 47,
   "id": "e3275476",
   "metadata": {},
   "outputs": [
    {
     "data": {
      "text/plain": [
       "0.6441145910268917"
      ]
     },
     "execution_count": 47,
     "metadata": {},
     "output_type": "execute_result"
    }
   ],
   "source": [
    "r2_score(testY_inv['VMT'], testY_inv['Predicted_VMT'])"
   ]
  },
  {
   "cell_type": "code",
   "execution_count": 48,
   "id": "f032d064",
   "metadata": {},
   "outputs": [
    {
     "data": {
      "text/plain": [
       "0.03742889776463623"
      ]
     },
     "execution_count": 48,
     "metadata": {},
     "output_type": "execute_result"
    }
   ],
   "source": [
    "mean_absolute_percentage_error(testY_inv['VMT'], testY_inv['Predicted_VMT'])"
   ]
  },
  {
   "cell_type": "code",
   "execution_count": 49,
   "id": "217e4793",
   "metadata": {},
   "outputs": [
    {
     "data": {
      "text/plain": [
       "11381957272872.09"
      ]
     },
     "execution_count": 49,
     "metadata": {},
     "output_type": "execute_result"
    }
   ],
   "source": [
    "mean_squared_error(testY_inv['VMT'], testY_inv['Predicted_VMT'])"
   ]
  },
  {
   "cell_type": "code",
   "execution_count": 50,
   "id": "1c443fc2",
   "metadata": {},
   "outputs": [
    {
     "data": {
      "text/plain": [
       "3373715.64789804"
      ]
     },
     "execution_count": 50,
     "metadata": {},
     "output_type": "execute_result"
    }
   ],
   "source": [
    "mean_squared_error(testY_inv['VMT'], testY_inv['Predicted_VMT'], squared=False)"
   ]
  },
  {
   "cell_type": "code",
   "execution_count": 51,
   "id": "1facf41b",
   "metadata": {},
   "outputs": [],
   "source": [
    "import pickle\n",
    "\n",
    "with open('arima2.pkl', 'wb') as pkl:\n",
    "    pickle.dump(arima_model, pkl)"
   ]
  }
 ],
 "metadata": {
  "kernelspec": {
   "display_name": "Python 3 (ipykernel)",
   "language": "python",
   "name": "python3"
  },
  "language_info": {
   "codemirror_mode": {
    "name": "ipython",
    "version": 3
   },
   "file_extension": ".py",
   "mimetype": "text/x-python",
   "name": "python",
   "nbconvert_exporter": "python",
   "pygments_lexer": "ipython3",
   "version": "3.8.12"
  }
 },
 "nbformat": 4,
 "nbformat_minor": 5
}

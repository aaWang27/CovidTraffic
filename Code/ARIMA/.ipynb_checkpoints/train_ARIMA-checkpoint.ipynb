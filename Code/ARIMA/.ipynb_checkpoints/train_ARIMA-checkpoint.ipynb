{
 "cells": [
  {
   "cell_type": "code",
   "execution_count": null,
   "id": "d973c835",
   "metadata": {},
   "outputs": [],
   "source": [
    "import config\n",
    "import os\n",
    "import random\n",
    "import utils\n",
    "\n",
    "import numpy as np\n",
    "import pandas as pd\n",
    "from sklearn.metrics import mean_squared_error, mean_absolute_percentage_error\n",
    "from sklearn import preprocessing\n",
    "\n",
    "import pmdarima as pm\n",
    "from pmdarima.arima import auto_arima\n",
    "from pmdarima.arima import CHTest\n",
    "from pmdarima.arima import ADFTest, KPSSTest\n",
    "from pmdarima.arima.utils import ndiffs, nsdiffs\n",
    "from pmdarima.utils import tsdisplay\n",
    "from pmdarima.preprocessing import BoxCoxEndogTransformer\n",
    "\n",
    "import matplotlib as mpl\n",
    "import matplotlib.pyplot as plt\n",
    "%matplotlib inline"
   ]
  },
  {
   "cell_type": "code",
   "execution_count": null,
   "id": "0779bf79",
   "metadata": {},
   "outputs": [],
   "source": [
    "seed_value = 42\n",
    "os.environ['PYTHONHASHSEED'] = str(seed_value)\n",
    "random.seed(seed_value)\n",
    "np.random.seed(seed_value)"
   ]
  },
  {
   "cell_type": "markdown",
   "id": "86ba46f8",
   "metadata": {},
   "source": [
    "Load Data"
   ]
  },
  {
   "cell_type": "code",
   "execution_count": null,
   "id": "6b863ce7",
   "metadata": {
    "scrolled": true
   },
   "outputs": [],
   "source": [
    "saltlake_week = pd.read_csv('../saltlake_week.csv')\n",
    "saltlake_week"
   ]
  },
  {
   "cell_type": "code",
   "execution_count": null,
   "id": "646d2e98",
   "metadata": {},
   "outputs": [],
   "source": [
    "y = saltlake_week[['Day', 'VMT (Veh-Miles)']].iloc[53:, :]\n",
    "y.columns = ['Week', 'VMT']\n",
    "y['Week'] = pd.to_datetime(y['Week'])\n",
    "y.head()"
   ]
  },
  {
   "cell_type": "code",
   "execution_count": null,
   "id": "665cd556",
   "metadata": {},
   "outputs": [],
   "source": [
    "y.tail()"
   ]
  },
  {
   "cell_type": "code",
   "execution_count": null,
   "id": "b1f5e7da",
   "metadata": {
    "scrolled": true
   },
   "outputs": [],
   "source": [
    "y.set_index('Week', inplace=True)\n",
    "y.head()"
   ]
  },
  {
   "cell_type": "code",
   "execution_count": null,
   "id": "a0d3b3e1",
   "metadata": {},
   "outputs": [],
   "source": [
    "from pmdarima.utils import pacf\n",
    "\n",
    "plt.plot(pacf(y))"
   ]
  },
  {
   "cell_type": "code",
   "execution_count": null,
   "id": "c6b145d4",
   "metadata": {},
   "outputs": [],
   "source": [
    "from pandas.plotting import autocorrelation_plot\n",
    "\n",
    "autocorrelation_plot(y)"
   ]
  },
  {
   "cell_type": "code",
   "execution_count": null,
   "id": "fae8b7e5",
   "metadata": {
    "scrolled": true
   },
   "outputs": [],
   "source": [
    "from statsmodels.graphics.tsaplots import plot_acf\n",
    "from statsmodels.graphics.tsaplots import plot_pacf\n",
    "\n",
    "plot_acf(y['VMT'])"
   ]
  },
  {
   "cell_type": "code",
   "execution_count": null,
   "id": "ebab1e05",
   "metadata": {},
   "outputs": [],
   "source": [
    "plot_pacf(y['VMT'], method='ywm')"
   ]
  },
  {
   "cell_type": "code",
   "execution_count": null,
   "id": "e5c2eeb0",
   "metadata": {
    "scrolled": true
   },
   "outputs": [],
   "source": [
    "X = saltlake_week[['Day', 'Cases', 'News Sentiment', 'Unemployment Rate', 'PRCP', 'SNWD',\n",
    "                         'Percent_Fully_Vaccinated_5&Older', 'TAVG',\n",
    "                         'Stay at Home', 'Mask', 'School Opening', 'Health Emergency', 'Holiday']].iloc[53:209, :]\n",
    "X.columns = ['Week', 'Cases', 'News Sentiment', 'Unemployment Rate', 'PRCP', 'SNWD',\n",
    "                         'Percent_Fully_Vaccinated_5&Older', 'TAVG',\n",
    "                         'Stay at Home', 'Mask', 'School Opening', 'Health Emergency', 'Holiday']\n",
    "X.head()"
   ]
  },
  {
   "cell_type": "code",
   "execution_count": null,
   "id": "0c32fb7d",
   "metadata": {
    "scrolled": false
   },
   "outputs": [],
   "source": [
    "X['Week'] = pd.to_datetime(X['Week'])\n",
    "X.dtypes"
   ]
  },
  {
   "cell_type": "code",
   "execution_count": null,
   "id": "128a84d1",
   "metadata": {
    "scrolled": true
   },
   "outputs": [],
   "source": [
    "X.set_index('Week', inplace=True)\n",
    "X.head()"
   ]
  },
  {
   "cell_type": "code",
   "execution_count": null,
   "id": "1f7811c0",
   "metadata": {},
   "outputs": [],
   "source": [
    "for column in X.columns:\n",
    "    plot_acf(X[column], title=column)"
   ]
  },
  {
   "cell_type": "markdown",
   "id": "a4744d3e",
   "metadata": {},
   "source": [
    "Test X for Stationarity"
   ]
  },
  {
   "cell_type": "code",
   "execution_count": null,
   "id": "ea9c28e1",
   "metadata": {
    "scrolled": true
   },
   "outputs": [],
   "source": [
    "def adf_test(series, a=0.05, name=''):\n",
    "    adf_test = ADFTest(alpha = 0.05)\n",
    "    p_value = adf_test.should_diff(series)[0]\n",
    "\n",
    "    if p_value <= a:\n",
    "        print(f\" {name} : P-Value = {p_value} => Stationary. \")\n",
    "    else:\n",
    "        print(f\" {name} : P-Value = {p_value} => Non-stationary.\")\n",
    "\n",
    "for column in X.columns:\n",
    "    adf_test(X[column], name=column)"
   ]
  },
  {
   "cell_type": "markdown",
   "id": "2f45dca3",
   "metadata": {},
   "source": [
    "If data is not stationary, perform differencing until all data is."
   ]
  },
  {
   "cell_type": "code",
   "execution_count": null,
   "id": "858524c3",
   "metadata": {},
   "outputs": [],
   "source": [
    "X_diff = X.diff().dropna()\n",
    "for column in X_diff.columns:\n",
    "    adf_test(X_diff[column], name=column)"
   ]
  },
  {
   "cell_type": "code",
   "execution_count": null,
   "id": "568734eb",
   "metadata": {
    "scrolled": true
   },
   "outputs": [],
   "source": [
    "X_diff2 = X_diff.diff().dropna()\n",
    "for column in X_diff2.columns:\n",
    "    adf_test(X_diff2[column], name=column)"
   ]
  },
  {
   "cell_type": "markdown",
   "id": "f9905b27",
   "metadata": {},
   "source": [
    "Visualize stationary data"
   ]
  },
  {
   "cell_type": "code",
   "execution_count": null,
   "id": "2c8635eb",
   "metadata": {
    "scrolled": true
   },
   "outputs": [],
   "source": [
    "for column in X_diff2.columns:\n",
    "    plt.figure()\n",
    "    plt.plot(X_diff2[column])\n",
    "    plt.title(column)"
   ]
  },
  {
   "cell_type": "code",
   "execution_count": null,
   "id": "e11aa6de",
   "metadata": {},
   "outputs": [],
   "source": [
    "X_diff2.shape"
   ]
  },
  {
   "cell_type": "markdown",
   "id": "0c82348b",
   "metadata": {},
   "source": [
    "Stationarity test on y"
   ]
  },
  {
   "cell_type": "code",
   "execution_count": null,
   "id": "b786b685",
   "metadata": {},
   "outputs": [],
   "source": [
    "adf_test(y, name='VMT')"
   ]
  },
  {
   "cell_type": "markdown",
   "id": "c993a1a9",
   "metadata": {},
   "source": [
    "Find best value of d"
   ]
  },
  {
   "cell_type": "code",
   "execution_count": null,
   "id": "c8b6716d",
   "metadata": {},
   "outputs": [],
   "source": [
    "y_diff = y.diff().dropna()\n",
    "adf_test(y_diff, name='VMT') # d=1"
   ]
  },
  {
   "cell_type": "markdown",
   "id": "953566ad",
   "metadata": {},
   "source": [
    "Best value of D"
   ]
  },
  {
   "cell_type": "code",
   "execution_count": null,
   "id": "010bc6c6",
   "metadata": {
    "scrolled": true
   },
   "outputs": [],
   "source": [
    "nsdiffs(y,\n",
    "            m=52,\n",
    "            max_D=12,\n",
    "            test='ch')"
   ]
  },
  {
   "cell_type": "code",
   "execution_count": null,
   "id": "64f11932",
   "metadata": {},
   "outputs": [],
   "source": [
    "y_scaler, y_scaled = utils.scale(y)"
   ]
  },
  {
   "cell_type": "code",
   "execution_count": null,
   "id": "97f41d4f",
   "metadata": {
    "scrolled": true
   },
   "outputs": [],
   "source": [
    "y_scaled = pd.DataFrame(y_scaled)\n",
    "y_scaled"
   ]
  },
  {
   "cell_type": "code",
   "execution_count": null,
   "id": "71ba5739",
   "metadata": {
    "scrolled": true
   },
   "outputs": [],
   "source": [
    "y_scaled.columns = ['VMT']\n",
    "y_scaled.index = y.index\n",
    "y_scaled"
   ]
  },
  {
   "cell_type": "markdown",
   "id": "315ac2cc",
   "metadata": {},
   "source": [
    "Separate data into training and testing sets (8 weeks for testing)"
   ]
  },
  {
   "cell_type": "code",
   "execution_count": null,
   "id": "64116acd",
   "metadata": {},
   "outputs": [],
   "source": [
    "trainX_diff2 = X_diff2.iloc[:150, :]\n",
    "testX_diff2 = X_diff2.iloc[150:, :]\n",
    "trainY = y_scaled.iloc[2:152, :]\n",
    "testY = y_scaled.iloc[152:, :]"
   ]
  },
  {
   "cell_type": "code",
   "execution_count": null,
   "id": "b0f91f3c",
   "metadata": {},
   "outputs": [],
   "source": [
    "print(trainX_diff2.shape)\n",
    "print(trainY.shape)\n",
    "print(testX_diff2.shape)"
   ]
  },
  {
   "cell_type": "markdown",
   "id": "eba1bf3f",
   "metadata": {},
   "source": [
    "Visualize training and testing sets"
   ]
  },
  {
   "cell_type": "code",
   "execution_count": null,
   "id": "b35ceb43",
   "metadata": {
    "scrolled": true
   },
   "outputs": [],
   "source": [
    "plt.plot(trainY)\n",
    "plt.plot(testY)"
   ]
  },
  {
   "cell_type": "markdown",
   "id": "49f86e2b",
   "metadata": {},
   "source": [
    "Create and fit ARIMA model"
   ]
  },
  {
   "cell_type": "code",
   "execution_count": null,
   "id": "6dc6d1f1",
   "metadata": {
    "scrolled": true
   },
   "outputs": [],
   "source": [
    "arima_model =  auto_arima(trainY, trainX_diff2, d=1,\n",
    "                          max_p=10, max_d=5, max_q=5, \n",
    "                          start_P=0, D=1, start_Q=0, \n",
    "                          max_P=5, max_D=5, max_Q=5, \n",
    "                          m=52, seasonal=True, error_action='warn',trace = True,\n",
    "                          supress_warnings=True,stepwise = True,\n",
    "                          random_state=seed_value,n_fits = 50)"
   ]
  },
  {
   "cell_type": "code",
   "execution_count": null,
   "id": "d57fafbc",
   "metadata": {
    "scrolled": true
   },
   "outputs": [],
   "source": [
    "arima_model.summary()"
   ]
  },
  {
   "cell_type": "code",
   "execution_count": null,
   "id": "0e9be4eb",
   "metadata": {},
   "outputs": [],
   "source": [
    "arima_model.get_params()"
   ]
  },
  {
   "cell_type": "code",
   "execution_count": null,
   "id": "27c6610b",
   "metadata": {},
   "outputs": [],
   "source": [
    "y_pred = arima_model.predict(n_periods = 4, X=testX_diff2)\n",
    "y_pred_inv = y_scaler.inverse_transform(y_pred.reshape((-1, 1)))"
   ]
  },
  {
   "cell_type": "code",
   "execution_count": null,
   "id": "52dd1d98",
   "metadata": {},
   "outputs": [],
   "source": [
    "prediction = pd.DataFrame(y_pred_inv,index=testX_diff2.index, columns=['VMT'])\n",
    "prediction"
   ]
  },
  {
   "cell_type": "code",
   "execution_count": null,
   "id": "31e322e6",
   "metadata": {},
   "outputs": [],
   "source": [
    "trainY_inv = pd.DataFrame(y_scaler.inverse_transform(trainY), index=trainY.index, columns=['VMT'])\n",
    "testY_inv = pd.DataFrame(y_scaler.inverse_transform(testY), index=testY.index, columns=['VMT'])"
   ]
  },
  {
   "cell_type": "code",
   "execution_count": null,
   "id": "1077f8ed",
   "metadata": {},
   "outputs": [],
   "source": [
    "plt.figure(figsize=(8,5))\n",
    "plt.plot(trainY_inv,label=\"Training\")\n",
    "plt.plot(testY_inv,label=\"Test\")\n",
    "plt.plot(prediction,label=\"Predicted\")\n",
    "plt.legend(loc = 'upper left')\n",
    "plt.show()"
   ]
  },
  {
   "cell_type": "code",
   "execution_count": null,
   "id": "1f9011fd",
   "metadata": {},
   "outputs": [],
   "source": [
    "from sklearn.metrics import r2_score\n",
    "testY_inv = pd.DataFrame(testY_inv)\n",
    "testY_inv['Predicted_VMT'] = prediction\n",
    "testY_inv"
   ]
  },
  {
   "cell_type": "code",
   "execution_count": null,
   "id": "d7fec022",
   "metadata": {},
   "outputs": [],
   "source": [
    "plt.figure(figsize=(8,5))\n",
    "plt.plot(testY_inv['VMT'],label=\"Test\")\n",
    "plt.plot(prediction,label=\"Predicted\")\n",
    "plt.legend(loc = 'upper left')\n",
    "plt.show()"
   ]
  },
  {
   "cell_type": "code",
   "execution_count": null,
   "id": "e3275476",
   "metadata": {},
   "outputs": [],
   "source": [
    "r2_score(testY_inv['VMT'], testY_inv['Predicted_VMT'])"
   ]
  },
  {
   "cell_type": "code",
   "execution_count": null,
   "id": "f032d064",
   "metadata": {},
   "outputs": [],
   "source": [
    "mean_absolute_percentage_error(testY_inv['VMT'], testY_inv['Predicted_VMT'])"
   ]
  },
  {
   "cell_type": "code",
   "execution_count": null,
   "id": "217e4793",
   "metadata": {},
   "outputs": [],
   "source": [
    "mean_squared_error(testY_inv['VMT'], testY_inv['Predicted_VMT'])"
   ]
  },
  {
   "cell_type": "code",
   "execution_count": null,
   "id": "1c443fc2",
   "metadata": {},
   "outputs": [],
   "source": [
    "mean_squared_error(testY_inv['VMT'], testY_inv['Predicted_VMT'], squared=False)"
   ]
  },
  {
   "cell_type": "code",
   "execution_count": null,
   "id": "1facf41b",
   "metadata": {},
   "outputs": [],
   "source": [
    "import pickle\n",
    "\n",
    "with open('arima.pkl', 'wb') as pkl:\n",
    "    pickle.dump(arima_model, pkl)"
   ]
  }
 ],
 "metadata": {
  "kernelspec": {
   "display_name": "Python 3 (ipykernel)",
   "language": "python",
   "name": "python3"
  },
  "language_info": {
   "codemirror_mode": {
    "name": "ipython",
    "version": 3
   },
   "file_extension": ".py",
   "mimetype": "text/x-python",
   "name": "python",
   "nbconvert_exporter": "python",
   "pygments_lexer": "ipython3",
   "version": "3.8.12"
  }
 },
 "nbformat": 4,
 "nbformat_minor": 5
}

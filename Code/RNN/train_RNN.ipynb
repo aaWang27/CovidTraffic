{
 "cells": [
  {
   "cell_type": "code",
   "execution_count": 1,
   "id": "c8c78c13",
   "metadata": {},
   "outputs": [],
   "source": [
    "import config\n",
    "import os\n",
    "import random\n",
    "import utils\n",
    "\n",
    "import numpy as np\n",
    "import pandas as pd\n",
    "import matplotlib as mpl\n",
    "import matplotlib.pyplot as plt\n",
    "\n",
    "# For RNN model\n",
    "import tensorflow as tf\n",
    "from tensorflow import keras\n",
    "from keras.models import Sequential\n",
    "from keras.layers import Dense, SimpleRNN, Dropout\n",
    "from keras.callbacks import EarlyStopping\n",
    "from tqdm.keras import TqdmCallback\n",
    "\n",
    "# For hyperopt (parameter optimization)\n",
    "from hyperopt import Trials, STATUS_OK, tpe, fmin, hp\n",
    "from hyperopt.pyll.base import scope  # quniform returns float, some parameters require int; use this to force int\n",
    "\n",
    "# Evaluation metrics\n",
    "from sklearn.metrics import mean_squared_error, mean_absolute_percentage_error\n",
    "\n",
    "%matplotlib inline"
   ]
  },
  {
   "cell_type": "code",
   "execution_count": 2,
   "id": "765abef9",
   "metadata": {},
   "outputs": [],
   "source": [
    "seed_value = 42\n",
    "os.environ['PYTHONHASHSEED'] = str(seed_value)\n",
    "random.seed(seed_value)\n",
    "np.random.seed(seed_value)\n",
    "tf.random.set_seed(seed_value)"
   ]
  },
  {
   "cell_type": "code",
   "execution_count": 3,
   "id": "5dd1e086",
   "metadata": {},
   "outputs": [],
   "source": [
    "def format_scale_data(data, weeks=1):\n",
    "    X_total = data.values\n",
    "\n",
    "    data = X_total[(53-weeks):, :]\n",
    "    print(data.shape)\n",
    "    scaler, values = utils.scale(data)\n",
    "    values = utils.series_to_supervised(values, n_in=weeks, n_out=1, dropnan=True).values\n",
    "\n",
    "    y_scaler, y = utils.scale(data[:, 1].reshape((len(data), 1)))\n",
    "\n",
    "    train = values[:140, :]\n",
    "    valid1 = values[140:144, :]\n",
    "    valid2 = values[144:148, :]\n",
    "    test = values[148:, :]\n",
    "    \n",
    "\n",
    "    features = 13\n",
    "    obs = weeks*features\n",
    "\n",
    "    y = values[:, -features:]\n",
    "\n",
    "    trainX = train[:, :obs]\n",
    "    trainY = train[:, -features:][:, 1]\n",
    "    validX1 = valid1[:, :obs]\n",
    "    validY1 = valid1[:, -features:][:, 1]\n",
    "    validX2 = valid2[:, :obs]\n",
    "    validY2 = valid2[:, -features:][:, 1]\n",
    "    testX = test[:, :obs]\n",
    "    testY = test[:, -features:][:, 1]\n",
    "\n",
    "    trainX = trainX.reshape((trainX.shape[0], weeks, features))\n",
    "    validX1 = validX1.reshape((validX1.shape[0], weeks, features))\n",
    "    validX2 = validX2.reshape((validX2.shape[0], weeks, features))\n",
    "    testX = testX.reshape((testX.shape[0], weeks, features))\n",
    "    \n",
    "    print(trainX.shape, validX1.shape, validX2.shape, testX.shape)\n",
    "\n",
    "    return trainX, trainY, validX1, validY1, validX2, validY2, testX, testY, scaler, y_scaler"
   ]
  },
  {
   "cell_type": "code",
   "execution_count": 14,
   "id": "4f750ffc",
   "metadata": {},
   "outputs": [],
   "source": [
    "def run():\n",
    "    def f_nn(params):\n",
    "        # Generate data with given window\n",
    "        saltlake_week = pd.read_csv('../saltlake_week.csv')\n",
    "        data = saltlake_week[['Cases', 'VMT (Veh-Miles)', 'News Sentiment', 'Unemployment Rate', 'PRCP', 'SNWD',\n",
    "                              'Percent_Fully_Vaccinated_5&Older', 'TAVG',\n",
    "                              'Stay at Home', 'Mask', 'School Opening', 'Health Emergency', 'Holiday']]\n",
    "        trainX, trainY, validX1, validY1, validX2, validY2, testX, testY, scaler, y_scaler = format_scale_data(data=data, \n",
    "                                                                                                               weeks=params['weeks'])\n",
    "        \n",
    "        # Keras LSTM model\n",
    "        model = Sequential()\n",
    "\n",
    "        model.add(SimpleRNN(units=params['units_1'], input_shape=(trainX.shape[1], trainX.shape[2]),\n",
    "                       activation='relu', return_sequences=True))                \n",
    "        model.add(Dropout(rate=params['dropout']))\n",
    "        model.add(SimpleRNN(units=params['units_2'],\n",
    "                       activation='relu', return_sequences=True))                \n",
    "        model.add(Dropout(rate=params['dropout']))\n",
    "        model.add(SimpleRNN(units=params['units_3'],\n",
    "                       activation='relu', return_sequences=True))                \n",
    "        model.add(Dropout(rate=params['dropout']))\n",
    "        model.add(SimpleRNN(units=params['units_4'],\n",
    "                       activation='relu'))                \n",
    "        model.add(Dropout(rate=params['dropout']))\n",
    "        model.add(Dense(1))\n",
    "        model.compile(optimizer=keras.optimizers.Adam(learning_rate=params['learning_rate']), \n",
    "                      loss='mean_squared_error', metrics=['mse', 'mape'])\n",
    "\n",
    "        es = EarlyStopping(monitor='val_loss', mode='min', verbose=1, patience=10, restore_best_weights=True)\n",
    "\n",
    "        result = model.fit(trainX, trainY, verbose=0, validation_data=(validX1, validY1),\n",
    "                            batch_size=4,\n",
    "                            epochs=200,\n",
    "                            callbacks=[es, TqdmCallback(verbose=1)]\n",
    "                            )\n",
    "\n",
    "        # get the lowest validation loss of the training epochs\n",
    "        validation_loss = np.amin(result.history['val_loss'])\n",
    "        print('Best validation loss of epoch:', validation_loss)\n",
    "\n",
    "\n",
    "        return {'loss': validation_loss, 'status': STATUS_OK, 'model': model, 'params': params}\n",
    "\n",
    "    # hyperparameters to search over with hyperopt\n",
    "    space = {'dropout': hp.uniform('dropout', 0.01, 0.5),\n",
    "             'units_1': scope.int(hp.quniform('units_1', 8, 128, 4)),\n",
    "             'units_2': scope.int(hp.quniform('units_2', 8, 128, 4)),\n",
    "             'units_3': scope.int(hp.quniform('units_3', 8, 128, 4)),\n",
    "             'units_4': scope.int(hp.quniform('units_4', 8, 128, 4)),\n",
    "             'weeks': scope.int(hp.quniform('weeks', 1, 10, 1)),\n",
    "             'learning_rate': hp.uniform('learning_rate', 0.001, 0.1)\n",
    "             }\n",
    "\n",
    "    trials = Trials()\n",
    "    best = fmin(f_nn, space, algo=tpe.suggest, max_evals=50, trials=trials)\n",
    "\n",
    "    # get best model\n",
    "    best_model = trials.results[np.argmin([r['loss'] for r in trials.results])]['model']\n",
    "    best_params = trials.results[np.argmin([r['loss'] for r in trials.results])]['params']\n",
    "\n",
    "    print(best_params)\n",
    "    print(best_model.summary())\n",
    "    best_model.save('Model/RNN-4')\n",
    "    \n",
    "    saltlake_week = pd.read_csv('../saltlake_week.csv')\n",
    "    data = saltlake_week[['Cases', 'VMT (Veh-Miles)', 'News Sentiment', 'Unemployment Rate', 'PRCP', 'SNWD',\n",
    "                          'Percent_Fully_Vaccinated_5&Older', 'TAVG', \n",
    "                          'Stay at Home', 'Mask', 'School Opening', 'Health Emergency', 'Holiday']]\n",
    "    trainX, trainY, validX1, validY1, validX2, validY2, testX, testY, scaler, y_scaler = format_scale_data(data=data, \n",
    "                                                                                                            weeks=best_params['weeks'])\n",
    "    \n",
    "    best_model.evaluate(validX2, validY2)\n",
    "    \n",
    "    yhat_valid2 = best_model.predict(validX2)\n",
    "    yhat_valid2_inv = y_scaler.inverse_transform(yhat_valid2)\n",
    "    validY2_inv = y_scaler.inverse_transform(validY2.reshape((-1, 1)))\n",
    "    \n",
    "    print(yhat_valid2.shape)\n",
    "    print(yhat_valid2_inv.shape)\n",
    "    print(validY2_inv.shape)\n",
    "    \n",
    "    yhat_train = best_model.predict(trainX)\n",
    "    yhat_train_inv = y_scaler.inverse_transform(yhat_train)\n",
    "    trainY_inv = y_scaler.inverse_transform(trainY.reshape((-1, 1)))\n",
    "    \n",
    "    print(\"Mean Squared Error: {}\".format(mean_squared_error(validY2_inv, yhat_valid2_inv)))\n",
    "    print(\"Root Mean Squared Error: {}\".format(mean_squared_error(validY2_inv, yhat_valid2_inv, squared=False)))\n",
    "    print(\"Mean Absolute Percentage Error: {}\".format(mean_absolute_percentage_error(validY2_inv, yhat_valid2_inv)))\n",
    "    \n",
    "    plt.figure()\n",
    "    plt.plot(yhat_valid2_inv, label='Predicted')\n",
    "    plt.plot(validY2_inv, label='True')\n",
    "    plt.legend()\n",
    "    plt.title(\"Validation Data 2\")\n",
    "    plt.show()\n",
    "    \n",
    "    plt.figure()\n",
    "    plt.plot(yhat_train_inv, label='Predicted')\n",
    "    plt.plot(trainY_inv, label='True')\n",
    "    plt.legend()\n",
    "    plt.title(\"Training Data\")\n",
    "    plt.show()\n",
    "    \n",
    "    return best_model"
   ]
  },
  {
   "cell_type": "code",
   "execution_count": 15,
   "id": "49c19166",
   "metadata": {
    "scrolled": true
   },
   "outputs": [
    {
     "name": "stdout",
     "output_type": "stream",
     "text": [
      "(162, 13)                                             \n",
      "(140, 6, 13)                                          \n",
      "(4, 6, 13)                                            \n",
      "(4, 6, 13)                                            \n",
      "(8, 6, 13)                                            \n",
      "  0%|          | 0/50 [00:00<?, ?trial/s, best loss=?]"
     ]
    },
    {
     "data": {
      "application/vnd.jupyter.widget-view+json": {
       "model_id": "aa5448d1603245dc8b2aaff312aceffd",
       "version_major": 2,
       "version_minor": 0
      },
      "text/plain": [
       "0epoch [00:00, ?epoch/s]"
      ]
     },
     "metadata": {},
     "output_type": "display_data"
    },
    {
     "data": {
      "application/vnd.jupyter.widget-view+json": {
       "model_id": "",
       "version_major": 2,
       "version_minor": 0
      },
      "text/plain": [
       "0batch [00:00, ?batch/s]"
      ]
     },
     "metadata": {},
     "output_type": "display_data"
    },
    {
     "name": "stdout",
     "output_type": "stream",
     "text": [
      "Restoring model weights from the end of the best epoch.\n",
      "Epoch 00018: early stopping                           \n",
      "Best validation loss of epoch:                        \n",
      "0.0014946518931537867                                 \n",
      "(158, 13)                                                                          \n",
      "(140, 2, 13)                                                                       \n",
      "(4, 2, 13)                                                                         \n",
      "(4, 2, 13)                                                                         \n",
      "(8, 2, 13)                                                                         \n",
      "  2%|▏         | 1/50 [00:09<07:25,  9.09s/trial, best loss: 0.0014946518931537867]"
     ]
    },
    {
     "data": {
      "application/vnd.jupyter.widget-view+json": {
       "model_id": "3a2c5aac41a044d5a910e8393325cdbb",
       "version_major": 2,
       "version_minor": 0
      },
      "text/plain": [
       "0epoch [00:00, ?epoch/s]"
      ]
     },
     "metadata": {},
     "output_type": "display_data"
    },
    {
     "data": {
      "application/vnd.jupyter.widget-view+json": {
       "model_id": "",
       "version_major": 2,
       "version_minor": 0
      },
      "text/plain": [
       "0batch [00:00, ?batch/s]"
      ]
     },
     "metadata": {},
     "output_type": "display_data"
    },
    {
     "name": "stdout",
     "output_type": "stream",
     "text": [
      "Restoring model weights from the end of the best epoch.                            \n",
      "Epoch 00025: early stopping                                                        \n",
      "Best validation loss of epoch:                                                     \n",
      "0.00435187853872776                                                                \n",
      "(164, 13)                                                                          \n",
      "(140, 8, 13)                                                                       \n",
      "(4, 8, 13)                                                                         \n",
      "(4, 8, 13)                                                                         \n",
      "(8, 8, 13)                                                                         \n",
      "  4%|▍         | 2/50 [00:28<12:06, 15.13s/trial, best loss: 0.0014946518931537867]"
     ]
    },
    {
     "data": {
      "application/vnd.jupyter.widget-view+json": {
       "model_id": "d32d73c8e63a4ea0bcf8c17049fc7c6d",
       "version_major": 2,
       "version_minor": 0
      },
      "text/plain": [
       "0epoch [00:00, ?epoch/s]"
      ]
     },
     "metadata": {},
     "output_type": "display_data"
    },
    {
     "data": {
      "application/vnd.jupyter.widget-view+json": {
       "model_id": "",
       "version_major": 2,
       "version_minor": 0
      },
      "text/plain": [
       "0batch [00:00, ?batch/s]"
      ]
     },
     "metadata": {},
     "output_type": "display_data"
    },
    {
     "name": "stdout",
     "output_type": "stream",
     "text": [
      "Restoring model weights from the end of the best epoch.                            \n",
      "Epoch 00021: early stopping                                                        \n",
      "Best validation loss of epoch:                                                     \n",
      "0.0022038528695702553                                                              \n",
      "(166, 13)                                                                          \n",
      "(140, 10, 13)                                                                      \n",
      "(4, 10, 13)                                                                        \n",
      "(4, 10, 13)                                                                        \n",
      "(8, 10, 13)                                                                        \n",
      "  6%|▌         | 3/50 [00:39<10:17, 13.13s/trial, best loss: 0.0014946518931537867]"
     ]
    },
    {
     "data": {
      "application/vnd.jupyter.widget-view+json": {
       "model_id": "fdc8fee1bef54a1bac9f68c62de30b83",
       "version_major": 2,
       "version_minor": 0
      },
      "text/plain": [
       "0epoch [00:00, ?epoch/s]"
      ]
     },
     "metadata": {},
     "output_type": "display_data"
    },
    {
     "data": {
      "application/vnd.jupyter.widget-view+json": {
       "model_id": "",
       "version_major": 2,
       "version_minor": 0
      },
      "text/plain": [
       "0batch [00:00, ?batch/s]"
      ]
     },
     "metadata": {},
     "output_type": "display_data"
    },
    {
     "name": "stdout",
     "output_type": "stream",
     "text": [
      "Restoring model weights from the end of the best epoch.                            \n",
      "Epoch 00024: early stopping                                                        \n",
      "Best validation loss of epoch:                                                     \n",
      "0.00021320118685252964                                                             \n",
      "(162, 13)                                                                           \n",
      "(140, 6, 13)                                                                        \n",
      "(4, 6, 13)                                                                          \n",
      "(4, 6, 13)                                                                          \n",
      "(8, 6, 13)                                                                          \n",
      "  8%|▊         | 4/50 [00:52<10:08, 13.23s/trial, best loss: 0.00021320118685252964]"
     ]
    },
    {
     "data": {
      "application/vnd.jupyter.widget-view+json": {
       "model_id": "f241ede60842410f94d775698e59352d",
       "version_major": 2,
       "version_minor": 0
      },
      "text/plain": [
       "0epoch [00:00, ?epoch/s]"
      ]
     },
     "metadata": {},
     "output_type": "display_data"
    },
    {
     "data": {
      "application/vnd.jupyter.widget-view+json": {
       "model_id": "",
       "version_major": 2,
       "version_minor": 0
      },
      "text/plain": [
       "0batch [00:00, ?batch/s]"
      ]
     },
     "metadata": {},
     "output_type": "display_data"
    },
    {
     "name": "stdout",
     "output_type": "stream",
     "text": [
      "Restoring model weights from the end of the best epoch.                             \n",
      "Epoch 00017: early stopping                                                         \n",
      "Best validation loss of epoch:                                                      \n",
      "4.80951857753098e-05                                                                \n",
      "(164, 13)                                                                           \n",
      "(140, 8, 13)                                                                      \n",
      "(4, 8, 13)                                                                        \n",
      "(4, 8, 13)                                                                        \n",
      "(8, 8, 13)                                                                        \n",
      " 10%|█         | 5/50 [01:03<09:09, 12.22s/trial, best loss: 4.80951857753098e-05]"
     ]
    },
    {
     "data": {
      "application/vnd.jupyter.widget-view+json": {
       "model_id": "3922732d26314df5b4248c0b365c392e",
       "version_major": 2,
       "version_minor": 0
      },
      "text/plain": [
       "0epoch [00:00, ?epoch/s]"
      ]
     },
     "metadata": {},
     "output_type": "display_data"
    },
    {
     "data": {
      "application/vnd.jupyter.widget-view+json": {
       "model_id": "",
       "version_major": 2,
       "version_minor": 0
      },
      "text/plain": [
       "0batch [00:00, ?batch/s]"
      ]
     },
     "metadata": {},
     "output_type": "display_data"
    },
    {
     "name": "stdout",
     "output_type": "stream",
     "text": [
      "Restoring model weights from the end of the best epoch.                           \n",
      "Epoch 00011: early stopping                                                       \n",
      "Best validation loss of epoch:                                                    \n",
      "0.0009840114507824183                                                             \n",
      "(165, 13)                                                                         \n",
      "(140, 9, 13)                                                                      \n",
      "(4, 9, 13)                                                                        \n",
      "(4, 9, 13)                                                                        \n",
      "(8, 9, 13)                                                                        \n",
      " 12%|█▏        | 6/50 [01:11<08:02, 10.97s/trial, best loss: 4.80951857753098e-05]"
     ]
    },
    {
     "data": {
      "application/vnd.jupyter.widget-view+json": {
       "model_id": "3af7029ba53145c89cd8e008dc1089ff",
       "version_major": 2,
       "version_minor": 0
      },
      "text/plain": [
       "0epoch [00:00, ?epoch/s]"
      ]
     },
     "metadata": {},
     "output_type": "display_data"
    },
    {
     "data": {
      "application/vnd.jupyter.widget-view+json": {
       "model_id": "",
       "version_major": 2,
       "version_minor": 0
      },
      "text/plain": [
       "0batch [00:00, ?batch/s]"
      ]
     },
     "metadata": {},
     "output_type": "display_data"
    },
    {
     "name": "stdout",
     "output_type": "stream",
     "text": [
      "Restoring model weights from the end of the best epoch.                           \n",
      "Epoch 00011: early stopping                                                       \n",
      "Best validation loss of epoch:                                                    \n",
      "nan                                                                               \n",
      "(161, 13)                                                                         \n",
      "(140, 5, 13)                                                                      \n",
      "(4, 5, 13)                                                                        \n",
      "(4, 5, 13)                                                                        \n",
      "(8, 5, 13)                                                                        \n",
      " 14%|█▍        | 7/50 [01:20<07:24, 10.35s/trial, best loss: 4.80951857753098e-05]"
     ]
    },
    {
     "data": {
      "application/vnd.jupyter.widget-view+json": {
       "model_id": "a23dbc12468646dc915da1b4a2a8842e",
       "version_major": 2,
       "version_minor": 0
      },
      "text/plain": [
       "0epoch [00:00, ?epoch/s]"
      ]
     },
     "metadata": {},
     "output_type": "display_data"
    },
    {
     "data": {
      "application/vnd.jupyter.widget-view+json": {
       "model_id": "",
       "version_major": 2,
       "version_minor": 0
      },
      "text/plain": [
       "0batch [00:00, ?batch/s]"
      ]
     },
     "metadata": {},
     "output_type": "display_data"
    },
    {
     "name": "stdout",
     "output_type": "stream",
     "text": [
      "Restoring model weights from the end of the best epoch.                           \n",
      "Epoch 00017: early stopping                                                       \n",
      "Best validation loss of epoch:                                                    \n",
      "1.0991439819335938                                                                \n",
      "(158, 13)                                                                         \n",
      "(140, 2, 13)                                                                      \n",
      "(4, 2, 13)                                                                        \n",
      "(4, 2, 13)                                                                        \n",
      "(8, 2, 13)                                                                        \n",
      " 16%|█▌        | 8/50 [01:29<06:57,  9.93s/trial, best loss: 4.80951857753098e-05]"
     ]
    },
    {
     "data": {
      "application/vnd.jupyter.widget-view+json": {
       "model_id": "0a5fa2e4161c4b88b29d8e4b11b1d484",
       "version_major": 2,
       "version_minor": 0
      },
      "text/plain": [
       "0epoch [00:00, ?epoch/s]"
      ]
     },
     "metadata": {},
     "output_type": "display_data"
    },
    {
     "data": {
      "application/vnd.jupyter.widget-view+json": {
       "model_id": "",
       "version_major": 2,
       "version_minor": 0
      },
      "text/plain": [
       "0batch [00:00, ?batch/s]"
      ]
     },
     "metadata": {},
     "output_type": "display_data"
    },
    {
     "name": "stdout",
     "output_type": "stream",
     "text": [
      "Restoring model weights from the end of the best epoch.                           \n",
      "Epoch 00014: early stopping                                                       \n",
      "Best validation loss of epoch:                                                    \n",
      "0.002987738000229001                                                              \n",
      "(163, 13)                                                                         \n",
      "(140, 7, 13)                                                                      \n",
      "(4, 7, 13)                                                                        \n",
      "(4, 7, 13)                                                                        \n",
      "(8, 7, 13)                                                                        \n",
      " 18%|█▊        | 9/50 [01:36<06:04,  8.88s/trial, best loss: 4.80951857753098e-05]"
     ]
    },
    {
     "data": {
      "application/vnd.jupyter.widget-view+json": {
       "model_id": "361165b0fcb047e087e8911137231660",
       "version_major": 2,
       "version_minor": 0
      },
      "text/plain": [
       "0epoch [00:00, ?epoch/s]"
      ]
     },
     "metadata": {},
     "output_type": "display_data"
    },
    {
     "data": {
      "application/vnd.jupyter.widget-view+json": {
       "model_id": "",
       "version_major": 2,
       "version_minor": 0
      },
      "text/plain": [
       "0batch [00:00, ?batch/s]"
      ]
     },
     "metadata": {},
     "output_type": "display_data"
    },
    {
     "name": "stdout",
     "output_type": "stream",
     "text": [
      "Restoring model weights from the end of the best epoch.                           \n",
      "Epoch 00011: early stopping                                                       \n",
      "Best validation loss of epoch:                                                    \n",
      "0.09293979406356812                                                               \n",
      "(164, 13)                                                                          \n",
      "(140, 8, 13)                                                                       \n",
      "(4, 8, 13)                                                                         \n",
      "(4, 8, 13)                                                                         \n",
      "(8, 8, 13)                                                                         \n",
      " 20%|██        | 10/50 [01:44<05:48,  8.71s/trial, best loss: 4.80951857753098e-05]"
     ]
    },
    {
     "data": {
      "application/vnd.jupyter.widget-view+json": {
       "model_id": "cff99b914fe9478bb846a2d673940eb8",
       "version_major": 2,
       "version_minor": 0
      },
      "text/plain": [
       "0epoch [00:00, ?epoch/s]"
      ]
     },
     "metadata": {},
     "output_type": "display_data"
    },
    {
     "data": {
      "application/vnd.jupyter.widget-view+json": {
       "model_id": "",
       "version_major": 2,
       "version_minor": 0
      },
      "text/plain": [
       "0batch [00:00, ?batch/s]"
      ]
     },
     "metadata": {},
     "output_type": "display_data"
    },
    {
     "name": "stdout",
     "output_type": "stream",
     "text": [
      "Restoring model weights from the end of the best epoch.                            \n",
      "Epoch 00032: early stopping                                                        \n",
      "Best validation loss of epoch:                                                     \n",
      "0.0007487713592126966                                                              \n",
      "(164, 13)                                                                          \n",
      "(140, 8, 13)                                                                       \n",
      "(4, 8, 13)                                                                         \n",
      "(4, 8, 13)                                                                         \n",
      "(8, 8, 13)                                                                         \n",
      " 22%|██▏       | 11/50 [01:59<06:57, 10.70s/trial, best loss: 4.80951857753098e-05]"
     ]
    },
    {
     "data": {
      "application/vnd.jupyter.widget-view+json": {
       "model_id": "d92044d1f4724e978df2e29aefa73ccb",
       "version_major": 2,
       "version_minor": 0
      },
      "text/plain": [
       "0epoch [00:00, ?epoch/s]"
      ]
     },
     "metadata": {},
     "output_type": "display_data"
    },
    {
     "data": {
      "application/vnd.jupyter.widget-view+json": {
       "model_id": "",
       "version_major": 2,
       "version_minor": 0
      },
      "text/plain": [
       "0batch [00:00, ?batch/s]"
      ]
     },
     "metadata": {},
     "output_type": "display_data"
    },
    {
     "name": "stdout",
     "output_type": "stream",
     "text": [
      "Restoring model weights from the end of the best epoch.                            \n",
      "Epoch 00011: early stopping                                                        \n",
      "Best validation loss of epoch:                                                     \n",
      "nan                                                                                \n",
      "(161, 13)                                                                          \n",
      "(140, 5, 13)                                                                       \n",
      "(4, 5, 13)                                                                         \n",
      "(4, 5, 13)                                                                         \n",
      "(8, 5, 13)                                                                         \n",
      " 24%|██▍       | 12/50 [02:06<06:03,  9.57s/trial, best loss: 4.80951857753098e-05]"
     ]
    },
    {
     "data": {
      "application/vnd.jupyter.widget-view+json": {
       "model_id": "f8db75220e9d4eda883215c6e6ce7a31",
       "version_major": 2,
       "version_minor": 0
      },
      "text/plain": [
       "0epoch [00:00, ?epoch/s]"
      ]
     },
     "metadata": {},
     "output_type": "display_data"
    },
    {
     "data": {
      "application/vnd.jupyter.widget-view+json": {
       "model_id": "",
       "version_major": 2,
       "version_minor": 0
      },
      "text/plain": [
       "0batch [00:00, ?batch/s]"
      ]
     },
     "metadata": {},
     "output_type": "display_data"
    },
    {
     "name": "stdout",
     "output_type": "stream",
     "text": [
      "Restoring model weights from the end of the best epoch.                            \n",
      "Epoch 00038: early stopping                                                        \n",
      "Best validation loss of epoch:                                                     \n",
      "0.06193690374493599                                                                \n",
      "(162, 13)                                                                          \n",
      "(140, 6, 13)                                                                       \n",
      "(4, 6, 13)                                                                         \n",
      "(4, 6, 13)                                                                         \n",
      "(8, 6, 13)                                                                         \n",
      " 26%|██▌       | 13/50 [02:23<07:17, 11.84s/trial, best loss: 4.80951857753098e-05]"
     ]
    },
    {
     "data": {
      "application/vnd.jupyter.widget-view+json": {
       "model_id": "61568f4462614bcbade508d6c23ffb93",
       "version_major": 2,
       "version_minor": 0
      },
      "text/plain": [
       "0epoch [00:00, ?epoch/s]"
      ]
     },
     "metadata": {},
     "output_type": "display_data"
    },
    {
     "data": {
      "application/vnd.jupyter.widget-view+json": {
       "model_id": "",
       "version_major": 2,
       "version_minor": 0
      },
      "text/plain": [
       "0batch [00:00, ?batch/s]"
      ]
     },
     "metadata": {},
     "output_type": "display_data"
    },
    {
     "name": "stdout",
     "output_type": "stream",
     "text": [
      "Restoring model weights from the end of the best epoch.                            \n",
      "Epoch 00027: early stopping                                                        \n",
      "Best validation loss of epoch:                                                     \n",
      "0.031334713101387024                                                               \n",
      "(157, 13)                                                                          \n",
      "(140, 1, 13)                                                                       \n",
      "(4, 1, 13)                                                                         \n",
      "(4, 1, 13)                                                                         \n",
      "(8, 1, 13)                                                                         \n",
      " 28%|██▊       | 14/50 [02:37<07:26, 12.41s/trial, best loss: 4.80951857753098e-05]"
     ]
    },
    {
     "data": {
      "application/vnd.jupyter.widget-view+json": {
       "model_id": "c1ce2a94a12e479c99d70f8423ece60f",
       "version_major": 2,
       "version_minor": 0
      },
      "text/plain": [
       "0epoch [00:00, ?epoch/s]"
      ]
     },
     "metadata": {},
     "output_type": "display_data"
    },
    {
     "data": {
      "application/vnd.jupyter.widget-view+json": {
       "model_id": "",
       "version_major": 2,
       "version_minor": 0
      },
      "text/plain": [
       "0batch [00:00, ?batch/s]"
      ]
     },
     "metadata": {},
     "output_type": "display_data"
    },
    {
     "name": "stdout",
     "output_type": "stream",
     "text": [
      "Restoring model weights from the end of the best epoch.                            \n",
      "Epoch 00014: early stopping                                                        \n",
      "Best validation loss of epoch:                                                     \n",
      "0.04310111701488495                                                                \n",
      "(159, 13)                                                                          \n",
      "(140, 3, 13)                                                                       \n",
      "(4, 3, 13)                                                                         \n",
      "(4, 3, 13)                                                                         \n",
      "(8, 3, 13)                                                                         \n",
      " 30%|███       | 15/50 [02:43<06:10, 10.58s/trial, best loss: 4.80951857753098e-05]"
     ]
    },
    {
     "data": {
      "application/vnd.jupyter.widget-view+json": {
       "model_id": "ebc3a82eede641b2b8494246abdb9cd9",
       "version_major": 2,
       "version_minor": 0
      },
      "text/plain": [
       "0epoch [00:00, ?epoch/s]"
      ]
     },
     "metadata": {},
     "output_type": "display_data"
    },
    {
     "data": {
      "application/vnd.jupyter.widget-view+json": {
       "model_id": "",
       "version_major": 2,
       "version_minor": 0
      },
      "text/plain": [
       "0batch [00:00, ?batch/s]"
      ]
     },
     "metadata": {},
     "output_type": "display_data"
    },
    {
     "name": "stdout",
     "output_type": "stream",
     "text": [
      "Restoring model weights from the end of the best epoch.                            \n",
      "Epoch 00018: early stopping                                                        \n",
      "Best validation loss of epoch:                                                     \n",
      "0.000310465635266155                                                               \n",
      "(164, 13)                                                                          \n",
      "(140, 8, 13)                                                                       \n",
      "(4, 8, 13)                                                                         \n",
      "(4, 8, 13)                                                                         \n",
      "(8, 8, 13)                                                                         \n",
      " 32%|███▏      | 16/50 [02:51<05:28,  9.66s/trial, best loss: 4.80951857753098e-05]"
     ]
    },
    {
     "data": {
      "application/vnd.jupyter.widget-view+json": {
       "model_id": "754209f937f944468463c42a6484dfb7",
       "version_major": 2,
       "version_minor": 0
      },
      "text/plain": [
       "0epoch [00:00, ?epoch/s]"
      ]
     },
     "metadata": {},
     "output_type": "display_data"
    },
    {
     "data": {
      "application/vnd.jupyter.widget-view+json": {
       "model_id": "",
       "version_major": 2,
       "version_minor": 0
      },
      "text/plain": [
       "0batch [00:00, ?batch/s]"
      ]
     },
     "metadata": {},
     "output_type": "display_data"
    },
    {
     "name": "stdout",
     "output_type": "stream",
     "text": [
      "Restoring model weights from the end of the best epoch.                            \n",
      "Epoch 00021: early stopping                                                        \n",
      "Best validation loss of epoch:                                                     \n",
      "0.04009705036878586                                                                \n",
      "(164, 13)                                                                          \n",
      "(140, 8, 13)                                                                       \n",
      "(4, 8, 13)                                                                         \n",
      "(4, 8, 13)                                                                         \n",
      "(8, 8, 13)                                                                         \n",
      " 34%|███▍      | 17/50 [03:03<05:38, 10.26s/trial, best loss: 4.80951857753098e-05]"
     ]
    },
    {
     "data": {
      "application/vnd.jupyter.widget-view+json": {
       "model_id": "b06e6e7714624a15bbf6347153bcd09b",
       "version_major": 2,
       "version_minor": 0
      },
      "text/plain": [
       "0epoch [00:00, ?epoch/s]"
      ]
     },
     "metadata": {},
     "output_type": "display_data"
    },
    {
     "data": {
      "application/vnd.jupyter.widget-view+json": {
       "model_id": "",
       "version_major": 2,
       "version_minor": 0
      },
      "text/plain": [
       "0batch [00:00, ?batch/s]"
      ]
     },
     "metadata": {},
     "output_type": "display_data"
    },
    {
     "name": "stdout",
     "output_type": "stream",
     "text": [
      "Restoring model weights from the end of the best epoch.                            \n",
      "Epoch 00019: early stopping                                                        \n",
      "Best validation loss of epoch:                                                     \n",
      "nan                                                                                \n",
      "(159, 13)                                                                          \n",
      "(140, 3, 13)                                                                       \n",
      "(4, 3, 13)                                                                         \n",
      "(4, 3, 13)                                                                         \n",
      "(8, 3, 13)                                                                         \n",
      " 36%|███▌      | 18/50 [03:14<05:37, 10.55s/trial, best loss: 4.80951857753098e-05]"
     ]
    },
    {
     "data": {
      "application/vnd.jupyter.widget-view+json": {
       "model_id": "d0af57198ee044f290664659ee27c85b",
       "version_major": 2,
       "version_minor": 0
      },
      "text/plain": [
       "0epoch [00:00, ?epoch/s]"
      ]
     },
     "metadata": {},
     "output_type": "display_data"
    },
    {
     "data": {
      "application/vnd.jupyter.widget-view+json": {
       "model_id": "",
       "version_major": 2,
       "version_minor": 0
      },
      "text/plain": [
       "0batch [00:00, ?batch/s]"
      ]
     },
     "metadata": {},
     "output_type": "display_data"
    },
    {
     "name": "stdout",
     "output_type": "stream",
     "text": [
      "Restoring model weights from the end of the best epoch.                            \n",
      "Epoch 00036: early stopping                                                        \n",
      "Best validation loss of epoch:                                                     \n",
      "0.0391613207757473                                                                 \n",
      "(164, 13)                                                                          \n",
      "(140, 8, 13)                                                                       \n",
      "(4, 8, 13)                                                                         \n",
      "(4, 8, 13)                                                                         \n",
      "(8, 8, 13)                                                                         \n",
      " 38%|███▊      | 19/50 [03:27<05:54, 11.42s/trial, best loss: 4.80951857753098e-05]"
     ]
    },
    {
     "data": {
      "application/vnd.jupyter.widget-view+json": {
       "model_id": "3aa9c92348e943b4a80ae56d330e485d",
       "version_major": 2,
       "version_minor": 0
      },
      "text/plain": [
       "0epoch [00:00, ?epoch/s]"
      ]
     },
     "metadata": {},
     "output_type": "display_data"
    },
    {
     "data": {
      "application/vnd.jupyter.widget-view+json": {
       "model_id": "",
       "version_major": 2,
       "version_minor": 0
      },
      "text/plain": [
       "0batch [00:00, ?batch/s]"
      ]
     },
     "metadata": {},
     "output_type": "display_data"
    },
    {
     "name": "stdout",
     "output_type": "stream",
     "text": [
      "Restoring model weights from the end of the best epoch.                            \n",
      "Epoch 00012: early stopping                                                        \n",
      "Best validation loss of epoch:                                                     \n",
      "0.057726554572582245                                                               \n",
      "(162, 13)                                                                          \n",
      "(140, 6, 13)                                                                       \n",
      "(4, 6, 13)                                                                         \n",
      "(4, 6, 13)                                                                         \n",
      "(8, 6, 13)                                                                         \n",
      " 40%|████      | 20/50 [03:38<05:32, 11.09s/trial, best loss: 4.80951857753098e-05]"
     ]
    },
    {
     "data": {
      "application/vnd.jupyter.widget-view+json": {
       "model_id": "b6bea24543ab49a7a5dd3fa035a3bbf9",
       "version_major": 2,
       "version_minor": 0
      },
      "text/plain": [
       "0epoch [00:00, ?epoch/s]"
      ]
     },
     "metadata": {},
     "output_type": "display_data"
    },
    {
     "data": {
      "application/vnd.jupyter.widget-view+json": {
       "model_id": "",
       "version_major": 2,
       "version_minor": 0
      },
      "text/plain": [
       "0batch [00:00, ?batch/s]"
      ]
     },
     "metadata": {},
     "output_type": "display_data"
    },
    {
     "name": "stdout",
     "output_type": "stream",
     "text": [
      "Restoring model weights from the end of the best epoch.                            \n",
      "Epoch 00032: early stopping                                                        \n",
      "Best validation loss of epoch:                                                     \n",
      "0.0006550145917572081                                                              \n",
      "(163, 13)                                                                          \n",
      "(140, 7, 13)                                                                       \n",
      "(4, 7, 13)                                                                         \n",
      "(4, 7, 13)                                                                         \n",
      "(8, 7, 13)                                                                         \n",
      " 42%|████▏     | 21/50 [03:54<06:08, 12.71s/trial, best loss: 4.80951857753098e-05]"
     ]
    },
    {
     "data": {
      "application/vnd.jupyter.widget-view+json": {
       "model_id": "7552db54c7bb4928bc784cfb3e5a5109",
       "version_major": 2,
       "version_minor": 0
      },
      "text/plain": [
       "0epoch [00:00, ?epoch/s]"
      ]
     },
     "metadata": {},
     "output_type": "display_data"
    },
    {
     "data": {
      "application/vnd.jupyter.widget-view+json": {
       "model_id": "",
       "version_major": 2,
       "version_minor": 0
      },
      "text/plain": [
       "0batch [00:00, ?batch/s]"
      ]
     },
     "metadata": {},
     "output_type": "display_data"
    },
    {
     "name": "stdout",
     "output_type": "stream",
     "text": [
      "Restoring model weights from the end of the best epoch.                            \n",
      "Epoch 00017: early stopping                                                        \n",
      "Best validation loss of epoch:                                                     \n",
      "0.045165158808231354                                                               \n",
      "(163, 13)                                                                          \n",
      "(140, 7, 13)                                                                       \n",
      "(4, 7, 13)                                                                         \n",
      "(4, 7, 13)                                                                         \n",
      "(8, 7, 13)                                                                         \n",
      " 44%|████▍     | 22/50 [04:06<05:46, 12.38s/trial, best loss: 4.80951857753098e-05]"
     ]
    },
    {
     "data": {
      "application/vnd.jupyter.widget-view+json": {
       "model_id": "3108171bbdb84f5cb06ee64093019fd2",
       "version_major": 2,
       "version_minor": 0
      },
      "text/plain": [
       "0epoch [00:00, ?epoch/s]"
      ]
     },
     "metadata": {},
     "output_type": "display_data"
    },
    {
     "data": {
      "application/vnd.jupyter.widget-view+json": {
       "model_id": "",
       "version_major": 2,
       "version_minor": 0
      },
      "text/plain": [
       "0batch [00:00, ?batch/s]"
      ]
     },
     "metadata": {},
     "output_type": "display_data"
    },
    {
     "name": "stdout",
     "output_type": "stream",
     "text": [
      "Restoring model weights from the end of the best epoch.                            \n",
      "Epoch 00013: early stopping                                                        \n",
      "Best validation loss of epoch:                                                     \n",
      "0.018558137118816376                                                               \n",
      "(166, 13)                                                                          \n",
      "(140, 10, 13)                                                                      \n",
      "(4, 10, 13)                                                                        \n",
      "(4, 10, 13)                                                                        \n",
      "(8, 10, 13)                                                                        \n",
      " 46%|████▌     | 23/50 [04:16<05:17, 11.77s/trial, best loss: 4.80951857753098e-05]"
     ]
    },
    {
     "data": {
      "application/vnd.jupyter.widget-view+json": {
       "model_id": "a3c6361c936548719e0febb41e8d8226",
       "version_major": 2,
       "version_minor": 0
      },
      "text/plain": [
       "0epoch [00:00, ?epoch/s]"
      ]
     },
     "metadata": {},
     "output_type": "display_data"
    },
    {
     "data": {
      "application/vnd.jupyter.widget-view+json": {
       "model_id": "",
       "version_major": 2,
       "version_minor": 0
      },
      "text/plain": [
       "0batch [00:00, ?batch/s]"
      ]
     },
     "metadata": {},
     "output_type": "display_data"
    },
    {
     "name": "stdout",
     "output_type": "stream",
     "text": [
      "Restoring model weights from the end of the best epoch.                            \n",
      "Epoch 00028: early stopping                                                        \n",
      "Best validation loss of epoch:                                                     \n",
      "0.00032713598920963705                                                             \n",
      "(166, 13)                                                                          \n",
      "(140, 10, 13)                                                                      \n",
      "(4, 10, 13)                                                                        \n",
      "(4, 10, 13)                                                                        \n",
      "(8, 10, 13)                                                                        \n",
      " 48%|████▊     | 24/50 [04:32<05:38, 13.00s/trial, best loss: 4.80951857753098e-05]"
     ]
    },
    {
     "data": {
      "application/vnd.jupyter.widget-view+json": {
       "model_id": "01e45eca44da434c92f35ca9c3fbb1e9",
       "version_major": 2,
       "version_minor": 0
      },
      "text/plain": [
       "0epoch [00:00, ?epoch/s]"
      ]
     },
     "metadata": {},
     "output_type": "display_data"
    },
    {
     "data": {
      "application/vnd.jupyter.widget-view+json": {
       "model_id": "",
       "version_major": 2,
       "version_minor": 0
      },
      "text/plain": [
       "0batch [00:00, ?batch/s]"
      ]
     },
     "metadata": {},
     "output_type": "display_data"
    },
    {
     "name": "stdout",
     "output_type": "stream",
     "text": [
      "Restoring model weights from the end of the best epoch.                            \n",
      "Epoch 00017: early stopping                                                        \n",
      "Best validation loss of epoch:                                                     \n",
      "0.0007869620458222926                                                              \n",
      "(165, 13)                                                                          \n",
      "(140, 9, 13)                                                                       \n",
      "(4, 9, 13)                                                                         \n",
      "(4, 9, 13)                                                                         \n",
      "(8, 9, 13)                                                                         \n",
      " 50%|█████     | 25/50 [04:43<05:11, 12.47s/trial, best loss: 4.80951857753098e-05]"
     ]
    },
    {
     "data": {
      "application/vnd.jupyter.widget-view+json": {
       "model_id": "4046d2c989314cf7b624ca857830f329",
       "version_major": 2,
       "version_minor": 0
      },
      "text/plain": [
       "0epoch [00:00, ?epoch/s]"
      ]
     },
     "metadata": {},
     "output_type": "display_data"
    },
    {
     "data": {
      "application/vnd.jupyter.widget-view+json": {
       "model_id": "",
       "version_major": 2,
       "version_minor": 0
      },
      "text/plain": [
       "0batch [00:00, ?batch/s]"
      ]
     },
     "metadata": {},
     "output_type": "display_data"
    },
    {
     "name": "stdout",
     "output_type": "stream",
     "text": [
      "Restoring model weights from the end of the best epoch.                            \n",
      "Epoch 00029: early stopping                                                        \n",
      "Best validation loss of epoch:                                                     \n",
      "0.0008554861415177584                                                              \n",
      "(160, 13)                                                                          \n",
      "(140, 4, 13)                                                                       \n",
      "(4, 4, 13)                                                                         \n",
      "(4, 4, 13)                                                                         \n",
      "(8, 4, 13)                                                                         \n",
      " 52%|█████▏    | 26/50 [05:01<05:38, 14.08s/trial, best loss: 4.80951857753098e-05]"
     ]
    },
    {
     "data": {
      "application/vnd.jupyter.widget-view+json": {
       "model_id": "e5acd15fa3014590ba8010fc31dcf957",
       "version_major": 2,
       "version_minor": 0
      },
      "text/plain": [
       "0epoch [00:00, ?epoch/s]"
      ]
     },
     "metadata": {},
     "output_type": "display_data"
    },
    {
     "data": {
      "application/vnd.jupyter.widget-view+json": {
       "model_id": "",
       "version_major": 2,
       "version_minor": 0
      },
      "text/plain": [
       "0batch [00:00, ?batch/s]"
      ]
     },
     "metadata": {},
     "output_type": "display_data"
    },
    {
     "name": "stdout",
     "output_type": "stream",
     "text": [
      "Restoring model weights from the end of the best epoch.                            \n",
      "Epoch 00017: early stopping                                                        \n",
      "Best validation loss of epoch:                                                     \n",
      "0.0003902223543263972                                                              \n",
      "(165, 13)                                                                          \n",
      "(140, 9, 13)                                                                       \n",
      "(4, 9, 13)                                                                         \n",
      "(4, 9, 13)                                                                         \n",
      "(8, 9, 13)                                                                         \n",
      " 54%|█████▍    | 27/50 [05:10<04:45, 12.42s/trial, best loss: 4.80951857753098e-05]"
     ]
    },
    {
     "data": {
      "application/vnd.jupyter.widget-view+json": {
       "model_id": "5966cc115c1e4348aafb0e1859bd3006",
       "version_major": 2,
       "version_minor": 0
      },
      "text/plain": [
       "0epoch [00:00, ?epoch/s]"
      ]
     },
     "metadata": {},
     "output_type": "display_data"
    },
    {
     "data": {
      "application/vnd.jupyter.widget-view+json": {
       "model_id": "",
       "version_major": 2,
       "version_minor": 0
      },
      "text/plain": [
       "0batch [00:00, ?batch/s]"
      ]
     },
     "metadata": {},
     "output_type": "display_data"
    },
    {
     "name": "stdout",
     "output_type": "stream",
     "text": [
      "Restoring model weights from the end of the best epoch.                            \n",
      "Epoch 00011: early stopping                                                        \n",
      "Best validation loss of epoch:                                                     \n",
      "0.0026527740992605686                                                              \n",
      "(160, 13)                                                                          \n",
      "(140, 4, 13)                                                                       \n",
      "(4, 4, 13)                                                                         \n",
      "(4, 4, 13)                                                                         \n",
      "(8, 4, 13)                                                                         \n",
      " 56%|█████▌    | 28/50 [05:18<04:08, 11.32s/trial, best loss: 4.80951857753098e-05]"
     ]
    },
    {
     "data": {
      "application/vnd.jupyter.widget-view+json": {
       "model_id": "91b350269c8a4c5daa9b5449c1558d3e",
       "version_major": 2,
       "version_minor": 0
      },
      "text/plain": [
       "0epoch [00:00, ?epoch/s]"
      ]
     },
     "metadata": {},
     "output_type": "display_data"
    },
    {
     "data": {
      "application/vnd.jupyter.widget-view+json": {
       "model_id": "",
       "version_major": 2,
       "version_minor": 0
      },
      "text/plain": [
       "0batch [00:00, ?batch/s]"
      ]
     },
     "metadata": {},
     "output_type": "display_data"
    },
    {
     "name": "stdout",
     "output_type": "stream",
     "text": [
      "Restoring model weights from the end of the best epoch.                            \n",
      "Epoch 00018: early stopping                                                        \n",
      "Best validation loss of epoch:                                                     \n",
      "0.026049859821796417                                                               \n",
      "(165, 13)                                                                          \n",
      "(140, 9, 13)                                                                       \n",
      "(4, 9, 13)                                                                         \n",
      "(4, 9, 13)                                                                         \n",
      "(8, 9, 13)                                                                         \n",
      " 58%|█████▊    | 29/50 [05:29<03:51, 11.03s/trial, best loss: 4.80951857753098e-05]"
     ]
    },
    {
     "data": {
      "application/vnd.jupyter.widget-view+json": {
       "model_id": "a8c13527639d4535adafd9d6c0b00785",
       "version_major": 2,
       "version_minor": 0
      },
      "text/plain": [
       "0epoch [00:00, ?epoch/s]"
      ]
     },
     "metadata": {},
     "output_type": "display_data"
    },
    {
     "data": {
      "application/vnd.jupyter.widget-view+json": {
       "model_id": "",
       "version_major": 2,
       "version_minor": 0
      },
      "text/plain": [
       "0batch [00:00, ?batch/s]"
      ]
     },
     "metadata": {},
     "output_type": "display_data"
    },
    {
     "name": "stdout",
     "output_type": "stream",
     "text": [
      "Restoring model weights from the end of the best epoch.                            \n",
      "Epoch 00014: early stopping                                                        \n",
      "Best validation loss of epoch:                                                     \n",
      "0.0005079646361991763                                                              \n",
      "(157, 13)                                                                          \n",
      "(140, 1, 13)                                                                       \n",
      "(4, 1, 13)                                                                         \n",
      "(4, 1, 13)                                                                         \n",
      "(8, 1, 13)                                                                         \n",
      " 60%|██████    | 30/50 [05:42<03:52, 11.63s/trial, best loss: 4.80951857753098e-05]"
     ]
    },
    {
     "data": {
      "application/vnd.jupyter.widget-view+json": {
       "model_id": "c141ec08bd684000b22939fcaafd1056",
       "version_major": 2,
       "version_minor": 0
      },
      "text/plain": [
       "0epoch [00:00, ?epoch/s]"
      ]
     },
     "metadata": {},
     "output_type": "display_data"
    },
    {
     "data": {
      "application/vnd.jupyter.widget-view+json": {
       "model_id": "",
       "version_major": 2,
       "version_minor": 0
      },
      "text/plain": [
       "0batch [00:00, ?batch/s]"
      ]
     },
     "metadata": {},
     "output_type": "display_data"
    },
    {
     "name": "stdout",
     "output_type": "stream",
     "text": [
      "WARNING:tensorflow:Callback method `on_train_batch_end` is slow compared to the batch time (batch time: 0.0000s vs `on_train_batch_end` time: 0.0026s). Check your callbacks.\n",
      "Restoring model weights from the end of the best epoch.                            \n",
      "Epoch 00011: early stopping                                                        \n",
      "Best validation loss of epoch:                                                     \n",
      "0.023289527744054794                                                               \n",
      "(166, 13)                                                                          \n",
      "(140, 10, 13)                                                                      \n",
      "(4, 10, 13)                                                                        \n",
      "(4, 10, 13)                                                                        \n",
      "(8, 10, 13)                                                                        \n",
      " 62%|██████▏   | 31/50 [05:47<03:07,  9.87s/trial, best loss: 4.80951857753098e-05]"
     ]
    },
    {
     "data": {
      "application/vnd.jupyter.widget-view+json": {
       "model_id": "6df560cb3f4a48d3be829d75ee685c0f",
       "version_major": 2,
       "version_minor": 0
      },
      "text/plain": [
       "0epoch [00:00, ?epoch/s]"
      ]
     },
     "metadata": {},
     "output_type": "display_data"
    },
    {
     "data": {
      "application/vnd.jupyter.widget-view+json": {
       "model_id": "",
       "version_major": 2,
       "version_minor": 0
      },
      "text/plain": [
       "0batch [00:00, ?batch/s]"
      ]
     },
     "metadata": {},
     "output_type": "display_data"
    },
    {
     "name": "stdout",
     "output_type": "stream",
     "text": [
      "Restoring model weights from the end of the best epoch.                            \n",
      "Epoch 00028: early stopping                                                        \n",
      "Best validation loss of epoch:                                                     \n",
      "0.0004875505983363837                                                              \n",
      "(162, 13)                                                                          \n",
      "(140, 6, 13)                                                                       \n",
      "(4, 6, 13)                                                                         \n",
      "(4, 6, 13)                                                                         \n",
      "(8, 6, 13)                                                                         \n",
      " 64%|██████▍   | 32/50 [06:04<03:32, 11.81s/trial, best loss: 4.80951857753098e-05]"
     ]
    },
    {
     "data": {
      "application/vnd.jupyter.widget-view+json": {
       "model_id": "a696b3f54b4b43388b1209222cb2e034",
       "version_major": 2,
       "version_minor": 0
      },
      "text/plain": [
       "0epoch [00:00, ?epoch/s]"
      ]
     },
     "metadata": {},
     "output_type": "display_data"
    },
    {
     "data": {
      "application/vnd.jupyter.widget-view+json": {
       "model_id": "",
       "version_major": 2,
       "version_minor": 0
      },
      "text/plain": [
       "0batch [00:00, ?batch/s]"
      ]
     },
     "metadata": {},
     "output_type": "display_data"
    },
    {
     "name": "stdout",
     "output_type": "stream",
     "text": [
      "Restoring model weights from the end of the best epoch.                            \n",
      "Epoch 00015: early stopping                                                        \n",
      "Best validation loss of epoch:                                                     \n",
      "0.00021778531663585454                                                             \n",
      "(160, 13)                                                                          \n",
      "(140, 4, 13)                                                                       \n",
      "(4, 4, 13)                                                                         \n",
      "(4, 4, 13)                                                                         \n",
      "(8, 4, 13)                                                                         \n",
      " 66%|██████▌   | 33/50 [06:13<03:05, 10.90s/trial, best loss: 4.80951857753098e-05]"
     ]
    },
    {
     "data": {
      "application/vnd.jupyter.widget-view+json": {
       "model_id": "3d22a1738738474683cd88948659e75a",
       "version_major": 2,
       "version_minor": 0
      },
      "text/plain": [
       "0epoch [00:00, ?epoch/s]"
      ]
     },
     "metadata": {},
     "output_type": "display_data"
    },
    {
     "data": {
      "application/vnd.jupyter.widget-view+json": {
       "model_id": "",
       "version_major": 2,
       "version_minor": 0
      },
      "text/plain": [
       "0batch [00:00, ?batch/s]"
      ]
     },
     "metadata": {},
     "output_type": "display_data"
    },
    {
     "name": "stdout",
     "output_type": "stream",
     "text": [
      "Restoring model weights from the end of the best epoch.                            \n",
      "Epoch 00025: early stopping                                                        \n",
      "Best validation loss of epoch:                                                     \n",
      "0.00010975923942169175                                                             \n",
      "(160, 13)                                                                          \n",
      "(140, 4, 13)                                                                       \n",
      "(4, 4, 13)                                                                         \n",
      "(4, 4, 13)                                                                         \n",
      "(8, 4, 13)                                                                         \n",
      " 68%|██████▊   | 34/50 [06:24<02:55, 10.97s/trial, best loss: 4.80951857753098e-05]"
     ]
    },
    {
     "data": {
      "application/vnd.jupyter.widget-view+json": {
       "model_id": "b2cf0e958bca4a089b88657c0586ecaf",
       "version_major": 2,
       "version_minor": 0
      },
      "text/plain": [
       "0epoch [00:00, ?epoch/s]"
      ]
     },
     "metadata": {},
     "output_type": "display_data"
    },
    {
     "data": {
      "application/vnd.jupyter.widget-view+json": {
       "model_id": "",
       "version_major": 2,
       "version_minor": 0
      },
      "text/plain": [
       "0batch [00:00, ?batch/s]"
      ]
     },
     "metadata": {},
     "output_type": "display_data"
    },
    {
     "name": "stdout",
     "output_type": "stream",
     "text": [
      "Restoring model weights from the end of the best epoch.                            \n",
      "Epoch 00018: early stopping                                                        \n",
      "Best validation loss of epoch:                                                     \n",
      "0.0007051338907331228                                                              \n",
      "(159, 13)                                                                          \n",
      "(140, 3, 13)                                                                       \n",
      "(4, 3, 13)                                                                         \n",
      "(4, 3, 13)                                                                         \n",
      "(8, 3, 13)                                                                         \n",
      " 70%|███████   | 35/50 [06:33<02:38, 10.54s/trial, best loss: 4.80951857753098e-05]"
     ]
    },
    {
     "data": {
      "application/vnd.jupyter.widget-view+json": {
       "model_id": "77f8e08a47444568be69774a748d34d7",
       "version_major": 2,
       "version_minor": 0
      },
      "text/plain": [
       "0epoch [00:00, ?epoch/s]"
      ]
     },
     "metadata": {},
     "output_type": "display_data"
    },
    {
     "data": {
      "application/vnd.jupyter.widget-view+json": {
       "model_id": "",
       "version_major": 2,
       "version_minor": 0
      },
      "text/plain": [
       "0batch [00:00, ?batch/s]"
      ]
     },
     "metadata": {},
     "output_type": "display_data"
    },
    {
     "name": "stdout",
     "output_type": "stream",
     "text": [
      "Restoring model weights from the end of the best epoch.                            \n",
      "Epoch 00021: early stopping                                                        \n",
      "Best validation loss of epoch:                                                     \n",
      "0.009638150222599506                                                               \n",
      "(161, 13)                                                                          \n",
      "(140, 5, 13)                                                                       \n",
      "(4, 5, 13)                                                                         \n",
      "(4, 5, 13)                                                                         \n",
      "(8, 5, 13)                                                                         \n",
      " 72%|███████▏  | 36/50 [06:43<02:23, 10.28s/trial, best loss: 4.80951857753098e-05]"
     ]
    },
    {
     "data": {
      "application/vnd.jupyter.widget-view+json": {
       "model_id": "cc87b06e136d4ab5a908a6edddd1ecce",
       "version_major": 2,
       "version_minor": 0
      },
      "text/plain": [
       "0epoch [00:00, ?epoch/s]"
      ]
     },
     "metadata": {},
     "output_type": "display_data"
    },
    {
     "data": {
      "application/vnd.jupyter.widget-view+json": {
       "model_id": "",
       "version_major": 2,
       "version_minor": 0
      },
      "text/plain": [
       "0batch [00:00, ?batch/s]"
      ]
     },
     "metadata": {},
     "output_type": "display_data"
    },
    {
     "name": "stdout",
     "output_type": "stream",
     "text": [
      "Restoring model weights from the end of the best epoch.                            \n",
      "Epoch 00027: early stopping                                                        \n",
      "Best validation loss of epoch:                                                     \n",
      "0.04744607210159302                                                                \n",
      "(158, 13)                                                                          \n",
      "(140, 2, 13)                                                                       \n",
      "(4, 2, 13)                                                                         \n",
      "(4, 2, 13)                                                                         \n",
      "(8, 2, 13)                                                                         \n",
      " 74%|███████▍  | 37/50 [06:56<02:25, 11.21s/trial, best loss: 4.80951857753098e-05]"
     ]
    },
    {
     "data": {
      "application/vnd.jupyter.widget-view+json": {
       "model_id": "5aabb3a1961347a4aec64a0c0d4787f9",
       "version_major": 2,
       "version_minor": 0
      },
      "text/plain": [
       "0epoch [00:00, ?epoch/s]"
      ]
     },
     "metadata": {},
     "output_type": "display_data"
    },
    {
     "data": {
      "application/vnd.jupyter.widget-view+json": {
       "model_id": "",
       "version_major": 2,
       "version_minor": 0
      },
      "text/plain": [
       "0batch [00:00, ?batch/s]"
      ]
     },
     "metadata": {},
     "output_type": "display_data"
    },
    {
     "name": "stdout",
     "output_type": "stream",
     "text": [
      "Restoring model weights from the end of the best epoch.                            \n",
      "Epoch 00012: early stopping                                                        \n",
      "Best validation loss of epoch:                                                     \n",
      "0.04077839478850365                                                                \n",
      "(160, 13)                                                                          \n",
      "(140, 4, 13)                                                                       \n",
      "(4, 4, 13)                                                                         \n",
      "(4, 4, 13)                                                                         \n",
      "(8, 4, 13)                                                                         \n",
      " 76%|███████▌  | 38/50 [07:07<02:12, 11.03s/trial, best loss: 4.80951857753098e-05]"
     ]
    },
    {
     "data": {
      "application/vnd.jupyter.widget-view+json": {
       "model_id": "365552a2b1f5436a803ef9b4c4704d36",
       "version_major": 2,
       "version_minor": 0
      },
      "text/plain": [
       "0epoch [00:00, ?epoch/s]"
      ]
     },
     "metadata": {},
     "output_type": "display_data"
    },
    {
     "data": {
      "application/vnd.jupyter.widget-view+json": {
       "model_id": "",
       "version_major": 2,
       "version_minor": 0
      },
      "text/plain": [
       "0batch [00:00, ?batch/s]"
      ]
     },
     "metadata": {},
     "output_type": "display_data"
    },
    {
     "name": "stdout",
     "output_type": "stream",
     "text": [
      "Restoring model weights from the end of the best epoch.                            \n",
      "Epoch 00028: early stopping                                                        \n",
      "Best validation loss of epoch:                                                     \n",
      "7.340096635743976e-05                                                              \n",
      "(161, 13)                                                                          \n",
      "(140, 5, 13)                                                                       \n",
      "(4, 5, 13)                                                                         \n",
      "(4, 5, 13)                                                                         \n",
      "(8, 5, 13)                                                                         \n",
      " 78%|███████▊  | 39/50 [07:18<02:03, 11.19s/trial, best loss: 4.80951857753098e-05]"
     ]
    },
    {
     "data": {
      "application/vnd.jupyter.widget-view+json": {
       "model_id": "e9449c89391f451db6e12dd53870170b",
       "version_major": 2,
       "version_minor": 0
      },
      "text/plain": [
       "0epoch [00:00, ?epoch/s]"
      ]
     },
     "metadata": {},
     "output_type": "display_data"
    },
    {
     "data": {
      "application/vnd.jupyter.widget-view+json": {
       "model_id": "",
       "version_major": 2,
       "version_minor": 0
      },
      "text/plain": [
       "0batch [00:00, ?batch/s]"
      ]
     },
     "metadata": {},
     "output_type": "display_data"
    },
    {
     "name": "stdout",
     "output_type": "stream",
     "text": [
      "Restoring model weights from the end of the best epoch.                            \n",
      "Epoch 00027: early stopping                                                        \n",
      "Best validation loss of epoch:                                                     \n",
      "0.03398451209068298                                                                \n",
      "(158, 13)                                                                          \n",
      "(140, 2, 13)                                                                       \n",
      "(4, 2, 13)                                                                         \n",
      "(4, 2, 13)                                                                         \n",
      "(8, 2, 13)                                                                         \n",
      " 80%|████████  | 40/50 [07:32<01:59, 11.96s/trial, best loss: 4.80951857753098e-05]"
     ]
    },
    {
     "data": {
      "application/vnd.jupyter.widget-view+json": {
       "model_id": "3be5836a0f1e4f8e8293042964ad969c",
       "version_major": 2,
       "version_minor": 0
      },
      "text/plain": [
       "0epoch [00:00, ?epoch/s]"
      ]
     },
     "metadata": {},
     "output_type": "display_data"
    },
    {
     "data": {
      "application/vnd.jupyter.widget-view+json": {
       "model_id": "",
       "version_major": 2,
       "version_minor": 0
      },
      "text/plain": [
       "0batch [00:00, ?batch/s]"
      ]
     },
     "metadata": {},
     "output_type": "display_data"
    },
    {
     "name": "stdout",
     "output_type": "stream",
     "text": [
      "Restoring model weights from the end of the best epoch.                            \n",
      "Epoch 00012: early stopping                                                        \n",
      "Best validation loss of epoch:                                                     \n",
      "0.02055433578789234                                                                \n",
      "(163, 13)                                                                          \n",
      "(140, 7, 13)                                                                       \n",
      "(4, 7, 13)                                                                         \n",
      "(4, 7, 13)                                                                         \n",
      "(8, 7, 13)                                                                         \n",
      " 82%|████████▏ | 41/50 [07:40<01:35, 10.60s/trial, best loss: 4.80951857753098e-05]"
     ]
    },
    {
     "data": {
      "application/vnd.jupyter.widget-view+json": {
       "model_id": "3afe800c12d14337b8230b8bf0da2b33",
       "version_major": 2,
       "version_minor": 0
      },
      "text/plain": [
       "0epoch [00:00, ?epoch/s]"
      ]
     },
     "metadata": {},
     "output_type": "display_data"
    },
    {
     "data": {
      "application/vnd.jupyter.widget-view+json": {
       "model_id": "",
       "version_major": 2,
       "version_minor": 0
      },
      "text/plain": [
       "0batch [00:00, ?batch/s]"
      ]
     },
     "metadata": {},
     "output_type": "display_data"
    },
    {
     "name": "stdout",
     "output_type": "stream",
     "text": [
      "Restoring model weights from the end of the best epoch.                            \n",
      "Epoch 00015: early stopping                                                        \n",
      "Best validation loss of epoch:                                                     \n",
      "0.0003039727744180709                                                              \n",
      "(161, 13)                                                                          \n",
      "(140, 5, 13)                                                                       \n",
      "(4, 5, 13)                                                                         \n",
      "(4, 5, 13)                                                                         \n",
      "(8, 5, 13)                                                                         \n",
      " 84%|████████▍ | 42/50 [07:51<01:26, 10.79s/trial, best loss: 4.80951857753098e-05]"
     ]
    },
    {
     "data": {
      "application/vnd.jupyter.widget-view+json": {
       "model_id": "f4b6eb04a59c400082531deb4d41b89d",
       "version_major": 2,
       "version_minor": 0
      },
      "text/plain": [
       "0epoch [00:00, ?epoch/s]"
      ]
     },
     "metadata": {},
     "output_type": "display_data"
    },
    {
     "data": {
      "application/vnd.jupyter.widget-view+json": {
       "model_id": "",
       "version_major": 2,
       "version_minor": 0
      },
      "text/plain": [
       "0batch [00:00, ?batch/s]"
      ]
     },
     "metadata": {},
     "output_type": "display_data"
    },
    {
     "name": "stdout",
     "output_type": "stream",
     "text": [
      "Restoring model weights from the end of the best epoch.                            \n",
      "Epoch 00017: early stopping                                                        \n",
      "Best validation loss of epoch:                                                     \n",
      "0.0015529785305261612                                                              \n",
      "(162, 13)                                                                          \n",
      "(140, 6, 13)                                                                       \n",
      "(4, 6, 13)                                                                         \n",
      "(4, 6, 13)                                                                         \n",
      "(8, 6, 13)                                                                         \n",
      " 86%|████████▌ | 43/50 [08:01<01:13, 10.57s/trial, best loss: 4.80951857753098e-05]"
     ]
    },
    {
     "data": {
      "application/vnd.jupyter.widget-view+json": {
       "model_id": "8a9f579a403e4071a4e978bc8d994ef5",
       "version_major": 2,
       "version_minor": 0
      },
      "text/plain": [
       "0epoch [00:00, ?epoch/s]"
      ]
     },
     "metadata": {},
     "output_type": "display_data"
    },
    {
     "data": {
      "application/vnd.jupyter.widget-view+json": {
       "model_id": "",
       "version_major": 2,
       "version_minor": 0
      },
      "text/plain": [
       "0batch [00:00, ?batch/s]"
      ]
     },
     "metadata": {},
     "output_type": "display_data"
    },
    {
     "name": "stdout",
     "output_type": "stream",
     "text": [
      "Restoring model weights from the end of the best epoch.                            \n",
      "Epoch 00011: early stopping                                                        \n",
      "Best validation loss of epoch:                                                     \n",
      "0.024794433265924454                                                               \n",
      "(159, 13)                                                                          \n",
      "(140, 3, 13)                                                                       \n",
      "(4, 3, 13)                                                                         \n",
      "(4, 3, 13)                                                                         \n",
      "(8, 3, 13)                                                                         \n",
      " 88%|████████▊ | 44/50 [08:10<01:00, 10.02s/trial, best loss: 4.80951857753098e-05]"
     ]
    },
    {
     "data": {
      "application/vnd.jupyter.widget-view+json": {
       "model_id": "bc3c877b3efd43d98c01110815b6f274",
       "version_major": 2,
       "version_minor": 0
      },
      "text/plain": [
       "0epoch [00:00, ?epoch/s]"
      ]
     },
     "metadata": {},
     "output_type": "display_data"
    },
    {
     "data": {
      "application/vnd.jupyter.widget-view+json": {
       "model_id": "",
       "version_major": 2,
       "version_minor": 0
      },
      "text/plain": [
       "0batch [00:00, ?batch/s]"
      ]
     },
     "metadata": {},
     "output_type": "display_data"
    },
    {
     "name": "stdout",
     "output_type": "stream",
     "text": [
      "Restoring model weights from the end of the best epoch.                            \n",
      "Epoch 00011: early stopping                                                        \n",
      "Best validation loss of epoch:                                                     \n",
      "0.013756446540355682                                                               \n",
      "(160, 13)                                                                          \n",
      "(140, 4, 13)                                                                       \n",
      "(4, 4, 13)                                                                         \n",
      "(4, 4, 13)                                                                         \n",
      "(8, 4, 13)                                                                         \n",
      " 90%|█████████ | 45/50 [08:17<00:46,  9.25s/trial, best loss: 4.80951857753098e-05]"
     ]
    },
    {
     "data": {
      "application/vnd.jupyter.widget-view+json": {
       "model_id": "3b58e34dcda740f0855236f79ed6c7d0",
       "version_major": 2,
       "version_minor": 0
      },
      "text/plain": [
       "0epoch [00:00, ?epoch/s]"
      ]
     },
     "metadata": {},
     "output_type": "display_data"
    },
    {
     "data": {
      "application/vnd.jupyter.widget-view+json": {
       "model_id": "",
       "version_major": 2,
       "version_minor": 0
      },
      "text/plain": [
       "0batch [00:00, ?batch/s]"
      ]
     },
     "metadata": {},
     "output_type": "display_data"
    },
    {
     "name": "stdout",
     "output_type": "stream",
     "text": [
      "Restoring model weights from the end of the best epoch.                            \n",
      "Epoch 00011: early stopping                                                        \n",
      "Best validation loss of epoch:                                                     \n",
      "0.438618540763855                                                                  \n",
      "(161, 13)                                                                          \n",
      "(140, 5, 13)                                                                       \n",
      "(4, 5, 13)                                                                         \n",
      "(4, 5, 13)                                                                         \n",
      "(8, 5, 13)                                                                         \n",
      " 92%|█████████▏| 46/50 [08:24<00:34,  8.66s/trial, best loss: 4.80951857753098e-05]"
     ]
    },
    {
     "data": {
      "application/vnd.jupyter.widget-view+json": {
       "model_id": "5a880ad08af44d3d8b2d03d514083fd1",
       "version_major": 2,
       "version_minor": 0
      },
      "text/plain": [
       "0epoch [00:00, ?epoch/s]"
      ]
     },
     "metadata": {},
     "output_type": "display_data"
    },
    {
     "data": {
      "application/vnd.jupyter.widget-view+json": {
       "model_id": "",
       "version_major": 2,
       "version_minor": 0
      },
      "text/plain": [
       "0batch [00:00, ?batch/s]"
      ]
     },
     "metadata": {},
     "output_type": "display_data"
    },
    {
     "name": "stdout",
     "output_type": "stream",
     "text": [
      "Restoring model weights from the end of the best epoch.                            \n",
      "Epoch 00023: early stopping                                                        \n",
      "Best validation loss of epoch:                                                     \n",
      "0.000428178085712716                                                               \n",
      "(157, 13)                                                                          \n",
      "(140, 1, 13)                                                                       \n",
      "(4, 1, 13)                                                                         \n",
      "(4, 1, 13)                                                                         \n",
      "(8, 1, 13)                                                                         \n",
      " 94%|█████████▍| 47/50 [08:41<00:32, 10.93s/trial, best loss: 4.80951857753098e-05]"
     ]
    },
    {
     "data": {
      "application/vnd.jupyter.widget-view+json": {
       "model_id": "f65b2dbf9efd436d98fbaa6e7c7f0c3b",
       "version_major": 2,
       "version_minor": 0
      },
      "text/plain": [
       "0epoch [00:00, ?epoch/s]"
      ]
     },
     "metadata": {},
     "output_type": "display_data"
    },
    {
     "data": {
      "application/vnd.jupyter.widget-view+json": {
       "model_id": "",
       "version_major": 2,
       "version_minor": 0
      },
      "text/plain": [
       "0batch [00:00, ?batch/s]"
      ]
     },
     "metadata": {},
     "output_type": "display_data"
    },
    {
     "name": "stdout",
     "output_type": "stream",
     "text": [
      "Restoring model weights from the end of the best epoch.                            \n",
      "Epoch 00019: early stopping                                                        \n",
      "Best validation loss of epoch:                                                     \n",
      "0.00022541102953255177                                                             \n",
      "(158, 13)                                                                          \n",
      "(140, 2, 13)                                                                       \n",
      "(4, 2, 13)                                                                         \n",
      "(4, 2, 13)                                                                         \n",
      "(8, 2, 13)                                                                         \n",
      " 96%|█████████▌| 48/50 [08:48<00:19,  9.94s/trial, best loss: 4.80951857753098e-05]"
     ]
    },
    {
     "data": {
      "application/vnd.jupyter.widget-view+json": {
       "model_id": "089c08832bf84b3abcf0b1e7149638a5",
       "version_major": 2,
       "version_minor": 0
      },
      "text/plain": [
       "0epoch [00:00, ?epoch/s]"
      ]
     },
     "metadata": {},
     "output_type": "display_data"
    },
    {
     "data": {
      "application/vnd.jupyter.widget-view+json": {
       "model_id": "",
       "version_major": 2,
       "version_minor": 0
      },
      "text/plain": [
       "0batch [00:00, ?batch/s]"
      ]
     },
     "metadata": {},
     "output_type": "display_data"
    },
    {
     "name": "stdout",
     "output_type": "stream",
     "text": [
      "Restoring model weights from the end of the best epoch.                            \n",
      "Epoch 00014: early stopping                                                        \n",
      "Best validation loss of epoch:                                                     \n",
      "0.04616452008485794                                                                \n",
      "(162, 13)                                                                          \n",
      "(140, 6, 13)                                                                       \n",
      "(4, 6, 13)                                                                         \n",
      "(4, 6, 13)                                                                         \n",
      "(8, 6, 13)                                                                         \n",
      " 98%|█████████▊| 49/50 [08:55<00:08,  8.97s/trial, best loss: 4.80951857753098e-05]"
     ]
    },
    {
     "data": {
      "application/vnd.jupyter.widget-view+json": {
       "model_id": "1290d41df05c4f858f69c765cab9dd9d",
       "version_major": 2,
       "version_minor": 0
      },
      "text/plain": [
       "0epoch [00:00, ?epoch/s]"
      ]
     },
     "metadata": {},
     "output_type": "display_data"
    },
    {
     "data": {
      "application/vnd.jupyter.widget-view+json": {
       "model_id": "",
       "version_major": 2,
       "version_minor": 0
      },
      "text/plain": [
       "0batch [00:00, ?batch/s]"
      ]
     },
     "metadata": {},
     "output_type": "display_data"
    },
    {
     "name": "stdout",
     "output_type": "stream",
     "text": [
      "Restoring model weights from the end of the best epoch.                            \n",
      "Epoch 00019: early stopping                                                        \n",
      "Best validation loss of epoch:                                                     \n",
      "0.03448715806007385                                                                \n",
      "100%|██████████| 50/50 [09:07<00:00, 10.94s/trial, best loss: 4.80951857753098e-05]\n",
      "{'dropout': 0.2930822546516494, 'learning_rate': 0.07023865407918009, 'units_1': 120, 'units_2': 80, 'units_3': 44, 'units_4': 56, 'weeks': 9}\n",
      "Model: \"sequential_207\"\n",
      "_________________________________________________________________\n",
      "Layer (type)                 Output Shape              Param #   \n",
      "=================================================================\n",
      "simple_rnn_527 (SimpleRNN)   (None, 9, 120)            16080     \n",
      "_________________________________________________________________\n",
      "dropout_526 (Dropout)        (None, 9, 120)            0         \n",
      "_________________________________________________________________\n",
      "simple_rnn_528 (SimpleRNN)   (None, 9, 80)             16080     \n",
      "_________________________________________________________________\n",
      "dropout_527 (Dropout)        (None, 9, 80)             0         \n",
      "_________________________________________________________________\n",
      "simple_rnn_529 (SimpleRNN)   (None, 9, 44)             5500      \n",
      "_________________________________________________________________\n",
      "dropout_528 (Dropout)        (None, 9, 44)             0         \n",
      "_________________________________________________________________\n",
      "simple_rnn_530 (SimpleRNN)   (None, 56)                5656      \n",
      "_________________________________________________________________\n",
      "dropout_529 (Dropout)        (None, 56)                0         \n",
      "_________________________________________________________________\n",
      "dense_206 (Dense)            (None, 1)                 57        \n",
      "=================================================================\n",
      "Total params: 43,373\n",
      "Trainable params: 43,373\n",
      "Non-trainable params: 0\n",
      "_________________________________________________________________\n",
      "None\n",
      "INFO:tensorflow:Assets written to: Model/RNN-4\\assets\n",
      "(165, 13)\n",
      "(140, 9, 13) (4, 9, 13) (4, 9, 13) (8, 9, 13)\n",
      "1/1 [==============================] - 1s 1s/step - loss: 0.2287 - mse: 0.2287 - mape: 53.7922\n",
      "(4, 1)\n",
      "(4, 1)\n",
      "(4, 1)\n",
      "Mean Squared Error: 255681189695152.12\n",
      "Root Mean Squared Error: 15990034.074233618\n",
      "Mean Absolute Percentage Error: 0.18346046529629811\n"
     ]
    },
    {
     "data": {
      "image/png": "[encoded data removed]",
      "text/plain": [
       "<Figure size 432x288 with 1 Axes>"
      ]
     },
     "metadata": {
      "needs_background": "light"
     },
     "output_type": "display_data"
    },
    {
     "data": {
      "image/png": "[encoded data removed]",
      "text/plain": [
       "<Figure size 432x288 with 1 Axes>"
      ]
     },
     "metadata": {
      "needs_background": "light"
     },
     "output_type": "display_data"
    }
   ],
   "source": [
    "rnn4 = run()"
   ]
  }
 ],
 "metadata": {
  "kernelspec": {
   "display_name": "Python 3 (ipykernel)",
   "language": "python",
   "name": "python3"
  },
  "language_info": {
   "codemirror_mode": {
    "name": "ipython",
    "version": 3
   },
   "file_extension": ".py",
   "mimetype": "text/x-python",
   "name": "python",
   "nbconvert_exporter": "python",
   "pygments_lexer": "ipython3",
   "version": "3.8.12"
  }
 },
 "nbformat": 4,
 "nbformat_minor": 5
}

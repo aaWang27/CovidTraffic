{
 "cells": [
  {
   "cell_type": "code",
   "execution_count": 12,
   "id": "d5865879",
   "metadata": {},
   "outputs": [],
   "source": [
    "import numpy as np\n",
    "import pandas as pd\n",
    "import matplotlib as mpl\n",
    "import matplotlib.pyplot as plt\n",
    "import utils\n",
    "import config\n",
    "\n",
    "# For GCN-LSTM model\n",
    "from tensorflow import keras\n",
    "from keras import Model, initializers\n",
    "from keras.models import Sequential\n",
    "from keras.layers import Dense, LSTM, Dropout\n",
    "from keras.callbacks import EarlyStopping\n",
    "from tqdm.keras import TqdmCallback\n",
    "import stellargraph as sg\n",
    "from stellargraph.layer import GCN_LSTM\n",
    "\n",
    "# For hyperopt (parameter optimization)\n",
    "from hyperopt import Trials, STATUS_OK, tpe, fmin, hp\n",
    "from hyperopt.pyll.base import scope  # quniform returns float, some parameters require int; use this to force int\n",
    "\n",
    "# Evaluation metrics\n",
    "from sklearn.metrics import mean_squared_error, mean_absolute_percentage_error\n",
    "\n",
    "%matplotlib inline"
   ]
  },
  {
   "cell_type": "code",
   "execution_count": 17,
   "id": "7b3b8296",
   "metadata": {},
   "outputs": [],
   "source": [
    "def format_data(data, weeks=1):\n",
    "    X_total = data.values[:209, :]\n",
    "\n",
    "    data = X_total[(53-weeks):, :]\n",
    "    print(data.shape)\n",
    "    scaler, values = utils.scale(data)\n",
    "    X, y = utils.sequence_data_preparation(1, weeks, values.T)\n",
    "    \n",
    "    trainX = X[:140, :, :]\n",
    "    trainY = y[:140, :]\n",
    "    validX = X[140:148, :, :]\n",
    "    validY = y[140:148, :]\n",
    "    testX = X[148:, :, :]\n",
    "    testY = y[148:, :]\n",
    "    print(trainX.shape, testX.shape)\n",
    "\n",
    "    return trainX, trainY, validX, validY, testX, testY"
   ]
  },
  {
   "cell_type": "code",
   "execution_count": 18,
   "id": "287a1346",
   "metadata": {},
   "outputs": [],
   "source": [
    "def format_scale_data(data, weeks=1):\n",
    "    X_total = data.values[:209, :]\n",
    "\n",
    "    data = X_total[(53-weeks):, :]\n",
    "    scaler, values = utils.scale(data)\n",
    "    X, y = utils.sequence_data_preparation(1, weeks, values.T)\n",
    "    \n",
    "    trainX = X[:140, :, :]\n",
    "    trainY = y[:140, :]\n",
    "    validX = X[140:148, :, :]\n",
    "    validY = y[140:148, :]\n",
    "    testX = X[148:, :, :]\n",
    "    testY = y[148:, :]\n",
    "    print(trainX.shape, testX.shape)\n",
    "    y_scaler, y = utils.scale(data[:, 1].reshape((len(data), 1)))\n",
    "\n",
    "    return trainX, trainY, validX, validY, testX, testY, scaler, y_scaler"
   ]
  },
  {
   "cell_type": "code",
   "execution_count": 4,
   "id": "f461a964",
   "metadata": {},
   "outputs": [],
   "source": [
    "def run():\n",
    "    def f_nn(params):\n",
    "        # Generate data with given window\n",
    "        saltlake_week = pd.read_csv('../saltlake_week.csv')\n",
    "        data = saltlake_week[['Cases', 'VMT (Veh-Miles)', 'News Sentiment', 'Unemployment Rate', 'PRCP', 'SNWD',\n",
    "                              'Percent_Fully_Vaccinated_5&Older', 'TAVG',\n",
    "                              'Stay at Home', 'Mask', 'School Opening', 'Health Emergency', 'Holiday']]\n",
    "        trainX, trainY, validX, validY, testX, testY = format_data(data=data, weeks=params['weeks'])\n",
    "        \n",
    "        gc_layers = [params['gcn_units'] for i in range(params['gcn_layers'])]\n",
    "        gc_act = [params['gcn_activation'] for i in range(params['gcn_layers'])]\n",
    "        lstm_layers = [params['lstm_units'] for i in range(params['lstm_layers'])]\n",
    "        lstm_act = [params['lstm_activation'] for i in range(params['lstm_layers'])]\n",
    "        \n",
    "        # Keras LSTM model\n",
    "        model = GCN_LSTM(\n",
    "                seq_len=config.SEQ_LEN,\n",
    "                adj=config.TOTAL_ADJACENT_MATRIX,\n",
    "                gc_layer_sizes=gc_layers,\n",
    "                gc_activations=gc_act,\n",
    "                lstm_layer_sizes=lstm_layers,\n",
    "                lstm_activations=lstm_act,\n",
    "                kernel_initializer=initializers.Identity(gain=1)\n",
    "        )\n",
    "\n",
    "        x_input, x_output = model.in_out_tensors()\n",
    "        model = Model(inputs=x_input, outputs=x_output)\n",
    "        lr = 0.001\n",
    "        model.compile(optimizer=keras.optimizers.Adam(learning_rate=params['learning_rate']), loss=\"mse\",\n",
    "              metrics=[\"mse\"])\n",
    "\n",
    "        es = EarlyStopping(monitor='val_loss', mode='min', verbose=1, patience=10, restore_best_weights=True)\n",
    "\n",
    "        result = model.fit(trainX, trainY, verbose=0, validation_data=(validX, validY),\n",
    "                            batch_size=4,\n",
    "                            epochs=200,\n",
    "                            callbacks=[es, TqdmCallback(verbose=1)]\n",
    "                            )\n",
    "\n",
    "        # get the lowest validation loss of the training epochs\n",
    "        validation_loss = np.amin(result.history['val_loss'])\n",
    "        print('Best validation loss of epoch:', validation_loss)\n",
    "\n",
    "\n",
    "        return {'loss': validation_loss, 'status': STATUS_OK, 'model': model, 'params': params}\n",
    "\n",
    "    # hyperparameters to search over with hyperopt\n",
    "    space = {'dropout': hp.uniform('dropout', 0.01, 0.5),\n",
    "             'gcn_units': scope.int(hp.quniform('gcn_units', 4, 32, 4)),\n",
    "             'gcn_layers': scope.int(hp.quniform('gcn_layers', 1, 2, 1)),\n",
    "             'lstm_units': scope.int(hp.quniform('lstm_units', 8, 128, 4)),\n",
    "             'lstm_layers': scope.int(hp.quniform('lstm_layers', 1, 6, 1)),\n",
    "             'weeks': scope.int(hp.quniform('weeks', 1, 10, 1)), \n",
    "             'gcn_activation': hp.choice('gcn_activation', ['relu', 'sigmoid', 'tanh']), \n",
    "             'lstm_activation': hp.choice('lstm_activation', ['relu', 'sigmoid', 'tanh']),\n",
    "             'learning_rate': hp.uniform('learning_rate', 0.001, 0.1)\n",
    "             }\n",
    "\n",
    "    trials = Trials()\n",
    "    best = fmin(f_nn, space, algo=tpe.suggest, max_evals=50, trials=trials)\n",
    "\n",
    "    # get best model\n",
    "    best_model = trials.results[np.argmin([r['loss'] for r in trials.results])]['model']\n",
    "    best_params = trials.results[np.argmin([r['loss'] for r in trials.results])]['params']\n",
    "\n",
    "    print(best_params)\n",
    "    print(best_model.summary())\n",
    "    best_model.save('Model/GCN-LSTM')\n",
    "    \n",
    "    saltlake_week = pd.read_csv('../saltlake_week.csv')\n",
    "    data = saltlake_week[['Cases', 'VMT (Veh-Miles)', 'News Sentiment', 'Unemployment Rate', 'PRCP', 'SNWD',\n",
    "                          'Percent_Fully_Vaccinated_5&Older', 'TAVG', \n",
    "                          'Stay at Home', 'Mask', 'School Opening', 'Health Emergency', 'Holiday']]\n",
    "    trainX, trainY, validX, validY, testX, testY, scaler, y_scaler = format_scale_data(data=data, weeks=best_params['weeks'])\n",
    "    \n",
    "    best_model.evaluate(testX, testY)\n",
    "    \n",
    "    yhat_test = best_model.predict(testX)\n",
    "    yhat_test_inv = y_scaler.inverse_transform(yhat_test).reshape((-1, 1))\n",
    "    testY_inv = y_scaler.inverse_transform(testY.reshape((-1, 1)))\n",
    "    \n",
    "    yhat_train = best_model.predict(trainX).reshape((-1, 1))\n",
    "    yhat_train_inv = y_scaler.inverse_transform(yhat_train)\n",
    "    trainY_inv = y_scaler.inverse_transform(trainY.reshape((-1, 1)))\n",
    "    \n",
    "    print(\"Mean Squared Error: {}\".format(mean_squared_error(testY_inv, yhat_test_inv)))\n",
    "    print(\"Root Mean Squared Error: {}\".format(mean_squared_error(testY_inv, yhat_test_inv, squared=False)))\n",
    "    print(\"Mean Absolute Percentage Error: {}\".format(mean_absolute_percentage_error(testY_inv, yhat_test_inv)))\n",
    "    \n",
    "    plt.figure()\n",
    "    plt.plot(yhat_test_inv, label='Predicted')\n",
    "    plt.plot(testY_inv, label='True')\n",
    "    plt.legend()\n",
    "    plt.show()\n",
    "    \n",
    "    plt.figure()\n",
    "    plt.plot(yhat_train_inv, label='Predicted')\n",
    "    plt.plot(trainY_inv, label='True')\n",
    "    plt.legend()\n",
    "    plt.show()"
   ]
  },
  {
   "cell_type": "code",
   "execution_count": 19,
   "id": "df93a5bd",
   "metadata": {},
   "outputs": [
    {
     "name": "stdout",
     "output_type": "stream",
     "text": [
      "(158, 13)                                             \n",
      "(140, 13, 1)                                          \n",
      "(8, 13, 1)                                            \n",
      "  0%|          | 0/50 [00:00<?, ?trial/s, best loss=?]"
     ]
    },
    {
     "name": "stderr",
     "output_type": "stream",
     "text": [
      "<ipython-input-4-a4ed99d749fe>:16: ExperimentalWarning: GCN_LSTM is experimental: Lack of unit tests and code refinement (see: https://github.com/stellargraph/stellargraph/issues/1132, https://github.com/stellargraph/stellargraph/issues/1526, https://github.com/stellargraph/stellargraph/issues/1564). It may be difficult to use and may have major changes at any time.\n",
      "  model = GCN_LSTM(\n",
      "\n"
     ]
    },
    {
     "data": {
      "application/vnd.jupyter.widget-view+json": {
       "model_id": "491a999f0b684c90810c3f5c354278e4",
       "version_major": 2,
       "version_minor": 0
      },
      "text/plain": [
       "0epoch [00:00, ?epoch/s]"
      ]
     },
     "metadata": {},
     "output_type": "display_data"
    },
    {
     "data": {
      "application/vnd.jupyter.widget-view+json": {
       "model_id": "",
       "version_major": 2,
       "version_minor": 0
      },
      "text/plain": [
       "0batch [00:00, ?batch/s]"
      ]
     },
     "metadata": {},
     "output_type": "display_data"
    },
    {
     "name": "stdout",
     "output_type": "stream",
     "text": [
      "Restoring model weights from the end of the best epoch: 1.\n",
      "Epoch 00011: early stopping                           \n",
      "Best validation loss of epoch:                        \n",
      "0.12212962657213211                                   \n",
      "(160, 13)                                                                        \n",
      "(140, 13, 1)                                                                     \n",
      "(8, 13, 1)                                                                       \n",
      "  2%|▏         | 1/50 [00:15<12:45, 15.61s/trial, best loss: 0.12212962657213211]"
     ]
    },
    {
     "name": "stderr",
     "output_type": "stream",
     "text": [
      "<ipython-input-4-a4ed99d749fe>:16: ExperimentalWarning: GCN_LSTM is experimental: Lack of unit tests and code refinement (see: https://github.com/stellargraph/stellargraph/issues/1132, https://github.com/stellargraph/stellargraph/issues/1526, https://github.com/stellargraph/stellargraph/issues/1564). It may be difficult to use and may have major changes at any time.\n",
      "  model = GCN_LSTM(\n",
      "\n"
     ]
    },
    {
     "data": {
      "application/vnd.jupyter.widget-view+json": {
       "model_id": "3585ca0a533f41de9c7cec93083a19df",
       "version_major": 2,
       "version_minor": 0
      },
      "text/plain": [
       "0epoch [00:00, ?epoch/s]"
      ]
     },
     "metadata": {},
     "output_type": "display_data"
    },
    {
     "data": {
      "application/vnd.jupyter.widget-view+json": {
       "model_id": "",
       "version_major": 2,
       "version_minor": 0
      },
      "text/plain": [
       "0batch [00:00, ?batch/s]"
      ]
     },
     "metadata": {},
     "output_type": "display_data"
    },
    {
     "name": "stdout",
     "output_type": "stream",
     "text": [
      "Restoring model weights from the end of the best epoch: 4.                       \n",
      "Epoch 00014: early stopping                                                      \n",
      "Best validation loss of epoch:                                                   \n",
      "0.08649422973394394                                                              \n",
      "(164, 13)                                                                        \n",
      "(140, 13, 1)                                                                     \n",
      "(8, 13, 1)                                                                       \n",
      "  4%|▍         | 2/50 [00:46<19:28, 24.35s/trial, best loss: 0.08649422973394394]"
     ]
    },
    {
     "name": "stderr",
     "output_type": "stream",
     "text": [
      "<ipython-input-4-a4ed99d749fe>:16: ExperimentalWarning: GCN_LSTM is experimental: Lack of unit tests and code refinement (see: https://github.com/stellargraph/stellargraph/issues/1132, https://github.com/stellargraph/stellargraph/issues/1526, https://github.com/stellargraph/stellargraph/issues/1564). It may be difficult to use and may have major changes at any time.\n",
      "  model = GCN_LSTM(\n",
      "\n"
     ]
    },
    {
     "data": {
      "application/vnd.jupyter.widget-view+json": {
       "model_id": "13d7431ab0f04588b923dc2a1865c09a",
       "version_major": 2,
       "version_minor": 0
      },
      "text/plain": [
       "0epoch [00:00, ?epoch/s]"
      ]
     },
     "metadata": {},
     "output_type": "display_data"
    },
    {
     "data": {
      "application/vnd.jupyter.widget-view+json": {
       "model_id": "",
       "version_major": 2,
       "version_minor": 0
      },
      "text/plain": [
       "0batch [00:00, ?batch/s]"
      ]
     },
     "metadata": {},
     "output_type": "display_data"
    },
    {
     "name": "stdout",
     "output_type": "stream",
     "text": [
      "Restoring model weights from the end of the best epoch: 6.                       \n",
      "Epoch 00016: early stopping                                                      \n",
      "Best validation loss of epoch:                                                   \n",
      "0.12107481062412262                                                              \n",
      "(160, 13)                                                                        \n",
      "(140, 13, 1)                                                                     \n",
      "(8, 13, 1)                                                                       \n",
      "  6%|▌         | 3/50 [01:12<19:54, 25.41s/trial, best loss: 0.08649422973394394]"
     ]
    },
    {
     "name": "stderr",
     "output_type": "stream",
     "text": [
      "<ipython-input-4-a4ed99d749fe>:16: ExperimentalWarning: GCN_LSTM is experimental: Lack of unit tests and code refinement (see: https://github.com/stellargraph/stellargraph/issues/1132, https://github.com/stellargraph/stellargraph/issues/1526, https://github.com/stellargraph/stellargraph/issues/1564). It may be difficult to use and may have major changes at any time.\n",
      "  model = GCN_LSTM(\n",
      "\n"
     ]
    },
    {
     "data": {
      "application/vnd.jupyter.widget-view+json": {
       "model_id": "802851bfefd3460392c24965557346ce",
       "version_major": 2,
       "version_minor": 0
      },
      "text/plain": [
       "0epoch [00:00, ?epoch/s]"
      ]
     },
     "metadata": {},
     "output_type": "display_data"
    },
    {
     "data": {
      "application/vnd.jupyter.widget-view+json": {
       "model_id": "",
       "version_major": 2,
       "version_minor": 0
      },
      "text/plain": [
       "0batch [00:00, ?batch/s]"
      ]
     },
     "metadata": {},
     "output_type": "display_data"
    },
    {
     "name": "stdout",
     "output_type": "stream",
     "text": [
      "Restoring model weights from the end of the best epoch: 1.                       \n",
      "Epoch 00011: early stopping                                                      \n",
      "Best validation loss of epoch:                                                   \n",
      "0.19905269145965576                                                              \n",
      "(157, 13)                                                                        \n",
      "(140, 13, 1)                                                                     \n",
      "(8, 13, 1)                                                                       \n",
      "  8%|▊         | 4/50 [01:21<14:31, 18.95s/trial, best loss: 0.08649422973394394]"
     ]
    },
    {
     "name": "stderr",
     "output_type": "stream",
     "text": [
      "<ipython-input-4-a4ed99d749fe>:16: ExperimentalWarning: GCN_LSTM is experimental: Lack of unit tests and code refinement (see: https://github.com/stellargraph/stellargraph/issues/1132, https://github.com/stellargraph/stellargraph/issues/1526, https://github.com/stellargraph/stellargraph/issues/1564). It may be difficult to use and may have major changes at any time.\n",
      "  model = GCN_LSTM(\n",
      "\n"
     ]
    },
    {
     "data": {
      "application/vnd.jupyter.widget-view+json": {
       "model_id": "47549f7264de4ba080926160aae21a63",
       "version_major": 2,
       "version_minor": 0
      },
      "text/plain": [
       "0epoch [00:00, ?epoch/s]"
      ]
     },
     "metadata": {},
     "output_type": "display_data"
    },
    {
     "data": {
      "application/vnd.jupyter.widget-view+json": {
       "model_id": "",
       "version_major": 2,
       "version_minor": 0
      },
      "text/plain": [
       "0batch [00:00, ?batch/s]"
      ]
     },
     "metadata": {},
     "output_type": "display_data"
    },
    {
     "name": "stdout",
     "output_type": "stream",
     "text": [
      "Restoring model weights from the end of the best epoch: 12.                      \n",
      "Epoch 00022: early stopping                                                      \n",
      "Best validation loss of epoch:                                                   \n",
      "0.07984240353107452                                                              \n",
      "(166, 13)                                                                        \n",
      "(140, 13, 1)                                                                     \n",
      "(8, 13, 1)                                                                       \n",
      " 10%|█         | 5/50 [01:55<18:07, 24.17s/trial, best loss: 0.07984240353107452]"
     ]
    },
    {
     "name": "stderr",
     "output_type": "stream",
     "text": [
      "<ipython-input-4-a4ed99d749fe>:16: ExperimentalWarning: GCN_LSTM is experimental: Lack of unit tests and code refinement (see: https://github.com/stellargraph/stellargraph/issues/1132, https://github.com/stellargraph/stellargraph/issues/1526, https://github.com/stellargraph/stellargraph/issues/1564). It may be difficult to use and may have major changes at any time.\n",
      "  model = GCN_LSTM(\n",
      "\n"
     ]
    },
    {
     "data": {
      "application/vnd.jupyter.widget-view+json": {
       "model_id": "57b8fe75b05649998ca8a25aff8dd821",
       "version_major": 2,
       "version_minor": 0
      },
      "text/plain": [
       "0epoch [00:00, ?epoch/s]"
      ]
     },
     "metadata": {},
     "output_type": "display_data"
    },
    {
     "data": {
      "application/vnd.jupyter.widget-view+json": {
       "model_id": "",
       "version_major": 2,
       "version_minor": 0
      },
      "text/plain": [
       "0batch [00:00, ?batch/s]"
      ]
     },
     "metadata": {},
     "output_type": "display_data"
    },
    {
     "name": "stdout",
     "output_type": "stream",
     "text": [
      "Restoring model weights from the end of the best epoch: 6.                       \n",
      "Epoch 00016: early stopping                                                      \n",
      "Best validation loss of epoch:                                                   \n",
      "0.07999908924102783                                                              \n",
      "(161, 13)                                                                        \n",
      "(140, 13, 1)                                                                     \n",
      "(8, 13, 1)                                                                       \n",
      " 12%|█▏        | 6/50 [02:02<13:30, 18.42s/trial, best loss: 0.07984240353107452]"
     ]
    },
    {
     "name": "stderr",
     "output_type": "stream",
     "text": [
      "<ipython-input-4-a4ed99d749fe>:16: ExperimentalWarning: GCN_LSTM is experimental: Lack of unit tests and code refinement (see: https://github.com/stellargraph/stellargraph/issues/1132, https://github.com/stellargraph/stellargraph/issues/1526, https://github.com/stellargraph/stellargraph/issues/1564). It may be difficult to use and may have major changes at any time.\n",
      "  model = GCN_LSTM(\n",
      "\n"
     ]
    },
    {
     "data": {
      "application/vnd.jupyter.widget-view+json": {
       "model_id": "507ecea279ae422a87854ec031ff8807",
       "version_major": 2,
       "version_minor": 0
      },
      "text/plain": [
       "0epoch [00:00, ?epoch/s]"
      ]
     },
     "metadata": {},
     "output_type": "display_data"
    },
    {
     "data": {
      "application/vnd.jupyter.widget-view+json": {
       "model_id": "",
       "version_major": 2,
       "version_minor": 0
      },
      "text/plain": [
       "0batch [00:00, ?batch/s]"
      ]
     },
     "metadata": {},
     "output_type": "display_data"
    },
    {
     "name": "stdout",
     "output_type": "stream",
     "text": [
      "Restoring model weights from the end of the best epoch: 6.                       \n",
      "Epoch 00016: early stopping                                                      \n",
      "Best validation loss of epoch:                                                   \n",
      "0.08572988957166672                                                              \n",
      "(158, 13)                                                                        \n",
      "(140, 13, 1)                                                                     \n",
      "(8, 13, 1)                                                                       \n",
      " 14%|█▍        | 7/50 [02:18<12:32, 17.49s/trial, best loss: 0.07984240353107452]"
     ]
    },
    {
     "name": "stderr",
     "output_type": "stream",
     "text": [
      "<ipython-input-4-a4ed99d749fe>:16: ExperimentalWarning: GCN_LSTM is experimental: Lack of unit tests and code refinement (see: https://github.com/stellargraph/stellargraph/issues/1132, https://github.com/stellargraph/stellargraph/issues/1526, https://github.com/stellargraph/stellargraph/issues/1564). It may be difficult to use and may have major changes at any time.\n",
      "  model = GCN_LSTM(\n",
      "\n"
     ]
    },
    {
     "data": {
      "application/vnd.jupyter.widget-view+json": {
       "model_id": "32ae415c391d4fe3a9830a49de4d62e9",
       "version_major": 2,
       "version_minor": 0
      },
      "text/plain": [
       "0epoch [00:00, ?epoch/s]"
      ]
     },
     "metadata": {},
     "output_type": "display_data"
    },
    {
     "data": {
      "application/vnd.jupyter.widget-view+json": {
       "model_id": "",
       "version_major": 2,
       "version_minor": 0
      },
      "text/plain": [
       "0batch [00:00, ?batch/s]"
      ]
     },
     "metadata": {},
     "output_type": "display_data"
    },
    {
     "name": "stdout",
     "output_type": "stream",
     "text": [
      "Restoring model weights from the end of the best epoch: 11.                      \n",
      "Epoch 00021: early stopping                                                      \n",
      "Best validation loss of epoch:                                                   \n",
      "0.08622843027114868                                                              \n",
      "(163, 13)                                                                        \n",
      "(140, 13, 1)                                                                     \n",
      "(8, 13, 1)                                                                       \n",
      " 16%|█▌        | 8/50 [02:38<12:54, 18.45s/trial, best loss: 0.07984240353107452]"
     ]
    },
    {
     "name": "stderr",
     "output_type": "stream",
     "text": [
      "<ipython-input-4-a4ed99d749fe>:16: ExperimentalWarning: GCN_LSTM is experimental: Lack of unit tests and code refinement (see: https://github.com/stellargraph/stellargraph/issues/1132, https://github.com/stellargraph/stellargraph/issues/1526, https://github.com/stellargraph/stellargraph/issues/1564). It may be difficult to use and may have major changes at any time.\n",
      "  model = GCN_LSTM(\n",
      "\n"
     ]
    },
    {
     "data": {
      "application/vnd.jupyter.widget-view+json": {
       "model_id": "34d7b4e0d3bc49aa9cd6a0602ea7fd16",
       "version_major": 2,
       "version_minor": 0
      },
      "text/plain": [
       "0epoch [00:00, ?epoch/s]"
      ]
     },
     "metadata": {},
     "output_type": "display_data"
    },
    {
     "data": {
      "application/vnd.jupyter.widget-view+json": {
       "model_id": "",
       "version_major": 2,
       "version_minor": 0
      },
      "text/plain": [
       "0batch [00:00, ?batch/s]"
      ]
     },
     "metadata": {},
     "output_type": "display_data"
    },
    {
     "name": "stdout",
     "output_type": "stream",
     "text": [
      "Restoring model weights from the end of the best epoch: 16.                      \n",
      "Epoch 00026: early stopping                                                      \n",
      "Best validation loss of epoch:                                                   \n",
      "0.10591629147529602                                                              \n",
      "(157, 13)                                                                        \n",
      "(140, 13, 1)                                                                     \n",
      "(8, 13, 1)                                                                       \n",
      " 18%|█▊        | 9/50 [03:06<14:36, 21.39s/trial, best loss: 0.07984240353107452]"
     ]
    },
    {
     "name": "stderr",
     "output_type": "stream",
     "text": [
      "<ipython-input-4-a4ed99d749fe>:16: ExperimentalWarning: GCN_LSTM is experimental: Lack of unit tests and code refinement (see: https://github.com/stellargraph/stellargraph/issues/1132, https://github.com/stellargraph/stellargraph/issues/1526, https://github.com/stellargraph/stellargraph/issues/1564). It may be difficult to use and may have major changes at any time.\n",
      "  model = GCN_LSTM(\n",
      "\n"
     ]
    },
    {
     "data": {
      "application/vnd.jupyter.widget-view+json": {
       "model_id": "ed3d1420215646ed8ac645012892d72d",
       "version_major": 2,
       "version_minor": 0
      },
      "text/plain": [
       "0epoch [00:00, ?epoch/s]"
      ]
     },
     "metadata": {},
     "output_type": "display_data"
    },
    {
     "data": {
      "application/vnd.jupyter.widget-view+json": {
       "model_id": "",
       "version_major": 2,
       "version_minor": 0
      },
      "text/plain": [
       "0batch [00:00, ?batch/s]"
      ]
     },
     "metadata": {},
     "output_type": "display_data"
    },
    {
     "name": "stdout",
     "output_type": "stream",
     "text": [
      "Restoring model weights from the end of the best epoch: 21.                      \n",
      "Epoch 00031: early stopping                                                      \n",
      "Best validation loss of epoch:                                                   \n",
      "0.036123208701610565                                                             \n",
      "(161, 13)                                                                          \n",
      "(140, 13, 1)                                                                       \n",
      "(8, 13, 1)                                                                         \n",
      " 20%|██        | 10/50 [03:17<12:04, 18.12s/trial, best loss: 0.036123208701610565]"
     ]
    },
    {
     "name": "stderr",
     "output_type": "stream",
     "text": [
      "<ipython-input-4-a4ed99d749fe>:16: ExperimentalWarning: GCN_LSTM is experimental: Lack of unit tests and code refinement (see: https://github.com/stellargraph/stellargraph/issues/1132, https://github.com/stellargraph/stellargraph/issues/1526, https://github.com/stellargraph/stellargraph/issues/1564). It may be difficult to use and may have major changes at any time.\n",
      "  model = GCN_LSTM(\n",
      "\n"
     ]
    },
    {
     "data": {
      "application/vnd.jupyter.widget-view+json": {
       "model_id": "13945dab33894baba683762f1af077ae",
       "version_major": 2,
       "version_minor": 0
      },
      "text/plain": [
       "0epoch [00:00, ?epoch/s]"
      ]
     },
     "metadata": {},
     "output_type": "display_data"
    },
    {
     "data": {
      "application/vnd.jupyter.widget-view+json": {
       "model_id": "",
       "version_major": 2,
       "version_minor": 0
      },
      "text/plain": [
       "0batch [00:00, ?batch/s]"
      ]
     },
     "metadata": {},
     "output_type": "display_data"
    },
    {
     "name": "stdout",
     "output_type": "stream",
     "text": [
      "Restoring model weights from the end of the best epoch: 11.                        \n",
      "Epoch 00021: early stopping                                                        \n",
      "Best validation loss of epoch:                                                     \n",
      "0.08117979764938354                                                                \n",
      "(163, 13)                                                                          \n",
      "(140, 13, 1)                                                                       \n",
      "(8, 13, 1)                                                                         \n",
      " 22%|██▏       | 11/50 [03:38<12:28, 19.19s/trial, best loss: 0.036123208701610565]"
     ]
    },
    {
     "name": "stderr",
     "output_type": "stream",
     "text": [
      "<ipython-input-4-a4ed99d749fe>:16: ExperimentalWarning: GCN_LSTM is experimental: Lack of unit tests and code refinement (see: https://github.com/stellargraph/stellargraph/issues/1132, https://github.com/stellargraph/stellargraph/issues/1526, https://github.com/stellargraph/stellargraph/issues/1564). It may be difficult to use and may have major changes at any time.\n",
      "  model = GCN_LSTM(\n",
      "\n"
     ]
    },
    {
     "data": {
      "application/vnd.jupyter.widget-view+json": {
       "model_id": "531da2deecb54948bdc88dcbaa41adc9",
       "version_major": 2,
       "version_minor": 0
      },
      "text/plain": [
       "0epoch [00:00, ?epoch/s]"
      ]
     },
     "metadata": {},
     "output_type": "display_data"
    },
    {
     "data": {
      "application/vnd.jupyter.widget-view+json": {
       "model_id": "",
       "version_major": 2,
       "version_minor": 0
      },
      "text/plain": [
       "0batch [00:00, ?batch/s]"
      ]
     },
     "metadata": {},
     "output_type": "display_data"
    },
    {
     "name": "stdout",
     "output_type": "stream",
     "text": [
      "Restoring model weights from the end of the best epoch: 1.                         \n",
      "Epoch 00011: early stopping                                                        \n",
      "Best validation loss of epoch:                                                     \n",
      "0.07871152460575104                                                                \n",
      "(161, 13)                                                                          \n",
      "(140, 13, 1)                                                                       \n",
      "(8, 13, 1)                                                                         \n",
      " 24%|██▍       | 12/50 [04:00<12:38, 19.95s/trial, best loss: 0.036123208701610565]"
     ]
    },
    {
     "name": "stderr",
     "output_type": "stream",
     "text": [
      "<ipython-input-4-a4ed99d749fe>:16: ExperimentalWarning: GCN_LSTM is experimental: Lack of unit tests and code refinement (see: https://github.com/stellargraph/stellargraph/issues/1132, https://github.com/stellargraph/stellargraph/issues/1526, https://github.com/stellargraph/stellargraph/issues/1564). It may be difficult to use and may have major changes at any time.\n",
      "  model = GCN_LSTM(\n",
      "\n"
     ]
    },
    {
     "data": {
      "application/vnd.jupyter.widget-view+json": {
       "model_id": "66dc21663a0d458a879a87218ecd503d",
       "version_major": 2,
       "version_minor": 0
      },
      "text/plain": [
       "0epoch [00:00, ?epoch/s]"
      ]
     },
     "metadata": {},
     "output_type": "display_data"
    },
    {
     "data": {
      "application/vnd.jupyter.widget-view+json": {
       "model_id": "",
       "version_major": 2,
       "version_minor": 0
      },
      "text/plain": [
       "0batch [00:00, ?batch/s]"
      ]
     },
     "metadata": {},
     "output_type": "display_data"
    },
    {
     "name": "stdout",
     "output_type": "stream",
     "text": [
      "Restoring model weights from the end of the best epoch: 2.                         \n",
      "Epoch 00012: early stopping                                                        \n",
      "Best validation loss of epoch:                                                     \n",
      "0.1041368693113327                                                                 \n",
      "(157, 13)                                                                          \n",
      "(140, 13, 1)                                                                       \n",
      "(8, 13, 1)                                                                         \n",
      " 26%|██▌       | 13/50 [04:21<12:31, 20.32s/trial, best loss: 0.036123208701610565]"
     ]
    },
    {
     "name": "stderr",
     "output_type": "stream",
     "text": [
      "<ipython-input-4-a4ed99d749fe>:16: ExperimentalWarning: GCN_LSTM is experimental: Lack of unit tests and code refinement (see: https://github.com/stellargraph/stellargraph/issues/1132, https://github.com/stellargraph/stellargraph/issues/1526, https://github.com/stellargraph/stellargraph/issues/1564). It may be difficult to use and may have major changes at any time.\n",
      "  model = GCN_LSTM(\n",
      "\n"
     ]
    },
    {
     "data": {
      "application/vnd.jupyter.widget-view+json": {
       "model_id": "339f1ee3a3c74fa49c7bcc5cc2b9ea39",
       "version_major": 2,
       "version_minor": 0
      },
      "text/plain": [
       "0epoch [00:00, ?epoch/s]"
      ]
     },
     "metadata": {},
     "output_type": "display_data"
    },
    {
     "data": {
      "application/vnd.jupyter.widget-view+json": {
       "model_id": "",
       "version_major": 2,
       "version_minor": 0
      },
      "text/plain": [
       "0batch [00:00, ?batch/s]"
      ]
     },
     "metadata": {},
     "output_type": "display_data"
    },
    {
     "name": "stdout",
     "output_type": "stream",
     "text": [
      "Restoring model weights from the end of the best epoch: 11.                        \n",
      "Epoch 00021: early stopping                                                        \n",
      "Best validation loss of epoch:                                                     \n",
      "0.09672580659389496                                                                \n",
      "(164, 13)                                                                          \n",
      "(140, 13, 1)                                                                       \n",
      "(8, 13, 1)                                                                         \n",
      " 28%|██▊       | 14/50 [04:57<14:56, 24.91s/trial, best loss: 0.036123208701610565]"
     ]
    },
    {
     "name": "stderr",
     "output_type": "stream",
     "text": [
      "<ipython-input-4-a4ed99d749fe>:16: ExperimentalWarning: GCN_LSTM is experimental: Lack of unit tests and code refinement (see: https://github.com/stellargraph/stellargraph/issues/1132, https://github.com/stellargraph/stellargraph/issues/1526, https://github.com/stellargraph/stellargraph/issues/1564). It may be difficult to use and may have major changes at any time.\n",
      "  model = GCN_LSTM(\n",
      "\n"
     ]
    },
    {
     "data": {
      "application/vnd.jupyter.widget-view+json": {
       "model_id": "b541ded4b5e74d68bca93d14f2ab3065",
       "version_major": 2,
       "version_minor": 0
      },
      "text/plain": [
       "0epoch [00:00, ?epoch/s]"
      ]
     },
     "metadata": {},
     "output_type": "display_data"
    },
    {
     "data": {
      "application/vnd.jupyter.widget-view+json": {
       "model_id": "",
       "version_major": 2,
       "version_minor": 0
      },
      "text/plain": [
       "0batch [00:00, ?batch/s]"
      ]
     },
     "metadata": {},
     "output_type": "display_data"
    },
    {
     "name": "stdout",
     "output_type": "stream",
     "text": [
      "Restoring model weights from the end of the best epoch: 19.                        \n",
      "Epoch 00029: early stopping                                                        \n",
      "Best validation loss of epoch:                                                     \n",
      "0.06419362127780914                                                                \n",
      "(162, 13)                                                                          \n",
      "(140, 13, 1)                                                                       \n",
      "(8, 13, 1)                                                                         \n",
      " 30%|███       | 15/50 [05:20<13:39, 23.42s/trial, best loss: 0.036123208701610565]"
     ]
    },
    {
     "name": "stderr",
     "output_type": "stream",
     "text": [
      "<ipython-input-4-a4ed99d749fe>:16: ExperimentalWarning: GCN_LSTM is experimental: Lack of unit tests and code refinement (see: https://github.com/stellargraph/stellargraph/issues/1132, https://github.com/stellargraph/stellargraph/issues/1526, https://github.com/stellargraph/stellargraph/issues/1564). It may be difficult to use and may have major changes at any time.\n",
      "  model = GCN_LSTM(\n",
      "\n"
     ]
    },
    {
     "data": {
      "application/vnd.jupyter.widget-view+json": {
       "model_id": "a26c00d392064e25b66a097575095f7a",
       "version_major": 2,
       "version_minor": 0
      },
      "text/plain": [
       "0epoch [00:00, ?epoch/s]"
      ]
     },
     "metadata": {},
     "output_type": "display_data"
    },
    {
     "data": {
      "application/vnd.jupyter.widget-view+json": {
       "model_id": "",
       "version_major": 2,
       "version_minor": 0
      },
      "text/plain": [
       "0batch [00:00, ?batch/s]"
      ]
     },
     "metadata": {},
     "output_type": "display_data"
    },
    {
     "name": "stdout",
     "output_type": "stream",
     "text": [
      "Restoring model weights from the end of the best epoch: 6.                         \n",
      "Epoch 00016: early stopping                                                        \n",
      "Best validation loss of epoch:                                                     \n",
      "0.10661892592906952                                                                \n",
      "(159, 13)                                                                          \n",
      "(140, 13, 1)                                                                       \n",
      "(8, 13, 1)                                                                         \n",
      " 32%|███▏      | 16/50 [06:12<18:43, 33.03s/trial, best loss: 0.036123208701610565]"
     ]
    },
    {
     "name": "stderr",
     "output_type": "stream",
     "text": [
      "<ipython-input-4-a4ed99d749fe>:16: ExperimentalWarning: GCN_LSTM is experimental: Lack of unit tests and code refinement (see: https://github.com/stellargraph/stellargraph/issues/1132, https://github.com/stellargraph/stellargraph/issues/1526, https://github.com/stellargraph/stellargraph/issues/1564). It may be difficult to use and may have major changes at any time.\n",
      "  model = GCN_LSTM(\n",
      "\n"
     ]
    },
    {
     "data": {
      "application/vnd.jupyter.widget-view+json": {
       "model_id": "7c9f4a959c0e46b789a2377083b1414a",
       "version_major": 2,
       "version_minor": 0
      },
      "text/plain": [
       "0epoch [00:00, ?epoch/s]"
      ]
     },
     "metadata": {},
     "output_type": "display_data"
    },
    {
     "data": {
      "application/vnd.jupyter.widget-view+json": {
       "model_id": "",
       "version_major": 2,
       "version_minor": 0
      },
      "text/plain": [
       "0batch [00:00, ?batch/s]"
      ]
     },
     "metadata": {},
     "output_type": "display_data"
    },
    {
     "name": "stdout",
     "output_type": "stream",
     "text": [
      "Restoring model weights from the end of the best epoch: 11.                        \n",
      "Epoch 00021: early stopping                                                        \n",
      "Best validation loss of epoch:                                                     \n",
      "0.08018627762794495                                                                \n",
      "(159, 13)                                                                          \n",
      "(140, 13, 1)                                                                       \n",
      "(8, 13, 1)                                                                         \n",
      " 34%|███▍      | 17/50 [07:12<22:35, 41.07s/trial, best loss: 0.036123208701610565]"
     ]
    },
    {
     "name": "stderr",
     "output_type": "stream",
     "text": [
      "<ipython-input-4-a4ed99d749fe>:16: ExperimentalWarning: GCN_LSTM is experimental: Lack of unit tests and code refinement (see: https://github.com/stellargraph/stellargraph/issues/1132, https://github.com/stellargraph/stellargraph/issues/1526, https://github.com/stellargraph/stellargraph/issues/1564). It may be difficult to use and may have major changes at any time.\n",
      "  model = GCN_LSTM(\n",
      "\n"
     ]
    },
    {
     "data": {
      "application/vnd.jupyter.widget-view+json": {
       "model_id": "bab59766af7f48da8fe8c49d3278cc26",
       "version_major": 2,
       "version_minor": 0
      },
      "text/plain": [
       "0epoch [00:00, ?epoch/s]"
      ]
     },
     "metadata": {},
     "output_type": "display_data"
    },
    {
     "data": {
      "application/vnd.jupyter.widget-view+json": {
       "model_id": "",
       "version_major": 2,
       "version_minor": 0
      },
      "text/plain": [
       "0batch [00:00, ?batch/s]"
      ]
     },
     "metadata": {},
     "output_type": "display_data"
    },
    {
     "name": "stdout",
     "output_type": "stream",
     "text": [
      "Restoring model weights from the end of the best epoch: 1.                         \n",
      "Epoch 00011: early stopping                                                        \n",
      "Best validation loss of epoch:                                                     \n",
      "0.12792806327342987                                                                \n",
      "(160, 13)                                                                          \n",
      "(140, 13, 1)                                                                       \n",
      "(8, 13, 1)                                                                         \n",
      " 36%|███▌      | 18/50 [07:27<17:46, 33.33s/trial, best loss: 0.036123208701610565]"
     ]
    },
    {
     "name": "stderr",
     "output_type": "stream",
     "text": [
      "<ipython-input-4-a4ed99d749fe>:16: ExperimentalWarning: GCN_LSTM is experimental: Lack of unit tests and code refinement (see: https://github.com/stellargraph/stellargraph/issues/1132, https://github.com/stellargraph/stellargraph/issues/1526, https://github.com/stellargraph/stellargraph/issues/1564). It may be difficult to use and may have major changes at any time.\n",
      "  model = GCN_LSTM(\n",
      "\n"
     ]
    },
    {
     "data": {
      "application/vnd.jupyter.widget-view+json": {
       "model_id": "2dffeb18017e451a8dbbd845f06725c2",
       "version_major": 2,
       "version_minor": 0
      },
      "text/plain": [
       "0epoch [00:00, ?epoch/s]"
      ]
     },
     "metadata": {},
     "output_type": "display_data"
    },
    {
     "data": {
      "application/vnd.jupyter.widget-view+json": {
       "model_id": "",
       "version_major": 2,
       "version_minor": 0
      },
      "text/plain": [
       "0batch [00:00, ?batch/s]"
      ]
     },
     "metadata": {},
     "output_type": "display_data"
    },
    {
     "name": "stdout",
     "output_type": "stream",
     "text": [
      "Restoring model weights from the end of the best epoch: 1.                         \n",
      "Epoch 00011: early stopping                                                        \n",
      "Best validation loss of epoch:                                                     \n",
      "0.08574844896793365                                                                \n",
      "(161, 13)                                                                          \n",
      "(140, 13, 1)                                                                       \n",
      "(8, 13, 1)                                                                         \n",
      " 38%|███▊      | 19/50 [07:41<14:13, 27.54s/trial, best loss: 0.036123208701610565]"
     ]
    },
    {
     "name": "stderr",
     "output_type": "stream",
     "text": [
      "<ipython-input-4-a4ed99d749fe>:16: ExperimentalWarning: GCN_LSTM is experimental: Lack of unit tests and code refinement (see: https://github.com/stellargraph/stellargraph/issues/1132, https://github.com/stellargraph/stellargraph/issues/1526, https://github.com/stellargraph/stellargraph/issues/1564). It may be difficult to use and may have major changes at any time.\n",
      "  model = GCN_LSTM(\n",
      "\n"
     ]
    },
    {
     "data": {
      "application/vnd.jupyter.widget-view+json": {
       "model_id": "faed8ec491644cdf9608fcebed6e44fc",
       "version_major": 2,
       "version_minor": 0
      },
      "text/plain": [
       "0epoch [00:00, ?epoch/s]"
      ]
     },
     "metadata": {},
     "output_type": "display_data"
    },
    {
     "data": {
      "application/vnd.jupyter.widget-view+json": {
       "model_id": "",
       "version_major": 2,
       "version_minor": 0
      },
      "text/plain": [
       "0batch [00:00, ?batch/s]"
      ]
     },
     "metadata": {},
     "output_type": "display_data"
    },
    {
     "name": "stdout",
     "output_type": "stream",
     "text": [
      "Restoring model weights from the end of the best epoch: 6.                         \n",
      "Epoch 00016: early stopping                                                        \n",
      "Best validation loss of epoch:                                                     \n",
      "0.08255989849567413                                                                \n",
      "(166, 13)                                                                          \n",
      "(140, 13, 1)                                                                       \n",
      "(8, 13, 1)                                                                         \n",
      " 40%|████      | 20/50 [08:03<12:53, 25.80s/trial, best loss: 0.036123208701610565]"
     ]
    },
    {
     "name": "stderr",
     "output_type": "stream",
     "text": [
      "<ipython-input-4-a4ed99d749fe>:16: ExperimentalWarning: GCN_LSTM is experimental: Lack of unit tests and code refinement (see: https://github.com/stellargraph/stellargraph/issues/1132, https://github.com/stellargraph/stellargraph/issues/1526, https://github.com/stellargraph/stellargraph/issues/1564). It may be difficult to use and may have major changes at any time.\n",
      "  model = GCN_LSTM(\n",
      "\n"
     ]
    },
    {
     "data": {
      "application/vnd.jupyter.widget-view+json": {
       "model_id": "3bbd28edcf4a40b487bbfcf36d12c6ba",
       "version_major": 2,
       "version_minor": 0
      },
      "text/plain": [
       "0epoch [00:00, ?epoch/s]"
      ]
     },
     "metadata": {},
     "output_type": "display_data"
    },
    {
     "data": {
      "application/vnd.jupyter.widget-view+json": {
       "model_id": "",
       "version_major": 2,
       "version_minor": 0
      },
      "text/plain": [
       "0batch [00:00, ?batch/s]"
      ]
     },
     "metadata": {},
     "output_type": "display_data"
    },
    {
     "name": "stdout",
     "output_type": "stream",
     "text": [
      "Restoring model weights from the end of the best epoch: 8.                         \n",
      "Epoch 00018: early stopping                                                        \n",
      "Best validation loss of epoch:                                                     \n",
      "0.0611167810857296                                                                 \n",
      "(165, 13)                                                                          \n",
      "(140, 13, 1)                                                                       \n",
      "(8, 13, 1)                                                                         \n",
      " 42%|████▏     | 21/50 [08:14<10:20, 21.40s/trial, best loss: 0.036123208701610565]"
     ]
    },
    {
     "name": "stderr",
     "output_type": "stream",
     "text": [
      "<ipython-input-4-a4ed99d749fe>:16: ExperimentalWarning: GCN_LSTM is experimental: Lack of unit tests and code refinement (see: https://github.com/stellargraph/stellargraph/issues/1132, https://github.com/stellargraph/stellargraph/issues/1526, https://github.com/stellargraph/stellargraph/issues/1564). It may be difficult to use and may have major changes at any time.\n",
      "  model = GCN_LSTM(\n",
      "\n"
     ]
    },
    {
     "data": {
      "application/vnd.jupyter.widget-view+json": {
       "model_id": "388c14b6d2964c81a3781b7f6626aee0",
       "version_major": 2,
       "version_minor": 0
      },
      "text/plain": [
       "0epoch [00:00, ?epoch/s]"
      ]
     },
     "metadata": {},
     "output_type": "display_data"
    },
    {
     "data": {
      "application/vnd.jupyter.widget-view+json": {
       "model_id": "",
       "version_major": 2,
       "version_minor": 0
      },
      "text/plain": [
       "0batch [00:00, ?batch/s]"
      ]
     },
     "metadata": {},
     "output_type": "display_data"
    },
    {
     "name": "stdout",
     "output_type": "stream",
     "text": [
      "Restoring model weights from the end of the best epoch: 21.                        \n",
      "Epoch 00031: early stopping                                                        \n",
      "Best validation loss of epoch:                                                     \n",
      "0.06564363092184067                                                                \n",
      "(166, 13)                                                                          \n",
      "(140, 13, 1)                                                                       \n",
      "(8, 13, 1)                                                                         \n",
      " 44%|████▍     | 22/50 [08:31<09:18, 19.94s/trial, best loss: 0.036123208701610565]"
     ]
    },
    {
     "name": "stderr",
     "output_type": "stream",
     "text": [
      "<ipython-input-4-a4ed99d749fe>:16: ExperimentalWarning: GCN_LSTM is experimental: Lack of unit tests and code refinement (see: https://github.com/stellargraph/stellargraph/issues/1132, https://github.com/stellargraph/stellargraph/issues/1526, https://github.com/stellargraph/stellargraph/issues/1564). It may be difficult to use and may have major changes at any time.\n",
      "  model = GCN_LSTM(\n",
      "\n"
     ]
    },
    {
     "data": {
      "application/vnd.jupyter.widget-view+json": {
       "model_id": "77a57dbe8c794b27b522eda7db43cda2",
       "version_major": 2,
       "version_minor": 0
      },
      "text/plain": [
       "0epoch [00:00, ?epoch/s]"
      ]
     },
     "metadata": {},
     "output_type": "display_data"
    },
    {
     "data": {
      "application/vnd.jupyter.widget-view+json": {
       "model_id": "",
       "version_major": 2,
       "version_minor": 0
      },
      "text/plain": [
       "0batch [00:00, ?batch/s]"
      ]
     },
     "metadata": {},
     "output_type": "display_data"
    },
    {
     "name": "stdout",
     "output_type": "stream",
     "text": [
      "Restoring model weights from the end of the best epoch: 32.                        \n",
      "Epoch 00042: early stopping                                                        \n",
      "Best validation loss of epoch:                                                     \n",
      "0.05406665802001953                                                                \n",
      "(165, 13)                                                                          \n",
      "(140, 13, 1)                                                                       \n",
      "(8, 13, 1)                                                                         \n",
      " 46%|████▌     | 23/50 [08:49<08:42, 19.35s/trial, best loss: 0.036123208701610565]"
     ]
    },
    {
     "name": "stderr",
     "output_type": "stream",
     "text": [
      "<ipython-input-4-a4ed99d749fe>:16: ExperimentalWarning: GCN_LSTM is experimental: Lack of unit tests and code refinement (see: https://github.com/stellargraph/stellargraph/issues/1132, https://github.com/stellargraph/stellargraph/issues/1526, https://github.com/stellargraph/stellargraph/issues/1564). It may be difficult to use and may have major changes at any time.\n",
      "  model = GCN_LSTM(\n",
      "\n"
     ]
    },
    {
     "data": {
      "application/vnd.jupyter.widget-view+json": {
       "model_id": "0b9b3e595bc64497b459eff7df09cca7",
       "version_major": 2,
       "version_minor": 0
      },
      "text/plain": [
       "0epoch [00:00, ?epoch/s]"
      ]
     },
     "metadata": {},
     "output_type": "display_data"
    },
    {
     "data": {
      "application/vnd.jupyter.widget-view+json": {
       "model_id": "",
       "version_major": 2,
       "version_minor": 0
      },
      "text/plain": [
       "0batch [00:00, ?batch/s]"
      ]
     },
     "metadata": {},
     "output_type": "display_data"
    },
    {
     "name": "stdout",
     "output_type": "stream",
     "text": [
      "Restoring model weights from the end of the best epoch: 11.                        \n",
      "Epoch 00021: early stopping                                                        \n",
      "Best validation loss of epoch:                                                     \n",
      "0.08815862238407135                                                                \n",
      "(163, 13)                                                                          \n",
      "(140, 13, 1)                                                                       \n",
      "(8, 13, 1)                                                                         \n",
      " 48%|████▊     | 24/50 [09:00<07:23, 17.05s/trial, best loss: 0.036123208701610565]"
     ]
    },
    {
     "name": "stderr",
     "output_type": "stream",
     "text": [
      "<ipython-input-4-a4ed99d749fe>:16: ExperimentalWarning: GCN_LSTM is experimental: Lack of unit tests and code refinement (see: https://github.com/stellargraph/stellargraph/issues/1132, https://github.com/stellargraph/stellargraph/issues/1526, https://github.com/stellargraph/stellargraph/issues/1564). It may be difficult to use and may have major changes at any time.\n",
      "  model = GCN_LSTM(\n",
      "\n"
     ]
    },
    {
     "data": {
      "application/vnd.jupyter.widget-view+json": {
       "model_id": "1b7809f458734249a85420090fa2039f",
       "version_major": 2,
       "version_minor": 0
      },
      "text/plain": [
       "0epoch [00:00, ?epoch/s]"
      ]
     },
     "metadata": {},
     "output_type": "display_data"
    },
    {
     "data": {
      "application/vnd.jupyter.widget-view+json": {
       "model_id": "",
       "version_major": 2,
       "version_minor": 0
      },
      "text/plain": [
       "0batch [00:00, ?batch/s]"
      ]
     },
     "metadata": {},
     "output_type": "display_data"
    },
    {
     "name": "stdout",
     "output_type": "stream",
     "text": [
      "Restoring model weights from the end of the best epoch: 16.                        \n",
      "Epoch 00026: early stopping                                                        \n",
      "Best validation loss of epoch:                                                     \n",
      "0.09630967676639557                                                                \n",
      "(165, 13)                                                                          \n",
      "(140, 13, 1)                                                                       \n",
      "(8, 13, 1)                                                                         \n",
      " 50%|█████     | 25/50 [09:36<09:25, 22.62s/trial, best loss: 0.036123208701610565]"
     ]
    },
    {
     "name": "stderr",
     "output_type": "stream",
     "text": [
      "<ipython-input-4-a4ed99d749fe>:16: ExperimentalWarning: GCN_LSTM is experimental: Lack of unit tests and code refinement (see: https://github.com/stellargraph/stellargraph/issues/1132, https://github.com/stellargraph/stellargraph/issues/1526, https://github.com/stellargraph/stellargraph/issues/1564). It may be difficult to use and may have major changes at any time.\n",
      "  model = GCN_LSTM(\n",
      "\n"
     ]
    },
    {
     "data": {
      "application/vnd.jupyter.widget-view+json": {
       "model_id": "7327a51e79c34be29a4b801bfcb000fc",
       "version_major": 2,
       "version_minor": 0
      },
      "text/plain": [
       "0epoch [00:00, ?epoch/s]"
      ]
     },
     "metadata": {},
     "output_type": "display_data"
    },
    {
     "data": {
      "application/vnd.jupyter.widget-view+json": {
       "model_id": "",
       "version_major": 2,
       "version_minor": 0
      },
      "text/plain": [
       "0batch [00:00, ?batch/s]"
      ]
     },
     "metadata": {},
     "output_type": "display_data"
    },
    {
     "name": "stdout",
     "output_type": "stream",
     "text": [
      "Restoring model weights from the end of the best epoch: 11.                        \n",
      "Epoch 00021: early stopping                                                        \n",
      "Best validation loss of epoch:                                                     \n",
      "0.06914474070072174                                                                \n",
      "(162, 13)                                                                          \n",
      "(140, 13, 1)                                                                       \n",
      "(8, 13, 1)                                                                         \n",
      " 52%|█████▏    | 26/50 [09:46<07:35, 18.98s/trial, best loss: 0.036123208701610565]"
     ]
    },
    {
     "name": "stderr",
     "output_type": "stream",
     "text": [
      "<ipython-input-4-a4ed99d749fe>:16: ExperimentalWarning: GCN_LSTM is experimental: Lack of unit tests and code refinement (see: https://github.com/stellargraph/stellargraph/issues/1132, https://github.com/stellargraph/stellargraph/issues/1526, https://github.com/stellargraph/stellargraph/issues/1564). It may be difficult to use and may have major changes at any time.\n",
      "  model = GCN_LSTM(\n",
      "\n"
     ]
    },
    {
     "data": {
      "application/vnd.jupyter.widget-view+json": {
       "model_id": "853313f72074465ea7d7b341c16eb57b",
       "version_major": 2,
       "version_minor": 0
      },
      "text/plain": [
       "0epoch [00:00, ?epoch/s]"
      ]
     },
     "metadata": {},
     "output_type": "display_data"
    },
    {
     "data": {
      "application/vnd.jupyter.widget-view+json": {
       "model_id": "",
       "version_major": 2,
       "version_minor": 0
      },
      "text/plain": [
       "0batch [00:00, ?batch/s]"
      ]
     },
     "metadata": {},
     "output_type": "display_data"
    },
    {
     "name": "stdout",
     "output_type": "stream",
     "text": [
      "Restoring model weights from the end of the best epoch: 2.                         \n",
      "Epoch 00012: early stopping                                                        \n",
      "Best validation loss of epoch:                                                     \n",
      "0.0996716171503067                                                                 \n",
      "(158, 13)                                                                          \n",
      "(140, 13, 1)                                                                       \n",
      "(8, 13, 1)                                                                         \n",
      " 54%|█████▍    | 27/50 [09:59<06:32, 17.07s/trial, best loss: 0.036123208701610565]"
     ]
    },
    {
     "name": "stderr",
     "output_type": "stream",
     "text": [
      "<ipython-input-4-a4ed99d749fe>:16: ExperimentalWarning: GCN_LSTM is experimental: Lack of unit tests and code refinement (see: https://github.com/stellargraph/stellargraph/issues/1132, https://github.com/stellargraph/stellargraph/issues/1526, https://github.com/stellargraph/stellargraph/issues/1564). It may be difficult to use and may have major changes at any time.\n",
      "  model = GCN_LSTM(\n",
      "\n"
     ]
    },
    {
     "data": {
      "application/vnd.jupyter.widget-view+json": {
       "model_id": "c4700383bd68405eb9ed189733986d38",
       "version_major": 2,
       "version_minor": 0
      },
      "text/plain": [
       "0epoch [00:00, ?epoch/s]"
      ]
     },
     "metadata": {},
     "output_type": "display_data"
    },
    {
     "data": {
      "application/vnd.jupyter.widget-view+json": {
       "model_id": "",
       "version_major": 2,
       "version_minor": 0
      },
      "text/plain": [
       "0batch [00:00, ?batch/s]"
      ]
     },
     "metadata": {},
     "output_type": "display_data"
    },
    {
     "name": "stdout",
     "output_type": "stream",
     "text": [
      "Restoring model weights from the end of the best epoch: 16.                        \n",
      "Epoch 00026: early stopping                                                        \n",
      "Best validation loss of epoch:                                                     \n",
      "0.07869589328765869                                                                \n",
      "(158, 13)                                                                          \n",
      "(140, 13, 1)                                                                       \n",
      "(8, 13, 1)                                                                         \n",
      " 56%|█████▌    | 28/50 [10:32<07:58, 21.75s/trial, best loss: 0.036123208701610565]"
     ]
    },
    {
     "name": "stderr",
     "output_type": "stream",
     "text": [
      "<ipython-input-4-a4ed99d749fe>:16: ExperimentalWarning: GCN_LSTM is experimental: Lack of unit tests and code refinement (see: https://github.com/stellargraph/stellargraph/issues/1132, https://github.com/stellargraph/stellargraph/issues/1526, https://github.com/stellargraph/stellargraph/issues/1564). It may be difficult to use and may have major changes at any time.\n",
      "  model = GCN_LSTM(\n",
      "\n"
     ]
    },
    {
     "data": {
      "application/vnd.jupyter.widget-view+json": {
       "model_id": "7b678f069fb64e1f8c2b04cdf23d0c56",
       "version_major": 2,
       "version_minor": 0
      },
      "text/plain": [
       "0epoch [00:00, ?epoch/s]"
      ]
     },
     "metadata": {},
     "output_type": "display_data"
    },
    {
     "data": {
      "application/vnd.jupyter.widget-view+json": {
       "model_id": "",
       "version_major": 2,
       "version_minor": 0
      },
      "text/plain": [
       "0batch [00:00, ?batch/s]"
      ]
     },
     "metadata": {},
     "output_type": "display_data"
    },
    {
     "name": "stdout",
     "output_type": "stream",
     "text": [
      "Restoring model weights from the end of the best epoch: 1.                         \n",
      "Epoch 00011: early stopping                                                        \n",
      "Best validation loss of epoch:                                                     \n",
      "0.12212962657213211                                                                \n",
      "(159, 13)                                                                          \n",
      "(140, 13, 1)                                                                       \n",
      "(8, 13, 1)                                                                         \n",
      " 58%|█████▊    | 29/50 [10:50<07:13, 20.66s/trial, best loss: 0.036123208701610565]"
     ]
    },
    {
     "name": "stderr",
     "output_type": "stream",
     "text": [
      "<ipython-input-4-a4ed99d749fe>:16: ExperimentalWarning: GCN_LSTM is experimental: Lack of unit tests and code refinement (see: https://github.com/stellargraph/stellargraph/issues/1132, https://github.com/stellargraph/stellargraph/issues/1526, https://github.com/stellargraph/stellargraph/issues/1564). It may be difficult to use and may have major changes at any time.\n",
      "  model = GCN_LSTM(\n",
      "\n"
     ]
    },
    {
     "data": {
      "application/vnd.jupyter.widget-view+json": {
       "model_id": "d2be6e32a2204c99bf065ad86a9ff6cc",
       "version_major": 2,
       "version_minor": 0
      },
      "text/plain": [
       "0epoch [00:00, ?epoch/s]"
      ]
     },
     "metadata": {},
     "output_type": "display_data"
    },
    {
     "data": {
      "application/vnd.jupyter.widget-view+json": {
       "model_id": "",
       "version_major": 2,
       "version_minor": 0
      },
      "text/plain": [
       "0batch [00:00, ?batch/s]"
      ]
     },
     "metadata": {},
     "output_type": "display_data"
    },
    {
     "name": "stdout",
     "output_type": "stream",
     "text": [
      "Restoring model weights from the end of the best epoch: 14.                        \n",
      "Epoch 00024: early stopping                                                        \n",
      "Best validation loss of epoch:                                                     \n",
      "0.044797632843256                                                                  \n",
      "(159, 13)                                                                          \n",
      "(140, 13, 1)                                                                       \n",
      "(8, 13, 1)                                                                         \n",
      " 60%|██████    | 30/50 [11:07<06:29, 19.50s/trial, best loss: 0.036123208701610565]"
     ]
    },
    {
     "name": "stderr",
     "output_type": "stream",
     "text": [
      "<ipython-input-4-a4ed99d749fe>:16: ExperimentalWarning: GCN_LSTM is experimental: Lack of unit tests and code refinement (see: https://github.com/stellargraph/stellargraph/issues/1132, https://github.com/stellargraph/stellargraph/issues/1526, https://github.com/stellargraph/stellargraph/issues/1564). It may be difficult to use and may have major changes at any time.\n",
      "  model = GCN_LSTM(\n",
      "\n"
     ]
    },
    {
     "data": {
      "application/vnd.jupyter.widget-view+json": {
       "model_id": "9e0fc8eed37545d3ba50329c8f72bbd9",
       "version_major": 2,
       "version_minor": 0
      },
      "text/plain": [
       "0epoch [00:00, ?epoch/s]"
      ]
     },
     "metadata": {},
     "output_type": "display_data"
    },
    {
     "data": {
      "application/vnd.jupyter.widget-view+json": {
       "model_id": "",
       "version_major": 2,
       "version_minor": 0
      },
      "text/plain": [
       "0batch [00:00, ?batch/s]"
      ]
     },
     "metadata": {},
     "output_type": "display_data"
    },
    {
     "name": "stdout",
     "output_type": "stream",
     "text": [
      "Restoring model weights from the end of the best epoch: 7.                         \n",
      "Epoch 00017: early stopping                                                        \n",
      "Best validation loss of epoch:                                                     \n",
      "0.08714400231838226                                                                \n",
      "(157, 13)                                                                          \n",
      "(140, 13, 1)                                                                       \n",
      "(8, 13, 1)                                                                         \n",
      " 62%|██████▏   | 31/50 [11:33<06:48, 21.48s/trial, best loss: 0.036123208701610565]"
     ]
    },
    {
     "name": "stderr",
     "output_type": "stream",
     "text": [
      "<ipython-input-4-a4ed99d749fe>:16: ExperimentalWarning: GCN_LSTM is experimental: Lack of unit tests and code refinement (see: https://github.com/stellargraph/stellargraph/issues/1132, https://github.com/stellargraph/stellargraph/issues/1526, https://github.com/stellargraph/stellargraph/issues/1564). It may be difficult to use and may have major changes at any time.\n",
      "  model = GCN_LSTM(\n",
      "\n"
     ]
    },
    {
     "data": {
      "application/vnd.jupyter.widget-view+json": {
       "model_id": "13f94aff9bac40e0b823acb62edcb685",
       "version_major": 2,
       "version_minor": 0
      },
      "text/plain": [
       "0epoch [00:00, ?epoch/s]"
      ]
     },
     "metadata": {},
     "output_type": "display_data"
    },
    {
     "data": {
      "application/vnd.jupyter.widget-view+json": {
       "model_id": "",
       "version_major": 2,
       "version_minor": 0
      },
      "text/plain": [
       "0batch [00:00, ?batch/s]"
      ]
     },
     "metadata": {},
     "output_type": "display_data"
    },
    {
     "name": "stdout",
     "output_type": "stream",
     "text": [
      "Restoring model weights from the end of the best epoch: 5.                         \n",
      "Epoch 00015: early stopping                                                        \n",
      "Best validation loss of epoch:                                                     \n",
      "0.08473426103591919                                                                \n",
      "(159, 13)                                                                          \n",
      "(140, 13, 1)                                                                       \n",
      "(8, 13, 1)                                                                         \n",
      " 64%|██████▍   | 32/50 [12:03<07:14, 24.16s/trial, best loss: 0.036123208701610565]"
     ]
    },
    {
     "name": "stderr",
     "output_type": "stream",
     "text": [
      "<ipython-input-4-a4ed99d749fe>:16: ExperimentalWarning: GCN_LSTM is experimental: Lack of unit tests and code refinement (see: https://github.com/stellargraph/stellargraph/issues/1132, https://github.com/stellargraph/stellargraph/issues/1526, https://github.com/stellargraph/stellargraph/issues/1564). It may be difficult to use and may have major changes at any time.\n",
      "  model = GCN_LSTM(\n",
      "\n"
     ]
    },
    {
     "data": {
      "application/vnd.jupyter.widget-view+json": {
       "model_id": "61909c4a795a414da3abac97cbcf0f05",
       "version_major": 2,
       "version_minor": 0
      },
      "text/plain": [
       "0epoch [00:00, ?epoch/s]"
      ]
     },
     "metadata": {},
     "output_type": "display_data"
    },
    {
     "data": {
      "application/vnd.jupyter.widget-view+json": {
       "model_id": "",
       "version_major": 2,
       "version_minor": 0
      },
      "text/plain": [
       "0batch [00:00, ?batch/s]"
      ]
     },
     "metadata": {},
     "output_type": "display_data"
    },
    {
     "name": "stdout",
     "output_type": "stream",
     "text": [
      "Restoring model weights from the end of the best epoch: 11.                        \n",
      "Epoch 00021: early stopping                                                        \n",
      "Best validation loss of epoch:                                                     \n",
      "0.07086379826068878                                                                \n",
      "(157, 13)                                                                          \n",
      "(140, 13, 1)                                                                       \n",
      "(8, 13, 1)                                                                         \n",
      " 66%|██████▌   | 33/50 [12:25<06:39, 23.50s/trial, best loss: 0.036123208701610565]"
     ]
    },
    {
     "name": "stderr",
     "output_type": "stream",
     "text": [
      "<ipython-input-4-a4ed99d749fe>:16: ExperimentalWarning: GCN_LSTM is experimental: Lack of unit tests and code refinement (see: https://github.com/stellargraph/stellargraph/issues/1132, https://github.com/stellargraph/stellargraph/issues/1526, https://github.com/stellargraph/stellargraph/issues/1564). It may be difficult to use and may have major changes at any time.\n",
      "  model = GCN_LSTM(\n",
      "\n"
     ]
    },
    {
     "data": {
      "application/vnd.jupyter.widget-view+json": {
       "model_id": "7e0da8940d2a498a8d7b60c6df24623d",
       "version_major": 2,
       "version_minor": 0
      },
      "text/plain": [
       "0epoch [00:00, ?epoch/s]"
      ]
     },
     "metadata": {},
     "output_type": "display_data"
    },
    {
     "data": {
      "application/vnd.jupyter.widget-view+json": {
       "model_id": "",
       "version_major": 2,
       "version_minor": 0
      },
      "text/plain": [
       "0batch [00:00, ?batch/s]"
      ]
     },
     "metadata": {},
     "output_type": "display_data"
    },
    {
     "name": "stdout",
     "output_type": "stream",
     "text": [
      "Restoring model weights from the end of the best epoch: 1.                         \n",
      "Epoch 00011: early stopping                                                        \n",
      "Best validation loss of epoch:                                                     \n",
      "0.10563156008720398                                                                \n",
      "(158, 13)                                                                          \n",
      "(140, 13, 1)                                                                       \n",
      "(8, 13, 1)                                                                         \n",
      " 68%|██████▊   | 34/50 [12:43<05:48, 21.78s/trial, best loss: 0.036123208701610565]"
     ]
    },
    {
     "name": "stderr",
     "output_type": "stream",
     "text": [
      "<ipython-input-4-a4ed99d749fe>:16: ExperimentalWarning: GCN_LSTM is experimental: Lack of unit tests and code refinement (see: https://github.com/stellargraph/stellargraph/issues/1132, https://github.com/stellargraph/stellargraph/issues/1526, https://github.com/stellargraph/stellargraph/issues/1564). It may be difficult to use and may have major changes at any time.\n",
      "  model = GCN_LSTM(\n",
      "\n"
     ]
    },
    {
     "data": {
      "application/vnd.jupyter.widget-view+json": {
       "model_id": "f47e66a3eaf142698dc7b264277956fb",
       "version_major": 2,
       "version_minor": 0
      },
      "text/plain": [
       "0epoch [00:00, ?epoch/s]"
      ]
     },
     "metadata": {},
     "output_type": "display_data"
    },
    {
     "data": {
      "application/vnd.jupyter.widget-view+json": {
       "model_id": "",
       "version_major": 2,
       "version_minor": 0
      },
      "text/plain": [
       "0batch [00:00, ?batch/s]"
      ]
     },
     "metadata": {},
     "output_type": "display_data"
    },
    {
     "name": "stdout",
     "output_type": "stream",
     "text": [
      "Restoring model weights from the end of the best epoch: 6.                         \n",
      "Epoch 00016: early stopping                                                        \n",
      "Best validation loss of epoch:                                                     \n",
      "0.08557847142219543                                                                \n",
      "(160, 13)                                                                          \n",
      "(140, 13, 1)                                                                       \n",
      "(8, 13, 1)                                                                         \n",
      " 70%|███████   | 35/50 [13:31<07:25, 29.67s/trial, best loss: 0.036123208701610565]"
     ]
    },
    {
     "name": "stderr",
     "output_type": "stream",
     "text": [
      "<ipython-input-4-a4ed99d749fe>:16: ExperimentalWarning: GCN_LSTM is experimental: Lack of unit tests and code refinement (see: https://github.com/stellargraph/stellargraph/issues/1132, https://github.com/stellargraph/stellargraph/issues/1526, https://github.com/stellargraph/stellargraph/issues/1564). It may be difficult to use and may have major changes at any time.\n",
      "  model = GCN_LSTM(\n",
      "\n"
     ]
    },
    {
     "data": {
      "application/vnd.jupyter.widget-view+json": {
       "model_id": "06651ddf76b34fd1b0770f503e664533",
       "version_major": 2,
       "version_minor": 0
      },
      "text/plain": [
       "0epoch [00:00, ?epoch/s]"
      ]
     },
     "metadata": {},
     "output_type": "display_data"
    },
    {
     "data": {
      "application/vnd.jupyter.widget-view+json": {
       "model_id": "",
       "version_major": 2,
       "version_minor": 0
      },
      "text/plain": [
       "0batch [00:00, ?batch/s]"
      ]
     },
     "metadata": {},
     "output_type": "display_data"
    },
    {
     "name": "stdout",
     "output_type": "stream",
     "text": [
      "Restoring model weights from the end of the best epoch: 7.                         \n",
      "Epoch 00017: early stopping                                                        \n",
      "Best validation loss of epoch:                                                     \n",
      "0.06465078145265579                                                                \n",
      "(157, 13)                                                                          \n",
      "(140, 13, 1)                                                                       \n",
      "(8, 13, 1)                                                                         \n",
      " 72%|███████▏  | 36/50 [13:46<05:53, 25.23s/trial, best loss: 0.036123208701610565]"
     ]
    },
    {
     "name": "stderr",
     "output_type": "stream",
     "text": [
      "<ipython-input-4-a4ed99d749fe>:16: ExperimentalWarning: GCN_LSTM is experimental: Lack of unit tests and code refinement (see: https://github.com/stellargraph/stellargraph/issues/1132, https://github.com/stellargraph/stellargraph/issues/1526, https://github.com/stellargraph/stellargraph/issues/1564). It may be difficult to use and may have major changes at any time.\n",
      "  model = GCN_LSTM(\n",
      "\n"
     ]
    },
    {
     "data": {
      "application/vnd.jupyter.widget-view+json": {
       "model_id": "bdcf50d9ef7741c1b53555c66591da95",
       "version_major": 2,
       "version_minor": 0
      },
      "text/plain": [
       "0epoch [00:00, ?epoch/s]"
      ]
     },
     "metadata": {},
     "output_type": "display_data"
    },
    {
     "data": {
      "application/vnd.jupyter.widget-view+json": {
       "model_id": "",
       "version_major": 2,
       "version_minor": 0
      },
      "text/plain": [
       "0batch [00:00, ?batch/s]"
      ]
     },
     "metadata": {},
     "output_type": "display_data"
    },
    {
     "name": "stdout",
     "output_type": "stream",
     "text": [
      "Restoring model weights from the end of the best epoch: 2.                         \n",
      "Epoch 00012: early stopping                                                        \n",
      "Best validation loss of epoch:                                                     \n",
      "0.09549836814403534                                                                \n",
      "(160, 13)                                                                          \n",
      "(140, 13, 1)                                                                       \n",
      "(8, 13, 1)                                                                         \n",
      " 74%|███████▍  | 37/50 [14:08<05:15, 24.30s/trial, best loss: 0.036123208701610565]"
     ]
    },
    {
     "name": "stderr",
     "output_type": "stream",
     "text": [
      "<ipython-input-4-a4ed99d749fe>:16: ExperimentalWarning: GCN_LSTM is experimental: Lack of unit tests and code refinement (see: https://github.com/stellargraph/stellargraph/issues/1132, https://github.com/stellargraph/stellargraph/issues/1526, https://github.com/stellargraph/stellargraph/issues/1564). It may be difficult to use and may have major changes at any time.\n",
      "  model = GCN_LSTM(\n",
      "\n"
     ]
    },
    {
     "data": {
      "application/vnd.jupyter.widget-view+json": {
       "model_id": "b3c92cf3de5a46438121e9841d7acd8c",
       "version_major": 2,
       "version_minor": 0
      },
      "text/plain": [
       "0epoch [00:00, ?epoch/s]"
      ]
     },
     "metadata": {},
     "output_type": "display_data"
    },
    {
     "data": {
      "application/vnd.jupyter.widget-view+json": {
       "model_id": "",
       "version_major": 2,
       "version_minor": 0
      },
      "text/plain": [
       "0batch [00:00, ?batch/s]"
      ]
     },
     "metadata": {},
     "output_type": "display_data"
    },
    {
     "name": "stdout",
     "output_type": "stream",
     "text": [
      "Restoring model weights from the end of the best epoch: 27.                        \n",
      "Epoch 00037: early stopping                                                        \n",
      "Best validation loss of epoch:                                                     \n",
      "0.043316274881362915                                                               \n",
      "(160, 13)                                                                          \n",
      "(140, 13, 1)                                                                       \n",
      "(8, 13, 1)                                                                         \n",
      " 76%|███████▌  | 38/50 [14:30<04:44, 23.69s/trial, best loss: 0.036123208701610565]"
     ]
    },
    {
     "name": "stderr",
     "output_type": "stream",
     "text": [
      "<ipython-input-4-a4ed99d749fe>:16: ExperimentalWarning: GCN_LSTM is experimental: Lack of unit tests and code refinement (see: https://github.com/stellargraph/stellargraph/issues/1132, https://github.com/stellargraph/stellargraph/issues/1526, https://github.com/stellargraph/stellargraph/issues/1564). It may be difficult to use and may have major changes at any time.\n",
      "  model = GCN_LSTM(\n",
      "\n"
     ]
    },
    {
     "data": {
      "application/vnd.jupyter.widget-view+json": {
       "model_id": "a0a3f61e22f84c94b4d1a408fff014ea",
       "version_major": 2,
       "version_minor": 0
      },
      "text/plain": [
       "0epoch [00:00, ?epoch/s]"
      ]
     },
     "metadata": {},
     "output_type": "display_data"
    },
    {
     "data": {
      "application/vnd.jupyter.widget-view+json": {
       "model_id": "",
       "version_major": 2,
       "version_minor": 0
      },
      "text/plain": [
       "0batch [00:00, ?batch/s]"
      ]
     },
     "metadata": {},
     "output_type": "display_data"
    },
    {
     "name": "stdout",
     "output_type": "stream",
     "text": [
      "Restoring model weights from the end of the best epoch: 11.                        \n",
      "Epoch 00021: early stopping                                                        \n",
      "Best validation loss of epoch:                                                     \n",
      "0.08409655094146729                                                                \n",
      "(162, 13)                                                                          \n",
      "(140, 13, 1)                                                                       \n",
      "(8, 13, 1)                                                                         \n",
      " 78%|███████▊  | 39/50 [14:39<03:30, 19.13s/trial, best loss: 0.036123208701610565]"
     ]
    },
    {
     "name": "stderr",
     "output_type": "stream",
     "text": [
      "<ipython-input-4-a4ed99d749fe>:16: ExperimentalWarning: GCN_LSTM is experimental: Lack of unit tests and code refinement (see: https://github.com/stellargraph/stellargraph/issues/1132, https://github.com/stellargraph/stellargraph/issues/1526, https://github.com/stellargraph/stellargraph/issues/1564). It may be difficult to use and may have major changes at any time.\n",
      "  model = GCN_LSTM(\n",
      "\n"
     ]
    },
    {
     "data": {
      "application/vnd.jupyter.widget-view+json": {
       "model_id": "57361fee68b444d89f78e8d3d7e59d19",
       "version_major": 2,
       "version_minor": 0
      },
      "text/plain": [
       "0epoch [00:00, ?epoch/s]"
      ]
     },
     "metadata": {},
     "output_type": "display_data"
    },
    {
     "data": {
      "application/vnd.jupyter.widget-view+json": {
       "model_id": "",
       "version_major": 2,
       "version_minor": 0
      },
      "text/plain": [
       "0batch [00:00, ?batch/s]"
      ]
     },
     "metadata": {},
     "output_type": "display_data"
    },
    {
     "name": "stdout",
     "output_type": "stream",
     "text": [
      "Restoring model weights from the end of the best epoch: 10.                        \n",
      "Epoch 00020: early stopping                                                        \n",
      "Best validation loss of epoch:                                                     \n",
      "0.08162380009889603                                                                \n",
      "(160, 13)                                                                          \n",
      "(140, 13, 1)                                                                       \n",
      "(8, 13, 1)                                                                         \n",
      " 80%|████████  | 40/50 [15:10<03:49, 22.93s/trial, best loss: 0.036123208701610565]"
     ]
    },
    {
     "name": "stderr",
     "output_type": "stream",
     "text": [
      "<ipython-input-4-a4ed99d749fe>:16: ExperimentalWarning: GCN_LSTM is experimental: Lack of unit tests and code refinement (see: https://github.com/stellargraph/stellargraph/issues/1132, https://github.com/stellargraph/stellargraph/issues/1526, https://github.com/stellargraph/stellargraph/issues/1564). It may be difficult to use and may have major changes at any time.\n",
      "  model = GCN_LSTM(\n",
      "\n"
     ]
    },
    {
     "data": {
      "application/vnd.jupyter.widget-view+json": {
       "model_id": "2dbf7031c4cd4dc781a80582ceb137a3",
       "version_major": 2,
       "version_minor": 0
      },
      "text/plain": [
       "0epoch [00:00, ?epoch/s]"
      ]
     },
     "metadata": {},
     "output_type": "display_data"
    },
    {
     "data": {
      "application/vnd.jupyter.widget-view+json": {
       "model_id": "",
       "version_major": 2,
       "version_minor": 0
      },
      "text/plain": [
       "0batch [00:00, ?batch/s]"
      ]
     },
     "metadata": {},
     "output_type": "display_data"
    },
    {
     "name": "stdout",
     "output_type": "stream",
     "text": [
      "Restoring model weights from the end of the best epoch: 17.                        \n",
      "Epoch 00027: early stopping                                                        \n",
      "Best validation loss of epoch:                                                     \n",
      "0.043929122388362885                                                               \n",
      "(161, 13)                                                                          \n",
      "(140, 13, 1)                                                                       \n",
      "(8, 13, 1)                                                                         \n",
      " 82%|████████▏ | 41/50 [15:28<03:11, 21.33s/trial, best loss: 0.036123208701610565]"
     ]
    },
    {
     "name": "stderr",
     "output_type": "stream",
     "text": [
      "<ipython-input-4-a4ed99d749fe>:16: ExperimentalWarning: GCN_LSTM is experimental: Lack of unit tests and code refinement (see: https://github.com/stellargraph/stellargraph/issues/1132, https://github.com/stellargraph/stellargraph/issues/1526, https://github.com/stellargraph/stellargraph/issues/1564). It may be difficult to use and may have major changes at any time.\n",
      "  model = GCN_LSTM(\n",
      "\n"
     ]
    },
    {
     "data": {
      "application/vnd.jupyter.widget-view+json": {
       "model_id": "d4ac2c16d9ff44f180895f7072ed17ef",
       "version_major": 2,
       "version_minor": 0
      },
      "text/plain": [
       "0epoch [00:00, ?epoch/s]"
      ]
     },
     "metadata": {},
     "output_type": "display_data"
    },
    {
     "data": {
      "application/vnd.jupyter.widget-view+json": {
       "model_id": "",
       "version_major": 2,
       "version_minor": 0
      },
      "text/plain": [
       "0batch [00:00, ?batch/s]"
      ]
     },
     "metadata": {},
     "output_type": "display_data"
    },
    {
     "name": "stdout",
     "output_type": "stream",
     "text": [
      "Restoring model weights from the end of the best epoch: 26.                        \n",
      "Epoch 00036: early stopping                                                        \n",
      "Best validation loss of epoch:                                                     \n",
      "0.07627338171005249                                                                \n",
      "(164, 13)                                                                          \n",
      "(140, 13, 1)                                                                       \n",
      "(8, 13, 1)                                                                         \n",
      " 84%|████████▍ | 42/50 [15:45<02:39, 19.89s/trial, best loss: 0.036123208701610565]"
     ]
    },
    {
     "name": "stderr",
     "output_type": "stream",
     "text": [
      "<ipython-input-4-a4ed99d749fe>:16: ExperimentalWarning: GCN_LSTM is experimental: Lack of unit tests and code refinement (see: https://github.com/stellargraph/stellargraph/issues/1132, https://github.com/stellargraph/stellargraph/issues/1526, https://github.com/stellargraph/stellargraph/issues/1564). It may be difficult to use and may have major changes at any time.\n",
      "  model = GCN_LSTM(\n",
      "\n"
     ]
    },
    {
     "data": {
      "application/vnd.jupyter.widget-view+json": {
       "model_id": "5e62d193f169475bb798cfadf03bb1b7",
       "version_major": 2,
       "version_minor": 0
      },
      "text/plain": [
       "0epoch [00:00, ?epoch/s]"
      ]
     },
     "metadata": {},
     "output_type": "display_data"
    },
    {
     "data": {
      "application/vnd.jupyter.widget-view+json": {
       "model_id": "",
       "version_major": 2,
       "version_minor": 0
      },
      "text/plain": [
       "0batch [00:00, ?batch/s]"
      ]
     },
     "metadata": {},
     "output_type": "display_data"
    },
    {
     "name": "stdout",
     "output_type": "stream",
     "text": [
      "Restoring model weights from the end of the best epoch: 1.                         \n",
      "Epoch 00011: early stopping                                                        \n",
      "Best validation loss of epoch:                                                     \n",
      "0.12212962657213211                                                                \n",
      "(158, 13)                                                                          \n",
      "(140, 13, 1)                                                                       \n",
      "(8, 13, 1)                                                                         \n",
      " 86%|████████▌ | 43/50 [15:55<01:59, 17.02s/trial, best loss: 0.036123208701610565]"
     ]
    },
    {
     "name": "stderr",
     "output_type": "stream",
     "text": [
      "<ipython-input-4-a4ed99d749fe>:16: ExperimentalWarning: GCN_LSTM is experimental: Lack of unit tests and code refinement (see: https://github.com/stellargraph/stellargraph/issues/1132, https://github.com/stellargraph/stellargraph/issues/1526, https://github.com/stellargraph/stellargraph/issues/1564). It may be difficult to use and may have major changes at any time.\n",
      "  model = GCN_LSTM(\n",
      "\n"
     ]
    },
    {
     "data": {
      "application/vnd.jupyter.widget-view+json": {
       "model_id": "5f3e3dfe8c854153b5a54673197f6b64",
       "version_major": 2,
       "version_minor": 0
      },
      "text/plain": [
       "0epoch [00:00, ?epoch/s]"
      ]
     },
     "metadata": {},
     "output_type": "display_data"
    },
    {
     "data": {
      "application/vnd.jupyter.widget-view+json": {
       "model_id": "",
       "version_major": 2,
       "version_minor": 0
      },
      "text/plain": [
       "0batch [00:00, ?batch/s]"
      ]
     },
     "metadata": {},
     "output_type": "display_data"
    },
    {
     "name": "stdout",
     "output_type": "stream",
     "text": [
      "Restoring model weights from the end of the best epoch: 12.                        \n",
      "Epoch 00022: early stopping                                                        \n",
      "Best validation loss of epoch:                                                     \n",
      "0.09622462093830109                                                                \n",
      "(162, 13)                                                                          \n",
      "(140, 13, 1)                                                                       \n",
      "(8, 13, 1)                                                                         \n",
      " 88%|████████▊ | 44/50 [16:35<02:23, 23.92s/trial, best loss: 0.036123208701610565]"
     ]
    },
    {
     "name": "stderr",
     "output_type": "stream",
     "text": [
      "<ipython-input-4-a4ed99d749fe>:16: ExperimentalWarning: GCN_LSTM is experimental: Lack of unit tests and code refinement (see: https://github.com/stellargraph/stellargraph/issues/1132, https://github.com/stellargraph/stellargraph/issues/1526, https://github.com/stellargraph/stellargraph/issues/1564). It may be difficult to use and may have major changes at any time.\n",
      "  model = GCN_LSTM(\n",
      "\n"
     ]
    },
    {
     "data": {
      "application/vnd.jupyter.widget-view+json": {
       "model_id": "951bb91b12f14e8c8ee051e1a9be79ea",
       "version_major": 2,
       "version_minor": 0
      },
      "text/plain": [
       "0epoch [00:00, ?epoch/s]"
      ]
     },
     "metadata": {},
     "output_type": "display_data"
    },
    {
     "data": {
      "application/vnd.jupyter.widget-view+json": {
       "model_id": "",
       "version_major": 2,
       "version_minor": 0
      },
      "text/plain": [
       "0batch [00:00, ?batch/s]"
      ]
     },
     "metadata": {},
     "output_type": "display_data"
    },
    {
     "name": "stdout",
     "output_type": "stream",
     "text": [
      "Restoring model weights from the end of the best epoch: 5.                         \n",
      "Epoch 00015: early stopping                                                        \n",
      "Best validation loss of epoch:                                                     \n",
      "0.08170716464519501                                                                \n",
      "(163, 13)                                                                          \n",
      "(140, 13, 1)                                                                       \n",
      "(8, 13, 1)                                                                         \n",
      " 90%|█████████ | 45/50 [16:53<01:50, 22.12s/trial, best loss: 0.036123208701610565]"
     ]
    },
    {
     "name": "stderr",
     "output_type": "stream",
     "text": [
      "<ipython-input-4-a4ed99d749fe>:16: ExperimentalWarning: GCN_LSTM is experimental: Lack of unit tests and code refinement (see: https://github.com/stellargraph/stellargraph/issues/1132, https://github.com/stellargraph/stellargraph/issues/1526, https://github.com/stellargraph/stellargraph/issues/1564). It may be difficult to use and may have major changes at any time.\n",
      "  model = GCN_LSTM(\n",
      "\n"
     ]
    },
    {
     "data": {
      "application/vnd.jupyter.widget-view+json": {
       "model_id": "ddfe0cb2f35242979e2a870eb79eeead",
       "version_major": 2,
       "version_minor": 0
      },
      "text/plain": [
       "0epoch [00:00, ?epoch/s]"
      ]
     },
     "metadata": {},
     "output_type": "display_data"
    },
    {
     "data": {
      "application/vnd.jupyter.widget-view+json": {
       "model_id": "",
       "version_major": 2,
       "version_minor": 0
      },
      "text/plain": [
       "0batch [00:00, ?batch/s]"
      ]
     },
     "metadata": {},
     "output_type": "display_data"
    },
    {
     "name": "stdout",
     "output_type": "stream",
     "text": [
      "Restoring model weights from the end of the best epoch: 6.                         \n",
      "Epoch 00016: early stopping                                                        \n",
      "Best validation loss of epoch:                                                     \n",
      "0.08426987379789352                                                                \n",
      "(158, 13)                                                                          \n",
      "(140, 13, 1)                                                                       \n",
      "(8, 13, 1)                                                                         \n",
      " 92%|█████████▏| 46/50 [17:06<01:18, 19.56s/trial, best loss: 0.036123208701610565]"
     ]
    },
    {
     "name": "stderr",
     "output_type": "stream",
     "text": [
      "<ipython-input-4-a4ed99d749fe>:16: ExperimentalWarning: GCN_LSTM is experimental: Lack of unit tests and code refinement (see: https://github.com/stellargraph/stellargraph/issues/1132, https://github.com/stellargraph/stellargraph/issues/1526, https://github.com/stellargraph/stellargraph/issues/1564). It may be difficult to use and may have major changes at any time.\n",
      "  model = GCN_LSTM(\n",
      "\n"
     ]
    },
    {
     "data": {
      "application/vnd.jupyter.widget-view+json": {
       "model_id": "417f850bdf1e40f7889ada24f20ddcfe",
       "version_major": 2,
       "version_minor": 0
      },
      "text/plain": [
       "0epoch [00:00, ?epoch/s]"
      ]
     },
     "metadata": {},
     "output_type": "display_data"
    },
    {
     "data": {
      "application/vnd.jupyter.widget-view+json": {
       "model_id": "",
       "version_major": 2,
       "version_minor": 0
      },
      "text/plain": [
       "0batch [00:00, ?batch/s]"
      ]
     },
     "metadata": {},
     "output_type": "display_data"
    },
    {
     "name": "stdout",
     "output_type": "stream",
     "text": [
      "Restoring model weights from the end of the best epoch: 1.                         \n",
      "Epoch 00011: early stopping                                                        \n",
      "Best validation loss of epoch:                                                     \n",
      "0.12212962657213211                                                                \n",
      "(159, 13)                                                                          \n",
      "(140, 13, 1)                                                                       \n",
      "(8, 13, 1)                                                                         \n",
      " 94%|█████████▍| 47/50 [17:22<00:55, 18.44s/trial, best loss: 0.036123208701610565]"
     ]
    },
    {
     "name": "stderr",
     "output_type": "stream",
     "text": [
      "<ipython-input-4-a4ed99d749fe>:16: ExperimentalWarning: GCN_LSTM is experimental: Lack of unit tests and code refinement (see: https://github.com/stellargraph/stellargraph/issues/1132, https://github.com/stellargraph/stellargraph/issues/1526, https://github.com/stellargraph/stellargraph/issues/1564). It may be difficult to use and may have major changes at any time.\n",
      "  model = GCN_LSTM(\n",
      "\n"
     ]
    },
    {
     "data": {
      "application/vnd.jupyter.widget-view+json": {
       "model_id": "74872f5fa22a4853bf36ef820c272211",
       "version_major": 2,
       "version_minor": 0
      },
      "text/plain": [
       "0epoch [00:00, ?epoch/s]"
      ]
     },
     "metadata": {},
     "output_type": "display_data"
    },
    {
     "data": {
      "application/vnd.jupyter.widget-view+json": {
       "model_id": "",
       "version_major": 2,
       "version_minor": 0
      },
      "text/plain": [
       "0batch [00:00, ?batch/s]"
      ]
     },
     "metadata": {},
     "output_type": "display_data"
    },
    {
     "name": "stdout",
     "output_type": "stream",
     "text": [
      "Restoring model weights from the end of the best epoch: 1.                         \n",
      "Epoch 00011: early stopping                                                        \n",
      "Best validation loss of epoch:                                                     \n",
      "0.08401724696159363                                                                \n",
      "(161, 13)                                                                          \n",
      "(140, 13, 1)                                                                       \n",
      "(8, 13, 1)                                                                         \n",
      " 96%|█████████▌| 48/50 [17:39<00:35, 17.90s/trial, best loss: 0.036123208701610565]"
     ]
    },
    {
     "name": "stderr",
     "output_type": "stream",
     "text": [
      "<ipython-input-4-a4ed99d749fe>:16: ExperimentalWarning: GCN_LSTM is experimental: Lack of unit tests and code refinement (see: https://github.com/stellargraph/stellargraph/issues/1132, https://github.com/stellargraph/stellargraph/issues/1526, https://github.com/stellargraph/stellargraph/issues/1564). It may be difficult to use and may have major changes at any time.\n",
      "  model = GCN_LSTM(\n",
      "\n"
     ]
    },
    {
     "data": {
      "application/vnd.jupyter.widget-view+json": {
       "model_id": "1b85489b92b24cd6869242dcd386579b",
       "version_major": 2,
       "version_minor": 0
      },
      "text/plain": [
       "0epoch [00:00, ?epoch/s]"
      ]
     },
     "metadata": {},
     "output_type": "display_data"
    },
    {
     "data": {
      "application/vnd.jupyter.widget-view+json": {
       "model_id": "",
       "version_major": 2,
       "version_minor": 0
      },
      "text/plain": [
       "0batch [00:00, ?batch/s]"
      ]
     },
     "metadata": {},
     "output_type": "display_data"
    },
    {
     "name": "stdout",
     "output_type": "stream",
     "text": [
      "Restoring model weights from the end of the best epoch: 5.                         \n",
      "Epoch 00015: early stopping                                                        \n",
      "Best validation loss of epoch:                                                     \n",
      "0.09658423066139221                                                                \n",
      "(160, 13)                                                                          \n",
      "(140, 13, 1)                                                                       \n",
      "(8, 13, 1)                                                                         \n",
      " 98%|█████████▊| 49/50 [17:51<00:16, 16.02s/trial, best loss: 0.036123208701610565]"
     ]
    },
    {
     "name": "stderr",
     "output_type": "stream",
     "text": [
      "<ipython-input-4-a4ed99d749fe>:16: ExperimentalWarning: GCN_LSTM is experimental: Lack of unit tests and code refinement (see: https://github.com/stellargraph/stellargraph/issues/1132, https://github.com/stellargraph/stellargraph/issues/1526, https://github.com/stellargraph/stellargraph/issues/1564). It may be difficult to use and may have major changes at any time.\n",
      "  model = GCN_LSTM(\n",
      "\n"
     ]
    },
    {
     "data": {
      "application/vnd.jupyter.widget-view+json": {
       "model_id": "6899920fbdf84009a8113114d4a9026c",
       "version_major": 2,
       "version_minor": 0
      },
      "text/plain": [
       "0epoch [00:00, ?epoch/s]"
      ]
     },
     "metadata": {},
     "output_type": "display_data"
    },
    {
     "data": {
      "application/vnd.jupyter.widget-view+json": {
       "model_id": "",
       "version_major": 2,
       "version_minor": 0
      },
      "text/plain": [
       "0batch [00:00, ?batch/s]"
      ]
     },
     "metadata": {},
     "output_type": "display_data"
    },
    {
     "name": "stdout",
     "output_type": "stream",
     "text": [
      "Restoring model weights from the end of the best epoch: 5.                         \n",
      "Epoch 00015: early stopping                                                        \n",
      "Best validation loss of epoch:                                                     \n",
      "0.0805649533867836                                                                 \n",
      "100%|██████████| 50/50 [18:03<00:00, 21.66s/trial, best loss: 0.036123208701610565]\n",
      "{'dropout': 0.30135100882461097, 'gcn_activation': 'tanh', 'gcn_layers': 1, 'gcn_units': 20, 'learning_rate': 0.056104038808002674, 'lstm_activation': 'tanh', 'lstm_layers': 1, 'lstm_units': 68, 'weeks': 1}\n",
      "Model: \"model_11\"\n",
      "_________________________________________________________________\n",
      " Layer (type)                Output Shape              Param #   \n",
      "=================================================================\n",
      " input_23 (InputLayer)       [(None, 13, 1)]           0         \n",
      "                                                                 \n",
      " tf.expand_dims_11 (TFOpLamb  (None, 13, 1, 1)         0         \n",
      " da)                                                             \n",
      "                                                                 \n",
      " reshape_33 (Reshape)        (None, 13, 1)             0         \n",
      "                                                                 \n",
      " fixed_adjacency_graph_convo  (None, 13, 20)           202       \n",
      " lution_20 (FixedAdjacencyGr                                     \n",
      " aphConvolution)                                                 \n",
      "                                                                 \n",
      " reshape_34 (Reshape)        (None, 13, 20, 1)         0         \n",
      "                                                                 \n",
      " permute_11 (Permute)        (None, 20, 13, 1)         0         \n",
      "                                                                 \n",
      " reshape_35 (Reshape)        (None, 20, 13)            0         \n",
      "                                                                 \n",
      " lstm_37 (LSTM)              (None, 68)                22304     \n",
      "                                                                 \n",
      " dropout_11 (Dropout)        (None, 68)                0         \n",
      "                                                                 \n",
      " dense_11 (Dense)            (None, 13)                897       \n",
      "                                                                 \n",
      "=================================================================\n",
      "Total params: 23,403\n",
      "Trainable params: 23,234\n",
      "Non-trainable params: 169\n",
      "_________________________________________________________________\n",
      "None\n"
     ]
    },
    {
     "name": "stderr",
     "output_type": "stream",
     "text": [
      "WARNING:absl:Found untraced functions such as lstm_cell_37_layer_call_fn, lstm_cell_37_layer_call_and_return_conditional_losses, lstm_cell_37_layer_call_fn, lstm_cell_37_layer_call_and_return_conditional_losses, lstm_cell_37_layer_call_and_return_conditional_losses while saving (showing 5 of 5). These functions will not be directly callable after loading.\n"
     ]
    },
    {
     "name": "stdout",
     "output_type": "stream",
     "text": [
      "INFO:tensorflow:Assets written to: Model/GCN-LSTM\\assets\n"
     ]
    },
    {
     "name": "stderr",
     "output_type": "stream",
     "text": [
      "INFO:tensorflow:Assets written to: Model/GCN-LSTM\\assets\n"
     ]
    },
    {
     "ename": "UnknownError",
     "evalue": "Failed to WriteFile: Model/GCN-LSTM\\saved_model.pb.tmp5545be58598d4b17b016acb25958b6e8 : There is not enough space on the disk.\r\n; Unknown error",
     "output_type": "error",
     "traceback": [
      "\u001b[1;31m---------------------------------------------------------------------------\u001b[0m",
      "\u001b[1;31mUnknownError\u001b[0m                              Traceback (most recent call last)",
      "\u001b[1;32m<ipython-input-19-ec9775ede022>\u001b[0m in \u001b[0;36m<module>\u001b[1;34m\u001b[0m\n\u001b[1;32m----> 1\u001b[1;33m \u001b[0mrun\u001b[0m\u001b[1;33m(\u001b[0m\u001b[1;33m)\u001b[0m\u001b[1;33m\u001b[0m\u001b[1;33m\u001b[0m\u001b[0m\n\u001b[0m",
      "\u001b[1;32m<ipython-input-4-a4ed99d749fe>\u001b[0m in \u001b[0;36mrun\u001b[1;34m()\u001b[0m\n\u001b[0;32m     66\u001b[0m     \u001b[0mprint\u001b[0m\u001b[1;33m(\u001b[0m\u001b[0mbest_params\u001b[0m\u001b[1;33m)\u001b[0m\u001b[1;33m\u001b[0m\u001b[1;33m\u001b[0m\u001b[0m\n\u001b[0;32m     67\u001b[0m     \u001b[0mprint\u001b[0m\u001b[1;33m(\u001b[0m\u001b[0mbest_model\u001b[0m\u001b[1;33m.\u001b[0m\u001b[0msummary\u001b[0m\u001b[1;33m(\u001b[0m\u001b[1;33m)\u001b[0m\u001b[1;33m)\u001b[0m\u001b[1;33m\u001b[0m\u001b[1;33m\u001b[0m\u001b[0m\n\u001b[1;32m---> 68\u001b[1;33m     \u001b[0mbest_model\u001b[0m\u001b[1;33m.\u001b[0m\u001b[0msave\u001b[0m\u001b[1;33m(\u001b[0m\u001b[1;34m'Model/GCN-LSTM'\u001b[0m\u001b[1;33m)\u001b[0m\u001b[1;33m\u001b[0m\u001b[1;33m\u001b[0m\u001b[0m\n\u001b[0m\u001b[0;32m     69\u001b[0m \u001b[1;33m\u001b[0m\u001b[0m\n\u001b[0;32m     70\u001b[0m     \u001b[0msaltlake_week\u001b[0m \u001b[1;33m=\u001b[0m \u001b[0mpd\u001b[0m\u001b[1;33m.\u001b[0m\u001b[0mread_csv\u001b[0m\u001b[1;33m(\u001b[0m\u001b[1;34m'../saltlake_week.csv'\u001b[0m\u001b[1;33m)\u001b[0m\u001b[1;33m\u001b[0m\u001b[1;33m\u001b[0m\u001b[0m\n",
      "\u001b[1;32m~\\anaconda3\\lib\\site-packages\\keras\\utils\\traceback_utils.py\u001b[0m in \u001b[0;36merror_handler\u001b[1;34m(*args, **kwargs)\u001b[0m\n\u001b[0;32m     65\u001b[0m     \u001b[1;32mexcept\u001b[0m \u001b[0mException\u001b[0m \u001b[1;32mas\u001b[0m \u001b[0me\u001b[0m\u001b[1;33m:\u001b[0m  \u001b[1;31m# pylint: disable=broad-except\u001b[0m\u001b[1;33m\u001b[0m\u001b[1;33m\u001b[0m\u001b[0m\n\u001b[0;32m     66\u001b[0m       \u001b[0mfiltered_tb\u001b[0m \u001b[1;33m=\u001b[0m \u001b[0m_process_traceback_frames\u001b[0m\u001b[1;33m(\u001b[0m\u001b[0me\u001b[0m\u001b[1;33m.\u001b[0m\u001b[0m__traceback__\u001b[0m\u001b[1;33m)\u001b[0m\u001b[1;33m\u001b[0m\u001b[1;33m\u001b[0m\u001b[0m\n\u001b[1;32m---> 67\u001b[1;33m       \u001b[1;32mraise\u001b[0m \u001b[0me\u001b[0m\u001b[1;33m.\u001b[0m\u001b[0mwith_traceback\u001b[0m\u001b[1;33m(\u001b[0m\u001b[0mfiltered_tb\u001b[0m\u001b[1;33m)\u001b[0m \u001b[1;32mfrom\u001b[0m \u001b[1;32mNone\u001b[0m\u001b[1;33m\u001b[0m\u001b[1;33m\u001b[0m\u001b[0m\n\u001b[0m\u001b[0;32m     68\u001b[0m     \u001b[1;32mfinally\u001b[0m\u001b[1;33m:\u001b[0m\u001b[1;33m\u001b[0m\u001b[1;33m\u001b[0m\u001b[0m\n\u001b[0;32m     69\u001b[0m       \u001b[1;32mdel\u001b[0m \u001b[0mfiltered_tb\u001b[0m\u001b[1;33m\u001b[0m\u001b[1;33m\u001b[0m\u001b[0m\n",
      "\u001b[1;32m~\\anaconda3\\lib\\site-packages\\tensorflow\\python\\lib\\io\\file_io.py\u001b[0m in \u001b[0;36mwrite\u001b[1;34m(self, file_content)\u001b[0m\n\u001b[0;32m    102\u001b[0m     \u001b[1;34m\"\"\"Writes file_content to the file. Appends to the end of the file.\"\"\"\u001b[0m\u001b[1;33m\u001b[0m\u001b[1;33m\u001b[0m\u001b[0m\n\u001b[0;32m    103\u001b[0m     \u001b[0mself\u001b[0m\u001b[1;33m.\u001b[0m\u001b[0m_prewrite_check\u001b[0m\u001b[1;33m(\u001b[0m\u001b[1;33m)\u001b[0m\u001b[1;33m\u001b[0m\u001b[1;33m\u001b[0m\u001b[0m\n\u001b[1;32m--> 104\u001b[1;33m     \u001b[0mself\u001b[0m\u001b[1;33m.\u001b[0m\u001b[0m_writable_file\u001b[0m\u001b[1;33m.\u001b[0m\u001b[0mappend\u001b[0m\u001b[1;33m(\u001b[0m\u001b[0mcompat\u001b[0m\u001b[1;33m.\u001b[0m\u001b[0mas_bytes\u001b[0m\u001b[1;33m(\u001b[0m\u001b[0mfile_content\u001b[0m\u001b[1;33m)\u001b[0m\u001b[1;33m)\u001b[0m\u001b[1;33m\u001b[0m\u001b[1;33m\u001b[0m\u001b[0m\n\u001b[0m\u001b[0;32m    105\u001b[0m \u001b[1;33m\u001b[0m\u001b[0m\n\u001b[0;32m    106\u001b[0m   \u001b[1;32mdef\u001b[0m \u001b[0mread\u001b[0m\u001b[1;33m(\u001b[0m\u001b[0mself\u001b[0m\u001b[1;33m,\u001b[0m \u001b[0mn\u001b[0m\u001b[1;33m=\u001b[0m\u001b[1;33m-\u001b[0m\u001b[1;36m1\u001b[0m\u001b[1;33m)\u001b[0m\u001b[1;33m:\u001b[0m\u001b[1;33m\u001b[0m\u001b[1;33m\u001b[0m\u001b[0m\n",
      "\u001b[1;31mUnknownError\u001b[0m: Failed to WriteFile: Model/GCN-LSTM\\saved_model.pb.tmp5545be58598d4b17b016acb25958b6e8 : There is not enough space on the disk.\r\n; Unknown error"
     ]
    }
   ],
   "source": [
    "run()"
   ]
  }
 ],
 "metadata": {
  "kernelspec": {
   "display_name": "Python 3",
   "language": "python",
   "name": "python3"
  },
  "language_info": {
   "codemirror_mode": {
    "name": "ipython",
    "version": 3
   },
   "file_extension": ".py",
   "mimetype": "text/x-python",
   "name": "python",
   "nbconvert_exporter": "python",
   "pygments_lexer": "ipython3",
   "version": "3.8.8"
  }
 },
 "nbformat": 4,
 "nbformat_minor": 5
}

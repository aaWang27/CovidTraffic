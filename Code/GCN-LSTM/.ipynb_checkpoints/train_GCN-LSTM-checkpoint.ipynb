{
 "cells": [
  {
   "cell_type": "code",
   "execution_count": 1,
   "id": "d5865879",
   "metadata": {},
   "outputs": [],
   "source": [
    "import math\n",
    "import os\n",
    "import random\n",
    "import utils\n",
    "import config\n",
    "\n",
    "import numpy as np\n",
    "import pandas as pd\n",
    "import matplotlib as mpl\n",
    "import matplotlib.pyplot as plt\n",
    "\n",
    "# For GCN-LSTM model\n",
    "import tensorflow as tf\n",
    "from tensorflow import keras\n",
    "from keras import Model, initializers\n",
    "from keras.models import Sequential\n",
    "from keras.layers import Dense, LSTM, Dropout\n",
    "from keras.callbacks import EarlyStopping\n",
    "from tqdm.keras import TqdmCallback\n",
    "import stellargraph as sg\n",
    "from stellargraph.layer import GCN_LSTM\n",
    "\n",
    "# For hyperopt (parameter optimization)\n",
    "from hyperopt import Trials, STATUS_OK, tpe, fmin, hp\n",
    "from hyperopt.pyll.base import scope  # quniform returns float, some parameters require int; use this to force int\n",
    "\n",
    "# Evaluation metrics\n",
    "from sklearn.metrics import mean_squared_error, mean_absolute_percentage_error\n",
    "\n",
    "%matplotlib inline"
   ]
  },
  {
   "cell_type": "code",
   "execution_count": 2,
   "id": "451c07ad",
   "metadata": {},
   "outputs": [],
   "source": [
    "seed_value = 42\n",
    "os.environ['PYTHONHASHSEED'] = str(seed_value)\n",
    "random.seed(seed_value)\n",
    "np.random.seed(seed_value)\n",
    "tf.random.set_seed(seed_value)"
   ]
  },
  {
   "cell_type": "code",
   "execution_count": 3,
   "id": "287a1346",
   "metadata": {},
   "outputs": [],
   "source": [
    "def format_scale_data(data, seq_len=1):\n",
    "    X_total = data.values\n",
    "\n",
    "    X_total = X_total[(53-seq_len):, :]\n",
    "    scaler, X_total_scaled = utils.scale(X_total)\n",
    "    data = X_total_scaled.T\n",
    "    \n",
    "    X, y = utils.sequence_data_preparation(seq_len, 1, data)\n",
    "    y = y[:, 1].reshape((-1, 1))\n",
    "    features = 13\n",
    "    obs = seq_len*features\n",
    "\n",
    "    trainX = X[:140, :, :]\n",
    "    trainY = y[:140, :]\n",
    "    validX1 = X[140:144, :, :]\n",
    "    validY1 = y[140:144, :]\n",
    "    validX2 = X[144:148, :, :]\n",
    "    validY2 = y[144:148, :]\n",
    "    testX = X[148:, :, :]\n",
    "    testY = y[148:, :]\n",
    "    \n",
    "    print(trainX.shape, validX1.shape, validX2.shape, testX.shape)\n",
    "    print(trainY.shape, validY1.shape, validY2.shape, testY.shape)\n",
    "    \n",
    "    y_scaler, y2 = utils.scale(X_total[:, 1].reshape((len(X_total), 1)))\n",
    "    y2 = X_total[:, -features:]\n",
    "    print(y2.shape)\n",
    "    \n",
    "    return trainX, trainY, validX1, validY1, validX2, validY2, testX, testY, scaler, y_scaler"
   ]
  },
  {
   "cell_type": "code",
   "execution_count": 4,
   "id": "f461a964",
   "metadata": {},
   "outputs": [],
   "source": [
    "def run():\n",
    "    def f_nn(params):\n",
    "        # Generate data with given window\n",
    "        saltlake_week = pd.read_csv('../saltlake_week.csv')\n",
    "        data = saltlake_week[['Cases', 'VMT (Veh-Miles)', 'News Sentiment', 'Unemployment Rate', 'PRCP', 'SNWD',\n",
    "                              'Percent_Fully_Vaccinated_5&Older', 'TAVG',\n",
    "                              'Stay at Home', 'Mask', 'School Opening', 'Health Emergency', 'Holiday']]\n",
    "        trainX, trainY, validX1, validY1, validX2, validY2, testX, testY, scaler, y_scaler = format_scale_data(data=data, \n",
    "                                                                                                               seq_len=params['weeks'])\n",
    "        \n",
    "        gc_layers = [params['gcn_units_1'], params['gcn_units_2']]\n",
    "        gc_act = ['relu' for i in range(2)]\n",
    "        lstm_layers = [params['lstm_units_1'], params['lstm_units_2'], params['lstm_units_3'], params['lstm_units_4'],\n",
    "                       params['lstm_units_5'], params['lstm_units_6']]\n",
    "        lstm_act = ['relu' for i in range(6)]\n",
    "        \n",
    "        # GCN-LSTM model\n",
    "        model = GCN_LSTM(\n",
    "                seq_len=params['weeks'],\n",
    "                adj=config.TOTAL_ADJACENT_MATRIX,\n",
    "                gc_layer_sizes=gc_layers,\n",
    "                gc_activations=gc_act,\n",
    "                lstm_layer_sizes=lstm_layers,\n",
    "                lstm_activations=lstm_act,\n",
    "                dropout = params['dropout'],\n",
    "                kernel_initializer=initializers.Identity(gain=1)\n",
    "        )\n",
    "\n",
    "        x_input, x_output = model.in_out_tensors()\n",
    "        model = Model(inputs=x_input, outputs=x_output)\n",
    "        model.compile(optimizer=keras.optimizers.Adam(learning_rate=params['learning_rate']), loss=\"mse\",\n",
    "              metrics=[\"mse\"])\n",
    "\n",
    "        es = EarlyStopping(monitor='val_loss', mode='min', verbose=1, patience=10, restore_best_weights=True)\n",
    "\n",
    "        result = model.fit(trainX, trainY, verbose=0, validation_data=(validX1, validY1),\n",
    "                            batch_size=4,\n",
    "                            epochs=200,\n",
    "                            callbacks=[es, TqdmCallback(verbose=1)]\n",
    "                            )\n",
    "\n",
    "        # get the lowest validation loss of the training epochs\n",
    "        validation_loss = np.amin(result.history['val_loss'])\n",
    "        print('Best validation loss of epoch:', validation_loss)\n",
    "\n",
    "\n",
    "        return {'loss': validation_loss, 'status': STATUS_OK, 'model': model, 'params': params}\n",
    "\n",
    "    # hyperparameters to search over with hyperopt\n",
    "    space = {'gcn_units_1': scope.int(hp.quniform('gcn_units_1', 4, 32, 2)),\n",
    "             'gcn_units_2': scope.int(hp.quniform('gcn_units_2', 4, 32, 2)),\n",
    "             'lstm_units_1': scope.int(hp.quniform('lstm_units_1', 8, 128, 4)),\n",
    "             'lstm_units_2': scope.int(hp.quniform('lstm_units_2', 8, 128, 4)),\n",
    "             'lstm_units_3': scope.int(hp.quniform('lstm_units_3', 8, 128, 4)),\n",
    "             'lstm_units_4': scope.int(hp.quniform('lstm_units_4', 8, 128, 4)),\n",
    "             'lstm_units_5': scope.int(hp.quniform('lstm_units_5', 8, 128, 4)),\n",
    "             'lstm_units_6': scope.int(hp.quniform('lstm_units_6', 8, 128, 4)),\n",
    "             'weeks': scope.int(hp.quniform('weeks', 1, 10, 1)), \n",
    "             'learning_rate': hp.uniform('learning_rate', 0.001, 0.1),\n",
    "             'dropout': hp.uniform('dropout', 0.01, 0.5)\n",
    "             }\n",
    "\n",
    "    trials = Trials()\n",
    "    best = fmin(f_nn, space, algo=tpe.suggest, max_evals=50, trials=trials)\n",
    "\n",
    "    # get best model\n",
    "    best_model = trials.results[np.argmin([r['loss'] for r in trials.results])]['model']\n",
    "    best_params = trials.results[np.argmin([r['loss'] for r in trials.results])]['params']\n",
    "    \n",
    "    # save best model\n",
    "    print(best_params)\n",
    "    print(best_model.summary())\n",
    "    best_model.save('Model/GCN-LSTM-2_6')\n",
    "    \n",
    "    # load data\n",
    "    saltlake_week = pd.read_csv('../saltlake_week.csv')\n",
    "    data = saltlake_week[['Cases', 'VMT (Veh-Miles)', 'News Sentiment', 'Unemployment Rate', 'PRCP', 'SNWD',\n",
    "                          'Percent_Fully_Vaccinated_5&Older', 'TAVG', \n",
    "                          'Stay at Home', 'Mask', 'School Opening', 'Health Emergency', 'Holiday']]\n",
    "    trainX, trainY, validX1, validY1, validX2, validY2, testX, testY, scaler, y_scaler = format_scale_data(data=data, \n",
    "                                                                                                        seq_len=best_params['weeks'])\n",
    "    \n",
    "    # evaluate model on second validation set\n",
    "    best_model.evaluate(validX2, validY2)\n",
    "    \n",
    "    # invert predictions of model\n",
    "    yhat_valid2 = best_model.predict(validX2)[:, 1].reshape((-1, 1))\n",
    "    yhat_valid2_inv = y_scaler.inverse_transform(yhat_valid2)\n",
    "    validY2_inv = y_scaler.inverse_transform(validY2.reshape((-1, 1)))\n",
    "    \n",
    "    print(yhat_valid2.shape)\n",
    "    print(yhat_valid2_inv.shape)\n",
    "    print(validY2_inv.shape)\n",
    "    \n",
    "    yhat_train = best_model.predict(trainX)[:, 1].reshape((-1, 1))\n",
    "    yhat_train_inv = y_scaler.inverse_transform(yhat_train)\n",
    "    trainY_inv = y_scaler.inverse_transform(trainY.reshape((-1, 1)))\n",
    "    \n",
    "    # evaluate model with inverted features\n",
    "    print(\"Mean Squared Error: {}\".format(mean_squared_error(validY2_inv, yhat_valid2_inv)))\n",
    "    print(\"Root Mean Squared Error: {}\".format(mean_squared_error(validY2_inv, yhat_valid2_inv, squared=False)))\n",
    "    print(\"Mean Absolute Percentage Error: {}\".format(mean_absolute_percentage_error(validY2_inv, yhat_valid2_inv)))\n",
    "    \n",
    "    # plot model predictions\n",
    "    plt.figure()\n",
    "    plt.plot(yhat_valid2_inv, label='Predicted')\n",
    "    plt.plot(validY2_inv, label='True')\n",
    "    plt.legend()\n",
    "    plt.title(\"Validation Data 2\")\n",
    "    plt.show()\n",
    "    \n",
    "    plt.figure()\n",
    "    plt.plot(yhat_train_inv, label='Predicted')\n",
    "    plt.plot(trainY_inv, label='True')\n",
    "    plt.legend()\n",
    "    plt.title(\"Training Data\")\n",
    "    plt.show()\n",
    "    \n",
    "    return best_model"
   ]
  },
  {
   "cell_type": "code",
   "execution_count": 5,
   "id": "df93a5bd",
   "metadata": {
    "scrolled": true
   },
   "outputs": [
    {
     "name": "stdout",
     "output_type": "stream",
     "text": [
      "(140, 13, 8)                                          \n",
      "(4, 13, 8)                                            \n",
      "(4, 13, 8)                                            \n",
      "(8, 13, 8)                                            \n",
      "(140, 1)                                              \n",
      "(4, 1)                                                \n",
      "(4, 1)                                                \n",
      "(8, 1)                                                \n",
      "(164, 13)                                             \n",
      "  0%|          | 0/50 [00:00<?, ?trial/s, best loss=?]"
     ]
    },
    {
     "name": "stderr",
     "output_type": "stream",
     "text": [
      "C:\\Users\\aarow\\AppData\\Local\\Temp/ipykernel_2700/2893458286.py:18: ExperimentalWarning: GCN_LSTM is experimental: Lack of unit tests and code refinement (see: https://github.com/stellargraph/stellargraph/issues/1132, https://github.com/stellargraph/stellargraph/issues/1526, https://github.com/stellargraph/stellargraph/issues/1564). It may be difficult to use and may have major changes at any time.\n",
      "  model = GCN_LSTM(\n",
      "\n"
     ]
    },
    {
     "data": {
      "application/vnd.jupyter.widget-view+json": {
       "model_id": "01563a70dbb84828aa2a8f9d58514c4a",
       "version_major": 2,
       "version_minor": 0
      },
      "text/plain": [
       "0epoch [00:00, ?epoch/s]"
      ]
     },
     "metadata": {},
     "output_type": "display_data"
    },
    {
     "data": {
      "application/vnd.jupyter.widget-view+json": {
       "model_id": "",
       "version_major": 2,
       "version_minor": 0
      },
      "text/plain": [
       "0batch [00:00, ?batch/s]"
      ]
     },
     "metadata": {},
     "output_type": "display_data"
    },
    {
     "name": "stdout",
     "output_type": "stream",
     "text": [
      "Restoring model weights from the end of the best epoch: 17.\n",
      "\n",
      "Epoch 27: early stopping                              \n",
      "\n",
      "Best validation loss of epoch:                        \n",
      "0.054122112691402435                                  \n",
      "(140, 13, 5)                                                                      \n",
      "(4, 13, 5)                                                                        \n",
      "(4, 13, 5)                                                                        \n",
      "(8, 13, 5)                                                                        \n",
      "(140, 1)                                                                          \n",
      "(4, 1)                                                                            \n",
      "(4, 1)                                                                            \n",
      "(8, 1)                                                                            \n",
      "(161, 13)                                                                         \n",
      "  2%|▏         | 1/50 [00:16<13:21, 16.36s/trial, best loss: 0.054122112691402435]"
     ]
    },
    {
     "name": "stderr",
     "output_type": "stream",
     "text": [
      "C:\\Users\\aarow\\AppData\\Local\\Temp/ipykernel_2700/2893458286.py:18: ExperimentalWarning: GCN_LSTM is experimental: Lack of unit tests and code refinement (see: https://github.com/stellargraph/stellargraph/issues/1132, https://github.com/stellargraph/stellargraph/issues/1526, https://github.com/stellargraph/stellargraph/issues/1564). It may be difficult to use and may have major changes at any time.\n",
      "  model = GCN_LSTM(\n",
      "\n"
     ]
    },
    {
     "data": {
      "application/vnd.jupyter.widget-view+json": {
       "model_id": "bbe145701ceb4bcf85f346d06dcfaa2e",
       "version_major": 2,
       "version_minor": 0
      },
      "text/plain": [
       "0epoch [00:00, ?epoch/s]"
      ]
     },
     "metadata": {},
     "output_type": "display_data"
    },
    {
     "data": {
      "application/vnd.jupyter.widget-view+json": {
       "model_id": "",
       "version_major": 2,
       "version_minor": 0
      },
      "text/plain": [
       "0batch [00:00, ?batch/s]"
      ]
     },
     "metadata": {},
     "output_type": "display_data"
    },
    {
     "name": "stdout",
     "output_type": "stream",
     "text": [
      "Restoring model weights from the end of the best epoch: 2.                        \n",
      "\n",
      "Epoch 12: early stopping                                                          \n",
      "\n",
      "Best validation loss of epoch:                                                    \n",
      "0.07271292060613632                                                               \n",
      "(140, 13, 4)                                                                      \n",
      "(4, 13, 4)                                                                        \n",
      "(4, 13, 4)                                                                        \n",
      "(8, 13, 4)                                                                        \n",
      "(140, 1)                                                                          \n",
      "(4, 1)                                                                            \n",
      "(4, 1)                                                                            \n",
      "(8, 1)                                                                            \n",
      "(160, 13)                                                                         \n",
      "  4%|▍         | 2/50 [00:32<12:45, 15.95s/trial, best loss: 0.054122112691402435]"
     ]
    },
    {
     "name": "stderr",
     "output_type": "stream",
     "text": [
      "C:\\Users\\aarow\\AppData\\Local\\Temp/ipykernel_2700/2893458286.py:18: ExperimentalWarning: GCN_LSTM is experimental: Lack of unit tests and code refinement (see: https://github.com/stellargraph/stellargraph/issues/1132, https://github.com/stellargraph/stellargraph/issues/1526, https://github.com/stellargraph/stellargraph/issues/1564). It may be difficult to use and may have major changes at any time.\n",
      "  model = GCN_LSTM(\n",
      "\n"
     ]
    },
    {
     "data": {
      "application/vnd.jupyter.widget-view+json": {
       "model_id": "31ade94db3c74e02a72c8935952888ed",
       "version_major": 2,
       "version_minor": 0
      },
      "text/plain": [
       "0epoch [00:00, ?epoch/s]"
      ]
     },
     "metadata": {},
     "output_type": "display_data"
    },
    {
     "data": {
      "application/vnd.jupyter.widget-view+json": {
       "model_id": "",
       "version_major": 2,
       "version_minor": 0
      },
      "text/plain": [
       "0batch [00:00, ?batch/s]"
      ]
     },
     "metadata": {},
     "output_type": "display_data"
    },
    {
     "name": "stdout",
     "output_type": "stream",
     "text": [
      "Restoring model weights from the end of the best epoch: 1.                        \n",
      "\n",
      "Epoch 11: early stopping                                                          \n",
      "\n",
      "Best validation loss of epoch:                                                    \n",
      "0.13185203075408936                                                               \n",
      "(140, 13, 10)                                                                     \n",
      "(4, 13, 10)                                                                       \n",
      "(4, 13, 10)                                                                       \n",
      "(8, 13, 10)                                                                       \n",
      "(140, 1)                                                                          \n",
      "(4, 1)                                                                            \n",
      "(4, 1)                                                                            \n",
      "(8, 1)                                                                            \n",
      "(166, 13)                                                                         \n",
      "  6%|▌         | 3/50 [00:43<10:49, 13.82s/trial, best loss: 0.054122112691402435]"
     ]
    },
    {
     "name": "stderr",
     "output_type": "stream",
     "text": [
      "C:\\Users\\aarow\\AppData\\Local\\Temp/ipykernel_2700/2893458286.py:18: ExperimentalWarning: GCN_LSTM is experimental: Lack of unit tests and code refinement (see: https://github.com/stellargraph/stellargraph/issues/1132, https://github.com/stellargraph/stellargraph/issues/1526, https://github.com/stellargraph/stellargraph/issues/1564). It may be difficult to use and may have major changes at any time.\n",
      "  model = GCN_LSTM(\n",
      "\n"
     ]
    },
    {
     "data": {
      "application/vnd.jupyter.widget-view+json": {
       "model_id": "e4e78bc75a5d4f93afe9632dfe528c41",
       "version_major": 2,
       "version_minor": 0
      },
      "text/plain": [
       "0epoch [00:00, ?epoch/s]"
      ]
     },
     "metadata": {},
     "output_type": "display_data"
    },
    {
     "data": {
      "application/vnd.jupyter.widget-view+json": {
       "model_id": "",
       "version_major": 2,
       "version_minor": 0
      },
      "text/plain": [
       "0batch [00:00, ?batch/s]"
      ]
     },
     "metadata": {},
     "output_type": "display_data"
    },
    {
     "name": "stdout",
     "output_type": "stream",
     "text": [
      "Restoring model weights from the end of the best epoch: 1.                        \n",
      "\n",
      "Epoch 11: early stopping                                                          \n",
      "\n",
      "Best validation loss of epoch:                                                    \n",
      "0.07271292060613632                                                               \n",
      "(140, 13, 4)                                                                      \n",
      "(4, 13, 4)                                                                        \n",
      "(4, 13, 4)                                                                        \n",
      "(8, 13, 4)                                                                        \n",
      "(140, 1)                                                                          \n",
      "(4, 1)                                                                            \n",
      "(4, 1)                                                                            \n",
      "(8, 1)                                                                            \n",
      "(160, 13)                                                                         \n",
      "  8%|▊         | 4/50 [00:58<10:55, 14.25s/trial, best loss: 0.054122112691402435]"
     ]
    },
    {
     "name": "stderr",
     "output_type": "stream",
     "text": [
      "C:\\Users\\aarow\\AppData\\Local\\Temp/ipykernel_2700/2893458286.py:18: ExperimentalWarning: GCN_LSTM is experimental: Lack of unit tests and code refinement (see: https://github.com/stellargraph/stellargraph/issues/1132, https://github.com/stellargraph/stellargraph/issues/1526, https://github.com/stellargraph/stellargraph/issues/1564). It may be difficult to use and may have major changes at any time.\n",
      "  model = GCN_LSTM(\n",
      "\n"
     ]
    },
    {
     "data": {
      "application/vnd.jupyter.widget-view+json": {
       "model_id": "788e8c402bdb4c6089589bc1286866ba",
       "version_major": 2,
       "version_minor": 0
      },
      "text/plain": [
       "0epoch [00:00, ?epoch/s]"
      ]
     },
     "metadata": {},
     "output_type": "display_data"
    },
    {
     "data": {
      "application/vnd.jupyter.widget-view+json": {
       "model_id": "",
       "version_major": 2,
       "version_minor": 0
      },
      "text/plain": [
       "0batch [00:00, ?batch/s]"
      ]
     },
     "metadata": {},
     "output_type": "display_data"
    },
    {
     "name": "stdout",
     "output_type": "stream",
     "text": [
      "Restoring model weights from the end of the best epoch: 1.                        \n",
      "\n",
      "Epoch 11: early stopping                                                          \n",
      "\n",
      "Best validation loss of epoch:                                                    \n",
      "0.013573789969086647                                                              \n",
      "(140, 13, 9)                                                                      \n",
      "(4, 13, 9)                                                                        \n",
      "(4, 13, 9)                                                                        \n",
      "(8, 13, 9)                                                                        \n",
      "(140, 1)                                                                          \n",
      "(4, 1)                                                                            \n",
      "(4, 1)                                                                            \n",
      "(8, 1)                                                                            \n",
      "(165, 13)                                                                         \n",
      " 10%|█         | 5/50 [01:09<09:48, 13.08s/trial, best loss: 0.013573789969086647]"
     ]
    },
    {
     "name": "stderr",
     "output_type": "stream",
     "text": [
      "C:\\Users\\aarow\\AppData\\Local\\Temp/ipykernel_2700/2893458286.py:18: ExperimentalWarning: GCN_LSTM is experimental: Lack of unit tests and code refinement (see: https://github.com/stellargraph/stellargraph/issues/1132, https://github.com/stellargraph/stellargraph/issues/1526, https://github.com/stellargraph/stellargraph/issues/1564). It may be difficult to use and may have major changes at any time.\n",
      "  model = GCN_LSTM(\n",
      "\n"
     ]
    },
    {
     "data": {
      "application/vnd.jupyter.widget-view+json": {
       "model_id": "dc1f73a6cb0c4689bb2d6e7cc449e86b",
       "version_major": 2,
       "version_minor": 0
      },
      "text/plain": [
       "0epoch [00:00, ?epoch/s]"
      ]
     },
     "metadata": {},
     "output_type": "display_data"
    },
    {
     "data": {
      "application/vnd.jupyter.widget-view+json": {
       "model_id": "",
       "version_major": 2,
       "version_minor": 0
      },
      "text/plain": [
       "0batch [00:00, ?batch/s]"
      ]
     },
     "metadata": {},
     "output_type": "display_data"
    },
    {
     "name": "stdout",
     "output_type": "stream",
     "text": [
      "Restoring model weights from the end of the best epoch: 1.                        \n",
      "\n",
      "Epoch 11: early stopping                                                          \n",
      "\n",
      "Best validation loss of epoch:                                                    \n",
      "0.30926942825317383                                                               \n",
      "(140, 13, 6)                                                                      \n",
      "(4, 13, 6)                                                                        \n",
      "(4, 13, 6)                                                                        \n",
      "(8, 13, 6)                                                                        \n",
      "(140, 1)                                                                          \n",
      "(4, 1)                                                                            \n",
      "(4, 1)                                                                            \n",
      "(8, 1)                                                                            \n",
      "(162, 13)                                                                         \n",
      " 12%|█▏        | 6/50 [01:22<09:36, 13.09s/trial, best loss: 0.013573789969086647]"
     ]
    },
    {
     "name": "stderr",
     "output_type": "stream",
     "text": [
      "C:\\Users\\aarow\\AppData\\Local\\Temp/ipykernel_2700/2893458286.py:18: ExperimentalWarning: GCN_LSTM is experimental: Lack of unit tests and code refinement (see: https://github.com/stellargraph/stellargraph/issues/1132, https://github.com/stellargraph/stellargraph/issues/1526, https://github.com/stellargraph/stellargraph/issues/1564). It may be difficult to use and may have major changes at any time.\n",
      "  model = GCN_LSTM(\n",
      "\n"
     ]
    },
    {
     "data": {
      "application/vnd.jupyter.widget-view+json": {
       "model_id": "7676dbb5f72641c08051c2f14c1662ab",
       "version_major": 2,
       "version_minor": 0
      },
      "text/plain": [
       "0epoch [00:00, ?epoch/s]"
      ]
     },
     "metadata": {},
     "output_type": "display_data"
    },
    {
     "data": {
      "application/vnd.jupyter.widget-view+json": {
       "model_id": "",
       "version_major": 2,
       "version_minor": 0
      },
      "text/plain": [
       "0batch [00:00, ?batch/s]"
      ]
     },
     "metadata": {},
     "output_type": "display_data"
    },
    {
     "name": "stdout",
     "output_type": "stream",
     "text": [
      "Restoring model weights from the end of the best epoch: 1.                        \n",
      "\n",
      "Epoch 11: early stopping                                                          \n",
      "\n",
      "Best validation loss of epoch:                                                    \n",
      "0.013573789969086647                                                              \n",
      "(140, 13, 3)                                                                      \n",
      "(4, 13, 3)                                                                        \n",
      "(4, 13, 3)                                                                        \n",
      "(8, 13, 3)                                                                        \n",
      "(140, 1)                                                                          \n",
      "(4, 1)                                                                            \n",
      "(4, 1)                                                                            \n",
      "(8, 1)                                                                            \n",
      "(159, 13)                                                                         \n",
      " 14%|█▍        | 7/50 [01:31<08:29, 11.85s/trial, best loss: 0.013573789969086647]"
     ]
    },
    {
     "name": "stderr",
     "output_type": "stream",
     "text": [
      "C:\\Users\\aarow\\AppData\\Local\\Temp/ipykernel_2700/2893458286.py:18: ExperimentalWarning: GCN_LSTM is experimental: Lack of unit tests and code refinement (see: https://github.com/stellargraph/stellargraph/issues/1132, https://github.com/stellargraph/stellargraph/issues/1526, https://github.com/stellargraph/stellargraph/issues/1564). It may be difficult to use and may have major changes at any time.\n",
      "  model = GCN_LSTM(\n",
      "\n"
     ]
    },
    {
     "data": {
      "application/vnd.jupyter.widget-view+json": {
       "model_id": "43b5162e44c3413e992b3b5c2e105617",
       "version_major": 2,
       "version_minor": 0
      },
      "text/plain": [
       "0epoch [00:00, ?epoch/s]"
      ]
     },
     "metadata": {},
     "output_type": "display_data"
    },
    {
     "data": {
      "application/vnd.jupyter.widget-view+json": {
       "model_id": "",
       "version_major": 2,
       "version_minor": 0
      },
      "text/plain": [
       "0batch [00:00, ?batch/s]"
      ]
     },
     "metadata": {},
     "output_type": "display_data"
    },
    {
     "name": "stdout",
     "output_type": "stream",
     "text": [
      "Restoring model weights from the end of the best epoch: 1.                        \n",
      "\n",
      "Epoch 11: early stopping                                                          \n",
      "\n",
      "Best validation loss of epoch:                                                    \n",
      "0.013573789969086647                                                              \n",
      "(140, 13, 2)                                                                      \n",
      "(4, 13, 2)                                                                        \n",
      "(4, 13, 2)                                                                        \n",
      "(8, 13, 2)                                                                        \n",
      "(140, 1)                                                                          \n",
      "(4, 1)                                                                            \n",
      "(4, 1)                                                                            \n",
      "(8, 1)                                                                            \n",
      "(158, 13)                                                                         \n",
      " 16%|█▌        | 8/50 [01:49<09:35, 13.71s/trial, best loss: 0.013573789969086647]"
     ]
    },
    {
     "name": "stderr",
     "output_type": "stream",
     "text": [
      "C:\\Users\\aarow\\AppData\\Local\\Temp/ipykernel_2700/2893458286.py:18: ExperimentalWarning: GCN_LSTM is experimental: Lack of unit tests and code refinement (see: https://github.com/stellargraph/stellargraph/issues/1132, https://github.com/stellargraph/stellargraph/issues/1526, https://github.com/stellargraph/stellargraph/issues/1564). It may be difficult to use and may have major changes at any time.\n",
      "  model = GCN_LSTM(\n",
      "\n"
     ]
    },
    {
     "data": {
      "application/vnd.jupyter.widget-view+json": {
       "model_id": "2032f59ad48444d8b665753375337c3b",
       "version_major": 2,
       "version_minor": 0
      },
      "text/plain": [
       "0epoch [00:00, ?epoch/s]"
      ]
     },
     "metadata": {},
     "output_type": "display_data"
    },
    {
     "data": {
      "application/vnd.jupyter.widget-view+json": {
       "model_id": "",
       "version_major": 2,
       "version_minor": 0
      },
      "text/plain": [
       "0batch [00:00, ?batch/s]"
      ]
     },
     "metadata": {},
     "output_type": "display_data"
    },
    {
     "name": "stdout",
     "output_type": "stream",
     "text": [
      "Restoring model weights from the end of the best epoch: 1.                        \n",
      "\n",
      "Epoch 11: early stopping                                                          \n",
      "\n",
      "Best validation loss of epoch:                                                    \n",
      "0.013573789969086647                                                              \n",
      "(140, 13, 7)                                                                      \n",
      "(4, 13, 7)                                                                        \n",
      "(4, 13, 7)                                                                        \n",
      "(8, 13, 7)                                                                        \n",
      "(140, 1)                                                                          \n",
      "(4, 1)                                                                            \n",
      "(4, 1)                                                                            \n",
      "(8, 1)                                                                            \n",
      "(163, 13)                                                                         \n",
      " 18%|█▊        | 9/50 [02:04<09:34, 14.01s/trial, best loss: 0.013573789969086647]"
     ]
    },
    {
     "name": "stderr",
     "output_type": "stream",
     "text": [
      "C:\\Users\\aarow\\AppData\\Local\\Temp/ipykernel_2700/2893458286.py:18: ExperimentalWarning: GCN_LSTM is experimental: Lack of unit tests and code refinement (see: https://github.com/stellargraph/stellargraph/issues/1132, https://github.com/stellargraph/stellargraph/issues/1526, https://github.com/stellargraph/stellargraph/issues/1564). It may be difficult to use and may have major changes at any time.\n",
      "  model = GCN_LSTM(\n",
      "\n"
     ]
    },
    {
     "data": {
      "application/vnd.jupyter.widget-view+json": {
       "model_id": "153ed4cf5ed8480896d08212d4b0ad7e",
       "version_major": 2,
       "version_minor": 0
      },
      "text/plain": [
       "0epoch [00:00, ?epoch/s]"
      ]
     },
     "metadata": {},
     "output_type": "display_data"
    },
    {
     "data": {
      "application/vnd.jupyter.widget-view+json": {
       "model_id": "",
       "version_major": 2,
       "version_minor": 0
      },
      "text/plain": [
       "0batch [00:00, ?batch/s]"
      ]
     },
     "metadata": {},
     "output_type": "display_data"
    },
    {
     "name": "stdout",
     "output_type": "stream",
     "text": [
      "Restoring model weights from the end of the best epoch: 17.                       \n",
      "\n",
      "Epoch 27: early stopping                                                          \n",
      "\n",
      "Best validation loss of epoch:                                                    \n",
      "0.03573613613843918                                                               \n",
      "(140, 13, 9)                                                                       \n",
      "(4, 13, 9)                                                                         \n",
      "(4, 13, 9)                                                                         \n",
      "(8, 13, 9)                                                                         \n",
      "(140, 1)                                                                           \n",
      "(4, 1)                                                                             \n",
      "(4, 1)                                                                             \n",
      "(8, 1)                                                                             \n",
      "(165, 13)                                                                          \n",
      " 20%|██        | 10/50 [02:18<09:27, 14.19s/trial, best loss: 0.013573789969086647]"
     ]
    },
    {
     "name": "stderr",
     "output_type": "stream",
     "text": [
      "C:\\Users\\aarow\\AppData\\Local\\Temp/ipykernel_2700/2893458286.py:18: ExperimentalWarning: GCN_LSTM is experimental: Lack of unit tests and code refinement (see: https://github.com/stellargraph/stellargraph/issues/1132, https://github.com/stellargraph/stellargraph/issues/1526, https://github.com/stellargraph/stellargraph/issues/1564). It may be difficult to use and may have major changes at any time.\n",
      "  model = GCN_LSTM(\n",
      "\n"
     ]
    },
    {
     "data": {
      "application/vnd.jupyter.widget-view+json": {
       "model_id": "b67d48d05fe2445482e30fc5065521bd",
       "version_major": 2,
       "version_minor": 0
      },
      "text/plain": [
       "0epoch [00:00, ?epoch/s]"
      ]
     },
     "metadata": {},
     "output_type": "display_data"
    },
    {
     "data": {
      "application/vnd.jupyter.widget-view+json": {
       "model_id": "",
       "version_major": 2,
       "version_minor": 0
      },
      "text/plain": [
       "0batch [00:00, ?batch/s]"
      ]
     },
     "metadata": {},
     "output_type": "display_data"
    },
    {
     "name": "stdout",
     "output_type": "stream",
     "text": [
      "Restoring model weights from the end of the best epoch: 1.                         \n",
      "\n",
      "Epoch 11: early stopping                                                           \n",
      "\n",
      "Best validation loss of epoch:                                                     \n",
      "0.013573789969086647                                                               \n",
      "(140, 13, 7)                                                                       \n",
      "(4, 13, 7)                                                                         \n",
      "(4, 13, 7)                                                                         \n",
      "(8, 13, 7)                                                                         \n",
      "(140, 1)                                                                           \n",
      "(4, 1)                                                                             \n",
      "(4, 1)                                                                             \n",
      "(8, 1)                                                                             \n",
      "(163, 13)                                                                          \n",
      " 22%|██▏       | 11/50 [02:39<10:32, 16.22s/trial, best loss: 0.013573789969086647]"
     ]
    },
    {
     "name": "stderr",
     "output_type": "stream",
     "text": [
      "C:\\Users\\aarow\\AppData\\Local\\Temp/ipykernel_2700/2893458286.py:18: ExperimentalWarning: GCN_LSTM is experimental: Lack of unit tests and code refinement (see: https://github.com/stellargraph/stellargraph/issues/1132, https://github.com/stellargraph/stellargraph/issues/1526, https://github.com/stellargraph/stellargraph/issues/1564). It may be difficult to use and may have major changes at any time.\n",
      "  model = GCN_LSTM(\n",
      "\n"
     ]
    },
    {
     "data": {
      "application/vnd.jupyter.widget-view+json": {
       "model_id": "858709f665b94af4910ab2c19c498f6e",
       "version_major": 2,
       "version_minor": 0
      },
      "text/plain": [
       "0epoch [00:00, ?epoch/s]"
      ]
     },
     "metadata": {},
     "output_type": "display_data"
    },
    {
     "data": {
      "application/vnd.jupyter.widget-view+json": {
       "model_id": "",
       "version_major": 2,
       "version_minor": 0
      },
      "text/plain": [
       "0batch [00:00, ?batch/s]"
      ]
     },
     "metadata": {},
     "output_type": "display_data"
    },
    {
     "name": "stdout",
     "output_type": "stream",
     "text": [
      "Restoring model weights from the end of the best epoch: 8.                         \n",
      "\n",
      "Epoch 18: early stopping                                                           \n",
      "\n",
      "Best validation loss of epoch:                                                     \n",
      "0.05922367051243782                                                                \n",
      "(140, 13, 9)                                                                       \n",
      "(4, 13, 9)                                                                         \n",
      "(4, 13, 9)                                                                         \n",
      "(8, 13, 9)                                                                         \n",
      "(140, 1)                                                                           \n",
      "(4, 1)                                                                             \n",
      "(4, 1)                                                                             \n",
      "(8, 1)                                                                             \n",
      "(165, 13)                                                                          \n",
      " 24%|██▍       | 12/50 [02:56<10:19, 16.32s/trial, best loss: 0.013573789969086647]"
     ]
    },
    {
     "name": "stderr",
     "output_type": "stream",
     "text": [
      "C:\\Users\\aarow\\AppData\\Local\\Temp/ipykernel_2700/2893458286.py:18: ExperimentalWarning: GCN_LSTM is experimental: Lack of unit tests and code refinement (see: https://github.com/stellargraph/stellargraph/issues/1132, https://github.com/stellargraph/stellargraph/issues/1526, https://github.com/stellargraph/stellargraph/issues/1564). It may be difficult to use and may have major changes at any time.\n",
      "  model = GCN_LSTM(\n",
      "\n"
     ]
    },
    {
     "data": {
      "application/vnd.jupyter.widget-view+json": {
       "model_id": "5628a83a4138420e8af81051345b14c4",
       "version_major": 2,
       "version_minor": 0
      },
      "text/plain": [
       "0epoch [00:00, ?epoch/s]"
      ]
     },
     "metadata": {},
     "output_type": "display_data"
    },
    {
     "data": {
      "application/vnd.jupyter.widget-view+json": {
       "model_id": "",
       "version_major": 2,
       "version_minor": 0
      },
      "text/plain": [
       "0batch [00:00, ?batch/s]"
      ]
     },
     "metadata": {},
     "output_type": "display_data"
    },
    {
     "name": "stdout",
     "output_type": "stream",
     "text": [
      "Restoring model weights from the end of the best epoch: 1.                         \n",
      "\n",
      "Epoch 11: early stopping                                                           \n",
      "\n",
      "Best validation loss of epoch:                                                     \n",
      "0.4275476634502411                                                                 \n",
      "(140, 13, 3)                                                                       \n",
      "(4, 13, 3)                                                                         \n",
      "(4, 13, 3)                                                                         \n",
      "(8, 13, 3)                                                                         \n",
      "(140, 1)                                                                           \n",
      "(4, 1)                                                                             \n",
      "(4, 1)                                                                             \n",
      "(8, 1)                                                                             \n",
      "(159, 13)                                                                          \n",
      " 26%|██▌       | 13/50 [03:12<10:05, 16.38s/trial, best loss: 0.013573789969086647]"
     ]
    },
    {
     "name": "stderr",
     "output_type": "stream",
     "text": [
      "C:\\Users\\aarow\\AppData\\Local\\Temp/ipykernel_2700/2893458286.py:18: ExperimentalWarning: GCN_LSTM is experimental: Lack of unit tests and code refinement (see: https://github.com/stellargraph/stellargraph/issues/1132, https://github.com/stellargraph/stellargraph/issues/1526, https://github.com/stellargraph/stellargraph/issues/1564). It may be difficult to use and may have major changes at any time.\n",
      "  model = GCN_LSTM(\n",
      "\n"
     ]
    },
    {
     "data": {
      "application/vnd.jupyter.widget-view+json": {
       "model_id": "87e5319454fc400b8a394b7a3f07cbd0",
       "version_major": 2,
       "version_minor": 0
      },
      "text/plain": [
       "0epoch [00:00, ?epoch/s]"
      ]
     },
     "metadata": {},
     "output_type": "display_data"
    },
    {
     "data": {
      "application/vnd.jupyter.widget-view+json": {
       "model_id": "",
       "version_major": 2,
       "version_minor": 0
      },
      "text/plain": [
       "0batch [00:00, ?batch/s]"
      ]
     },
     "metadata": {},
     "output_type": "display_data"
    },
    {
     "name": "stdout",
     "output_type": "stream",
     "text": [
      "Restoring model weights from the end of the best epoch: 1.                         \n",
      "\n",
      "Epoch 11: early stopping                                                           \n",
      "\n",
      "Best validation loss of epoch:                                                     \n",
      "0.013573789969086647                                                               \n",
      "(140, 13, 3)                                                                       \n",
      "(4, 13, 3)                                                                         \n",
      "(4, 13, 3)                                                                         \n",
      "(8, 13, 3)                                                                         \n",
      "(140, 1)                                                                           \n",
      "(4, 1)                                                                             \n",
      "(4, 1)                                                                             \n",
      "(8, 1)                                                                             \n",
      "(159, 13)                                                                          \n",
      " 28%|██▊       | 14/50 [03:23<08:53, 14.81s/trial, best loss: 0.013573789969086647]"
     ]
    },
    {
     "name": "stderr",
     "output_type": "stream",
     "text": [
      "C:\\Users\\aarow\\AppData\\Local\\Temp/ipykernel_2700/2893458286.py:18: ExperimentalWarning: GCN_LSTM is experimental: Lack of unit tests and code refinement (see: https://github.com/stellargraph/stellargraph/issues/1132, https://github.com/stellargraph/stellargraph/issues/1526, https://github.com/stellargraph/stellargraph/issues/1564). It may be difficult to use and may have major changes at any time.\n",
      "  model = GCN_LSTM(\n",
      "\n"
     ]
    },
    {
     "data": {
      "application/vnd.jupyter.widget-view+json": {
       "model_id": "fe1648bca8fd4db78de2c9d9c656ec1e",
       "version_major": 2,
       "version_minor": 0
      },
      "text/plain": [
       "0epoch [00:00, ?epoch/s]"
      ]
     },
     "metadata": {},
     "output_type": "display_data"
    },
    {
     "data": {
      "application/vnd.jupyter.widget-view+json": {
       "model_id": "",
       "version_major": 2,
       "version_minor": 0
      },
      "text/plain": [
       "0batch [00:00, ?batch/s]"
      ]
     },
     "metadata": {},
     "output_type": "display_data"
    },
    {
     "name": "stdout",
     "output_type": "stream",
     "text": [
      "Restoring model weights from the end of the best epoch: 1.                         \n",
      "\n",
      "Epoch 11: early stopping                                                           \n",
      "\n",
      "Best validation loss of epoch:                                                     \n",
      "0.013573789969086647                                                               \n",
      "(140, 13, 10)                                                                      \n",
      "(4, 13, 10)                                                                        \n",
      "(4, 13, 10)                                                                        \n",
      "(8, 13, 10)                                                                        \n",
      "(140, 1)                                                                           \n",
      "(4, 1)                                                                             \n",
      "(4, 1)                                                                             \n",
      "(8, 1)                                                                             \n",
      "(166, 13)                                                                          \n",
      " 30%|███       | 15/50 [03:37<08:29, 14.56s/trial, best loss: 0.013573789969086647]"
     ]
    },
    {
     "name": "stderr",
     "output_type": "stream",
     "text": [
      "C:\\Users\\aarow\\AppData\\Local\\Temp/ipykernel_2700/2893458286.py:18: ExperimentalWarning: GCN_LSTM is experimental: Lack of unit tests and code refinement (see: https://github.com/stellargraph/stellargraph/issues/1132, https://github.com/stellargraph/stellargraph/issues/1526, https://github.com/stellargraph/stellargraph/issues/1564). It may be difficult to use and may have major changes at any time.\n",
      "  model = GCN_LSTM(\n",
      "\n"
     ]
    },
    {
     "data": {
      "application/vnd.jupyter.widget-view+json": {
       "model_id": "67270d678fec441e87d4fe3026c4fa89",
       "version_major": 2,
       "version_minor": 0
      },
      "text/plain": [
       "0epoch [00:00, ?epoch/s]"
      ]
     },
     "metadata": {},
     "output_type": "display_data"
    },
    {
     "data": {
      "application/vnd.jupyter.widget-view+json": {
       "model_id": "",
       "version_major": 2,
       "version_minor": 0
      },
      "text/plain": [
       "0batch [00:00, ?batch/s]"
      ]
     },
     "metadata": {},
     "output_type": "display_data"
    },
    {
     "name": "stdout",
     "output_type": "stream",
     "text": [
      "Restoring model weights from the end of the best epoch: 1.                         \n",
      "\n",
      "Epoch 11: early stopping                                                           \n",
      "\n",
      "Best validation loss of epoch:                                                     \n",
      "0.013573789969086647                                                               \n",
      "(140, 13, 5)                                                                       \n",
      "(4, 13, 5)                                                                         \n",
      "(4, 13, 5)                                                                         \n",
      "(8, 13, 5)                                                                         \n",
      "(140, 1)                                                                           \n",
      "(4, 1)                                                                             \n",
      "(4, 1)                                                                             \n",
      "(8, 1)                                                                             \n",
      "(161, 13)                                                                          \n",
      " 32%|███▏      | 16/50 [03:52<08:13, 14.50s/trial, best loss: 0.013573789969086647]"
     ]
    },
    {
     "name": "stderr",
     "output_type": "stream",
     "text": [
      "C:\\Users\\aarow\\AppData\\Local\\Temp/ipykernel_2700/2893458286.py:18: ExperimentalWarning: GCN_LSTM is experimental: Lack of unit tests and code refinement (see: https://github.com/stellargraph/stellargraph/issues/1132, https://github.com/stellargraph/stellargraph/issues/1526, https://github.com/stellargraph/stellargraph/issues/1564). It may be difficult to use and may have major changes at any time.\n",
      "  model = GCN_LSTM(\n",
      "\n"
     ]
    },
    {
     "data": {
      "application/vnd.jupyter.widget-view+json": {
       "model_id": "81b9e6abb93c4e07bd932e8377f426b1",
       "version_major": 2,
       "version_minor": 0
      },
      "text/plain": [
       "0epoch [00:00, ?epoch/s]"
      ]
     },
     "metadata": {},
     "output_type": "display_data"
    },
    {
     "data": {
      "application/vnd.jupyter.widget-view+json": {
       "model_id": "",
       "version_major": 2,
       "version_minor": 0
      },
      "text/plain": [
       "0batch [00:00, ?batch/s]"
      ]
     },
     "metadata": {},
     "output_type": "display_data"
    },
    {
     "name": "stdout",
     "output_type": "stream",
     "text": [
      "Restoring model weights from the end of the best epoch: 1.                         \n",
      "\n",
      "Epoch 11: early stopping                                                           \n",
      "\n",
      "Best validation loss of epoch:                                                     \n",
      "0.013573789969086647                                                               \n",
      "(140, 13, 8)                                                                       \n",
      "(4, 13, 8)                                                                         \n",
      "(4, 13, 8)                                                                         \n",
      "(8, 13, 8)                                                                         \n",
      "(140, 1)                                                                           \n",
      "(4, 1)                                                                             \n",
      "(4, 1)                                                                             \n",
      "(8, 1)                                                                             \n",
      "(164, 13)                                                                          \n",
      " 34%|███▍      | 17/50 [04:00<07:02, 12.80s/trial, best loss: 0.013573789969086647]"
     ]
    },
    {
     "name": "stderr",
     "output_type": "stream",
     "text": [
      "C:\\Users\\aarow\\AppData\\Local\\Temp/ipykernel_2700/2893458286.py:18: ExperimentalWarning: GCN_LSTM is experimental: Lack of unit tests and code refinement (see: https://github.com/stellargraph/stellargraph/issues/1132, https://github.com/stellargraph/stellargraph/issues/1526, https://github.com/stellargraph/stellargraph/issues/1564). It may be difficult to use and may have major changes at any time.\n",
      "  model = GCN_LSTM(\n",
      "\n"
     ]
    },
    {
     "data": {
      "application/vnd.jupyter.widget-view+json": {
       "model_id": "7bf25e42d2074319a983f5788dd69d8b",
       "version_major": 2,
       "version_minor": 0
      },
      "text/plain": [
       "0epoch [00:00, ?epoch/s]"
      ]
     },
     "metadata": {},
     "output_type": "display_data"
    },
    {
     "data": {
      "application/vnd.jupyter.widget-view+json": {
       "model_id": "",
       "version_major": 2,
       "version_minor": 0
      },
      "text/plain": [
       "0batch [00:00, ?batch/s]"
      ]
     },
     "metadata": {},
     "output_type": "display_data"
    },
    {
     "name": "stdout",
     "output_type": "stream",
     "text": [
      "Restoring model weights from the end of the best epoch: 8.                         \n",
      "\n",
      "Epoch 18: early stopping                                                           \n",
      "\n",
      "Best validation loss of epoch:                                                     \n",
      "0.06038905680179596                                                                \n",
      "(140, 13, 1)                                                                       \n",
      "(4, 13, 1)                                                                         \n",
      "(4, 13, 1)                                                                         \n",
      "(8, 13, 1)                                                                         \n",
      "(140, 1)                                                                           \n",
      "(4, 1)                                                                             \n",
      "(4, 1)                                                                             \n",
      "(8, 1)                                                                             \n",
      "(157, 13)                                                                          \n",
      " 36%|███▌      | 18/50 [04:22<08:17, 15.54s/trial, best loss: 0.013573789969086647]"
     ]
    },
    {
     "name": "stderr",
     "output_type": "stream",
     "text": [
      "C:\\Users\\aarow\\AppData\\Local\\Temp/ipykernel_2700/2893458286.py:18: ExperimentalWarning: GCN_LSTM is experimental: Lack of unit tests and code refinement (see: https://github.com/stellargraph/stellargraph/issues/1132, https://github.com/stellargraph/stellargraph/issues/1526, https://github.com/stellargraph/stellargraph/issues/1564). It may be difficult to use and may have major changes at any time.\n",
      "  model = GCN_LSTM(\n",
      "\n"
     ]
    },
    {
     "data": {
      "application/vnd.jupyter.widget-view+json": {
       "model_id": "d735e1823dda4f7aad1637184ca21d38",
       "version_major": 2,
       "version_minor": 0
      },
      "text/plain": [
       "0epoch [00:00, ?epoch/s]"
      ]
     },
     "metadata": {},
     "output_type": "display_data"
    },
    {
     "data": {
      "application/vnd.jupyter.widget-view+json": {
       "model_id": "",
       "version_major": 2,
       "version_minor": 0
      },
      "text/plain": [
       "0batch [00:00, ?batch/s]"
      ]
     },
     "metadata": {},
     "output_type": "display_data"
    },
    {
     "name": "stdout",
     "output_type": "stream",
     "text": [
      "Restoring model weights from the end of the best epoch: 1.                         \n",
      "\n",
      "Epoch 11: early stopping                                                           \n",
      "\n",
      "Best validation loss of epoch:                                                     \n",
      "0.013573789969086647                                                               \n",
      "(140, 13, 5)                                                                       \n",
      "(4, 13, 5)                                                                         \n",
      "(4, 13, 5)                                                                         \n",
      "(8, 13, 5)                                                                         \n",
      "(140, 1)                                                                           \n",
      "(4, 1)                                                                             \n",
      "(4, 1)                                                                             \n",
      "(8, 1)                                                                             \n",
      "(161, 13)                                                                          \n",
      " 38%|███▊      | 19/50 [04:32<07:08, 13.83s/trial, best loss: 0.013573789969086647]"
     ]
    },
    {
     "name": "stderr",
     "output_type": "stream",
     "text": [
      "C:\\Users\\aarow\\AppData\\Local\\Temp/ipykernel_2700/2893458286.py:18: ExperimentalWarning: GCN_LSTM is experimental: Lack of unit tests and code refinement (see: https://github.com/stellargraph/stellargraph/issues/1132, https://github.com/stellargraph/stellargraph/issues/1526, https://github.com/stellargraph/stellargraph/issues/1564). It may be difficult to use and may have major changes at any time.\n",
      "  model = GCN_LSTM(\n",
      "\n"
     ]
    },
    {
     "data": {
      "application/vnd.jupyter.widget-view+json": {
       "model_id": "5ad4d1b4d5544ea787433543c11cc9e1",
       "version_major": 2,
       "version_minor": 0
      },
      "text/plain": [
       "0epoch [00:00, ?epoch/s]"
      ]
     },
     "metadata": {},
     "output_type": "display_data"
    },
    {
     "data": {
      "application/vnd.jupyter.widget-view+json": {
       "model_id": "",
       "version_major": 2,
       "version_minor": 0
      },
      "text/plain": [
       "0batch [00:00, ?batch/s]"
      ]
     },
     "metadata": {},
     "output_type": "display_data"
    },
    {
     "name": "stdout",
     "output_type": "stream",
     "text": [
      "Restoring model weights from the end of the best epoch: 4.                         \n",
      "\n",
      "Epoch 14: early stopping                                                           \n",
      "\n",
      "Best validation loss of epoch:                                                     \n",
      "0.06124325469136238                                                                \n",
      "(140, 13, 6)                                                                       \n",
      "(4, 13, 6)                                                                         \n",
      "(4, 13, 6)                                                                         \n",
      "(8, 13, 6)                                                                         \n",
      "(140, 1)                                                                           \n",
      "(4, 1)                                                                             \n",
      "(4, 1)                                                                             \n",
      "(8, 1)                                                                             \n",
      "(162, 13)                                                                          \n",
      " 40%|████      | 20/50 [04:49<07:26, 14.87s/trial, best loss: 0.013573789969086647]"
     ]
    },
    {
     "name": "stderr",
     "output_type": "stream",
     "text": [
      "C:\\Users\\aarow\\AppData\\Local\\Temp/ipykernel_2700/2893458286.py:18: ExperimentalWarning: GCN_LSTM is experimental: Lack of unit tests and code refinement (see: https://github.com/stellargraph/stellargraph/issues/1132, https://github.com/stellargraph/stellargraph/issues/1526, https://github.com/stellargraph/stellargraph/issues/1564). It may be difficult to use and may have major changes at any time.\n",
      "  model = GCN_LSTM(\n",
      "\n"
     ]
    },
    {
     "data": {
      "application/vnd.jupyter.widget-view+json": {
       "model_id": "147b1b117f894fb181de5a98821dde11",
       "version_major": 2,
       "version_minor": 0
      },
      "text/plain": [
       "0epoch [00:00, ?epoch/s]"
      ]
     },
     "metadata": {},
     "output_type": "display_data"
    },
    {
     "data": {
      "application/vnd.jupyter.widget-view+json": {
       "model_id": "",
       "version_major": 2,
       "version_minor": 0
      },
      "text/plain": [
       "0batch [00:00, ?batch/s]"
      ]
     },
     "metadata": {},
     "output_type": "display_data"
    },
    {
     "name": "stdout",
     "output_type": "stream",
     "text": [
      "Restoring model weights from the end of the best epoch: 1.                         \n",
      "\n",
      "Epoch 11: early stopping                                                           \n",
      "\n",
      "Best validation loss of epoch:                                                     \n",
      "0.013573789969086647                                                               \n",
      "(140, 13, 1)                                                                       \n",
      "(4, 13, 1)                                                                         \n",
      "(4, 13, 1)                                                                         \n",
      "(8, 13, 1)                                                                         \n",
      "(140, 1)                                                                           \n",
      "(4, 1)                                                                             \n",
      "(4, 1)                                                                             \n",
      "(8, 1)                                                                             \n",
      "(157, 13)                                                                          \n",
      " 42%|████▏     | 21/50 [05:07<07:38, 15.80s/trial, best loss: 0.013573789969086647]"
     ]
    },
    {
     "name": "stderr",
     "output_type": "stream",
     "text": [
      "C:\\Users\\aarow\\AppData\\Local\\Temp/ipykernel_2700/2893458286.py:18: ExperimentalWarning: GCN_LSTM is experimental: Lack of unit tests and code refinement (see: https://github.com/stellargraph/stellargraph/issues/1132, https://github.com/stellargraph/stellargraph/issues/1526, https://github.com/stellargraph/stellargraph/issues/1564). It may be difficult to use and may have major changes at any time.\n",
      "  model = GCN_LSTM(\n",
      "\n"
     ]
    },
    {
     "data": {
      "application/vnd.jupyter.widget-view+json": {
       "model_id": "fe6efd945fbf40ad90853897eb7771f2",
       "version_major": 2,
       "version_minor": 0
      },
      "text/plain": [
       "0epoch [00:00, ?epoch/s]"
      ]
     },
     "metadata": {},
     "output_type": "display_data"
    },
    {
     "data": {
      "application/vnd.jupyter.widget-view+json": {
       "model_id": "",
       "version_major": 2,
       "version_minor": 0
      },
      "text/plain": [
       "0batch [00:00, ?batch/s]"
      ]
     },
     "metadata": {},
     "output_type": "display_data"
    },
    {
     "name": "stdout",
     "output_type": "stream",
     "text": [
      "Restoring model weights from the end of the best epoch: 1.                         \n",
      "\n",
      "Epoch 11: early stopping                                                           \n",
      "\n",
      "Best validation loss of epoch:                                                     \n",
      "0.19099116325378418                                                                \n",
      "(140, 13, 1)                                                                       \n",
      "(4, 13, 1)                                                                         \n",
      "(4, 13, 1)                                                                         \n",
      "(8, 13, 1)                                                                         \n",
      "(140, 1)                                                                           \n",
      "(4, 1)                                                                             \n",
      "(4, 1)                                                                             \n",
      "(8, 1)                                                                             \n",
      "(157, 13)                                                                          \n",
      " 44%|████▍     | 22/50 [05:25<07:37, 16.34s/trial, best loss: 0.013573789969086647]"
     ]
    },
    {
     "name": "stderr",
     "output_type": "stream",
     "text": [
      "C:\\Users\\aarow\\AppData\\Local\\Temp/ipykernel_2700/2893458286.py:18: ExperimentalWarning: GCN_LSTM is experimental: Lack of unit tests and code refinement (see: https://github.com/stellargraph/stellargraph/issues/1132, https://github.com/stellargraph/stellargraph/issues/1526, https://github.com/stellargraph/stellargraph/issues/1564). It may be difficult to use and may have major changes at any time.\n",
      "  model = GCN_LSTM(\n",
      "\n"
     ]
    },
    {
     "data": {
      "application/vnd.jupyter.widget-view+json": {
       "model_id": "05ffef9bcf1246b68fbec53135728d94",
       "version_major": 2,
       "version_minor": 0
      },
      "text/plain": [
       "0epoch [00:00, ?epoch/s]"
      ]
     },
     "metadata": {},
     "output_type": "display_data"
    },
    {
     "data": {
      "application/vnd.jupyter.widget-view+json": {
       "model_id": "",
       "version_major": 2,
       "version_minor": 0
      },
      "text/plain": [
       "0batch [00:00, ?batch/s]"
      ]
     },
     "metadata": {},
     "output_type": "display_data"
    },
    {
     "name": "stdout",
     "output_type": "stream",
     "text": [
      "Restoring model weights from the end of the best epoch: 1.                         \n",
      "\n",
      "Epoch 11: early stopping                                                           \n",
      "\n",
      "Best validation loss of epoch:                                                     \n",
      "0.19099116325378418                                                                \n",
      "(140, 13, 6)                                                                       \n",
      "(4, 13, 6)                                                                         \n",
      "(4, 13, 6)                                                                         \n",
      "(8, 13, 6)                                                                         \n",
      "(140, 1)                                                                           \n",
      "(4, 1)                                                                             \n",
      "(4, 1)                                                                             \n",
      "(8, 1)                                                                             \n",
      "(162, 13)                                                                          \n",
      " 46%|████▌     | 23/50 [05:42<07:25, 16.51s/trial, best loss: 0.013573789969086647]"
     ]
    },
    {
     "name": "stderr",
     "output_type": "stream",
     "text": [
      "C:\\Users\\aarow\\AppData\\Local\\Temp/ipykernel_2700/2893458286.py:18: ExperimentalWarning: GCN_LSTM is experimental: Lack of unit tests and code refinement (see: https://github.com/stellargraph/stellargraph/issues/1132, https://github.com/stellargraph/stellargraph/issues/1526, https://github.com/stellargraph/stellargraph/issues/1564). It may be difficult to use and may have major changes at any time.\n",
      "  model = GCN_LSTM(\n",
      "\n"
     ]
    },
    {
     "data": {
      "application/vnd.jupyter.widget-view+json": {
       "model_id": "9d0c0ef61d754d849f3cf8e488e41cab",
       "version_major": 2,
       "version_minor": 0
      },
      "text/plain": [
       "0epoch [00:00, ?epoch/s]"
      ]
     },
     "metadata": {},
     "output_type": "display_data"
    },
    {
     "data": {
      "application/vnd.jupyter.widget-view+json": {
       "model_id": "",
       "version_major": 2,
       "version_minor": 0
      },
      "text/plain": [
       "0batch [00:00, ?batch/s]"
      ]
     },
     "metadata": {},
     "output_type": "display_data"
    },
    {
     "name": "stdout",
     "output_type": "stream",
     "text": [
      "Restoring model weights from the end of the best epoch: 1.                         \n",
      "\n",
      "Epoch 11: early stopping                                                           \n",
      "\n",
      "Best validation loss of epoch:                                                     \n",
      "0.07271292060613632                                                                \n",
      "(140, 13, 7)                                                                       \n",
      "(4, 13, 7)                                                                         \n",
      "(4, 13, 7)                                                                         \n",
      "(8, 13, 7)                                                                         \n",
      "(140, 1)                                                                           \n",
      "(4, 1)                                                                             \n",
      "(4, 1)                                                                             \n",
      "(8, 1)                                                                             \n",
      "(163, 13)                                                                          \n",
      " 48%|████▊     | 24/50 [06:02<07:35, 17.50s/trial, best loss: 0.013573789969086647]"
     ]
    },
    {
     "name": "stderr",
     "output_type": "stream",
     "text": [
      "C:\\Users\\aarow\\AppData\\Local\\Temp/ipykernel_2700/2893458286.py:18: ExperimentalWarning: GCN_LSTM is experimental: Lack of unit tests and code refinement (see: https://github.com/stellargraph/stellargraph/issues/1132, https://github.com/stellargraph/stellargraph/issues/1526, https://github.com/stellargraph/stellargraph/issues/1564). It may be difficult to use and may have major changes at any time.\n",
      "  model = GCN_LSTM(\n",
      "\n"
     ]
    },
    {
     "data": {
      "application/vnd.jupyter.widget-view+json": {
       "model_id": "7b8c85a3db314f0581df14f3fb18ce01",
       "version_major": 2,
       "version_minor": 0
      },
      "text/plain": [
       "0epoch [00:00, ?epoch/s]"
      ]
     },
     "metadata": {},
     "output_type": "display_data"
    },
    {
     "data": {
      "application/vnd.jupyter.widget-view+json": {
       "model_id": "",
       "version_major": 2,
       "version_minor": 0
      },
      "text/plain": [
       "0batch [00:00, ?batch/s]"
      ]
     },
     "metadata": {},
     "output_type": "display_data"
    },
    {
     "name": "stdout",
     "output_type": "stream",
     "text": [
      "Restoring model weights from the end of the best epoch: 1.                         \n",
      "\n",
      "Epoch 11: early stopping                                                           \n",
      "\n",
      "Best validation loss of epoch:                                                     \n",
      "0.013573789969086647                                                               \n",
      "(140, 13, 7)                                                                       \n",
      "(4, 13, 7)                                                                         \n",
      "(4, 13, 7)                                                                         \n",
      "(8, 13, 7)                                                                         \n",
      "(140, 1)                                                                           \n",
      "(4, 1)                                                                             \n",
      "(4, 1)                                                                             \n",
      "(8, 1)                                                                             \n",
      "(163, 13)                                                                          \n",
      " 50%|█████     | 25/50 [06:19<07:16, 17.45s/trial, best loss: 0.013573789969086647]"
     ]
    },
    {
     "name": "stderr",
     "output_type": "stream",
     "text": [
      "C:\\Users\\aarow\\AppData\\Local\\Temp/ipykernel_2700/2893458286.py:18: ExperimentalWarning: GCN_LSTM is experimental: Lack of unit tests and code refinement (see: https://github.com/stellargraph/stellargraph/issues/1132, https://github.com/stellargraph/stellargraph/issues/1526, https://github.com/stellargraph/stellargraph/issues/1564). It may be difficult to use and may have major changes at any time.\n",
      "  model = GCN_LSTM(\n",
      "\n"
     ]
    },
    {
     "data": {
      "application/vnd.jupyter.widget-view+json": {
       "model_id": "6020e5ca3c344bb0aa86108e22cf6023",
       "version_major": 2,
       "version_minor": 0
      },
      "text/plain": [
       "0epoch [00:00, ?epoch/s]"
      ]
     },
     "metadata": {},
     "output_type": "display_data"
    },
    {
     "data": {
      "application/vnd.jupyter.widget-view+json": {
       "model_id": "",
       "version_major": 2,
       "version_minor": 0
      },
      "text/plain": [
       "0batch [00:00, ?batch/s]"
      ]
     },
     "metadata": {},
     "output_type": "display_data"
    },
    {
     "name": "stdout",
     "output_type": "stream",
     "text": [
      "Restoring model weights from the end of the best epoch: 1.                         \n",
      "\n",
      "Epoch 11: early stopping                                                           \n",
      "\n",
      "Best validation loss of epoch:                                                     \n",
      "0.013573789969086647                                                               \n",
      "(140, 13, 6)                                                                       \n",
      "(4, 13, 6)                                                                         \n",
      "(4, 13, 6)                                                                         \n",
      "(8, 13, 6)                                                                         \n",
      "(140, 1)                                                                           \n",
      "(4, 1)                                                                             \n",
      "(4, 1)                                                                             \n",
      "(8, 1)                                                                             \n",
      "(162, 13)                                                                          \n",
      " 52%|█████▏    | 26/50 [06:36<06:55, 17.33s/trial, best loss: 0.013573789969086647]"
     ]
    },
    {
     "name": "stderr",
     "output_type": "stream",
     "text": [
      "C:\\Users\\aarow\\AppData\\Local\\Temp/ipykernel_2700/2893458286.py:18: ExperimentalWarning: GCN_LSTM is experimental: Lack of unit tests and code refinement (see: https://github.com/stellargraph/stellargraph/issues/1132, https://github.com/stellargraph/stellargraph/issues/1526, https://github.com/stellargraph/stellargraph/issues/1564). It may be difficult to use and may have major changes at any time.\n",
      "  model = GCN_LSTM(\n",
      "\n"
     ]
    },
    {
     "data": {
      "application/vnd.jupyter.widget-view+json": {
       "model_id": "454cd65964c6410d91e7890ffd7a89de",
       "version_major": 2,
       "version_minor": 0
      },
      "text/plain": [
       "0epoch [00:00, ?epoch/s]"
      ]
     },
     "metadata": {},
     "output_type": "display_data"
    },
    {
     "data": {
      "application/vnd.jupyter.widget-view+json": {
       "model_id": "",
       "version_major": 2,
       "version_minor": 0
      },
      "text/plain": [
       "0batch [00:00, ?batch/s]"
      ]
     },
     "metadata": {},
     "output_type": "display_data"
    },
    {
     "name": "stdout",
     "output_type": "stream",
     "text": [
      "Restoring model weights from the end of the best epoch: 1.                         \n",
      "\n",
      "Epoch 10: early stopping                                                           \n",
      "\n",
      "Best validation loss of epoch:                                                     \n",
      "nan                                                                                \n",
      "(140, 13, 6)                                                                       \n",
      "(4, 13, 6)                                                                         \n",
      "(4, 13, 6)                                                                         \n",
      "(8, 13, 6)                                                                         \n",
      "(140, 1)                                                                           \n",
      "(4, 1)                                                                             \n",
      "(4, 1)                                                                             \n",
      "(8, 1)                                                                             \n",
      "(162, 13)                                                                          \n",
      " 54%|█████▍    | 27/50 [06:55<06:52, 17.93s/trial, best loss: 0.013573789969086647]"
     ]
    },
    {
     "name": "stderr",
     "output_type": "stream",
     "text": [
      "C:\\Users\\aarow\\AppData\\Local\\Temp/ipykernel_2700/2893458286.py:18: ExperimentalWarning: GCN_LSTM is experimental: Lack of unit tests and code refinement (see: https://github.com/stellargraph/stellargraph/issues/1132, https://github.com/stellargraph/stellargraph/issues/1526, https://github.com/stellargraph/stellargraph/issues/1564). It may be difficult to use and may have major changes at any time.\n",
      "  model = GCN_LSTM(\n",
      "\n"
     ]
    },
    {
     "data": {
      "application/vnd.jupyter.widget-view+json": {
       "model_id": "d8ead6b0c42d4726a72837db1830a066",
       "version_major": 2,
       "version_minor": 0
      },
      "text/plain": [
       "0epoch [00:00, ?epoch/s]"
      ]
     },
     "metadata": {},
     "output_type": "display_data"
    },
    {
     "data": {
      "application/vnd.jupyter.widget-view+json": {
       "model_id": "",
       "version_major": 2,
       "version_minor": 0
      },
      "text/plain": [
       "0batch [00:00, ?batch/s]"
      ]
     },
     "metadata": {},
     "output_type": "display_data"
    },
    {
     "name": "stdout",
     "output_type": "stream",
     "text": [
      "Restoring model weights from the end of the best epoch: 1.                         \n",
      "\n",
      "Epoch 10: early stopping                                                           \n",
      "\n",
      "Best validation loss of epoch:                                                     \n",
      "nan                                                                                \n",
      "(140, 13, 6)                                                                       \n",
      "(4, 13, 6)                                                                         \n",
      "(4, 13, 6)                                                                         \n",
      "(8, 13, 6)                                                                         \n",
      "(140, 1)                                                                           \n",
      "(4, 1)                                                                             \n",
      "(4, 1)                                                                             \n",
      "(8, 1)                                                                             \n",
      "(162, 13)                                                                          \n",
      " 56%|█████▌    | 28/50 [07:14<06:37, 18.07s/trial, best loss: 0.013573789969086647]"
     ]
    },
    {
     "name": "stderr",
     "output_type": "stream",
     "text": [
      "C:\\Users\\aarow\\AppData\\Local\\Temp/ipykernel_2700/2893458286.py:18: ExperimentalWarning: GCN_LSTM is experimental: Lack of unit tests and code refinement (see: https://github.com/stellargraph/stellargraph/issues/1132, https://github.com/stellargraph/stellargraph/issues/1526, https://github.com/stellargraph/stellargraph/issues/1564). It may be difficult to use and may have major changes at any time.\n",
      "  model = GCN_LSTM(\n",
      "\n"
     ]
    },
    {
     "data": {
      "application/vnd.jupyter.widget-view+json": {
       "model_id": "d5d916ffc0514b93a606cff3d0026e7a",
       "version_major": 2,
       "version_minor": 0
      },
      "text/plain": [
       "0epoch [00:00, ?epoch/s]"
      ]
     },
     "metadata": {},
     "output_type": "display_data"
    },
    {
     "data": {
      "application/vnd.jupyter.widget-view+json": {
       "model_id": "",
       "version_major": 2,
       "version_minor": 0
      },
      "text/plain": [
       "0batch [00:00, ?batch/s]"
      ]
     },
     "metadata": {},
     "output_type": "display_data"
    },
    {
     "name": "stdout",
     "output_type": "stream",
     "text": [
      "Restoring model weights from the end of the best epoch: 1.                         \n",
      "\n",
      "Epoch 11: early stopping                                                           \n",
      "\n",
      "Best validation loss of epoch:                                                     \n",
      "nan                                                                                \n",
      "(140, 13, 6)                                                                       \n",
      "(4, 13, 6)                                                                         \n",
      "(4, 13, 6)                                                                         \n",
      "(8, 13, 6)                                                                         \n",
      "(140, 1)                                                                           \n",
      "(4, 1)                                                                             \n",
      "(4, 1)                                                                             \n",
      "(8, 1)                                                                             \n",
      "(162, 13)                                                                          \n",
      " 58%|█████▊    | 29/50 [07:33<06:28, 18.48s/trial, best loss: 0.013573789969086647]"
     ]
    },
    {
     "name": "stderr",
     "output_type": "stream",
     "text": [
      "C:\\Users\\aarow\\AppData\\Local\\Temp/ipykernel_2700/2893458286.py:18: ExperimentalWarning: GCN_LSTM is experimental: Lack of unit tests and code refinement (see: https://github.com/stellargraph/stellargraph/issues/1132, https://github.com/stellargraph/stellargraph/issues/1526, https://github.com/stellargraph/stellargraph/issues/1564). It may be difficult to use and may have major changes at any time.\n",
      "  model = GCN_LSTM(\n",
      "\n"
     ]
    },
    {
     "data": {
      "application/vnd.jupyter.widget-view+json": {
       "model_id": "d677fbedc03543cc9d5d163556e3aac2",
       "version_major": 2,
       "version_minor": 0
      },
      "text/plain": [
       "0epoch [00:00, ?epoch/s]"
      ]
     },
     "metadata": {},
     "output_type": "display_data"
    },
    {
     "data": {
      "application/vnd.jupyter.widget-view+json": {
       "model_id": "",
       "version_major": 2,
       "version_minor": 0
      },
      "text/plain": [
       "0batch [00:00, ?batch/s]"
      ]
     },
     "metadata": {},
     "output_type": "display_data"
    },
    {
     "name": "stdout",
     "output_type": "stream",
     "text": [
      "Restoring model weights from the end of the best epoch: 1.                         \n",
      "\n",
      "Epoch 11: early stopping                                                           \n",
      "\n",
      "Best validation loss of epoch:                                                     \n",
      "0.013573789969086647                                                               \n",
      "(140, 13, 2)                                                                       \n",
      "(4, 13, 2)                                                                         \n",
      "(4, 13, 2)                                                                         \n",
      "(8, 13, 2)                                                                         \n",
      "(140, 1)                                                                           \n",
      "(4, 1)                                                                             \n",
      "(4, 1)                                                                             \n",
      "(8, 1)                                                                             \n",
      "(158, 13)                                                                          \n",
      " 60%|██████    | 30/50 [07:50<05:59, 17.96s/trial, best loss: 0.013573789969086647]"
     ]
    },
    {
     "name": "stderr",
     "output_type": "stream",
     "text": [
      "C:\\Users\\aarow\\AppData\\Local\\Temp/ipykernel_2700/2893458286.py:18: ExperimentalWarning: GCN_LSTM is experimental: Lack of unit tests and code refinement (see: https://github.com/stellargraph/stellargraph/issues/1132, https://github.com/stellargraph/stellargraph/issues/1526, https://github.com/stellargraph/stellargraph/issues/1564). It may be difficult to use and may have major changes at any time.\n",
      "  model = GCN_LSTM(\n",
      "\n"
     ]
    },
    {
     "data": {
      "application/vnd.jupyter.widget-view+json": {
       "model_id": "852d634856bc4af2849d558130f1b79f",
       "version_major": 2,
       "version_minor": 0
      },
      "text/plain": [
       "0epoch [00:00, ?epoch/s]"
      ]
     },
     "metadata": {},
     "output_type": "display_data"
    },
    {
     "data": {
      "application/vnd.jupyter.widget-view+json": {
       "model_id": "",
       "version_major": 2,
       "version_minor": 0
      },
      "text/plain": [
       "0batch [00:00, ?batch/s]"
      ]
     },
     "metadata": {},
     "output_type": "display_data"
    },
    {
     "name": "stdout",
     "output_type": "stream",
     "text": [
      "Restoring model weights from the end of the best epoch: 1.                         \n",
      "\n",
      "Epoch 11: early stopping                                                           \n",
      "\n",
      "Best validation loss of epoch:                                                     \n",
      "0.013573789969086647                                                               \n",
      "(140, 13, 8)                                                                       \n",
      "(4, 13, 8)                                                                         \n",
      "(4, 13, 8)                                                                         \n",
      "(8, 13, 8)                                                                         \n",
      "(140, 1)                                                                           \n",
      "(4, 1)                                                                             \n",
      "(4, 1)                                                                             \n",
      "(8, 1)                                                                             \n",
      "(164, 13)                                                                          \n",
      " 62%|██████▏   | 31/50 [08:02<05:07, 16.16s/trial, best loss: 0.013573789969086647]"
     ]
    },
    {
     "name": "stderr",
     "output_type": "stream",
     "text": [
      "C:\\Users\\aarow\\AppData\\Local\\Temp/ipykernel_2700/2893458286.py:18: ExperimentalWarning: GCN_LSTM is experimental: Lack of unit tests and code refinement (see: https://github.com/stellargraph/stellargraph/issues/1132, https://github.com/stellargraph/stellargraph/issues/1526, https://github.com/stellargraph/stellargraph/issues/1564). It may be difficult to use and may have major changes at any time.\n",
      "  model = GCN_LSTM(\n",
      "\n"
     ]
    },
    {
     "data": {
      "application/vnd.jupyter.widget-view+json": {
       "model_id": "497fd46c9ccf4332a61c8e576f0e322e",
       "version_major": 2,
       "version_minor": 0
      },
      "text/plain": [
       "0epoch [00:00, ?epoch/s]"
      ]
     },
     "metadata": {},
     "output_type": "display_data"
    },
    {
     "data": {
      "application/vnd.jupyter.widget-view+json": {
       "model_id": "",
       "version_major": 2,
       "version_minor": 0
      },
      "text/plain": [
       "0batch [00:00, ?batch/s]"
      ]
     },
     "metadata": {},
     "output_type": "display_data"
    },
    {
     "name": "stdout",
     "output_type": "stream",
     "text": [
      "Restoring model weights from the end of the best epoch: 17.                        \n",
      "\n",
      "Epoch 27: early stopping                                                           \n",
      "\n",
      "Best validation loss of epoch:                                                     \n",
      "0.05729988217353821                                                                \n",
      "(140, 13, 4)                                                                       \n",
      "(4, 13, 4)                                                                         \n",
      "(4, 13, 4)                                                                         \n",
      "(8, 13, 4)                                                                         \n",
      "(140, 1)                                                                           \n",
      "(4, 1)                                                                             \n",
      "(4, 1)                                                                             \n",
      "(8, 1)                                                                             \n",
      "(160, 13)                                                                          \n",
      " 64%|██████▍   | 32/50 [08:29<05:48, 19.35s/trial, best loss: 0.013573789969086647]"
     ]
    },
    {
     "name": "stderr",
     "output_type": "stream",
     "text": [
      "C:\\Users\\aarow\\AppData\\Local\\Temp/ipykernel_2700/2893458286.py:18: ExperimentalWarning: GCN_LSTM is experimental: Lack of unit tests and code refinement (see: https://github.com/stellargraph/stellargraph/issues/1132, https://github.com/stellargraph/stellargraph/issues/1526, https://github.com/stellargraph/stellargraph/issues/1564). It may be difficult to use and may have major changes at any time.\n",
      "  model = GCN_LSTM(\n",
      "\n"
     ]
    },
    {
     "data": {
      "application/vnd.jupyter.widget-view+json": {
       "model_id": "e18f95ad32b447e7a3a8ea1a5d52d954",
       "version_major": 2,
       "version_minor": 0
      },
      "text/plain": [
       "0epoch [00:00, ?epoch/s]"
      ]
     },
     "metadata": {},
     "output_type": "display_data"
    },
    {
     "data": {
      "application/vnd.jupyter.widget-view+json": {
       "model_id": "",
       "version_major": 2,
       "version_minor": 0
      },
      "text/plain": [
       "0batch [00:00, ?batch/s]"
      ]
     },
     "metadata": {},
     "output_type": "display_data"
    },
    {
     "name": "stdout",
     "output_type": "stream",
     "text": [
      "Restoring model weights from the end of the best epoch: 1.                         \n",
      "\n",
      "Epoch 11: early stopping                                                           \n",
      "\n",
      "Best validation loss of epoch:                                                     \n",
      "0.07271292060613632                                                                \n",
      "(140, 13, 2)                                                                       \n",
      "(4, 13, 2)                                                                         \n",
      "(4, 13, 2)                                                                         \n",
      "(8, 13, 2)                                                                         \n",
      "(140, 1)                                                                           \n",
      "(4, 1)                                                                             \n",
      "(4, 1)                                                                             \n",
      "(8, 1)                                                                             \n",
      "(158, 13)                                                                          \n",
      " 66%|██████▌   | 33/50 [08:42<04:56, 17.41s/trial, best loss: 0.013573789969086647]"
     ]
    },
    {
     "name": "stderr",
     "output_type": "stream",
     "text": [
      "C:\\Users\\aarow\\AppData\\Local\\Temp/ipykernel_2700/2893458286.py:18: ExperimentalWarning: GCN_LSTM is experimental: Lack of unit tests and code refinement (see: https://github.com/stellargraph/stellargraph/issues/1132, https://github.com/stellargraph/stellargraph/issues/1526, https://github.com/stellargraph/stellargraph/issues/1564). It may be difficult to use and may have major changes at any time.\n",
      "  model = GCN_LSTM(\n",
      "\n"
     ]
    },
    {
     "data": {
      "application/vnd.jupyter.widget-view+json": {
       "model_id": "95159f1c620a4f0c8d9e4d939551ff1c",
       "version_major": 2,
       "version_minor": 0
      },
      "text/plain": [
       "0epoch [00:00, ?epoch/s]"
      ]
     },
     "metadata": {},
     "output_type": "display_data"
    },
    {
     "data": {
      "application/vnd.jupyter.widget-view+json": {
       "model_id": "",
       "version_major": 2,
       "version_minor": 0
      },
      "text/plain": [
       "0batch [00:00, ?batch/s]"
      ]
     },
     "metadata": {},
     "output_type": "display_data"
    },
    {
     "name": "stdout",
     "output_type": "stream",
     "text": [
      "Restoring model weights from the end of the best epoch: 1.                         \n",
      "\n",
      "Epoch 11: early stopping                                                           \n",
      "\n",
      "Best validation loss of epoch:                                                     \n",
      "0.013573789969086647                                                               \n",
      "(140, 13, 10)                                                                      \n",
      "(4, 13, 10)                                                                        \n",
      "(4, 13, 10)                                                                        \n",
      "(8, 13, 10)                                                                        \n",
      "(140, 1)                                                                           \n",
      "(4, 1)                                                                             \n",
      "(4, 1)                                                                             \n",
      "(8, 1)                                                                             \n",
      "(166, 13)                                                                          \n",
      " 68%|██████▊   | 34/50 [08:54<04:13, 15.82s/trial, best loss: 0.013573789969086647]"
     ]
    },
    {
     "name": "stderr",
     "output_type": "stream",
     "text": [
      "C:\\Users\\aarow\\AppData\\Local\\Temp/ipykernel_2700/2893458286.py:18: ExperimentalWarning: GCN_LSTM is experimental: Lack of unit tests and code refinement (see: https://github.com/stellargraph/stellargraph/issues/1132, https://github.com/stellargraph/stellargraph/issues/1526, https://github.com/stellargraph/stellargraph/issues/1564). It may be difficult to use and may have major changes at any time.\n",
      "  model = GCN_LSTM(\n",
      "\n"
     ]
    },
    {
     "data": {
      "application/vnd.jupyter.widget-view+json": {
       "model_id": "ec317f711ed84446862e568e2f12e901",
       "version_major": 2,
       "version_minor": 0
      },
      "text/plain": [
       "0epoch [00:00, ?epoch/s]"
      ]
     },
     "metadata": {},
     "output_type": "display_data"
    },
    {
     "data": {
      "application/vnd.jupyter.widget-view+json": {
       "model_id": "",
       "version_major": 2,
       "version_minor": 0
      },
      "text/plain": [
       "0batch [00:00, ?batch/s]"
      ]
     },
     "metadata": {},
     "output_type": "display_data"
    },
    {
     "name": "stdout",
     "output_type": "stream",
     "text": [
      "Restoring model weights from the end of the best epoch: 1.                         \n",
      "\n",
      "Epoch 11: early stopping                                                           \n",
      "\n",
      "Best validation loss of epoch:                                                     \n",
      "0.013573789969086647                                                               \n",
      "(140, 13, 2)                                                                       \n",
      "(4, 13, 2)                                                                         \n",
      "(4, 13, 2)                                                                         \n",
      "(8, 13, 2)                                                                         \n",
      "(140, 1)                                                                           \n",
      "(4, 1)                                                                             \n",
      "(4, 1)                                                                             \n",
      "(8, 1)                                                                             \n",
      "(158, 13)                                                                          \n",
      " 70%|███████   | 35/50 [09:08<03:48, 15.23s/trial, best loss: 0.013573789969086647]"
     ]
    },
    {
     "name": "stderr",
     "output_type": "stream",
     "text": [
      "C:\\Users\\aarow\\AppData\\Local\\Temp/ipykernel_2700/2893458286.py:18: ExperimentalWarning: GCN_LSTM is experimental: Lack of unit tests and code refinement (see: https://github.com/stellargraph/stellargraph/issues/1132, https://github.com/stellargraph/stellargraph/issues/1526, https://github.com/stellargraph/stellargraph/issues/1564). It may be difficult to use and may have major changes at any time.\n",
      "  model = GCN_LSTM(\n",
      "\n"
     ]
    },
    {
     "data": {
      "application/vnd.jupyter.widget-view+json": {
       "model_id": "0b822ce1d63a4082a8ef40cd3afaa1b3",
       "version_major": 2,
       "version_minor": 0
      },
      "text/plain": [
       "0epoch [00:00, ?epoch/s]"
      ]
     },
     "metadata": {},
     "output_type": "display_data"
    },
    {
     "data": {
      "application/vnd.jupyter.widget-view+json": {
       "model_id": "",
       "version_major": 2,
       "version_minor": 0
      },
      "text/plain": [
       "0batch [00:00, ?batch/s]"
      ]
     },
     "metadata": {},
     "output_type": "display_data"
    },
    {
     "name": "stdout",
     "output_type": "stream",
     "text": [
      "Restoring model weights from the end of the best epoch: 7.                         \n",
      "\n",
      "Epoch 17: early stopping                                                           \n",
      "\n",
      "Best validation loss of epoch:                                                     \n",
      "0.056583840399980545                                                               \n",
      "(140, 13, 5)                                                                       \n",
      "(4, 13, 5)                                                                         \n",
      "(4, 13, 5)                                                                         \n",
      "(8, 13, 5)                                                                         \n",
      "(140, 1)                                                                           \n",
      "(4, 1)                                                                             \n",
      "(4, 1)                                                                             \n",
      "(8, 1)                                                                             \n",
      "(161, 13)                                                                          \n",
      " 72%|███████▏  | 36/50 [09:22<03:31, 15.09s/trial, best loss: 0.013573789969086647]"
     ]
    },
    {
     "name": "stderr",
     "output_type": "stream",
     "text": [
      "C:\\Users\\aarow\\AppData\\Local\\Temp/ipykernel_2700/2893458286.py:18: ExperimentalWarning: GCN_LSTM is experimental: Lack of unit tests and code refinement (see: https://github.com/stellargraph/stellargraph/issues/1132, https://github.com/stellargraph/stellargraph/issues/1526, https://github.com/stellargraph/stellargraph/issues/1564). It may be difficult to use and may have major changes at any time.\n",
      "  model = GCN_LSTM(\n",
      "\n"
     ]
    },
    {
     "data": {
      "application/vnd.jupyter.widget-view+json": {
       "model_id": "356a5b5e75fb4d348c748f656e55df5c",
       "version_major": 2,
       "version_minor": 0
      },
      "text/plain": [
       "0epoch [00:00, ?epoch/s]"
      ]
     },
     "metadata": {},
     "output_type": "display_data"
    },
    {
     "data": {
      "application/vnd.jupyter.widget-view+json": {
       "model_id": "",
       "version_major": 2,
       "version_minor": 0
      },
      "text/plain": [
       "0batch [00:00, ?batch/s]"
      ]
     },
     "metadata": {},
     "output_type": "display_data"
    },
    {
     "name": "stdout",
     "output_type": "stream",
     "text": [
      "Restoring model weights from the end of the best epoch: 1.                         \n",
      "\n",
      "Epoch 11: early stopping                                                           \n",
      "\n",
      "Best validation loss of epoch:                                                     \n",
      "0.7232432961463928                                                                 \n",
      "(140, 13, 4)                                                                       \n",
      "(4, 13, 4)                                                                         \n",
      "(4, 13, 4)                                                                         \n",
      "(8, 13, 4)                                                                         \n",
      "(140, 1)                                                                           \n",
      "(4, 1)                                                                             \n",
      "(4, 1)                                                                             \n",
      "(8, 1)                                                                             \n",
      "(160, 13)                                                                          \n",
      " 74%|███████▍  | 37/50 [09:40<03:25, 15.80s/trial, best loss: 0.013573789969086647]"
     ]
    },
    {
     "name": "stderr",
     "output_type": "stream",
     "text": [
      "C:\\Users\\aarow\\AppData\\Local\\Temp/ipykernel_2700/2893458286.py:18: ExperimentalWarning: GCN_LSTM is experimental: Lack of unit tests and code refinement (see: https://github.com/stellargraph/stellargraph/issues/1132, https://github.com/stellargraph/stellargraph/issues/1526, https://github.com/stellargraph/stellargraph/issues/1564). It may be difficult to use and may have major changes at any time.\n",
      "  model = GCN_LSTM(\n",
      "\n"
     ]
    },
    {
     "data": {
      "application/vnd.jupyter.widget-view+json": {
       "model_id": "9d38140db9014dc5a4025b856411592a",
       "version_major": 2,
       "version_minor": 0
      },
      "text/plain": [
       "0epoch [00:00, ?epoch/s]"
      ]
     },
     "metadata": {},
     "output_type": "display_data"
    },
    {
     "data": {
      "application/vnd.jupyter.widget-view+json": {
       "model_id": "",
       "version_major": 2,
       "version_minor": 0
      },
      "text/plain": [
       "0batch [00:00, ?batch/s]"
      ]
     },
     "metadata": {},
     "output_type": "display_data"
    },
    {
     "name": "stdout",
     "output_type": "stream",
     "text": [
      "Restoring model weights from the end of the best epoch: 17.                        \n",
      "\n",
      "Epoch 27: early stopping                                                           \n",
      "\n",
      "Best validation loss of epoch:                                                     \n",
      "0.03748611360788345                                                                \n",
      "(140, 13, 3)                                                                       \n",
      "(4, 13, 3)                                                                         \n",
      "(4, 13, 3)                                                                         \n",
      "(8, 13, 3)                                                                         \n",
      "(140, 1)                                                                           \n",
      "(4, 1)                                                                             \n",
      "(4, 1)                                                                             \n",
      "(8, 1)                                                                             \n",
      "(159, 13)                                                                          \n",
      " 76%|███████▌  | 38/50 [09:55<03:06, 15.55s/trial, best loss: 0.013573789969086647]"
     ]
    },
    {
     "name": "stderr",
     "output_type": "stream",
     "text": [
      "C:\\Users\\aarow\\AppData\\Local\\Temp/ipykernel_2700/2893458286.py:18: ExperimentalWarning: GCN_LSTM is experimental: Lack of unit tests and code refinement (see: https://github.com/stellargraph/stellargraph/issues/1132, https://github.com/stellargraph/stellargraph/issues/1526, https://github.com/stellargraph/stellargraph/issues/1564). It may be difficult to use and may have major changes at any time.\n",
      "  model = GCN_LSTM(\n",
      "\n"
     ]
    },
    {
     "data": {
      "application/vnd.jupyter.widget-view+json": {
       "model_id": "2ee864947f674ce3bd215bb0865b9828",
       "version_major": 2,
       "version_minor": 0
      },
      "text/plain": [
       "0epoch [00:00, ?epoch/s]"
      ]
     },
     "metadata": {},
     "output_type": "display_data"
    },
    {
     "data": {
      "application/vnd.jupyter.widget-view+json": {
       "model_id": "",
       "version_major": 2,
       "version_minor": 0
      },
      "text/plain": [
       "0batch [00:00, ?batch/s]"
      ]
     },
     "metadata": {},
     "output_type": "display_data"
    },
    {
     "name": "stdout",
     "output_type": "stream",
     "text": [
      "Restoring model weights from the end of the best epoch: 1.                         \n",
      "\n",
      "Epoch 11: early stopping                                                           \n",
      "\n",
      "Best validation loss of epoch:                                                     \n",
      "0.013573789969086647                                                               \n",
      "(140, 13, 4)                                                                       \n",
      "(4, 13, 4)                                                                         \n",
      "(4, 13, 4)                                                                         \n",
      "(8, 13, 4)                                                                         \n",
      "(140, 1)                                                                           \n",
      "(4, 1)                                                                             \n",
      "(4, 1)                                                                             \n",
      "(8, 1)                                                                             \n",
      "(160, 13)                                                                          \n",
      " 78%|███████▊  | 39/50 [10:04<02:29, 13.56s/trial, best loss: 0.013573789969086647]"
     ]
    },
    {
     "name": "stderr",
     "output_type": "stream",
     "text": [
      "C:\\Users\\aarow\\AppData\\Local\\Temp/ipykernel_2700/2893458286.py:18: ExperimentalWarning: GCN_LSTM is experimental: Lack of unit tests and code refinement (see: https://github.com/stellargraph/stellargraph/issues/1132, https://github.com/stellargraph/stellargraph/issues/1526, https://github.com/stellargraph/stellargraph/issues/1564). It may be difficult to use and may have major changes at any time.\n",
      "  model = GCN_LSTM(\n",
      "\n"
     ]
    },
    {
     "data": {
      "application/vnd.jupyter.widget-view+json": {
       "model_id": "58c0939974664574ab2b00bee8dfe4dd",
       "version_major": 2,
       "version_minor": 0
      },
      "text/plain": [
       "0epoch [00:00, ?epoch/s]"
      ]
     },
     "metadata": {},
     "output_type": "display_data"
    },
    {
     "data": {
      "application/vnd.jupyter.widget-view+json": {
       "model_id": "",
       "version_major": 2,
       "version_minor": 0
      },
      "text/plain": [
       "0batch [00:00, ?batch/s]"
      ]
     },
     "metadata": {},
     "output_type": "display_data"
    },
    {
     "name": "stdout",
     "output_type": "stream",
     "text": [
      "Restoring model weights from the end of the best epoch: 17.                        \n",
      "\n",
      "Epoch 27: early stopping                                                           \n",
      "\n",
      "Best validation loss of epoch:                                                     \n",
      "0.046356890350580215                                                               \n",
      "(140, 13, 7)                                                                       \n",
      "(4, 13, 7)                                                                         \n",
      "(4, 13, 7)                                                                         \n",
      "(8, 13, 7)                                                                         \n",
      "(140, 1)                                                                           \n",
      "(4, 1)                                                                             \n",
      "(4, 1)                                                                             \n",
      "(8, 1)                                                                             \n",
      "(163, 13)                                                                          \n",
      " 80%|████████  | 40/50 [10:20<02:23, 14.39s/trial, best loss: 0.013573789969086647]"
     ]
    },
    {
     "name": "stderr",
     "output_type": "stream",
     "text": [
      "C:\\Users\\aarow\\AppData\\Local\\Temp/ipykernel_2700/2893458286.py:18: ExperimentalWarning: GCN_LSTM is experimental: Lack of unit tests and code refinement (see: https://github.com/stellargraph/stellargraph/issues/1132, https://github.com/stellargraph/stellargraph/issues/1526, https://github.com/stellargraph/stellargraph/issues/1564). It may be difficult to use and may have major changes at any time.\n",
      "  model = GCN_LSTM(\n",
      "\n"
     ]
    },
    {
     "data": {
      "application/vnd.jupyter.widget-view+json": {
       "model_id": "af4305861efc49728416ee91d76b0dc0",
       "version_major": 2,
       "version_minor": 0
      },
      "text/plain": [
       "0epoch [00:00, ?epoch/s]"
      ]
     },
     "metadata": {},
     "output_type": "display_data"
    },
    {
     "data": {
      "application/vnd.jupyter.widget-view+json": {
       "model_id": "",
       "version_major": 2,
       "version_minor": 0
      },
      "text/plain": [
       "0batch [00:00, ?batch/s]"
      ]
     },
     "metadata": {},
     "output_type": "display_data"
    },
    {
     "name": "stdout",
     "output_type": "stream",
     "text": [
      "Restoring model weights from the end of the best epoch: 1.                         \n",
      "\n",
      "Epoch 11: early stopping                                                           \n",
      "\n",
      "Best validation loss of epoch:                                                     \n",
      "0.30926942825317383                                                                \n",
      "(140, 13, 8)                                                                       \n",
      "(4, 13, 8)                                                                         \n",
      "(4, 13, 8)                                                                         \n",
      "(8, 13, 8)                                                                         \n",
      "(140, 1)                                                                           \n",
      "(4, 1)                                                                             \n",
      "(4, 1)                                                                             \n",
      "(8, 1)                                                                             \n",
      "(164, 13)                                                                          \n",
      " 82%|████████▏ | 41/50 [10:40<02:23, 15.93s/trial, best loss: 0.013573789969086647]"
     ]
    },
    {
     "name": "stderr",
     "output_type": "stream",
     "text": [
      "C:\\Users\\aarow\\AppData\\Local\\Temp/ipykernel_2700/2893458286.py:18: ExperimentalWarning: GCN_LSTM is experimental: Lack of unit tests and code refinement (see: https://github.com/stellargraph/stellargraph/issues/1132, https://github.com/stellargraph/stellargraph/issues/1526, https://github.com/stellargraph/stellargraph/issues/1564). It may be difficult to use and may have major changes at any time.\n",
      "  model = GCN_LSTM(\n",
      "\n"
     ]
    },
    {
     "data": {
      "application/vnd.jupyter.widget-view+json": {
       "model_id": "6604625eb4ce48cea92fbfaa9a0718ac",
       "version_major": 2,
       "version_minor": 0
      },
      "text/plain": [
       "0epoch [00:00, ?epoch/s]"
      ]
     },
     "metadata": {},
     "output_type": "display_data"
    },
    {
     "data": {
      "application/vnd.jupyter.widget-view+json": {
       "model_id": "",
       "version_major": 2,
       "version_minor": 0
      },
      "text/plain": [
       "0batch [00:00, ?batch/s]"
      ]
     },
     "metadata": {},
     "output_type": "display_data"
    },
    {
     "name": "stdout",
     "output_type": "stream",
     "text": [
      "Restoring model weights from the end of the best epoch: 1.                         \n",
      "\n",
      "Epoch 11: early stopping                                                           \n",
      "\n",
      "Best validation loss of epoch:                                                     \n",
      "0.013573789969086647                                                               \n",
      "(140, 13, 8)                                                                       \n",
      "(4, 13, 8)                                                                         \n",
      "(4, 13, 8)                                                                         \n",
      "(8, 13, 8)                                                                         \n",
      "(140, 1)                                                                           \n",
      "(4, 1)                                                                             \n",
      "(4, 1)                                                                             \n",
      "(8, 1)                                                                             \n",
      "(164, 13)                                                                          \n",
      " 84%|████████▍ | 42/50 [10:50<01:53, 14.22s/trial, best loss: 0.013573789969086647]"
     ]
    },
    {
     "name": "stderr",
     "output_type": "stream",
     "text": [
      "C:\\Users\\aarow\\AppData\\Local\\Temp/ipykernel_2700/2893458286.py:18: ExperimentalWarning: GCN_LSTM is experimental: Lack of unit tests and code refinement (see: https://github.com/stellargraph/stellargraph/issues/1132, https://github.com/stellargraph/stellargraph/issues/1526, https://github.com/stellargraph/stellargraph/issues/1564). It may be difficult to use and may have major changes at any time.\n",
      "  model = GCN_LSTM(\n",
      "\n"
     ]
    },
    {
     "data": {
      "application/vnd.jupyter.widget-view+json": {
       "model_id": "94553d3db22f430580ea18533bb6f356",
       "version_major": 2,
       "version_minor": 0
      },
      "text/plain": [
       "0epoch [00:00, ?epoch/s]"
      ]
     },
     "metadata": {},
     "output_type": "display_data"
    },
    {
     "data": {
      "application/vnd.jupyter.widget-view+json": {
       "model_id": "",
       "version_major": 2,
       "version_minor": 0
      },
      "text/plain": [
       "0batch [00:00, ?batch/s]"
      ]
     },
     "metadata": {},
     "output_type": "display_data"
    },
    {
     "name": "stdout",
     "output_type": "stream",
     "text": [
      "Restoring model weights from the end of the best epoch: 1.                         \n",
      "\n",
      "Epoch 11: early stopping                                                           \n",
      "\n",
      "Best validation loss of epoch:                                                     \n",
      "0.013573789969086647                                                               \n",
      "(140, 13, 9)                                                                       \n",
      "(4, 13, 9)                                                                         \n",
      "(4, 13, 9)                                                                         \n",
      "(8, 13, 9)                                                                         \n",
      "(140, 1)                                                                           \n",
      "(4, 1)                                                                             \n",
      "(4, 1)                                                                             \n",
      "(8, 1)                                                                             \n",
      "(165, 13)                                                                          \n",
      " 86%|████████▌ | 43/50 [11:02<01:35, 13.59s/trial, best loss: 0.013573789969086647]"
     ]
    },
    {
     "name": "stderr",
     "output_type": "stream",
     "text": [
      "C:\\Users\\aarow\\AppData\\Local\\Temp/ipykernel_2700/2893458286.py:18: ExperimentalWarning: GCN_LSTM is experimental: Lack of unit tests and code refinement (see: https://github.com/stellargraph/stellargraph/issues/1132, https://github.com/stellargraph/stellargraph/issues/1526, https://github.com/stellargraph/stellargraph/issues/1564). It may be difficult to use and may have major changes at any time.\n",
      "  model = GCN_LSTM(\n",
      "\n"
     ]
    },
    {
     "data": {
      "application/vnd.jupyter.widget-view+json": {
       "model_id": "db8b3199f2004a65a432f305d14b3310",
       "version_major": 2,
       "version_minor": 0
      },
      "text/plain": [
       "0epoch [00:00, ?epoch/s]"
      ]
     },
     "metadata": {},
     "output_type": "display_data"
    },
    {
     "data": {
      "application/vnd.jupyter.widget-view+json": {
       "model_id": "",
       "version_major": 2,
       "version_minor": 0
      },
      "text/plain": [
       "0batch [00:00, ?batch/s]"
      ]
     },
     "metadata": {},
     "output_type": "display_data"
    },
    {
     "name": "stdout",
     "output_type": "stream",
     "text": [
      "Restoring model weights from the end of the best epoch: 1.                         \n",
      "\n",
      "Epoch 11: early stopping                                                           \n",
      "\n",
      "Best validation loss of epoch:                                                     \n",
      "0.07271292060613632                                                                \n",
      "(140, 13, 6)                                                                       \n",
      "(4, 13, 6)                                                                         \n",
      "(4, 13, 6)                                                                         \n",
      "(8, 13, 6)                                                                         \n",
      "(140, 1)                                                                           \n",
      "(4, 1)                                                                             \n",
      "(4, 1)                                                                             \n",
      "(8, 1)                                                                             \n",
      "(162, 13)                                                                          \n",
      " 88%|████████▊ | 44/50 [11:20<01:29, 14.95s/trial, best loss: 0.013573789969086647]"
     ]
    },
    {
     "name": "stderr",
     "output_type": "stream",
     "text": [
      "C:\\Users\\aarow\\AppData\\Local\\Temp/ipykernel_2700/2893458286.py:18: ExperimentalWarning: GCN_LSTM is experimental: Lack of unit tests and code refinement (see: https://github.com/stellargraph/stellargraph/issues/1132, https://github.com/stellargraph/stellargraph/issues/1526, https://github.com/stellargraph/stellargraph/issues/1564). It may be difficult to use and may have major changes at any time.\n",
      "  model = GCN_LSTM(\n",
      "\n"
     ]
    },
    {
     "data": {
      "application/vnd.jupyter.widget-view+json": {
       "model_id": "e6d68b4bd3234ba59d9c04e34db71d95",
       "version_major": 2,
       "version_minor": 0
      },
      "text/plain": [
       "0epoch [00:00, ?epoch/s]"
      ]
     },
     "metadata": {},
     "output_type": "display_data"
    },
    {
     "data": {
      "application/vnd.jupyter.widget-view+json": {
       "model_id": "",
       "version_major": 2,
       "version_minor": 0
      },
      "text/plain": [
       "0batch [00:00, ?batch/s]"
      ]
     },
     "metadata": {},
     "output_type": "display_data"
    },
    {
     "name": "stdout",
     "output_type": "stream",
     "text": [
      "Restoring model weights from the end of the best epoch: 1.                         \n",
      "\n",
      "Epoch 11: early stopping                                                           \n",
      "\n",
      "Best validation loss of epoch:                                                     \n",
      "0.013573789969086647                                                               \n",
      "(140, 13, 8)                                                                       \n",
      "(4, 13, 8)                                                                         \n",
      "(4, 13, 8)                                                                         \n",
      "(8, 13, 8)                                                                         \n",
      "(140, 1)                                                                           \n",
      "(4, 1)                                                                             \n",
      "(4, 1)                                                                             \n",
      "(8, 1)                                                                             \n",
      "(164, 13)                                                                          \n",
      " 90%|█████████ | 45/50 [11:29<01:05, 13.12s/trial, best loss: 0.013573789969086647]"
     ]
    },
    {
     "name": "stderr",
     "output_type": "stream",
     "text": [
      "C:\\Users\\aarow\\AppData\\Local\\Temp/ipykernel_2700/2893458286.py:18: ExperimentalWarning: GCN_LSTM is experimental: Lack of unit tests and code refinement (see: https://github.com/stellargraph/stellargraph/issues/1132, https://github.com/stellargraph/stellargraph/issues/1526, https://github.com/stellargraph/stellargraph/issues/1564). It may be difficult to use and may have major changes at any time.\n",
      "  model = GCN_LSTM(\n",
      "\n"
     ]
    },
    {
     "data": {
      "application/vnd.jupyter.widget-view+json": {
       "model_id": "9e1023337821424f95f98c7131d1c813",
       "version_major": 2,
       "version_minor": 0
      },
      "text/plain": [
       "0epoch [00:00, ?epoch/s]"
      ]
     },
     "metadata": {},
     "output_type": "display_data"
    },
    {
     "data": {
      "application/vnd.jupyter.widget-view+json": {
       "model_id": "",
       "version_major": 2,
       "version_minor": 0
      },
      "text/plain": [
       "0batch [00:00, ?batch/s]"
      ]
     },
     "metadata": {},
     "output_type": "display_data"
    },
    {
     "name": "stdout",
     "output_type": "stream",
     "text": [
      "Restoring model weights from the end of the best epoch: 1.                         \n",
      "\n",
      "Epoch 11: early stopping                                                           \n",
      "\n",
      "Best validation loss of epoch:                                                     \n",
      "0.013573789969086647                                                               \n",
      "(140, 13, 8)                                                                       \n",
      "(4, 13, 8)                                                                         \n",
      "(4, 13, 8)                                                                         \n",
      "(8, 13, 8)                                                                         \n",
      "(140, 1)                                                                           \n",
      "(4, 1)                                                                             \n",
      "(4, 1)                                                                             \n",
      "(8, 1)                                                                             \n",
      "(164, 13)                                                                          \n",
      " 92%|█████████▏| 46/50 [11:40<00:49, 12.36s/trial, best loss: 0.013573789969086647]"
     ]
    },
    {
     "name": "stderr",
     "output_type": "stream",
     "text": [
      "C:\\Users\\aarow\\AppData\\Local\\Temp/ipykernel_2700/2893458286.py:18: ExperimentalWarning: GCN_LSTM is experimental: Lack of unit tests and code refinement (see: https://github.com/stellargraph/stellargraph/issues/1132, https://github.com/stellargraph/stellargraph/issues/1526, https://github.com/stellargraph/stellargraph/issues/1564). It may be difficult to use and may have major changes at any time.\n",
      "  model = GCN_LSTM(\n",
      "\n"
     ]
    },
    {
     "data": {
      "application/vnd.jupyter.widget-view+json": {
       "model_id": "0a5a89604cf9428085729a07c47160b3",
       "version_major": 2,
       "version_minor": 0
      },
      "text/plain": [
       "0epoch [00:00, ?epoch/s]"
      ]
     },
     "metadata": {},
     "output_type": "display_data"
    },
    {
     "data": {
      "application/vnd.jupyter.widget-view+json": {
       "model_id": "",
       "version_major": 2,
       "version_minor": 0
      },
      "text/plain": [
       "0batch [00:00, ?batch/s]"
      ]
     },
     "metadata": {},
     "output_type": "display_data"
    },
    {
     "name": "stdout",
     "output_type": "stream",
     "text": [
      "Restoring model weights from the end of the best epoch: 1.                         \n",
      "\n",
      "Epoch 11: early stopping                                                           \n",
      "\n",
      "Best validation loss of epoch:                                                     \n",
      "0.013573789969086647                                                               \n",
      "(140, 13, 9)                                                                       \n",
      "(4, 13, 9)                                                                         \n",
      "(4, 13, 9)                                                                         \n",
      "(8, 13, 9)                                                                         \n",
      "(140, 1)                                                                           \n",
      "(4, 1)                                                                             \n",
      "(4, 1)                                                                             \n",
      "(8, 1)                                                                             \n",
      "(165, 13)                                                                          \n",
      " 94%|█████████▍| 47/50 [11:55<00:39, 13.16s/trial, best loss: 0.013573789969086647]"
     ]
    },
    {
     "name": "stderr",
     "output_type": "stream",
     "text": [
      "C:\\Users\\aarow\\AppData\\Local\\Temp/ipykernel_2700/2893458286.py:18: ExperimentalWarning: GCN_LSTM is experimental: Lack of unit tests and code refinement (see: https://github.com/stellargraph/stellargraph/issues/1132, https://github.com/stellargraph/stellargraph/issues/1526, https://github.com/stellargraph/stellargraph/issues/1564). It may be difficult to use and may have major changes at any time.\n",
      "  model = GCN_LSTM(\n",
      "\n"
     ]
    },
    {
     "data": {
      "application/vnd.jupyter.widget-view+json": {
       "model_id": "876b02fcc3cf443c95824d493e75126e",
       "version_major": 2,
       "version_minor": 0
      },
      "text/plain": [
       "0epoch [00:00, ?epoch/s]"
      ]
     },
     "metadata": {},
     "output_type": "display_data"
    },
    {
     "data": {
      "application/vnd.jupyter.widget-view+json": {
       "model_id": "",
       "version_major": 2,
       "version_minor": 0
      },
      "text/plain": [
       "0batch [00:00, ?batch/s]"
      ]
     },
     "metadata": {},
     "output_type": "display_data"
    },
    {
     "name": "stdout",
     "output_type": "stream",
     "text": [
      "Restoring model weights from the end of the best epoch: 5.                         \n",
      "\n",
      "Epoch 15: early stopping                                                           \n",
      "\n",
      "Best validation loss of epoch:                                                     \n",
      "0.05837823450565338                                                                \n",
      "(140, 13, 2)                                                                       \n",
      "(4, 13, 2)                                                                         \n",
      "(4, 13, 2)                                                                         \n",
      "(8, 13, 2)                                                                         \n",
      "(140, 1)                                                                           \n",
      "(4, 1)                                                                             \n",
      "(4, 1)                                                                             \n",
      "(8, 1)                                                                             \n",
      "(158, 13)                                                                          \n",
      " 96%|█████████▌| 48/50 [12:18<00:32, 16.22s/trial, best loss: 0.013573789969086647]"
     ]
    },
    {
     "name": "stderr",
     "output_type": "stream",
     "text": [
      "C:\\Users\\aarow\\AppData\\Local\\Temp/ipykernel_2700/2893458286.py:18: ExperimentalWarning: GCN_LSTM is experimental: Lack of unit tests and code refinement (see: https://github.com/stellargraph/stellargraph/issues/1132, https://github.com/stellargraph/stellargraph/issues/1526, https://github.com/stellargraph/stellargraph/issues/1564). It may be difficult to use and may have major changes at any time.\n",
      "  model = GCN_LSTM(\n",
      "\n"
     ]
    },
    {
     "data": {
      "application/vnd.jupyter.widget-view+json": {
       "model_id": "87fa0f468caa46199a28059eff10d7cf",
       "version_major": 2,
       "version_minor": 0
      },
      "text/plain": [
       "0epoch [00:00, ?epoch/s]"
      ]
     },
     "metadata": {},
     "output_type": "display_data"
    },
    {
     "data": {
      "application/vnd.jupyter.widget-view+json": {
       "model_id": "",
       "version_major": 2,
       "version_minor": 0
      },
      "text/plain": [
       "0batch [00:00, ?batch/s]"
      ]
     },
     "metadata": {},
     "output_type": "display_data"
    },
    {
     "name": "stdout",
     "output_type": "stream",
     "text": [
      "Restoring model weights from the end of the best epoch: 1.                         \n",
      "\n",
      "Epoch 11: early stopping                                                           \n",
      "\n",
      "Best validation loss of epoch:                                                     \n",
      "0.013573789969086647                                                               \n",
      "(140, 13, 7)                                                                       \n",
      "(4, 13, 7)                                                                         \n",
      "(4, 13, 7)                                                                         \n",
      "(8, 13, 7)                                                                         \n",
      "(140, 1)                                                                           \n",
      "(4, 1)                                                                             \n",
      "(4, 1)                                                                             \n",
      "(8, 1)                                                                             \n",
      "(163, 13)                                                                          \n",
      " 98%|█████████▊| 49/50 [12:35<00:16, 16.62s/trial, best loss: 0.013573789969086647]"
     ]
    },
    {
     "name": "stderr",
     "output_type": "stream",
     "text": [
      "C:\\Users\\aarow\\AppData\\Local\\Temp/ipykernel_2700/2893458286.py:18: ExperimentalWarning: GCN_LSTM is experimental: Lack of unit tests and code refinement (see: https://github.com/stellargraph/stellargraph/issues/1132, https://github.com/stellargraph/stellargraph/issues/1526, https://github.com/stellargraph/stellargraph/issues/1564). It may be difficult to use and may have major changes at any time.\n",
      "  model = GCN_LSTM(\n",
      "\n"
     ]
    },
    {
     "data": {
      "application/vnd.jupyter.widget-view+json": {
       "model_id": "3412876080c3490eb7298eae18d4a743",
       "version_major": 2,
       "version_minor": 0
      },
      "text/plain": [
       "0epoch [00:00, ?epoch/s]"
      ]
     },
     "metadata": {},
     "output_type": "display_data"
    },
    {
     "data": {
      "application/vnd.jupyter.widget-view+json": {
       "model_id": "",
       "version_major": 2,
       "version_minor": 0
      },
      "text/plain": [
       "0batch [00:00, ?batch/s]"
      ]
     },
     "metadata": {},
     "output_type": "display_data"
    },
    {
     "name": "stdout",
     "output_type": "stream",
     "text": [
      "Restoring model weights from the end of the best epoch: 1.                         \n",
      "\n",
      "Epoch 11: early stopping                                                           \n",
      "\n",
      "Best validation loss of epoch:                                                     \n",
      "0.013573789969086647                                                               \n",
      "100%|██████████| 50/50 [12:56<00:00, 15.53s/trial, best loss: 0.013573789969086647]\n",
      "{'dropout': 0.3699803995881204, 'gcn_units_1': 4, 'gcn_units_2': 32, 'learning_rate': 0.09767959008978709, 'lstm_units_1': 8, 'lstm_units_2': 112, 'lstm_units_3': 40, 'lstm_units_4': 72, 'lstm_units_5': 52, 'lstm_units_6': 104, 'weeks': 6}\n",
      "Model: \"model_26\"\n",
      "_________________________________________________________________\n",
      " Layer (type)                Output Shape              Param #   \n",
      "=================================================================\n",
      " input_53 (InputLayer)       [(None, 13, 6)]           0         \n",
      "                                                                 \n",
      " tf.expand_dims_26 (TFOpLamb  (None, 13, 6, 1)         0         \n",
      " da)                                                             \n",
      "                                                                 \n",
      " reshape_78 (Reshape)        (None, 13, 6)             0         \n",
      "                                                                 \n",
      " fixed_adjacency_graph_convo  (None, 13, 4)            206       \n",
      " lution_52 (FixedAdjacencyGr                                     \n",
      " aphConvolution)                                                 \n",
      "                                                                 \n",
      " fixed_adjacency_graph_convo  (None, 13, 32)           310       \n",
      " lution_53 (FixedAdjacencyGr                                     \n",
      " aphConvolution)                                                 \n",
      "                                                                 \n",
      " reshape_79 (Reshape)        (None, 13, 32, 1)         0         \n",
      "                                                                 \n",
      " permute_26 (Permute)        (None, 32, 13, 1)         0         \n",
      "                                                                 \n",
      " reshape_80 (Reshape)        (None, 32, 13)            0         \n",
      "                                                                 \n",
      " lstm_156 (LSTM)             (None, 32, 8)             704       \n",
      "                                                                 \n",
      " lstm_157 (LSTM)             (None, 32, 112)           54208     \n",
      "                                                                 \n",
      " lstm_158 (LSTM)             (None, 32, 40)            24480     \n",
      "                                                                 \n",
      " lstm_159 (LSTM)             (None, 32, 72)            32544     \n",
      "                                                                 \n",
      " lstm_160 (LSTM)             (None, 32, 52)            26000     \n",
      "                                                                 \n",
      " lstm_161 (LSTM)             (None, 104)               65312     \n",
      "                                                                 \n",
      " dropout_26 (Dropout)        (None, 104)               0         \n",
      "                                                                 \n",
      " dense_26 (Dense)            (None, 13)                1365      \n",
      "                                                                 \n",
      "=================================================================\n",
      "Total params: 205,129\n",
      "Trainable params: 204,791\n",
      "Non-trainable params: 338\n",
      "_________________________________________________________________\n",
      "None\n",
      "INFO:tensorflow:Assets written to: Model/GCN-LSTM-2_6\\assets\n"
     ]
    },
    {
     "name": "stderr",
     "output_type": "stream",
     "text": [
      "WARNING:absl:<keras.layers.recurrent.LSTMCell object at 0x00000234E6F7C220> has the same name 'LSTMCell' as a built-in Keras object. Consider renaming <class 'keras.layers.recurrent.LSTMCell'> to avoid naming conflicts when loading with `tf.keras.models.load_model`. If renaming is not possible, pass the object in the `custom_objects` parameter of the load function.\n",
      "WARNING:absl:<keras.layers.recurrent.LSTMCell object at 0x00000234EEBACF10> has the same name 'LSTMCell' as a built-in Keras object. Consider renaming <class 'keras.layers.recurrent.LSTMCell'> to avoid naming conflicts when loading with `tf.keras.models.load_model`. If renaming is not possible, pass the object in the `custom_objects` parameter of the load function.\n",
      "WARNING:absl:<keras.layers.recurrent.LSTMCell object at 0x00000234EEBCD820> has the same name 'LSTMCell' as a built-in Keras object. Consider renaming <class 'keras.layers.recurrent.LSTMCell'> to avoid naming conflicts when loading with `tf.keras.models.load_model`. If renaming is not possible, pass the object in the `custom_objects` parameter of the load function.\n",
      "WARNING:absl:<keras.layers.recurrent.LSTMCell object at 0x00000234EEBC0310> has the same name 'LSTMCell' as a built-in Keras object. Consider renaming <class 'keras.layers.recurrent.LSTMCell'> to avoid naming conflicts when loading with `tf.keras.models.load_model`. If renaming is not possible, pass the object in the `custom_objects` parameter of the load function.\n",
      "WARNING:absl:<keras.layers.recurrent.LSTMCell object at 0x00000234EEBC0DC0> has the same name 'LSTMCell' as a built-in Keras object. Consider renaming <class 'keras.layers.recurrent.LSTMCell'> to avoid naming conflicts when loading with `tf.keras.models.load_model`. If renaming is not possible, pass the object in the `custom_objects` parameter of the load function.\n",
      "WARNING:absl:<keras.layers.recurrent.LSTMCell object at 0x00000234EEBB67C0> has the same name 'LSTMCell' as a built-in Keras object. Consider renaming <class 'keras.layers.recurrent.LSTMCell'> to avoid naming conflicts when loading with `tf.keras.models.load_model`. If renaming is not possible, pass the object in the `custom_objects` parameter of the load function.\n"
     ]
    },
    {
     "name": "stdout",
     "output_type": "stream",
     "text": [
      "(140, 13, 6) (4, 13, 6) (4, 13, 6) (8, 13, 6)\n",
      "(140, 1) (4, 1) (4, 1) (8, 1)\n",
      "(162, 13)\n",
      "1/1 [==============================] - 1s 561ms/step - loss: nan - mse: nan\n",
      "(4, 1)\n",
      "(4, 1)\n",
      "(4, 1)\n"
     ]
    },
    {
     "ename": "ValueError",
     "evalue": "Input contains NaN, infinity or a value too large for dtype('float32').",
     "output_type": "error",
     "traceback": [
      "\u001b[1;31m---------------------------------------------------------------------------\u001b[0m",
      "\u001b[1;31mValueError\u001b[0m                                Traceback (most recent call last)",
      "\u001b[1;32m~\\AppData\\Local\\Temp/ipykernel_2700/2309606438.py\u001b[0m in \u001b[0;36m<module>\u001b[1;34m\u001b[0m\n\u001b[1;32m----> 1\u001b[1;33m \u001b[0mgcn_lstm_2_6\u001b[0m \u001b[1;33m=\u001b[0m \u001b[0mrun\u001b[0m\u001b[1;33m(\u001b[0m\u001b[1;33m)\u001b[0m\u001b[1;33m\u001b[0m\u001b[1;33m\u001b[0m\u001b[0m\n\u001b[0m",
      "\u001b[1;32m~\\AppData\\Local\\Temp/ipykernel_2700/2893458286.py\u001b[0m in \u001b[0;36mrun\u001b[1;34m()\u001b[0m\n\u001b[0;32m     98\u001b[0m \u001b[1;33m\u001b[0m\u001b[0m\n\u001b[0;32m     99\u001b[0m     \u001b[1;31m# evaluate model with inverted features\u001b[0m\u001b[1;33m\u001b[0m\u001b[1;33m\u001b[0m\u001b[1;33m\u001b[0m\u001b[0m\n\u001b[1;32m--> 100\u001b[1;33m     \u001b[0mprint\u001b[0m\u001b[1;33m(\u001b[0m\u001b[1;34m\"Mean Squared Error: {}\"\u001b[0m\u001b[1;33m.\u001b[0m\u001b[0mformat\u001b[0m\u001b[1;33m(\u001b[0m\u001b[0mmean_squared_error\u001b[0m\u001b[1;33m(\u001b[0m\u001b[0mvalidY2_inv\u001b[0m\u001b[1;33m,\u001b[0m \u001b[0myhat_valid2_inv\u001b[0m\u001b[1;33m)\u001b[0m\u001b[1;33m)\u001b[0m\u001b[1;33m)\u001b[0m\u001b[1;33m\u001b[0m\u001b[1;33m\u001b[0m\u001b[0m\n\u001b[0m\u001b[0;32m    101\u001b[0m     \u001b[0mprint\u001b[0m\u001b[1;33m(\u001b[0m\u001b[1;34m\"Root Mean Squared Error: {}\"\u001b[0m\u001b[1;33m.\u001b[0m\u001b[0mformat\u001b[0m\u001b[1;33m(\u001b[0m\u001b[0mmean_squared_error\u001b[0m\u001b[1;33m(\u001b[0m\u001b[0mvalidY2_inv\u001b[0m\u001b[1;33m,\u001b[0m \u001b[0myhat_valid2_inv\u001b[0m\u001b[1;33m,\u001b[0m \u001b[0msquared\u001b[0m\u001b[1;33m=\u001b[0m\u001b[1;32mFalse\u001b[0m\u001b[1;33m)\u001b[0m\u001b[1;33m)\u001b[0m\u001b[1;33m)\u001b[0m\u001b[1;33m\u001b[0m\u001b[1;33m\u001b[0m\u001b[0m\n\u001b[0;32m    102\u001b[0m     \u001b[0mprint\u001b[0m\u001b[1;33m(\u001b[0m\u001b[1;34m\"Mean Absolute Percentage Error: {}\"\u001b[0m\u001b[1;33m.\u001b[0m\u001b[0mformat\u001b[0m\u001b[1;33m(\u001b[0m\u001b[0mmean_absolute_percentage_error\u001b[0m\u001b[1;33m(\u001b[0m\u001b[0mvalidY2_inv\u001b[0m\u001b[1;33m,\u001b[0m \u001b[0myhat_valid2_inv\u001b[0m\u001b[1;33m)\u001b[0m\u001b[1;33m)\u001b[0m\u001b[1;33m)\u001b[0m\u001b[1;33m\u001b[0m\u001b[1;33m\u001b[0m\u001b[0m\n",
      "\u001b[1;32m~\\anaconda3\\envs\\covidtraffic\\lib\\site-packages\\sklearn\\metrics\\_regression.py\u001b[0m in \u001b[0;36mmean_squared_error\u001b[1;34m(y_true, y_pred, sample_weight, multioutput, squared)\u001b[0m\n\u001b[0;32m    436\u001b[0m     \u001b[1;36m0.825\u001b[0m\u001b[1;33m...\u001b[0m\u001b[1;33m\u001b[0m\u001b[1;33m\u001b[0m\u001b[0m\n\u001b[0;32m    437\u001b[0m     \"\"\"\n\u001b[1;32m--> 438\u001b[1;33m     y_type, y_true, y_pred, multioutput = _check_reg_targets(\n\u001b[0m\u001b[0;32m    439\u001b[0m         \u001b[0my_true\u001b[0m\u001b[1;33m,\u001b[0m \u001b[0my_pred\u001b[0m\u001b[1;33m,\u001b[0m \u001b[0mmultioutput\u001b[0m\u001b[1;33m\u001b[0m\u001b[1;33m\u001b[0m\u001b[0m\n\u001b[0;32m    440\u001b[0m     )\n",
      "\u001b[1;32m~\\anaconda3\\envs\\covidtraffic\\lib\\site-packages\\sklearn\\metrics\\_regression.py\u001b[0m in \u001b[0;36m_check_reg_targets\u001b[1;34m(y_true, y_pred, multioutput, dtype)\u001b[0m\n\u001b[0;32m     94\u001b[0m     \u001b[0mcheck_consistent_length\u001b[0m\u001b[1;33m(\u001b[0m\u001b[0my_true\u001b[0m\u001b[1;33m,\u001b[0m \u001b[0my_pred\u001b[0m\u001b[1;33m)\u001b[0m\u001b[1;33m\u001b[0m\u001b[1;33m\u001b[0m\u001b[0m\n\u001b[0;32m     95\u001b[0m     \u001b[0my_true\u001b[0m \u001b[1;33m=\u001b[0m \u001b[0mcheck_array\u001b[0m\u001b[1;33m(\u001b[0m\u001b[0my_true\u001b[0m\u001b[1;33m,\u001b[0m \u001b[0mensure_2d\u001b[0m\u001b[1;33m=\u001b[0m\u001b[1;32mFalse\u001b[0m\u001b[1;33m,\u001b[0m \u001b[0mdtype\u001b[0m\u001b[1;33m=\u001b[0m\u001b[0mdtype\u001b[0m\u001b[1;33m)\u001b[0m\u001b[1;33m\u001b[0m\u001b[1;33m\u001b[0m\u001b[0m\n\u001b[1;32m---> 96\u001b[1;33m     \u001b[0my_pred\u001b[0m \u001b[1;33m=\u001b[0m \u001b[0mcheck_array\u001b[0m\u001b[1;33m(\u001b[0m\u001b[0my_pred\u001b[0m\u001b[1;33m,\u001b[0m \u001b[0mensure_2d\u001b[0m\u001b[1;33m=\u001b[0m\u001b[1;32mFalse\u001b[0m\u001b[1;33m,\u001b[0m \u001b[0mdtype\u001b[0m\u001b[1;33m=\u001b[0m\u001b[0mdtype\u001b[0m\u001b[1;33m)\u001b[0m\u001b[1;33m\u001b[0m\u001b[1;33m\u001b[0m\u001b[0m\n\u001b[0m\u001b[0;32m     97\u001b[0m \u001b[1;33m\u001b[0m\u001b[0m\n\u001b[0;32m     98\u001b[0m     \u001b[1;32mif\u001b[0m \u001b[0my_true\u001b[0m\u001b[1;33m.\u001b[0m\u001b[0mndim\u001b[0m \u001b[1;33m==\u001b[0m \u001b[1;36m1\u001b[0m\u001b[1;33m:\u001b[0m\u001b[1;33m\u001b[0m\u001b[1;33m\u001b[0m\u001b[0m\n",
      "\u001b[1;32m~\\anaconda3\\envs\\covidtraffic\\lib\\site-packages\\sklearn\\utils\\validation.py\u001b[0m in \u001b[0;36mcheck_array\u001b[1;34m(array, accept_sparse, accept_large_sparse, dtype, order, copy, force_all_finite, ensure_2d, allow_nd, ensure_min_samples, ensure_min_features, estimator)\u001b[0m\n\u001b[0;32m    798\u001b[0m \u001b[1;33m\u001b[0m\u001b[0m\n\u001b[0;32m    799\u001b[0m         \u001b[1;32mif\u001b[0m \u001b[0mforce_all_finite\u001b[0m\u001b[1;33m:\u001b[0m\u001b[1;33m\u001b[0m\u001b[1;33m\u001b[0m\u001b[0m\n\u001b[1;32m--> 800\u001b[1;33m             \u001b[0m_assert_all_finite\u001b[0m\u001b[1;33m(\u001b[0m\u001b[0marray\u001b[0m\u001b[1;33m,\u001b[0m \u001b[0mallow_nan\u001b[0m\u001b[1;33m=\u001b[0m\u001b[0mforce_all_finite\u001b[0m \u001b[1;33m==\u001b[0m \u001b[1;34m\"allow-nan\"\u001b[0m\u001b[1;33m)\u001b[0m\u001b[1;33m\u001b[0m\u001b[1;33m\u001b[0m\u001b[0m\n\u001b[0m\u001b[0;32m    801\u001b[0m \u001b[1;33m\u001b[0m\u001b[0m\n\u001b[0;32m    802\u001b[0m     \u001b[1;32mif\u001b[0m \u001b[0mensure_min_samples\u001b[0m \u001b[1;33m>\u001b[0m \u001b[1;36m0\u001b[0m\u001b[1;33m:\u001b[0m\u001b[1;33m\u001b[0m\u001b[1;33m\u001b[0m\u001b[0m\n",
      "\u001b[1;32m~\\anaconda3\\envs\\covidtraffic\\lib\\site-packages\\sklearn\\utils\\validation.py\u001b[0m in \u001b[0;36m_assert_all_finite\u001b[1;34m(X, allow_nan, msg_dtype)\u001b[0m\n\u001b[0;32m    112\u001b[0m         ):\n\u001b[0;32m    113\u001b[0m             \u001b[0mtype_err\u001b[0m \u001b[1;33m=\u001b[0m \u001b[1;34m\"infinity\"\u001b[0m \u001b[1;32mif\u001b[0m \u001b[0mallow_nan\u001b[0m \u001b[1;32melse\u001b[0m \u001b[1;34m\"NaN, infinity\"\u001b[0m\u001b[1;33m\u001b[0m\u001b[1;33m\u001b[0m\u001b[0m\n\u001b[1;32m--> 114\u001b[1;33m             raise ValueError(\n\u001b[0m\u001b[0;32m    115\u001b[0m                 msg_err.format(\n\u001b[0;32m    116\u001b[0m                     \u001b[0mtype_err\u001b[0m\u001b[1;33m,\u001b[0m \u001b[0mmsg_dtype\u001b[0m \u001b[1;32mif\u001b[0m \u001b[0mmsg_dtype\u001b[0m \u001b[1;32mis\u001b[0m \u001b[1;32mnot\u001b[0m \u001b[1;32mNone\u001b[0m \u001b[1;32melse\u001b[0m \u001b[0mX\u001b[0m\u001b[1;33m.\u001b[0m\u001b[0mdtype\u001b[0m\u001b[1;33m\u001b[0m\u001b[1;33m\u001b[0m\u001b[0m\n",
      "\u001b[1;31mValueError\u001b[0m: Input contains NaN, infinity or a value too large for dtype('float32')."
     ]
    }
   ],
   "source": [
    "gcn_lstm_2_6 = run()"
   ]
  }
 ],
 "metadata": {
  "kernelspec": {
   "display_name": "Python 3 (ipykernel)",
   "language": "python",
   "name": "python3"
  },
  "language_info": {
   "codemirror_mode": {
    "name": "ipython",
    "version": 3
   },
   "file_extension": ".py",
   "mimetype": "text/x-python",
   "name": "python",
   "nbconvert_exporter": "python",
   "pygments_lexer": "ipython3",
   "version": "3.8.12"
  }
 },
 "nbformat": 4,
 "nbformat_minor": 5
}

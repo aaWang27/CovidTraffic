{
 "cells": [
  {
   "cell_type": "code",
   "execution_count": 12,
   "id": "d5865879",
   "metadata": {},
   "outputs": [],
   "source": [
    "import numpy as np\n",
    "import pandas as pd\n",
    "import matplotlib as mpl\n",
    "import matplotlib.pyplot as plt\n",
    "import utils\n",
    "import config\n",
    "\n",
    "# For GCN-LSTM model\n",
    "from tensorflow import keras\n",
    "from keras import Model, initializers\n",
    "from keras.models import Sequential\n",
    "from keras.layers import Dense, LSTM, Dropout\n",
    "from keras.callbacks import EarlyStopping\n",
    "from tqdm.keras import TqdmCallback\n",
    "import stellargraph as sg\n",
    "from stellargraph.layer import GCN_LSTM\n",
    "\n",
    "# For hyperopt (parameter optimization)\n",
    "from hyperopt import Trials, STATUS_OK, tpe, fmin, hp\n",
    "from hyperopt.pyll.base import scope  # quniform returns float, some parameters require int; use this to force int\n",
    "\n",
    "# Evaluation metrics\n",
    "from sklearn.metrics import mean_squared_error, mean_absolute_percentage_error\n",
    "\n",
    "%matplotlib inline"
   ]
  },
  {
   "cell_type": "code",
   "execution_count": 17,
   "id": "7b3b8296",
   "metadata": {},
   "outputs": [],
   "source": [
    "def format_data(data, weeks=1):\n",
    "    X_total = data.values[:209, :]\n",
    "\n",
    "    data = X_total[(53-weeks):, :]\n",
    "    print(data.shape)\n",
    "    scaler, values = utils.scale(data)\n",
    "    X, y = utils.sequence_data_preparation(1, weeks, values.T)\n",
    "    \n",
    "    trainX = X[:140, :, :]\n",
    "    trainY = y[:140, :]\n",
    "    validX = X[140:148, :, :]\n",
    "    validY = y[140:148, :]\n",
    "    testX = X[148:, :, :]\n",
    "    testY = y[148:, :]\n",
    "    print(trainX.shape, testX.shape)\n",
    "\n",
    "    return trainX, trainY, validX, validY, testX, testY"
   ]
  },
  {
   "cell_type": "code",
   "execution_count": 18,
   "id": "287a1346",
   "metadata": {},
   "outputs": [],
   "source": [
    "def format_scale_data(data, weeks=1):\n",
    "    X_total = data.values[:209, :]\n",
    "\n",
    "    data = X_total[(53-weeks):, :]\n",
    "    scaler, values = utils.scale(data)\n",
    "    X, y = utils.sequence_data_preparation(1, weeks, values.T)\n",
    "    \n",
    "    trainX = X[:140, :, :]\n",
    "    trainY = y[:140, :]\n",
    "    validX = X[140:148, :, :]\n",
    "    validY = y[140:148, :]\n",
    "    testX = X[148:, :, :]\n",
    "    testY = y[148:, :]\n",
    "    print(trainX.shape, testX.shape)\n",
    "    y_scaler, y = utils.scale(data[:, 1].reshape((len(data), 1)))\n",
    "\n",
    "    return trainX, trainY, validX, validY, testX, testY, scaler, y_scaler"
   ]
  },
  {
   "cell_type": "code",
   "execution_count": 4,
   "id": "f461a964",
   "metadata": {},
   "outputs": [],
   "source": [
    "def run():\n",
    "    def f_nn(params):\n",
    "        # Generate data with given window\n",
    "        saltlake_week = pd.read_csv('../saltlake_week.csv')\n",
    "        data = saltlake_week[['Cases', 'VMT (Veh-Miles)', 'News Sentiment', 'Unemployment Rate', 'PRCP', 'SNWD',\n",
    "                              'Percent_Fully_Vaccinated_5&Older', 'TAVG',\n",
    "                              'Stay at Home', 'Mask', 'School Opening', 'Health Emergency', 'Holiday']]\n",
    "        trainX, trainY, validX, validY, testX, testY = format_data(data=data, weeks=params['weeks'])\n",
    "        \n",
    "        gc_layers = [params['gcn_units'] for i in range(params['gcn_layers'])]\n",
    "        gc_act = [params['gcn_activation'] for i in range(params['gcn_layers'])]\n",
    "        lstm_layers = [params['lstm_units'] for i in range(params['lstm_layers'])]\n",
    "        lstm_act = [params['lstm_activation'] for i in range(params['lstm_layers'])]\n",
    "        \n",
    "        # Keras LSTM model\n",
    "        model = GCN_LSTM(\n",
    "                seq_len=config.SEQ_LEN,\n",
    "                adj=config.TOTAL_ADJACENT_MATRIX,\n",
    "                gc_layer_sizes=gc_layers,\n",
    "                gc_activations=gc_act,\n",
    "                lstm_layer_sizes=lstm_layers,\n",
    "                lstm_activations=lstm_act,\n",
    "                kernel_initializer=initializers.Identity(gain=1)\n",
    "        )\n",
    "\n",
    "        x_input, x_output = model.in_out_tensors()\n",
    "        model = Model(inputs=x_input, outputs=x_output)\n",
    "        lr = 0.001\n",
    "        model.compile(optimizer=keras.optimizers.Adam(learning_rate=params['learning_rate']), loss=\"mse\",\n",
    "              metrics=[\"mse\"])\n",
    "\n",
    "        es = EarlyStopping(monitor='val_loss', mode='min', verbose=1, patience=10, restore_best_weights=True)\n",
    "\n",
    "        result = model.fit(trainX, trainY, verbose=0, validation_data=(validX, validY),\n",
    "                            batch_size=4,\n",
    "                            epochs=200,\n",
    "                            callbacks=[es, TqdmCallback(verbose=1)]\n",
    "                            )\n",
    "\n",
    "        # get the lowest validation loss of the training epochs\n",
    "        validation_loss = np.amin(result.history['val_loss'])\n",
    "        print('Best validation loss of epoch:', validation_loss)\n",
    "\n",
    "\n",
    "        return {'loss': validation_loss, 'status': STATUS_OK, 'model': model, 'params': params}\n",
    "\n",
    "    # hyperparameters to search over with hyperopt\n",
    "    space = {'dropout': hp.uniform('dropout', 0.01, 0.5),\n",
    "             'gcn_units': scope.int(hp.quniform('gcn_units', 4, 32, 4)),\n",
    "             'gcn_layers': scope.int(hp.quniform('gcn_layers', 1, 2, 1)),\n",
    "             'lstm_units': scope.int(hp.quniform('lstm_units', 8, 128, 4)),\n",
    "             'lstm_layers': scope.int(hp.quniform('lstm_layers', 1, 6, 1)),\n",
    "             'weeks': scope.int(hp.quniform('weeks', 1, 10, 1)), \n",
    "             'gcn_activation': hp.choice('gcn_activation', ['relu', 'sigmoid', 'tanh']), \n",
    "             'lstm_activation': hp.choice('lstm_activation', ['relu', 'sigmoid', 'tanh']),\n",
    "             'learning_rate': hp.uniform('learning_rate', 0.001, 0.1)\n",
    "             }\n",
    "\n",
    "    trials = Trials()\n",
    "    best = fmin(f_nn, space, algo=tpe.suggest, max_evals=50, trials=trials)\n",
    "\n",
    "    # get best model\n",
    "    best_model = trials.results[np.argmin([r['loss'] for r in trials.results])]['model']\n",
    "    best_params = trials.results[np.argmin([r['loss'] for r in trials.results])]['params']\n",
    "\n",
    "    print(best_params)\n",
    "    print(best_model.summary())\n",
    "    best_model.save('Model/GCN-LSTM')\n",
    "    \n",
    "    saltlake_week = pd.read_csv('../saltlake_week.csv')\n",
    "    data = saltlake_week[['Cases', 'VMT (Veh-Miles)', 'News Sentiment', 'Unemployment Rate', 'PRCP', 'SNWD',\n",
    "                          'Percent_Fully_Vaccinated_5&Older', 'TAVG', \n",
    "                          'Stay at Home', 'Mask', 'School Opening', 'Health Emergency', 'Holiday']]\n",
    "    trainX, trainY, validX, validY, testX, testY, scaler, y_scaler = format_scale_data(data=data, weeks=best_params['weeks'])\n",
    "    \n",
    "    best_model.evaluate(testX, testY)\n",
    "    \n",
    "    yhat_test = best_model.predict(testX)\n",
    "    yhat_test_inv = y_scaler.inverse_transform(yhat_test).reshape((-1, 1))\n",
    "    testY_inv = y_scaler.inverse_transform(testY.reshape((-1, 1)))\n",
    "    \n",
    "    yhat_train = best_model.predict(trainX).reshape((-1, 1))\n",
    "    yhat_train_inv = y_scaler.inverse_transform(yhat_train)\n",
    "    trainY_inv = y_scaler.inverse_transform(trainY.reshape((-1, 1)))\n",
    "    \n",
    "    print(\"Mean Squared Error: {}\".format(mean_squared_error(testY_inv, yhat_test_inv)))\n",
    "    print(\"Root Mean Squared Error: {}\".format(mean_squared_error(testY_inv, yhat_test_inv, squared=False)))\n",
    "    print(\"Mean Absolute Percentage Error: {}\".format(mean_absolute_percentage_error(testY_inv, yhat_test_inv)))\n",
    "    \n",
    "    plt.figure()\n",
    "    plt.plot(yhat_test_inv, label='Predicted')\n",
    "    plt.plot(testY_inv, label='True')\n",
    "    plt.legend()\n",
    "    plt.show()\n",
    "    \n",
    "    plt.figure()\n",
    "    plt.plot(yhat_train_inv, label='Predicted')\n",
    "    plt.plot(trainY_inv, label='True')\n",
    "    plt.legend()\n",
    "    plt.show()"
   ]
  },
  {
   "cell_type": "code",
   "execution_count": null,
   "id": "df93a5bd",
   "metadata": {},
   "outputs": [
    {
     "name": "stdout",
     "output_type": "stream",
     "text": [
      "(158, 13)                                             \n",
      "(140, 13, 1)                                          \n",
      "(8, 13, 1)                                            \n",
      "  0%|          | 0/50 [00:00<?, ?trial/s, best loss=?]"
     ]
    },
    {
     "name": "stderr",
     "output_type": "stream",
     "text": [
      "<ipython-input-4-a4ed99d749fe>:16: ExperimentalWarning: GCN_LSTM is experimental: Lack of unit tests and code refinement (see: https://github.com/stellargraph/stellargraph/issues/1132, https://github.com/stellargraph/stellargraph/issues/1526, https://github.com/stellargraph/stellargraph/issues/1564). It may be difficult to use and may have major changes at any time.\n",
      "  model = GCN_LSTM(\n",
      "\n"
     ]
    },
    {
     "data": {
      "application/vnd.jupyter.widget-view+json": {
       "model_id": "491a999f0b684c90810c3f5c354278e4",
       "version_major": 2,
       "version_minor": 0
      },
      "text/plain": [
       "0epoch [00:00, ?epoch/s]"
      ]
     },
     "metadata": {},
     "output_type": "display_data"
    },
    {
     "data": {
      "application/vnd.jupyter.widget-view+json": {
       "model_id": "",
       "version_major": 2,
       "version_minor": 0
      },
      "text/plain": [
       "0batch [00:00, ?batch/s]"
      ]
     },
     "metadata": {},
     "output_type": "display_data"
    },
    {
     "name": "stdout",
     "output_type": "stream",
     "text": [
      "Restoring model weights from the end of the best epoch: 1.\n",
      "Epoch 00011: early stopping                           \n",
      "Best validation loss of epoch:                        \n",
      "0.12212962657213211                                   \n",
      "(160, 13)                                                                        \n",
      "(140, 13, 1)                                                                     \n",
      "(8, 13, 1)                                                                       \n",
      "  2%|▏         | 1/50 [00:15<12:45, 15.61s/trial, best loss: 0.12212962657213211]"
     ]
    },
    {
     "name": "stderr",
     "output_type": "stream",
     "text": [
      "<ipython-input-4-a4ed99d749fe>:16: ExperimentalWarning: GCN_LSTM is experimental: Lack of unit tests and code refinement (see: https://github.com/stellargraph/stellargraph/issues/1132, https://github.com/stellargraph/stellargraph/issues/1526, https://github.com/stellargraph/stellargraph/issues/1564). It may be difficult to use and may have major changes at any time.\n",
      "  model = GCN_LSTM(\n",
      "\n"
     ]
    },
    {
     "data": {
      "application/vnd.jupyter.widget-view+json": {
       "model_id": "3585ca0a533f41de9c7cec93083a19df",
       "version_major": 2,
       "version_minor": 0
      },
      "text/plain": [
       "0epoch [00:00, ?epoch/s]"
      ]
     },
     "metadata": {},
     "output_type": "display_data"
    },
    {
     "data": {
      "application/vnd.jupyter.widget-view+json": {
       "model_id": "",
       "version_major": 2,
       "version_minor": 0
      },
      "text/plain": [
       "0batch [00:00, ?batch/s]"
      ]
     },
     "metadata": {},
     "output_type": "display_data"
    },
    {
     "name": "stdout",
     "output_type": "stream",
     "text": [
      "Restoring model weights from the end of the best epoch: 4.                       \n",
      "Epoch 00014: early stopping                                                      \n",
      "Best validation loss of epoch:                                                   \n",
      "0.08649422973394394                                                              \n",
      "(164, 13)                                                                        \n",
      "(140, 13, 1)                                                                     \n",
      "(8, 13, 1)                                                                       \n",
      "  4%|▍         | 2/50 [00:46<19:28, 24.35s/trial, best loss: 0.08649422973394394]"
     ]
    },
    {
     "name": "stderr",
     "output_type": "stream",
     "text": [
      "<ipython-input-4-a4ed99d749fe>:16: ExperimentalWarning: GCN_LSTM is experimental: Lack of unit tests and code refinement (see: https://github.com/stellargraph/stellargraph/issues/1132, https://github.com/stellargraph/stellargraph/issues/1526, https://github.com/stellargraph/stellargraph/issues/1564). It may be difficult to use and may have major changes at any time.\n",
      "  model = GCN_LSTM(\n",
      "\n"
     ]
    },
    {
     "data": {
      "application/vnd.jupyter.widget-view+json": {
       "model_id": "13d7431ab0f04588b923dc2a1865c09a",
       "version_major": 2,
       "version_minor": 0
      },
      "text/plain": [
       "0epoch [00:00, ?epoch/s]"
      ]
     },
     "metadata": {},
     "output_type": "display_data"
    },
    {
     "data": {
      "application/vnd.jupyter.widget-view+json": {
       "model_id": "",
       "version_major": 2,
       "version_minor": 0
      },
      "text/plain": [
       "0batch [00:00, ?batch/s]"
      ]
     },
     "metadata": {},
     "output_type": "display_data"
    },
    {
     "name": "stdout",
     "output_type": "stream",
     "text": [
      "Restoring model weights from the end of the best epoch: 6.                       \n",
      "Epoch 00016: early stopping                                                      \n",
      "Best validation loss of epoch:                                                   \n",
      "0.12107481062412262                                                              \n",
      "(160, 13)                                                                        \n",
      "(140, 13, 1)                                                                     \n",
      "(8, 13, 1)                                                                       \n",
      "  6%|▌         | 3/50 [01:12<19:54, 25.41s/trial, best loss: 0.08649422973394394]"
     ]
    },
    {
     "name": "stderr",
     "output_type": "stream",
     "text": [
      "<ipython-input-4-a4ed99d749fe>:16: ExperimentalWarning: GCN_LSTM is experimental: Lack of unit tests and code refinement (see: https://github.com/stellargraph/stellargraph/issues/1132, https://github.com/stellargraph/stellargraph/issues/1526, https://github.com/stellargraph/stellargraph/issues/1564). It may be difficult to use and may have major changes at any time.\n",
      "  model = GCN_LSTM(\n",
      "\n"
     ]
    },
    {
     "data": {
      "application/vnd.jupyter.widget-view+json": {
       "model_id": "802851bfefd3460392c24965557346ce",
       "version_major": 2,
       "version_minor": 0
      },
      "text/plain": [
       "0epoch [00:00, ?epoch/s]"
      ]
     },
     "metadata": {},
     "output_type": "display_data"
    },
    {
     "data": {
      "application/vnd.jupyter.widget-view+json": {
       "model_id": "",
       "version_major": 2,
       "version_minor": 0
      },
      "text/plain": [
       "0batch [00:00, ?batch/s]"
      ]
     },
     "metadata": {},
     "output_type": "display_data"
    },
    {
     "name": "stdout",
     "output_type": "stream",
     "text": [
      "Restoring model weights from the end of the best epoch: 1.                       \n",
      "Epoch 00011: early stopping                                                      \n",
      "Best validation loss of epoch:                                                   \n",
      "0.19905269145965576                                                              \n",
      "(157, 13)                                                                        \n",
      "(140, 13, 1)                                                                     \n",
      "(8, 13, 1)                                                                       \n",
      "  8%|▊         | 4/50 [01:21<14:31, 18.95s/trial, best loss: 0.08649422973394394]"
     ]
    },
    {
     "name": "stderr",
     "output_type": "stream",
     "text": [
      "<ipython-input-4-a4ed99d749fe>:16: ExperimentalWarning: GCN_LSTM is experimental: Lack of unit tests and code refinement (see: https://github.com/stellargraph/stellargraph/issues/1132, https://github.com/stellargraph/stellargraph/issues/1526, https://github.com/stellargraph/stellargraph/issues/1564). It may be difficult to use and may have major changes at any time.\n",
      "  model = GCN_LSTM(\n",
      "\n"
     ]
    },
    {
     "data": {
      "application/vnd.jupyter.widget-view+json": {
       "model_id": "47549f7264de4ba080926160aae21a63",
       "version_major": 2,
       "version_minor": 0
      },
      "text/plain": [
       "0epoch [00:00, ?epoch/s]"
      ]
     },
     "metadata": {},
     "output_type": "display_data"
    },
    {
     "data": {
      "application/vnd.jupyter.widget-view+json": {
       "model_id": "",
       "version_major": 2,
       "version_minor": 0
      },
      "text/plain": [
       "0batch [00:00, ?batch/s]"
      ]
     },
     "metadata": {},
     "output_type": "display_data"
    },
    {
     "name": "stdout",
     "output_type": "stream",
     "text": [
      "Restoring model weights from the end of the best epoch: 12.                      \n",
      "Epoch 00022: early stopping                                                      \n",
      "Best validation loss of epoch:                                                   \n",
      "0.07984240353107452                                                              \n",
      "(166, 13)                                                                        \n",
      "(140, 13, 1)                                                                     \n",
      "(8, 13, 1)                                                                       \n",
      " 10%|█         | 5/50 [01:55<18:07, 24.17s/trial, best loss: 0.07984240353107452]"
     ]
    },
    {
     "name": "stderr",
     "output_type": "stream",
     "text": [
      "<ipython-input-4-a4ed99d749fe>:16: ExperimentalWarning: GCN_LSTM is experimental: Lack of unit tests and code refinement (see: https://github.com/stellargraph/stellargraph/issues/1132, https://github.com/stellargraph/stellargraph/issues/1526, https://github.com/stellargraph/stellargraph/issues/1564). It may be difficult to use and may have major changes at any time.\n",
      "  model = GCN_LSTM(\n",
      "\n"
     ]
    },
    {
     "data": {
      "application/vnd.jupyter.widget-view+json": {
       "model_id": "57b8fe75b05649998ca8a25aff8dd821",
       "version_major": 2,
       "version_minor": 0
      },
      "text/plain": [
       "0epoch [00:00, ?epoch/s]"
      ]
     },
     "metadata": {},
     "output_type": "display_data"
    },
    {
     "data": {
      "application/vnd.jupyter.widget-view+json": {
       "model_id": "",
       "version_major": 2,
       "version_minor": 0
      },
      "text/plain": [
       "0batch [00:00, ?batch/s]"
      ]
     },
     "metadata": {},
     "output_type": "display_data"
    },
    {
     "name": "stdout",
     "output_type": "stream",
     "text": [
      "Restoring model weights from the end of the best epoch: 6.                       \n",
      "Epoch 00016: early stopping                                                      \n",
      "Best validation loss of epoch:                                                   \n",
      "0.07999908924102783                                                              \n",
      "(161, 13)                                                                        \n",
      "(140, 13, 1)                                                                     \n",
      "(8, 13, 1)                                                                       \n",
      " 12%|█▏        | 6/50 [02:02<13:30, 18.42s/trial, best loss: 0.07984240353107452]"
     ]
    },
    {
     "name": "stderr",
     "output_type": "stream",
     "text": [
      "<ipython-input-4-a4ed99d749fe>:16: ExperimentalWarning: GCN_LSTM is experimental: Lack of unit tests and code refinement (see: https://github.com/stellargraph/stellargraph/issues/1132, https://github.com/stellargraph/stellargraph/issues/1526, https://github.com/stellargraph/stellargraph/issues/1564). It may be difficult to use and may have major changes at any time.\n",
      "  model = GCN_LSTM(\n",
      "\n"
     ]
    },
    {
     "data": {
      "application/vnd.jupyter.widget-view+json": {
       "model_id": "507ecea279ae422a87854ec031ff8807",
       "version_major": 2,
       "version_minor": 0
      },
      "text/plain": [
       "0epoch [00:00, ?epoch/s]"
      ]
     },
     "metadata": {},
     "output_type": "display_data"
    },
    {
     "data": {
      "application/vnd.jupyter.widget-view+json": {
       "model_id": "",
       "version_major": 2,
       "version_minor": 0
      },
      "text/plain": [
       "0batch [00:00, ?batch/s]"
      ]
     },
     "metadata": {},
     "output_type": "display_data"
    },
    {
     "name": "stdout",
     "output_type": "stream",
     "text": [
      "Restoring model weights from the end of the best epoch: 6.                       \n",
      "Epoch 00016: early stopping                                                      \n",
      "Best validation loss of epoch:                                                   \n",
      "0.08572988957166672                                                              \n",
      "(158, 13)                                                                        \n",
      "(140, 13, 1)                                                                     \n",
      "(8, 13, 1)                                                                       \n",
      " 14%|█▍        | 7/50 [02:18<12:32, 17.49s/trial, best loss: 0.07984240353107452]"
     ]
    },
    {
     "name": "stderr",
     "output_type": "stream",
     "text": [
      "<ipython-input-4-a4ed99d749fe>:16: ExperimentalWarning: GCN_LSTM is experimental: Lack of unit tests and code refinement (see: https://github.com/stellargraph/stellargraph/issues/1132, https://github.com/stellargraph/stellargraph/issues/1526, https://github.com/stellargraph/stellargraph/issues/1564). It may be difficult to use and may have major changes at any time.\n",
      "  model = GCN_LSTM(\n",
      "\n"
     ]
    },
    {
     "data": {
      "application/vnd.jupyter.widget-view+json": {
       "model_id": "32ae415c391d4fe3a9830a49de4d62e9",
       "version_major": 2,
       "version_minor": 0
      },
      "text/plain": [
       "0epoch [00:00, ?epoch/s]"
      ]
     },
     "metadata": {},
     "output_type": "display_data"
    },
    {
     "data": {
      "application/vnd.jupyter.widget-view+json": {
       "model_id": "",
       "version_major": 2,
       "version_minor": 0
      },
      "text/plain": [
       "0batch [00:00, ?batch/s]"
      ]
     },
     "metadata": {},
     "output_type": "display_data"
    },
    {
     "name": "stdout",
     "output_type": "stream",
     "text": [
      "Restoring model weights from the end of the best epoch: 11.                      \n",
      "Epoch 00021: early stopping                                                      \n",
      "Best validation loss of epoch:                                                   \n",
      "0.08622843027114868                                                              \n",
      "(163, 13)                                                                        \n",
      "(140, 13, 1)                                                                     \n",
      "(8, 13, 1)                                                                       \n",
      " 16%|█▌        | 8/50 [02:38<12:54, 18.45s/trial, best loss: 0.07984240353107452]"
     ]
    },
    {
     "name": "stderr",
     "output_type": "stream",
     "text": [
      "<ipython-input-4-a4ed99d749fe>:16: ExperimentalWarning: GCN_LSTM is experimental: Lack of unit tests and code refinement (see: https://github.com/stellargraph/stellargraph/issues/1132, https://github.com/stellargraph/stellargraph/issues/1526, https://github.com/stellargraph/stellargraph/issues/1564). It may be difficult to use and may have major changes at any time.\n",
      "  model = GCN_LSTM(\n",
      "\n"
     ]
    },
    {
     "data": {
      "application/vnd.jupyter.widget-view+json": {
       "model_id": "34d7b4e0d3bc49aa9cd6a0602ea7fd16",
       "version_major": 2,
       "version_minor": 0
      },
      "text/plain": [
       "0epoch [00:00, ?epoch/s]"
      ]
     },
     "metadata": {},
     "output_type": "display_data"
    },
    {
     "data": {
      "application/vnd.jupyter.widget-view+json": {
       "model_id": "",
       "version_major": 2,
       "version_minor": 0
      },
      "text/plain": [
       "0batch [00:00, ?batch/s]"
      ]
     },
     "metadata": {},
     "output_type": "display_data"
    },
    {
     "name": "stdout",
     "output_type": "stream",
     "text": [
      "Restoring model weights from the end of the best epoch: 16.                      \n",
      "Epoch 00026: early stopping                                                      \n",
      "Best validation loss of epoch:                                                   \n",
      "0.10591629147529602                                                              \n",
      "(157, 13)                                                                        \n",
      "(140, 13, 1)                                                                     \n",
      "(8, 13, 1)                                                                       \n",
      " 18%|█▊        | 9/50 [03:06<14:36, 21.39s/trial, best loss: 0.07984240353107452]"
     ]
    },
    {
     "name": "stderr",
     "output_type": "stream",
     "text": [
      "<ipython-input-4-a4ed99d749fe>:16: ExperimentalWarning: GCN_LSTM is experimental: Lack of unit tests and code refinement (see: https://github.com/stellargraph/stellargraph/issues/1132, https://github.com/stellargraph/stellargraph/issues/1526, https://github.com/stellargraph/stellargraph/issues/1564). It may be difficult to use and may have major changes at any time.\n",
      "  model = GCN_LSTM(\n",
      "\n"
     ]
    },
    {
     "data": {
      "application/vnd.jupyter.widget-view+json": {
       "model_id": "ed3d1420215646ed8ac645012892d72d",
       "version_major": 2,
       "version_minor": 0
      },
      "text/plain": [
       "0epoch [00:00, ?epoch/s]"
      ]
     },
     "metadata": {},
     "output_type": "display_data"
    },
    {
     "data": {
      "application/vnd.jupyter.widget-view+json": {
       "model_id": "",
       "version_major": 2,
       "version_minor": 0
      },
      "text/plain": [
       "0batch [00:00, ?batch/s]"
      ]
     },
     "metadata": {},
     "output_type": "display_data"
    },
    {
     "name": "stdout",
     "output_type": "stream",
     "text": [
      "Restoring model weights from the end of the best epoch: 21.                      \n",
      "Epoch 00031: early stopping                                                      \n",
      "Best validation loss of epoch:                                                   \n",
      "0.036123208701610565                                                             \n",
      "(161, 13)                                                                          \n",
      "(140, 13, 1)                                                                       \n",
      "(8, 13, 1)                                                                         \n",
      " 20%|██        | 10/50 [03:17<12:04, 18.12s/trial, best loss: 0.036123208701610565]"
     ]
    },
    {
     "name": "stderr",
     "output_type": "stream",
     "text": [
      "<ipython-input-4-a4ed99d749fe>:16: ExperimentalWarning: GCN_LSTM is experimental: Lack of unit tests and code refinement (see: https://github.com/stellargraph/stellargraph/issues/1132, https://github.com/stellargraph/stellargraph/issues/1526, https://github.com/stellargraph/stellargraph/issues/1564). It may be difficult to use and may have major changes at any time.\n",
      "  model = GCN_LSTM(\n",
      "\n"
     ]
    },
    {
     "data": {
      "application/vnd.jupyter.widget-view+json": {
       "model_id": "13945dab33894baba683762f1af077ae",
       "version_major": 2,
       "version_minor": 0
      },
      "text/plain": [
       "0epoch [00:00, ?epoch/s]"
      ]
     },
     "metadata": {},
     "output_type": "display_data"
    },
    {
     "data": {
      "application/vnd.jupyter.widget-view+json": {
       "model_id": "",
       "version_major": 2,
       "version_minor": 0
      },
      "text/plain": [
       "0batch [00:00, ?batch/s]"
      ]
     },
     "metadata": {},
     "output_type": "display_data"
    },
    {
     "name": "stdout",
     "output_type": "stream",
     "text": [
      "Restoring model weights from the end of the best epoch: 11.                        \n",
      "Epoch 00021: early stopping                                                        \n",
      "Best validation loss of epoch:                                                     \n",
      "0.08117979764938354                                                                \n",
      "(163, 13)                                                                          \n",
      "(140, 13, 1)                                                                       \n",
      "(8, 13, 1)                                                                         \n",
      " 22%|██▏       | 11/50 [03:38<12:28, 19.19s/trial, best loss: 0.036123208701610565]"
     ]
    },
    {
     "name": "stderr",
     "output_type": "stream",
     "text": [
      "<ipython-input-4-a4ed99d749fe>:16: ExperimentalWarning: GCN_LSTM is experimental: Lack of unit tests and code refinement (see: https://github.com/stellargraph/stellargraph/issues/1132, https://github.com/stellargraph/stellargraph/issues/1526, https://github.com/stellargraph/stellargraph/issues/1564). It may be difficult to use and may have major changes at any time.\n",
      "  model = GCN_LSTM(\n",
      "\n"
     ]
    },
    {
     "data": {
      "application/vnd.jupyter.widget-view+json": {
       "model_id": "531da2deecb54948bdc88dcbaa41adc9",
       "version_major": 2,
       "version_minor": 0
      },
      "text/plain": [
       "0epoch [00:00, ?epoch/s]"
      ]
     },
     "metadata": {},
     "output_type": "display_data"
    },
    {
     "data": {
      "application/vnd.jupyter.widget-view+json": {
       "model_id": "",
       "version_major": 2,
       "version_minor": 0
      },
      "text/plain": [
       "0batch [00:00, ?batch/s]"
      ]
     },
     "metadata": {},
     "output_type": "display_data"
    },
    {
     "name": "stdout",
     "output_type": "stream",
     "text": [
      "Restoring model weights from the end of the best epoch: 1.                         \n",
      "Epoch 00011: early stopping                                                        \n",
      "Best validation loss of epoch:                                                     \n",
      "0.07871152460575104                                                                \n",
      "(161, 13)                                                                          \n",
      "(140, 13, 1)                                                                       \n",
      "(8, 13, 1)                                                                         \n",
      " 24%|██▍       | 12/50 [04:00<12:38, 19.95s/trial, best loss: 0.036123208701610565]"
     ]
    },
    {
     "name": "stderr",
     "output_type": "stream",
     "text": [
      "<ipython-input-4-a4ed99d749fe>:16: ExperimentalWarning: GCN_LSTM is experimental: Lack of unit tests and code refinement (see: https://github.com/stellargraph/stellargraph/issues/1132, https://github.com/stellargraph/stellargraph/issues/1526, https://github.com/stellargraph/stellargraph/issues/1564). It may be difficult to use and may have major changes at any time.\n",
      "  model = GCN_LSTM(\n",
      "\n"
     ]
    },
    {
     "data": {
      "application/vnd.jupyter.widget-view+json": {
       "model_id": "66dc21663a0d458a879a87218ecd503d",
       "version_major": 2,
       "version_minor": 0
      },
      "text/plain": [
       "0epoch [00:00, ?epoch/s]"
      ]
     },
     "metadata": {},
     "output_type": "display_data"
    },
    {
     "data": {
      "application/vnd.jupyter.widget-view+json": {
       "model_id": "",
       "version_major": 2,
       "version_minor": 0
      },
      "text/plain": [
       "0batch [00:00, ?batch/s]"
      ]
     },
     "metadata": {},
     "output_type": "display_data"
    },
    {
     "name": "stdout",
     "output_type": "stream",
     "text": [
      "Restoring model weights from the end of the best epoch: 2.                         \n",
      "Epoch 00012: early stopping                                                        \n",
      "Best validation loss of epoch:                                                     \n",
      "0.1041368693113327                                                                 \n",
      "(157, 13)                                                                          \n",
      "(140, 13, 1)                                                                       \n",
      "(8, 13, 1)                                                                         \n",
      " 26%|██▌       | 13/50 [04:21<12:31, 20.32s/trial, best loss: 0.036123208701610565]"
     ]
    },
    {
     "name": "stderr",
     "output_type": "stream",
     "text": [
      "<ipython-input-4-a4ed99d749fe>:16: ExperimentalWarning: GCN_LSTM is experimental: Lack of unit tests and code refinement (see: https://github.com/stellargraph/stellargraph/issues/1132, https://github.com/stellargraph/stellargraph/issues/1526, https://github.com/stellargraph/stellargraph/issues/1564). It may be difficult to use and may have major changes at any time.\n",
      "  model = GCN_LSTM(\n",
      "\n"
     ]
    },
    {
     "data": {
      "application/vnd.jupyter.widget-view+json": {
       "model_id": "339f1ee3a3c74fa49c7bcc5cc2b9ea39",
       "version_major": 2,
       "version_minor": 0
      },
      "text/plain": [
       "0epoch [00:00, ?epoch/s]"
      ]
     },
     "metadata": {},
     "output_type": "display_data"
    },
    {
     "data": {
      "application/vnd.jupyter.widget-view+json": {
       "model_id": "",
       "version_major": 2,
       "version_minor": 0
      },
      "text/plain": [
       "0batch [00:00, ?batch/s]"
      ]
     },
     "metadata": {},
     "output_type": "display_data"
    },
    {
     "name": "stdout",
     "output_type": "stream",
     "text": [
      "Restoring model weights from the end of the best epoch: 11.                        \n",
      "Epoch 00021: early stopping                                                        \n",
      "Best validation loss of epoch:                                                     \n",
      "0.09672580659389496                                                                \n",
      "(164, 13)                                                                          \n",
      "(140, 13, 1)                                                                       \n",
      "(8, 13, 1)                                                                         \n",
      " 28%|██▊       | 14/50 [04:57<14:56, 24.91s/trial, best loss: 0.036123208701610565]"
     ]
    },
    {
     "name": "stderr",
     "output_type": "stream",
     "text": [
      "<ipython-input-4-a4ed99d749fe>:16: ExperimentalWarning: GCN_LSTM is experimental: Lack of unit tests and code refinement (see: https://github.com/stellargraph/stellargraph/issues/1132, https://github.com/stellargraph/stellargraph/issues/1526, https://github.com/stellargraph/stellargraph/issues/1564). It may be difficult to use and may have major changes at any time.\n",
      "  model = GCN_LSTM(\n",
      "\n"
     ]
    },
    {
     "data": {
      "application/vnd.jupyter.widget-view+json": {
       "model_id": "b541ded4b5e74d68bca93d14f2ab3065",
       "version_major": 2,
       "version_minor": 0
      },
      "text/plain": [
       "0epoch [00:00, ?epoch/s]"
      ]
     },
     "metadata": {},
     "output_type": "display_data"
    },
    {
     "data": {
      "application/vnd.jupyter.widget-view+json": {
       "model_id": "699ed209f4c34a02a09f3433efcd9d50",
       "version_major": 2,
       "version_minor": 0
      },
      "text/plain": [
       "0batch [00:00, ?batch/s]"
      ]
     },
     "metadata": {},
     "output_type": "display_data"
    }
   ],
   "source": [
    "run()"
   ]
  }
 ],
 "metadata": {
  "kernelspec": {
   "display_name": "Python 3",
   "language": "python",
   "name": "python3"
  },
  "language_info": {
   "codemirror_mode": {
    "name": "ipython",
    "version": 3
   },
   "file_extension": ".py",
   "mimetype": "text/x-python",
   "name": "python",
   "nbconvert_exporter": "python",
   "pygments_lexer": "ipython3",
   "version": "3.8.8"
  }
 },
 "nbformat": 4,
 "nbformat_minor": 5
}

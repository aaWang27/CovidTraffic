{
 "cells": [
  {
   "cell_type": "code",
   "execution_count": null,
   "id": "d80f549d",
   "metadata": {},
   "outputs": [],
   "source": [
    "import math\n",
    "import os\n",
    "import random\n",
    "import config\n",
    "import utils\n",
    "\n",
    "import numpy as np\n",
    "import pandas as pd\n",
    "import matplotlib as mpl\n",
    "import matplotlib.pyplot as plt\n",
    "%matplotlib inline\n",
    "\n",
    "import tensorflow as tf\n",
    "from tensorflow import keras\n",
    "from tensorflow.keras.callbacks import EarlyStopping\n",
    "from keras import Model, initializers\n",
    "from sklearn import preprocessing\n",
    "from sklearn.metrics import mean_squared_error, mean_absolute_percentage_error\n",
    "\n",
    "import stellargraph as sg\n",
    "from stellargraph.layer import GCN_LSTM"
   ]
  },
  {
   "cell_type": "code",
   "execution_count": null,
   "id": "a950c9f6",
   "metadata": {},
   "outputs": [],
   "source": [
    "seed_value = 42\n",
    "os.environ['PYTHONHASHSEED'] = str(seed_value)\n",
    "random.seed(seed_value)\n",
    "np.random.seed(seed_value)\n",
    "tf.random.set_seed(seed_value)"
   ]
  },
  {
   "cell_type": "code",
   "execution_count": null,
   "id": "f1bab5f8",
   "metadata": {
    "scrolled": true
   },
   "outputs": [],
   "source": [
    "saltlake_week = pd.read_csv('../Data/saltlake_week.csv')\n",
    "saltlake_week.head()"
   ]
  },
  {
   "cell_type": "code",
   "execution_count": null,
   "id": "03f72458",
   "metadata": {},
   "outputs": [],
   "source": [
    "X_total = saltlake_week[['Cases', 'VMT (Veh-Miles)', 'News Sentiment', 'Unemployment Rate', 'PRCP', 'SNWD',\n",
    "                         'Percent_Fully_Vaccinated_5&Older', 'TAVG',\n",
    "                         'Stay at Home', 'Mask', 'School Opening', 'Health Emergency']].values[:156, :]\n",
    "\n",
    "scaler = preprocessing.MinMaxScaler(feature_range=(0, 1))\n",
    "scaler = scaler.fit(X_total[58:, :])\n",
    "X_total_scaled = scaler.transform(X_total[58:, :])\n",
    "data = X_total_scaled.T"
   ]
  },
  {
   "cell_type": "code",
   "execution_count": null,
   "id": "11a3ab68",
   "metadata": {},
   "outputs": [],
   "source": [
    "print(data.shape)"
   ]
  },
  {
   "cell_type": "code",
   "execution_count": null,
   "id": "3ef2f083",
   "metadata": {},
   "outputs": [],
   "source": [
    "X, y = utils.sequence_data_preparation(config.SEQ_LEN, config.PRE_LEN, data)\n",
    "X.shape"
   ]
  },
  {
   "cell_type": "code",
   "execution_count": null,
   "id": "adaf661b",
   "metadata": {},
   "outputs": [],
   "source": [
    "X_train = X[:88, :, :]\n",
    "y_train = y[:88, :]\n",
    "X_test = X[88:, :, :]\n",
    "y_test = y[88:, :]"
   ]
  },
  {
   "cell_type": "code",
   "execution_count": null,
   "id": "eb866785",
   "metadata": {},
   "outputs": [],
   "source": [
    "print(X_test.shape)"
   ]
  },
  {
   "cell_type": "code",
   "execution_count": null,
   "id": "5f3b1ef8",
   "metadata": {},
   "outputs": [],
   "source": [
    "es = EarlyStopping(\n",
    "    monitor=\"val_loss\",\n",
    "    patience=config.EARLY_STOPPING_PATIENCE,\n",
    "    restore_best_weights=True)"
   ]
  },
  {
   "cell_type": "code",
   "execution_count": null,
   "id": "f7b956df",
   "metadata": {},
   "outputs": [],
   "source": [
    "model = GCN_LSTM(\n",
    "    seq_len=config.SEQ_LEN,\n",
    "    adj=config.TOTAL_ADJACENT_MATRIX,\n",
    "    gc_layer_sizes=[16],\n",
    "    gc_activations=['relu'],\n",
    "    lstm_layer_sizes=[60],\n",
    "    lstm_activations=['relu'],\n",
    "    kernel_initializer=initializers.Identity(gain=1)\n",
    ")"
   ]
  },
  {
   "cell_type": "code",
   "execution_count": null,
   "id": "ded3d453",
   "metadata": {},
   "outputs": [],
   "source": [
    "x_input, x_output = model.in_out_tensors()\n",
    "model = Model(inputs=x_input, outputs=x_output)\n",
    "lr = 0.001\n",
    "model.compile(optimizer=keras.optimizers.Adam(learning_rate=lr), loss=\"mse\",\n",
    "              metrics=[\"mse\"])\n",
    "\n",
    "print(model.summary())"
   ]
  },
  {
   "cell_type": "code",
   "execution_count": null,
   "id": "a7aa24b3",
   "metadata": {
    "scrolled": true
   },
   "outputs": [],
   "source": [
    "print(\"[INFO] training the best model...\")\n",
    "H = model.fit(\n",
    "    x=X_train, y=y_train,\n",
    "    validation_split=0.2,\n",
    "    batch_size=config.BS,\n",
    "    callbacks=[es],\n",
    "    epochs=config.EPOCHS\n",
    ")"
   ]
  },
  {
   "cell_type": "code",
   "execution_count": null,
   "id": "b7988ddc",
   "metadata": {},
   "outputs": [],
   "source": [
    "print(\"[INFO] evaluating network...\")\n",
    "print(\"Loss and MSE: {}\".format(model.evaluate(X_test, y_test)))"
   ]
  },
  {
   "cell_type": "code",
   "execution_count": null,
   "id": "dc91e912",
   "metadata": {},
   "outputs": [],
   "source": [
    "utils.save_plot(H, \"output/loss_plot.png\")\n",
    "model.save('Model/GCN-LSTM')"
   ]
  },
  {
   "cell_type": "code",
   "execution_count": null,
   "id": "422920a3",
   "metadata": {},
   "outputs": [],
   "source": [
    "ythat = model.predict(X_train)\n",
    "yhat = model.predict(X_test)\n",
    "\n",
    "# Rescale values\n",
    "train_rescref = scaler.inverse_transform(ythat)\n",
    "test_rescref = scaler.inverse_transform(yhat)\n",
    "\n",
    "test_pred = test_rescref[:, 1]\n",
    "test_true = X_total[147:, 1]\n",
    "\n",
    "train_pred = train_rescref[:, 1]\n",
    "train_true = X_total[60:147, 1]"
   ]
  },
  {
   "cell_type": "code",
   "execution_count": null,
   "id": "9c5a4e08",
   "metadata": {},
   "outputs": [],
   "source": [
    "mse_test = mean_squared_error(test_true, test_pred)\n",
    "rmse_test = mean_squared_error(test_true, test_pred, squared=False)\n",
    "mape_test = mean_absolute_percentage_error(test_true, test_pred)"
   ]
  },
  {
   "cell_type": "code",
   "execution_count": null,
   "id": "a3446092",
   "metadata": {},
   "outputs": [],
   "source": [
    "print(\"Root Mean Squared Error: {}\".format(rmse_test))\n",
    "print(\"Mean Absolute Percentage Error: {}\".format(mape_test))"
   ]
  },
  {
   "cell_type": "code",
   "execution_count": null,
   "id": "27c8a8e2",
   "metadata": {},
   "outputs": [],
   "source": [
    "# all test result visualization\n",
    "fig1 = plt.figure(figsize=(15, 8))\n",
    "ax1 = fig1.add_subplot(1, 1, 1)\n",
    "plt.plot(test_pred, \"r-\", label=\"prediction\")\n",
    "plt.plot(test_true, \"b-\", label=\"true\")\n",
    "plt.xlabel(\"time\")\n",
    "plt.ylabel(\"vmt\")\n",
    "plt.title(\"Test Predictions\")\n",
    "plt.legend(loc=\"best\", fontsize=10)\n",
    "plt.show()"
   ]
  },
  {
   "cell_type": "code",
   "execution_count": null,
   "id": "4a31fc2b",
   "metadata": {},
   "outputs": [],
   "source": [
    "ax2 = fig1.add_subplot(2, 1, 1)\n",
    "plt.plot(train_pred, \"r-\", label=\"prediction\")\n",
    "plt.plot(train_true, \"b-\", label=\"true\")\n",
    "plt.xlabel(\"time\")\n",
    "plt.ylabel(\"vmt\")\n",
    "plt.title(\"Train Predictions\")\n",
    "plt.legend(loc=\"best\", fontsize=10)\n",
    "plt.show()"
   ]
  },
  {
   "cell_type": "code",
   "execution_count": null,
   "id": "86325842",
   "metadata": {},
   "outputs": [],
   "source": [
    "utils.plot_predicted(test_true, test_pred, \"output/vmt_test_predicted.png\")"
   ]
  },
  {
   "cell_type": "code",
   "execution_count": null,
   "id": "a7c57016",
   "metadata": {},
   "outputs": [],
   "source": [
    "utils.plot_predicted(train_true, train_pred, \"output/vmt_train_predicted.png\")"
   ]
  }
 ],
 "metadata": {
  "kernelspec": {
   "display_name": "Python 3",
   "language": "python",
   "name": "python3"
  },
  "language_info": {
   "codemirror_mode": {
    "name": "ipython",
    "version": 3
   },
   "file_extension": ".py",
   "mimetype": "text/x-python",
   "name": "python",
   "nbconvert_exporter": "python",
   "pygments_lexer": "ipython3",
   "version": "3.8.8"
  }
 },
 "nbformat": 4,
 "nbformat_minor": 5
}
